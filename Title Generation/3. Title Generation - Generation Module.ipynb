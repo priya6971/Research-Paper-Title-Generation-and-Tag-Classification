{
  "nbformat": 4,
  "nbformat_minor": 0,
  "metadata": {
    "accelerator": "GPU",
    "colab": {
      "name": "Title Generation - Bert2Bert.ipynb",
      "provenance": [],
      "collapsed_sections": []
    },
    "kernelspec": {
      "display_name": "Python 3",
      "name": "python3"
    },
    "language_info": {
      "name": "python"
    },
    "widgets": {
      "application/vnd.jupyter.widget-state+json": {
        "618b547e7f0547aba9a00ad5f98c745c": {
          "model_module": "@jupyter-widgets/controls",
          "model_name": "HBoxModel",
          "state": {
            "_view_name": "HBoxView",
            "_dom_classes": [],
            "_model_name": "HBoxModel",
            "_view_module": "@jupyter-widgets/controls",
            "_model_module_version": "1.5.0",
            "_view_count": null,
            "_view_module_version": "1.5.0",
            "box_style": "",
            "layout": "IPY_MODEL_285de5b8065a4133a484768584e95aae",
            "_model_module": "@jupyter-widgets/controls",
            "children": [
              "IPY_MODEL_480f7da61fd542289b19b1d514657e6e",
              "IPY_MODEL_366861b2524b463096731a523413ab19"
            ]
          }
        },
        "285de5b8065a4133a484768584e95aae": {
          "model_module": "@jupyter-widgets/base",
          "model_name": "LayoutModel",
          "state": {
            "_view_name": "LayoutView",
            "grid_template_rows": null,
            "right": null,
            "justify_content": null,
            "_view_module": "@jupyter-widgets/base",
            "overflow": null,
            "_model_module_version": "1.2.0",
            "_view_count": null,
            "flex_flow": null,
            "width": null,
            "min_width": null,
            "border": null,
            "align_items": null,
            "bottom": null,
            "_model_module": "@jupyter-widgets/base",
            "top": null,
            "grid_column": null,
            "overflow_y": null,
            "overflow_x": null,
            "grid_auto_flow": null,
            "grid_area": null,
            "grid_template_columns": null,
            "flex": null,
            "_model_name": "LayoutModel",
            "justify_items": null,
            "grid_row": null,
            "max_height": null,
            "align_content": null,
            "visibility": null,
            "align_self": null,
            "height": null,
            "min_height": null,
            "padding": null,
            "grid_auto_rows": null,
            "grid_gap": null,
            "max_width": null,
            "order": null,
            "_view_module_version": "1.2.0",
            "grid_template_areas": null,
            "object_position": null,
            "object_fit": null,
            "grid_auto_columns": null,
            "margin": null,
            "display": null,
            "left": null
          }
        },
        "480f7da61fd542289b19b1d514657e6e": {
          "model_module": "@jupyter-widgets/controls",
          "model_name": "FloatProgressModel",
          "state": {
            "_view_name": "ProgressView",
            "style": "IPY_MODEL_0a3e2e99ec1743c5bea2b1c70e8e4695",
            "_dom_classes": [],
            "description": "Downloading: 100%",
            "_model_name": "FloatProgressModel",
            "bar_style": "success",
            "max": 433,
            "_view_module": "@jupyter-widgets/controls",
            "_model_module_version": "1.5.0",
            "value": 433,
            "_view_count": null,
            "_view_module_version": "1.5.0",
            "orientation": "horizontal",
            "min": 0,
            "description_tooltip": null,
            "_model_module": "@jupyter-widgets/controls",
            "layout": "IPY_MODEL_406ef717f7de47e0891d1a6162a8a5ed"
          }
        },
        "366861b2524b463096731a523413ab19": {
          "model_module": "@jupyter-widgets/controls",
          "model_name": "HTMLModel",
          "state": {
            "_view_name": "HTMLView",
            "style": "IPY_MODEL_4becf6bce0c04093bc9455432ec1251a",
            "_dom_classes": [],
            "description": "",
            "_model_name": "HTMLModel",
            "placeholder": "​",
            "_view_module": "@jupyter-widgets/controls",
            "_model_module_version": "1.5.0",
            "value": " 433/433 [00:11&lt;00:00, 36.9B/s]",
            "_view_count": null,
            "_view_module_version": "1.5.0",
            "description_tooltip": null,
            "_model_module": "@jupyter-widgets/controls",
            "layout": "IPY_MODEL_e5e1622c129c496684994813554d4c96"
          }
        },
        "0a3e2e99ec1743c5bea2b1c70e8e4695": {
          "model_module": "@jupyter-widgets/controls",
          "model_name": "ProgressStyleModel",
          "state": {
            "_view_name": "StyleView",
            "_model_name": "ProgressStyleModel",
            "description_width": "initial",
            "_view_module": "@jupyter-widgets/base",
            "_model_module_version": "1.5.0",
            "_view_count": null,
            "_view_module_version": "1.2.0",
            "bar_color": null,
            "_model_module": "@jupyter-widgets/controls"
          }
        },
        "406ef717f7de47e0891d1a6162a8a5ed": {
          "model_module": "@jupyter-widgets/base",
          "model_name": "LayoutModel",
          "state": {
            "_view_name": "LayoutView",
            "grid_template_rows": null,
            "right": null,
            "justify_content": null,
            "_view_module": "@jupyter-widgets/base",
            "overflow": null,
            "_model_module_version": "1.2.0",
            "_view_count": null,
            "flex_flow": null,
            "width": null,
            "min_width": null,
            "border": null,
            "align_items": null,
            "bottom": null,
            "_model_module": "@jupyter-widgets/base",
            "top": null,
            "grid_column": null,
            "overflow_y": null,
            "overflow_x": null,
            "grid_auto_flow": null,
            "grid_area": null,
            "grid_template_columns": null,
            "flex": null,
            "_model_name": "LayoutModel",
            "justify_items": null,
            "grid_row": null,
            "max_height": null,
            "align_content": null,
            "visibility": null,
            "align_self": null,
            "height": null,
            "min_height": null,
            "padding": null,
            "grid_auto_rows": null,
            "grid_gap": null,
            "max_width": null,
            "order": null,
            "_view_module_version": "1.2.0",
            "grid_template_areas": null,
            "object_position": null,
            "object_fit": null,
            "grid_auto_columns": null,
            "margin": null,
            "display": null,
            "left": null
          }
        },
        "4becf6bce0c04093bc9455432ec1251a": {
          "model_module": "@jupyter-widgets/controls",
          "model_name": "DescriptionStyleModel",
          "state": {
            "_view_name": "StyleView",
            "_model_name": "DescriptionStyleModel",
            "description_width": "",
            "_view_module": "@jupyter-widgets/base",
            "_model_module_version": "1.5.0",
            "_view_count": null,
            "_view_module_version": "1.2.0",
            "_model_module": "@jupyter-widgets/controls"
          }
        },
        "e5e1622c129c496684994813554d4c96": {
          "model_module": "@jupyter-widgets/base",
          "model_name": "LayoutModel",
          "state": {
            "_view_name": "LayoutView",
            "grid_template_rows": null,
            "right": null,
            "justify_content": null,
            "_view_module": "@jupyter-widgets/base",
            "overflow": null,
            "_model_module_version": "1.2.0",
            "_view_count": null,
            "flex_flow": null,
            "width": null,
            "min_width": null,
            "border": null,
            "align_items": null,
            "bottom": null,
            "_model_module": "@jupyter-widgets/base",
            "top": null,
            "grid_column": null,
            "overflow_y": null,
            "overflow_x": null,
            "grid_auto_flow": null,
            "grid_area": null,
            "grid_template_columns": null,
            "flex": null,
            "_model_name": "LayoutModel",
            "justify_items": null,
            "grid_row": null,
            "max_height": null,
            "align_content": null,
            "visibility": null,
            "align_self": null,
            "height": null,
            "min_height": null,
            "padding": null,
            "grid_auto_rows": null,
            "grid_gap": null,
            "max_width": null,
            "order": null,
            "_view_module_version": "1.2.0",
            "grid_template_areas": null,
            "object_position": null,
            "object_fit": null,
            "grid_auto_columns": null,
            "margin": null,
            "display": null,
            "left": null
          }
        },
        "977539ebea5645cf865666d312e9c09d": {
          "model_module": "@jupyter-widgets/controls",
          "model_name": "HBoxModel",
          "state": {
            "_view_name": "HBoxView",
            "_dom_classes": [],
            "_model_name": "HBoxModel",
            "_view_module": "@jupyter-widgets/controls",
            "_model_module_version": "1.5.0",
            "_view_count": null,
            "_view_module_version": "1.5.0",
            "box_style": "",
            "layout": "IPY_MODEL_e45ae0fd21fa4b968e6efe11f80d3d98",
            "_model_module": "@jupyter-widgets/controls",
            "children": [
              "IPY_MODEL_8831495e7cf74d32baa5afe5bb53a93b",
              "IPY_MODEL_93f5858e3a094a338ae40976012b9d58"
            ]
          }
        },
        "e45ae0fd21fa4b968e6efe11f80d3d98": {
          "model_module": "@jupyter-widgets/base",
          "model_name": "LayoutModel",
          "state": {
            "_view_name": "LayoutView",
            "grid_template_rows": null,
            "right": null,
            "justify_content": null,
            "_view_module": "@jupyter-widgets/base",
            "overflow": null,
            "_model_module_version": "1.2.0",
            "_view_count": null,
            "flex_flow": null,
            "width": null,
            "min_width": null,
            "border": null,
            "align_items": null,
            "bottom": null,
            "_model_module": "@jupyter-widgets/base",
            "top": null,
            "grid_column": null,
            "overflow_y": null,
            "overflow_x": null,
            "grid_auto_flow": null,
            "grid_area": null,
            "grid_template_columns": null,
            "flex": null,
            "_model_name": "LayoutModel",
            "justify_items": null,
            "grid_row": null,
            "max_height": null,
            "align_content": null,
            "visibility": null,
            "align_self": null,
            "height": null,
            "min_height": null,
            "padding": null,
            "grid_auto_rows": null,
            "grid_gap": null,
            "max_width": null,
            "order": null,
            "_view_module_version": "1.2.0",
            "grid_template_areas": null,
            "object_position": null,
            "object_fit": null,
            "grid_auto_columns": null,
            "margin": null,
            "display": null,
            "left": null
          }
        },
        "8831495e7cf74d32baa5afe5bb53a93b": {
          "model_module": "@jupyter-widgets/controls",
          "model_name": "FloatProgressModel",
          "state": {
            "_view_name": "ProgressView",
            "style": "IPY_MODEL_b2962533ade44cc782900d254e446bb0",
            "_dom_classes": [],
            "description": "Downloading: 100%",
            "_model_name": "FloatProgressModel",
            "bar_style": "success",
            "max": 435779157,
            "_view_module": "@jupyter-widgets/controls",
            "_model_module_version": "1.5.0",
            "value": 435779157,
            "_view_count": null,
            "_view_module_version": "1.5.0",
            "orientation": "horizontal",
            "min": 0,
            "description_tooltip": null,
            "_model_module": "@jupyter-widgets/controls",
            "layout": "IPY_MODEL_225c6616d6d74ef6a0dbbee5e16f85dd"
          }
        },
        "93f5858e3a094a338ae40976012b9d58": {
          "model_module": "@jupyter-widgets/controls",
          "model_name": "HTMLModel",
          "state": {
            "_view_name": "HTMLView",
            "style": "IPY_MODEL_2eb3a1c0a85c4f54af391d691db42078",
            "_dom_classes": [],
            "description": "",
            "_model_name": "HTMLModel",
            "placeholder": "​",
            "_view_module": "@jupyter-widgets/controls",
            "_model_module_version": "1.5.0",
            "value": " 436M/436M [00:11&lt;00:00, 38.3MB/s]",
            "_view_count": null,
            "_view_module_version": "1.5.0",
            "description_tooltip": null,
            "_model_module": "@jupyter-widgets/controls",
            "layout": "IPY_MODEL_be65a78278ba4458aac93933ec132d9a"
          }
        },
        "b2962533ade44cc782900d254e446bb0": {
          "model_module": "@jupyter-widgets/controls",
          "model_name": "ProgressStyleModel",
          "state": {
            "_view_name": "StyleView",
            "_model_name": "ProgressStyleModel",
            "description_width": "initial",
            "_view_module": "@jupyter-widgets/base",
            "_model_module_version": "1.5.0",
            "_view_count": null,
            "_view_module_version": "1.2.0",
            "bar_color": null,
            "_model_module": "@jupyter-widgets/controls"
          }
        },
        "225c6616d6d74ef6a0dbbee5e16f85dd": {
          "model_module": "@jupyter-widgets/base",
          "model_name": "LayoutModel",
          "state": {
            "_view_name": "LayoutView",
            "grid_template_rows": null,
            "right": null,
            "justify_content": null,
            "_view_module": "@jupyter-widgets/base",
            "overflow": null,
            "_model_module_version": "1.2.0",
            "_view_count": null,
            "flex_flow": null,
            "width": null,
            "min_width": null,
            "border": null,
            "align_items": null,
            "bottom": null,
            "_model_module": "@jupyter-widgets/base",
            "top": null,
            "grid_column": null,
            "overflow_y": null,
            "overflow_x": null,
            "grid_auto_flow": null,
            "grid_area": null,
            "grid_template_columns": null,
            "flex": null,
            "_model_name": "LayoutModel",
            "justify_items": null,
            "grid_row": null,
            "max_height": null,
            "align_content": null,
            "visibility": null,
            "align_self": null,
            "height": null,
            "min_height": null,
            "padding": null,
            "grid_auto_rows": null,
            "grid_gap": null,
            "max_width": null,
            "order": null,
            "_view_module_version": "1.2.0",
            "grid_template_areas": null,
            "object_position": null,
            "object_fit": null,
            "grid_auto_columns": null,
            "margin": null,
            "display": null,
            "left": null
          }
        },
        "2eb3a1c0a85c4f54af391d691db42078": {
          "model_module": "@jupyter-widgets/controls",
          "model_name": "DescriptionStyleModel",
          "state": {
            "_view_name": "StyleView",
            "_model_name": "DescriptionStyleModel",
            "description_width": "",
            "_view_module": "@jupyter-widgets/base",
            "_model_module_version": "1.5.0",
            "_view_count": null,
            "_view_module_version": "1.2.0",
            "_model_module": "@jupyter-widgets/controls"
          }
        },
        "be65a78278ba4458aac93933ec132d9a": {
          "model_module": "@jupyter-widgets/base",
          "model_name": "LayoutModel",
          "state": {
            "_view_name": "LayoutView",
            "grid_template_rows": null,
            "right": null,
            "justify_content": null,
            "_view_module": "@jupyter-widgets/base",
            "overflow": null,
            "_model_module_version": "1.2.0",
            "_view_count": null,
            "flex_flow": null,
            "width": null,
            "min_width": null,
            "border": null,
            "align_items": null,
            "bottom": null,
            "_model_module": "@jupyter-widgets/base",
            "top": null,
            "grid_column": null,
            "overflow_y": null,
            "overflow_x": null,
            "grid_auto_flow": null,
            "grid_area": null,
            "grid_template_columns": null,
            "flex": null,
            "_model_name": "LayoutModel",
            "justify_items": null,
            "grid_row": null,
            "max_height": null,
            "align_content": null,
            "visibility": null,
            "align_self": null,
            "height": null,
            "min_height": null,
            "padding": null,
            "grid_auto_rows": null,
            "grid_gap": null,
            "max_width": null,
            "order": null,
            "_view_module_version": "1.2.0",
            "grid_template_areas": null,
            "object_position": null,
            "object_fit": null,
            "grid_auto_columns": null,
            "margin": null,
            "display": null,
            "left": null
          }
        },
        "9455f86810d7448791996567875b2f53": {
          "model_module": "@jupyter-widgets/controls",
          "model_name": "HBoxModel",
          "state": {
            "_view_name": "HBoxView",
            "_dom_classes": [],
            "_model_name": "HBoxModel",
            "_view_module": "@jupyter-widgets/controls",
            "_model_module_version": "1.5.0",
            "_view_count": null,
            "_view_module_version": "1.5.0",
            "box_style": "",
            "layout": "IPY_MODEL_95df8bbde7a94c43b910849252793bf6",
            "_model_module": "@jupyter-widgets/controls",
            "children": [
              "IPY_MODEL_ac277a3465184eada5769e184d4ac616",
              "IPY_MODEL_7095386d5dde4e67b892dea333b03426"
            ]
          }
        },
        "95df8bbde7a94c43b910849252793bf6": {
          "model_module": "@jupyter-widgets/base",
          "model_name": "LayoutModel",
          "state": {
            "_view_name": "LayoutView",
            "grid_template_rows": null,
            "right": null,
            "justify_content": null,
            "_view_module": "@jupyter-widgets/base",
            "overflow": null,
            "_model_module_version": "1.2.0",
            "_view_count": null,
            "flex_flow": null,
            "width": null,
            "min_width": null,
            "border": null,
            "align_items": null,
            "bottom": null,
            "_model_module": "@jupyter-widgets/base",
            "top": null,
            "grid_column": null,
            "overflow_y": null,
            "overflow_x": null,
            "grid_auto_flow": null,
            "grid_area": null,
            "grid_template_columns": null,
            "flex": null,
            "_model_name": "LayoutModel",
            "justify_items": null,
            "grid_row": null,
            "max_height": null,
            "align_content": null,
            "visibility": null,
            "align_self": null,
            "height": null,
            "min_height": null,
            "padding": null,
            "grid_auto_rows": null,
            "grid_gap": null,
            "max_width": null,
            "order": null,
            "_view_module_version": "1.2.0",
            "grid_template_areas": null,
            "object_position": null,
            "object_fit": null,
            "grid_auto_columns": null,
            "margin": null,
            "display": null,
            "left": null
          }
        },
        "ac277a3465184eada5769e184d4ac616": {
          "model_module": "@jupyter-widgets/controls",
          "model_name": "FloatProgressModel",
          "state": {
            "_view_name": "ProgressView",
            "style": "IPY_MODEL_76d0b771b4a643e387c3663a533487a4",
            "_dom_classes": [],
            "description": "Downloading: 100%",
            "_model_name": "FloatProgressModel",
            "bar_style": "success",
            "max": 213450,
            "_view_module": "@jupyter-widgets/controls",
            "_model_module_version": "1.5.0",
            "value": 213450,
            "_view_count": null,
            "_view_module_version": "1.5.0",
            "orientation": "horizontal",
            "min": 0,
            "description_tooltip": null,
            "_model_module": "@jupyter-widgets/controls",
            "layout": "IPY_MODEL_70833fc182044d449b3ccb1ff26c44dc"
          }
        },
        "7095386d5dde4e67b892dea333b03426": {
          "model_module": "@jupyter-widgets/controls",
          "model_name": "HTMLModel",
          "state": {
            "_view_name": "HTMLView",
            "style": "IPY_MODEL_6094741b22034e018b0f1840fb53b448",
            "_dom_classes": [],
            "description": "",
            "_model_name": "HTMLModel",
            "placeholder": "​",
            "_view_module": "@jupyter-widgets/controls",
            "_model_module_version": "1.5.0",
            "value": " 213k/213k [00:00&lt;00:00, 239kB/s]",
            "_view_count": null,
            "_view_module_version": "1.5.0",
            "description_tooltip": null,
            "_model_module": "@jupyter-widgets/controls",
            "layout": "IPY_MODEL_13350eaf962948ee8452bf71de34256c"
          }
        },
        "76d0b771b4a643e387c3663a533487a4": {
          "model_module": "@jupyter-widgets/controls",
          "model_name": "ProgressStyleModel",
          "state": {
            "_view_name": "StyleView",
            "_model_name": "ProgressStyleModel",
            "description_width": "initial",
            "_view_module": "@jupyter-widgets/base",
            "_model_module_version": "1.5.0",
            "_view_count": null,
            "_view_module_version": "1.2.0",
            "bar_color": null,
            "_model_module": "@jupyter-widgets/controls"
          }
        },
        "70833fc182044d449b3ccb1ff26c44dc": {
          "model_module": "@jupyter-widgets/base",
          "model_name": "LayoutModel",
          "state": {
            "_view_name": "LayoutView",
            "grid_template_rows": null,
            "right": null,
            "justify_content": null,
            "_view_module": "@jupyter-widgets/base",
            "overflow": null,
            "_model_module_version": "1.2.0",
            "_view_count": null,
            "flex_flow": null,
            "width": null,
            "min_width": null,
            "border": null,
            "align_items": null,
            "bottom": null,
            "_model_module": "@jupyter-widgets/base",
            "top": null,
            "grid_column": null,
            "overflow_y": null,
            "overflow_x": null,
            "grid_auto_flow": null,
            "grid_area": null,
            "grid_template_columns": null,
            "flex": null,
            "_model_name": "LayoutModel",
            "justify_items": null,
            "grid_row": null,
            "max_height": null,
            "align_content": null,
            "visibility": null,
            "align_self": null,
            "height": null,
            "min_height": null,
            "padding": null,
            "grid_auto_rows": null,
            "grid_gap": null,
            "max_width": null,
            "order": null,
            "_view_module_version": "1.2.0",
            "grid_template_areas": null,
            "object_position": null,
            "object_fit": null,
            "grid_auto_columns": null,
            "margin": null,
            "display": null,
            "left": null
          }
        },
        "6094741b22034e018b0f1840fb53b448": {
          "model_module": "@jupyter-widgets/controls",
          "model_name": "DescriptionStyleModel",
          "state": {
            "_view_name": "StyleView",
            "_model_name": "DescriptionStyleModel",
            "description_width": "",
            "_view_module": "@jupyter-widgets/base",
            "_model_module_version": "1.5.0",
            "_view_count": null,
            "_view_module_version": "1.2.0",
            "_model_module": "@jupyter-widgets/controls"
          }
        },
        "13350eaf962948ee8452bf71de34256c": {
          "model_module": "@jupyter-widgets/base",
          "model_name": "LayoutModel",
          "state": {
            "_view_name": "LayoutView",
            "grid_template_rows": null,
            "right": null,
            "justify_content": null,
            "_view_module": "@jupyter-widgets/base",
            "overflow": null,
            "_model_module_version": "1.2.0",
            "_view_count": null,
            "flex_flow": null,
            "width": null,
            "min_width": null,
            "border": null,
            "align_items": null,
            "bottom": null,
            "_model_module": "@jupyter-widgets/base",
            "top": null,
            "grid_column": null,
            "overflow_y": null,
            "overflow_x": null,
            "grid_auto_flow": null,
            "grid_area": null,
            "grid_template_columns": null,
            "flex": null,
            "_model_name": "LayoutModel",
            "justify_items": null,
            "grid_row": null,
            "max_height": null,
            "align_content": null,
            "visibility": null,
            "align_self": null,
            "height": null,
            "min_height": null,
            "padding": null,
            "grid_auto_rows": null,
            "grid_gap": null,
            "max_width": null,
            "order": null,
            "_view_module_version": "1.2.0",
            "grid_template_areas": null,
            "object_position": null,
            "object_fit": null,
            "grid_auto_columns": null,
            "margin": null,
            "display": null,
            "left": null
          }
        },
        "e34a4b1f91cd47eba71a5ee123dba7fb": {
          "model_module": "@jupyter-widgets/controls",
          "model_name": "HBoxModel",
          "state": {
            "_view_name": "HBoxView",
            "_dom_classes": [],
            "_model_name": "HBoxModel",
            "_view_module": "@jupyter-widgets/controls",
            "_model_module_version": "1.5.0",
            "_view_count": null,
            "_view_module_version": "1.5.0",
            "box_style": "",
            "layout": "IPY_MODEL_39c885f8f47d419396a9f3799a1c616e",
            "_model_module": "@jupyter-widgets/controls",
            "children": [
              "IPY_MODEL_b4716722fc2d4c5dbf1d7086f388b4f8",
              "IPY_MODEL_23675021175348698c27a6949aa362c8"
            ]
          }
        },
        "39c885f8f47d419396a9f3799a1c616e": {
          "model_module": "@jupyter-widgets/base",
          "model_name": "LayoutModel",
          "state": {
            "_view_name": "LayoutView",
            "grid_template_rows": null,
            "right": null,
            "justify_content": null,
            "_view_module": "@jupyter-widgets/base",
            "overflow": null,
            "_model_module_version": "1.2.0",
            "_view_count": null,
            "flex_flow": null,
            "width": null,
            "min_width": null,
            "border": null,
            "align_items": null,
            "bottom": null,
            "_model_module": "@jupyter-widgets/base",
            "top": null,
            "grid_column": null,
            "overflow_y": null,
            "overflow_x": null,
            "grid_auto_flow": null,
            "grid_area": null,
            "grid_template_columns": null,
            "flex": null,
            "_model_name": "LayoutModel",
            "justify_items": null,
            "grid_row": null,
            "max_height": null,
            "align_content": null,
            "visibility": null,
            "align_self": null,
            "height": null,
            "min_height": null,
            "padding": null,
            "grid_auto_rows": null,
            "grid_gap": null,
            "max_width": null,
            "order": null,
            "_view_module_version": "1.2.0",
            "grid_template_areas": null,
            "object_position": null,
            "object_fit": null,
            "grid_auto_columns": null,
            "margin": null,
            "display": null,
            "left": null
          }
        },
        "b4716722fc2d4c5dbf1d7086f388b4f8": {
          "model_module": "@jupyter-widgets/controls",
          "model_name": "FloatProgressModel",
          "state": {
            "_view_name": "ProgressView",
            "style": "IPY_MODEL_2283fb93e40c40f2aac9d6f2a90d68d6",
            "_dom_classes": [],
            "description": "Downloading: 100%",
            "_model_name": "FloatProgressModel",
            "bar_style": "success",
            "max": 435797,
            "_view_module": "@jupyter-widgets/controls",
            "_model_module_version": "1.5.0",
            "value": 435797,
            "_view_count": null,
            "_view_module_version": "1.5.0",
            "orientation": "horizontal",
            "min": 0,
            "description_tooltip": null,
            "_model_module": "@jupyter-widgets/controls",
            "layout": "IPY_MODEL_fe5a667b4f8f416e8fa16a9420d5f807"
          }
        },
        "23675021175348698c27a6949aa362c8": {
          "model_module": "@jupyter-widgets/controls",
          "model_name": "HTMLModel",
          "state": {
            "_view_name": "HTMLView",
            "style": "IPY_MODEL_abb8800366c544e89182409b9549c328",
            "_dom_classes": [],
            "description": "",
            "_model_name": "HTMLModel",
            "placeholder": "​",
            "_view_module": "@jupyter-widgets/controls",
            "_model_module_version": "1.5.0",
            "value": " 436k/436k [00:37&lt;00:00, 11.7kB/s]",
            "_view_count": null,
            "_view_module_version": "1.5.0",
            "description_tooltip": null,
            "_model_module": "@jupyter-widgets/controls",
            "layout": "IPY_MODEL_5b749cffe48747aa9dc2bf6fad37b158"
          }
        },
        "2283fb93e40c40f2aac9d6f2a90d68d6": {
          "model_module": "@jupyter-widgets/controls",
          "model_name": "ProgressStyleModel",
          "state": {
            "_view_name": "StyleView",
            "_model_name": "ProgressStyleModel",
            "description_width": "initial",
            "_view_module": "@jupyter-widgets/base",
            "_model_module_version": "1.5.0",
            "_view_count": null,
            "_view_module_version": "1.2.0",
            "bar_color": null,
            "_model_module": "@jupyter-widgets/controls"
          }
        },
        "fe5a667b4f8f416e8fa16a9420d5f807": {
          "model_module": "@jupyter-widgets/base",
          "model_name": "LayoutModel",
          "state": {
            "_view_name": "LayoutView",
            "grid_template_rows": null,
            "right": null,
            "justify_content": null,
            "_view_module": "@jupyter-widgets/base",
            "overflow": null,
            "_model_module_version": "1.2.0",
            "_view_count": null,
            "flex_flow": null,
            "width": null,
            "min_width": null,
            "border": null,
            "align_items": null,
            "bottom": null,
            "_model_module": "@jupyter-widgets/base",
            "top": null,
            "grid_column": null,
            "overflow_y": null,
            "overflow_x": null,
            "grid_auto_flow": null,
            "grid_area": null,
            "grid_template_columns": null,
            "flex": null,
            "_model_name": "LayoutModel",
            "justify_items": null,
            "grid_row": null,
            "max_height": null,
            "align_content": null,
            "visibility": null,
            "align_self": null,
            "height": null,
            "min_height": null,
            "padding": null,
            "grid_auto_rows": null,
            "grid_gap": null,
            "max_width": null,
            "order": null,
            "_view_module_version": "1.2.0",
            "grid_template_areas": null,
            "object_position": null,
            "object_fit": null,
            "grid_auto_columns": null,
            "margin": null,
            "display": null,
            "left": null
          }
        },
        "abb8800366c544e89182409b9549c328": {
          "model_module": "@jupyter-widgets/controls",
          "model_name": "DescriptionStyleModel",
          "state": {
            "_view_name": "StyleView",
            "_model_name": "DescriptionStyleModel",
            "description_width": "",
            "_view_module": "@jupyter-widgets/base",
            "_model_module_version": "1.5.0",
            "_view_count": null,
            "_view_module_version": "1.2.0",
            "_model_module": "@jupyter-widgets/controls"
          }
        },
        "5b749cffe48747aa9dc2bf6fad37b158": {
          "model_module": "@jupyter-widgets/base",
          "model_name": "LayoutModel",
          "state": {
            "_view_name": "LayoutView",
            "grid_template_rows": null,
            "right": null,
            "justify_content": null,
            "_view_module": "@jupyter-widgets/base",
            "overflow": null,
            "_model_module_version": "1.2.0",
            "_view_count": null,
            "flex_flow": null,
            "width": null,
            "min_width": null,
            "border": null,
            "align_items": null,
            "bottom": null,
            "_model_module": "@jupyter-widgets/base",
            "top": null,
            "grid_column": null,
            "overflow_y": null,
            "overflow_x": null,
            "grid_auto_flow": null,
            "grid_area": null,
            "grid_template_columns": null,
            "flex": null,
            "_model_name": "LayoutModel",
            "justify_items": null,
            "grid_row": null,
            "max_height": null,
            "align_content": null,
            "visibility": null,
            "align_self": null,
            "height": null,
            "min_height": null,
            "padding": null,
            "grid_auto_rows": null,
            "grid_gap": null,
            "max_width": null,
            "order": null,
            "_view_module_version": "1.2.0",
            "grid_template_areas": null,
            "object_position": null,
            "object_fit": null,
            "grid_auto_columns": null,
            "margin": null,
            "display": null,
            "left": null
          }
        },
        "88bd132c6c154c77b06d87c09db07e57": {
          "model_module": "@jupyter-widgets/controls",
          "model_name": "HBoxModel",
          "state": {
            "_view_name": "HBoxView",
            "_dom_classes": [],
            "_model_name": "HBoxModel",
            "_view_module": "@jupyter-widgets/controls",
            "_model_module_version": "1.5.0",
            "_view_count": null,
            "_view_module_version": "1.5.0",
            "box_style": "",
            "layout": "IPY_MODEL_b5902e184a5949d4bac61cf9aef74817",
            "_model_module": "@jupyter-widgets/controls",
            "children": [
              "IPY_MODEL_cf3c40f2a70549d0b50a44b59d08c0e4",
              "IPY_MODEL_2e850964a769432a963bf9f55265d230"
            ]
          }
        },
        "b5902e184a5949d4bac61cf9aef74817": {
          "model_module": "@jupyter-widgets/base",
          "model_name": "LayoutModel",
          "state": {
            "_view_name": "LayoutView",
            "grid_template_rows": null,
            "right": null,
            "justify_content": null,
            "_view_module": "@jupyter-widgets/base",
            "overflow": null,
            "_model_module_version": "1.2.0",
            "_view_count": null,
            "flex_flow": null,
            "width": null,
            "min_width": null,
            "border": null,
            "align_items": null,
            "bottom": null,
            "_model_module": "@jupyter-widgets/base",
            "top": null,
            "grid_column": null,
            "overflow_y": null,
            "overflow_x": null,
            "grid_auto_flow": null,
            "grid_area": null,
            "grid_template_columns": null,
            "flex": null,
            "_model_name": "LayoutModel",
            "justify_items": null,
            "grid_row": null,
            "max_height": null,
            "align_content": null,
            "visibility": null,
            "align_self": null,
            "height": null,
            "min_height": null,
            "padding": null,
            "grid_auto_rows": null,
            "grid_gap": null,
            "max_width": null,
            "order": null,
            "_view_module_version": "1.2.0",
            "grid_template_areas": null,
            "object_position": null,
            "object_fit": null,
            "grid_auto_columns": null,
            "margin": null,
            "display": null,
            "left": null
          }
        },
        "cf3c40f2a70549d0b50a44b59d08c0e4": {
          "model_module": "@jupyter-widgets/controls",
          "model_name": "FloatProgressModel",
          "state": {
            "_view_name": "ProgressView",
            "style": "IPY_MODEL_9b6450cc20324dad84ae2f1d51db222a",
            "_dom_classes": [],
            "description": "Downloading: 100%",
            "_model_name": "FloatProgressModel",
            "bar_style": "success",
            "max": 29,
            "_view_module": "@jupyter-widgets/controls",
            "_model_module_version": "1.5.0",
            "value": 29,
            "_view_count": null,
            "_view_module_version": "1.5.0",
            "orientation": "horizontal",
            "min": 0,
            "description_tooltip": null,
            "_model_module": "@jupyter-widgets/controls",
            "layout": "IPY_MODEL_be2053ad4a324e60b54d03e6369f745b"
          }
        },
        "2e850964a769432a963bf9f55265d230": {
          "model_module": "@jupyter-widgets/controls",
          "model_name": "HTMLModel",
          "state": {
            "_view_name": "HTMLView",
            "style": "IPY_MODEL_f9a6b9143cee47f1892f8e31114a45c7",
            "_dom_classes": [],
            "description": "",
            "_model_name": "HTMLModel",
            "placeholder": "​",
            "_view_module": "@jupyter-widgets/controls",
            "_model_module_version": "1.5.0",
            "value": " 29.0/29.0 [00:32&lt;00:00, 1.11s/B]",
            "_view_count": null,
            "_view_module_version": "1.5.0",
            "description_tooltip": null,
            "_model_module": "@jupyter-widgets/controls",
            "layout": "IPY_MODEL_aed2ab0a4b1249da905bd61d79b5a395"
          }
        },
        "9b6450cc20324dad84ae2f1d51db222a": {
          "model_module": "@jupyter-widgets/controls",
          "model_name": "ProgressStyleModel",
          "state": {
            "_view_name": "StyleView",
            "_model_name": "ProgressStyleModel",
            "description_width": "initial",
            "_view_module": "@jupyter-widgets/base",
            "_model_module_version": "1.5.0",
            "_view_count": null,
            "_view_module_version": "1.2.0",
            "bar_color": null,
            "_model_module": "@jupyter-widgets/controls"
          }
        },
        "be2053ad4a324e60b54d03e6369f745b": {
          "model_module": "@jupyter-widgets/base",
          "model_name": "LayoutModel",
          "state": {
            "_view_name": "LayoutView",
            "grid_template_rows": null,
            "right": null,
            "justify_content": null,
            "_view_module": "@jupyter-widgets/base",
            "overflow": null,
            "_model_module_version": "1.2.0",
            "_view_count": null,
            "flex_flow": null,
            "width": null,
            "min_width": null,
            "border": null,
            "align_items": null,
            "bottom": null,
            "_model_module": "@jupyter-widgets/base",
            "top": null,
            "grid_column": null,
            "overflow_y": null,
            "overflow_x": null,
            "grid_auto_flow": null,
            "grid_area": null,
            "grid_template_columns": null,
            "flex": null,
            "_model_name": "LayoutModel",
            "justify_items": null,
            "grid_row": null,
            "max_height": null,
            "align_content": null,
            "visibility": null,
            "align_self": null,
            "height": null,
            "min_height": null,
            "padding": null,
            "grid_auto_rows": null,
            "grid_gap": null,
            "max_width": null,
            "order": null,
            "_view_module_version": "1.2.0",
            "grid_template_areas": null,
            "object_position": null,
            "object_fit": null,
            "grid_auto_columns": null,
            "margin": null,
            "display": null,
            "left": null
          }
        },
        "f9a6b9143cee47f1892f8e31114a45c7": {
          "model_module": "@jupyter-widgets/controls",
          "model_name": "DescriptionStyleModel",
          "state": {
            "_view_name": "StyleView",
            "_model_name": "DescriptionStyleModel",
            "description_width": "",
            "_view_module": "@jupyter-widgets/base",
            "_model_module_version": "1.5.0",
            "_view_count": null,
            "_view_module_version": "1.2.0",
            "_model_module": "@jupyter-widgets/controls"
          }
        },
        "aed2ab0a4b1249da905bd61d79b5a395": {
          "model_module": "@jupyter-widgets/base",
          "model_name": "LayoutModel",
          "state": {
            "_view_name": "LayoutView",
            "grid_template_rows": null,
            "right": null,
            "justify_content": null,
            "_view_module": "@jupyter-widgets/base",
            "overflow": null,
            "_model_module_version": "1.2.0",
            "_view_count": null,
            "flex_flow": null,
            "width": null,
            "min_width": null,
            "border": null,
            "align_items": null,
            "bottom": null,
            "_model_module": "@jupyter-widgets/base",
            "top": null,
            "grid_column": null,
            "overflow_y": null,
            "overflow_x": null,
            "grid_auto_flow": null,
            "grid_area": null,
            "grid_template_columns": null,
            "flex": null,
            "_model_name": "LayoutModel",
            "justify_items": null,
            "grid_row": null,
            "max_height": null,
            "align_content": null,
            "visibility": null,
            "align_self": null,
            "height": null,
            "min_height": null,
            "padding": null,
            "grid_auto_rows": null,
            "grid_gap": null,
            "max_width": null,
            "order": null,
            "_view_module_version": "1.2.0",
            "grid_template_areas": null,
            "object_position": null,
            "object_fit": null,
            "grid_auto_columns": null,
            "margin": null,
            "display": null,
            "left": null
          }
        }
      }
    }
  },
  "cells": [
    {
      "cell_type": "markdown",
      "metadata": {
        "id": "RnkHfpmzFzlq"
      },
      "source": [
        "# Packages"
      ]
    },
    {
      "cell_type": "code",
      "metadata": {
        "id": "80YgLkyuLDNj",
        "colab": {
          "base_uri": "https://localhost:8080/"
        },
        "outputId": "882c3104-ebc4-4984-ae94-38e24ae7d0a9"
      },
      "source": [
        "!pip install rouge --quiet\n",
        "!pip install transformers --quiet"
      ],
      "execution_count": null,
      "outputs": [
        {
          "output_type": "stream",
          "text": [
            "  Building wheel for bleu (setup.py) ... \u001b[?25l\u001b[?25hdone\n",
            "  Building wheel for efficiency (setup.py) ... \u001b[?25l\u001b[?25hdone\n",
            "\u001b[K     |████████████████████████████████| 2.1MB 15.5MB/s \n",
            "\u001b[K     |████████████████████████████████| 3.3MB 55.6MB/s \n",
            "\u001b[K     |████████████████████████████████| 901kB 48.1MB/s \n",
            "\u001b[?25h"
          ],
          "name": "stdout"
        }
      ]
    },
    {
      "cell_type": "markdown",
      "metadata": {
        "id": "wr7_dfQMF5QU"
      },
      "source": [
        "# Imports"
      ]
    },
    {
      "cell_type": "code",
      "metadata": {
        "id": "wUIPbpsjJrDP",
        "colab": {
          "base_uri": "https://localhost:8080/"
        },
        "outputId": "c0d76f53-58ac-416d-8e7a-cb99e1b32d4f"
      },
      "source": [
        "import re\n",
        "import json\n",
        "import numpy as np\n",
        "import pandas as pd\n",
        "\n",
        "from rouge import Rouge \n",
        "from bleu import list_bleu\n",
        "from tqdm import tqdm_notebook\n",
        "\n",
        "import torch\n",
        "import torch.nn as nn\n",
        "import torch.optim as optim\n",
        "import torch.nn.functional as F\n",
        "from torch.autograd import Variable\n",
        "from torch.utils.data import Dataset, DataLoader\n",
        "from torch.utils.data import Dataset, DataLoader, RandomSampler, SequentialSampler\n",
        "from transformers import EncoderDecoderModel, AutoTokenizer, Seq2SeqTrainingArguments, Seq2SeqTrainer, EarlyStoppingCallback\n",
        "from transformers import AdamW, get_linear_schedule_with_warmup, get_cosine_schedule_with_warmup, get_cosine_with_hard_restarts_schedule_with_warmup\n",
        "\n",
        "from sklearn.model_selection import train_test_split\n",
        "\n",
        "print(\"GPU Torch Available = {}\".format(torch.cuda.is_available()))\n",
        "print(\"Torch Version = {}\".format(torch.__version__))"
      ],
      "execution_count": null,
      "outputs": [
        {
          "output_type": "stream",
          "text": [
            "GPU Torch Available = True\n",
            "Torch Version = 1.8.1+cu101\n"
          ],
          "name": "stdout"
        }
      ]
    },
    {
      "cell_type": "markdown",
      "metadata": {
        "id": "1NQfWz3HF-IR"
      },
      "source": [
        "# Encoder-Decoder Model"
      ]
    },
    {
      "cell_type": "code",
      "metadata": {
        "id": "WUyE2IwmFygz",
        "colab": {
          "base_uri": "https://localhost:8080/",
          "height": 367,
          "referenced_widgets": [
            "618b547e7f0547aba9a00ad5f98c745c",
            "285de5b8065a4133a484768584e95aae",
            "480f7da61fd542289b19b1d514657e6e",
            "366861b2524b463096731a523413ab19",
            "0a3e2e99ec1743c5bea2b1c70e8e4695",
            "406ef717f7de47e0891d1a6162a8a5ed",
            "4becf6bce0c04093bc9455432ec1251a",
            "e5e1622c129c496684994813554d4c96",
            "977539ebea5645cf865666d312e9c09d",
            "e45ae0fd21fa4b968e6efe11f80d3d98",
            "8831495e7cf74d32baa5afe5bb53a93b",
            "93f5858e3a094a338ae40976012b9d58",
            "b2962533ade44cc782900d254e446bb0",
            "225c6616d6d74ef6a0dbbee5e16f85dd",
            "2eb3a1c0a85c4f54af391d691db42078",
            "be65a78278ba4458aac93933ec132d9a",
            "9455f86810d7448791996567875b2f53",
            "95df8bbde7a94c43b910849252793bf6",
            "ac277a3465184eada5769e184d4ac616",
            "7095386d5dde4e67b892dea333b03426",
            "76d0b771b4a643e387c3663a533487a4",
            "70833fc182044d449b3ccb1ff26c44dc",
            "6094741b22034e018b0f1840fb53b448",
            "13350eaf962948ee8452bf71de34256c",
            "e34a4b1f91cd47eba71a5ee123dba7fb",
            "39c885f8f47d419396a9f3799a1c616e",
            "b4716722fc2d4c5dbf1d7086f388b4f8",
            "23675021175348698c27a6949aa362c8",
            "2283fb93e40c40f2aac9d6f2a90d68d6",
            "fe5a667b4f8f416e8fa16a9420d5f807",
            "abb8800366c544e89182409b9549c328",
            "5b749cffe48747aa9dc2bf6fad37b158",
            "88bd132c6c154c77b06d87c09db07e57",
            "b5902e184a5949d4bac61cf9aef74817",
            "cf3c40f2a70549d0b50a44b59d08c0e4",
            "2e850964a769432a963bf9f55265d230",
            "9b6450cc20324dad84ae2f1d51db222a",
            "be2053ad4a324e60b54d03e6369f745b",
            "f9a6b9143cee47f1892f8e31114a45c7",
            "aed2ab0a4b1249da905bd61d79b5a395"
          ]
        },
        "outputId": "421cb611-374b-45b9-f5e0-7eb2dd6c08df"
      },
      "source": [
        "# Model Selection\n",
        "\n",
        "# Regular Models\n",
        "bert_base_cased = 'bert-base-cased'\n",
        "roberta_base = 'roberta-base'\n",
        "gpt2 = 'gpt2'\n",
        "electra = 'google/electra-small-discriminator'\n",
        "t5_base = 't5-base'\n",
        "bart = 'facebook/bart-base'\n",
        "\n",
        "# Heavy Memory Dependant Models (For High RAM and High GPU Systems)\n",
        "bert_large_cased = 'bert-large-cased'\n",
        "roberta_large = 'roberta-large'\n",
        "gpt2_medium = 'gpt2-medium'\n",
        "t5_large = 't5-large'\n",
        "bart_large = 'facebook/bart-large'\n",
        "\n",
        "# Select Pretrained Weights\n",
        "Pretrained_Weight = bert_base_cased                  # Select Pretrained Weights\n",
        "\n",
        "# Encoder-Decoder\n",
        "seq2seq = EncoderDecoderModel.from_encoder_decoder_pretrained(Pretrained_Weight, Pretrained_Weight)\n",
        "\n",
        "# Tokenizer\n",
        "tokenizer = AutoTokenizer.from_pretrained(Pretrained_Weight)\n",
        "\n",
        "# Set Special Tokens\n",
        "seq2seq.config.decoder_start_token_id = tokenizer.bos_token_id\n",
        "seq2seq.config.eos_token_id = tokenizer.eos_token_id\n",
        "seq2seq.config.pad_token_id = tokenizer.pad_token_id\n",
        "\n",
        "# Parameters for Beam Search\n",
        "seq2seq.config.vocab_size = seq2seq.config.decoder.vocab_size\n",
        "seq2seq.config.max_length = 142\n",
        "seq2seq.config.min_length = 56\n",
        "seq2seq.config.no_repeat_ngram_size = 3\n",
        "seq2seq.config.early_stopping = True\n",
        "seq2seq.config.length_penalty = 2.0\n",
        "seq2seq.config.num_beams = 6"
      ],
      "execution_count": null,
      "outputs": [
        {
          "output_type": "display_data",
          "data": {
            "application/vnd.jupyter.widget-view+json": {
              "model_id": "618b547e7f0547aba9a00ad5f98c745c",
              "version_minor": 0,
              "version_major": 2
            },
            "text/plain": [
              "HBox(children=(FloatProgress(value=0.0, description='Downloading', max=433.0, style=ProgressStyle(description_…"
            ]
          },
          "metadata": {
            "tags": []
          }
        },
        {
          "output_type": "stream",
          "text": [
            "\n"
          ],
          "name": "stdout"
        },
        {
          "output_type": "display_data",
          "data": {
            "application/vnd.jupyter.widget-view+json": {
              "model_id": "977539ebea5645cf865666d312e9c09d",
              "version_minor": 0,
              "version_major": 2
            },
            "text/plain": [
              "HBox(children=(FloatProgress(value=0.0, description='Downloading', max=435779157.0, style=ProgressStyle(descri…"
            ]
          },
          "metadata": {
            "tags": []
          }
        },
        {
          "output_type": "stream",
          "text": [
            "\n"
          ],
          "name": "stdout"
        },
        {
          "output_type": "stream",
          "text": [
            "Some weights of the model checkpoint at bert-base-cased were not used when initializing BertLMHeadModel: ['cls.seq_relationship.weight', 'cls.seq_relationship.bias']\n",
            "- This IS expected if you are initializing BertLMHeadModel from the checkpoint of a model trained on another task or with another architecture (e.g. initializing a BertForSequenceClassification model from a BertForPreTraining model).\n",
            "- This IS NOT expected if you are initializing BertLMHeadModel from the checkpoint of a model that you expect to be exactly identical (initializing a BertForSequenceClassification model from a BertForSequenceClassification model).\n",
            "Some weights of BertLMHeadModel were not initialized from the model checkpoint at bert-base-cased and are newly initialized: ['bert.encoder.layer.0.crossattention.self.query.weight', 'bert.encoder.layer.0.crossattention.self.query.bias', 'bert.encoder.layer.0.crossattention.self.key.weight', 'bert.encoder.layer.0.crossattention.self.key.bias', 'bert.encoder.layer.0.crossattention.self.value.weight', 'bert.encoder.layer.0.crossattention.self.value.bias', 'bert.encoder.layer.0.crossattention.output.dense.weight', 'bert.encoder.layer.0.crossattention.output.dense.bias', 'bert.encoder.layer.0.crossattention.output.LayerNorm.weight', 'bert.encoder.layer.0.crossattention.output.LayerNorm.bias', 'bert.encoder.layer.1.crossattention.self.query.weight', 'bert.encoder.layer.1.crossattention.self.query.bias', 'bert.encoder.layer.1.crossattention.self.key.weight', 'bert.encoder.layer.1.crossattention.self.key.bias', 'bert.encoder.layer.1.crossattention.self.value.weight', 'bert.encoder.layer.1.crossattention.self.value.bias', 'bert.encoder.layer.1.crossattention.output.dense.weight', 'bert.encoder.layer.1.crossattention.output.dense.bias', 'bert.encoder.layer.1.crossattention.output.LayerNorm.weight', 'bert.encoder.layer.1.crossattention.output.LayerNorm.bias', 'bert.encoder.layer.2.crossattention.self.query.weight', 'bert.encoder.layer.2.crossattention.self.query.bias', 'bert.encoder.layer.2.crossattention.self.key.weight', 'bert.encoder.layer.2.crossattention.self.key.bias', 'bert.encoder.layer.2.crossattention.self.value.weight', 'bert.encoder.layer.2.crossattention.self.value.bias', 'bert.encoder.layer.2.crossattention.output.dense.weight', 'bert.encoder.layer.2.crossattention.output.dense.bias', 'bert.encoder.layer.2.crossattention.output.LayerNorm.weight', 'bert.encoder.layer.2.crossattention.output.LayerNorm.bias', 'bert.encoder.layer.3.crossattention.self.query.weight', 'bert.encoder.layer.3.crossattention.self.query.bias', 'bert.encoder.layer.3.crossattention.self.key.weight', 'bert.encoder.layer.3.crossattention.self.key.bias', 'bert.encoder.layer.3.crossattention.self.value.weight', 'bert.encoder.layer.3.crossattention.self.value.bias', 'bert.encoder.layer.3.crossattention.output.dense.weight', 'bert.encoder.layer.3.crossattention.output.dense.bias', 'bert.encoder.layer.3.crossattention.output.LayerNorm.weight', 'bert.encoder.layer.3.crossattention.output.LayerNorm.bias', 'bert.encoder.layer.4.crossattention.self.query.weight', 'bert.encoder.layer.4.crossattention.self.query.bias', 'bert.encoder.layer.4.crossattention.self.key.weight', 'bert.encoder.layer.4.crossattention.self.key.bias', 'bert.encoder.layer.4.crossattention.self.value.weight', 'bert.encoder.layer.4.crossattention.self.value.bias', 'bert.encoder.layer.4.crossattention.output.dense.weight', 'bert.encoder.layer.4.crossattention.output.dense.bias', 'bert.encoder.layer.4.crossattention.output.LayerNorm.weight', 'bert.encoder.layer.4.crossattention.output.LayerNorm.bias', 'bert.encoder.layer.5.crossattention.self.query.weight', 'bert.encoder.layer.5.crossattention.self.query.bias', 'bert.encoder.layer.5.crossattention.self.key.weight', 'bert.encoder.layer.5.crossattention.self.key.bias', 'bert.encoder.layer.5.crossattention.self.value.weight', 'bert.encoder.layer.5.crossattention.self.value.bias', 'bert.encoder.layer.5.crossattention.output.dense.weight', 'bert.encoder.layer.5.crossattention.output.dense.bias', 'bert.encoder.layer.5.crossattention.output.LayerNorm.weight', 'bert.encoder.layer.5.crossattention.output.LayerNorm.bias', 'bert.encoder.layer.6.crossattention.self.query.weight', 'bert.encoder.layer.6.crossattention.self.query.bias', 'bert.encoder.layer.6.crossattention.self.key.weight', 'bert.encoder.layer.6.crossattention.self.key.bias', 'bert.encoder.layer.6.crossattention.self.value.weight', 'bert.encoder.layer.6.crossattention.self.value.bias', 'bert.encoder.layer.6.crossattention.output.dense.weight', 'bert.encoder.layer.6.crossattention.output.dense.bias', 'bert.encoder.layer.6.crossattention.output.LayerNorm.weight', 'bert.encoder.layer.6.crossattention.output.LayerNorm.bias', 'bert.encoder.layer.7.crossattention.self.query.weight', 'bert.encoder.layer.7.crossattention.self.query.bias', 'bert.encoder.layer.7.crossattention.self.key.weight', 'bert.encoder.layer.7.crossattention.self.key.bias', 'bert.encoder.layer.7.crossattention.self.value.weight', 'bert.encoder.layer.7.crossattention.self.value.bias', 'bert.encoder.layer.7.crossattention.output.dense.weight', 'bert.encoder.layer.7.crossattention.output.dense.bias', 'bert.encoder.layer.7.crossattention.output.LayerNorm.weight', 'bert.encoder.layer.7.crossattention.output.LayerNorm.bias', 'bert.encoder.layer.8.crossattention.self.query.weight', 'bert.encoder.layer.8.crossattention.self.query.bias', 'bert.encoder.layer.8.crossattention.self.key.weight', 'bert.encoder.layer.8.crossattention.self.key.bias', 'bert.encoder.layer.8.crossattention.self.value.weight', 'bert.encoder.layer.8.crossattention.self.value.bias', 'bert.encoder.layer.8.crossattention.output.dense.weight', 'bert.encoder.layer.8.crossattention.output.dense.bias', 'bert.encoder.layer.8.crossattention.output.LayerNorm.weight', 'bert.encoder.layer.8.crossattention.output.LayerNorm.bias', 'bert.encoder.layer.9.crossattention.self.query.weight', 'bert.encoder.layer.9.crossattention.self.query.bias', 'bert.encoder.layer.9.crossattention.self.key.weight', 'bert.encoder.layer.9.crossattention.self.key.bias', 'bert.encoder.layer.9.crossattention.self.value.weight', 'bert.encoder.layer.9.crossattention.self.value.bias', 'bert.encoder.layer.9.crossattention.output.dense.weight', 'bert.encoder.layer.9.crossattention.output.dense.bias', 'bert.encoder.layer.9.crossattention.output.LayerNorm.weight', 'bert.encoder.layer.9.crossattention.output.LayerNorm.bias', 'bert.encoder.layer.10.crossattention.self.query.weight', 'bert.encoder.layer.10.crossattention.self.query.bias', 'bert.encoder.layer.10.crossattention.self.key.weight', 'bert.encoder.layer.10.crossattention.self.key.bias', 'bert.encoder.layer.10.crossattention.self.value.weight', 'bert.encoder.layer.10.crossattention.self.value.bias', 'bert.encoder.layer.10.crossattention.output.dense.weight', 'bert.encoder.layer.10.crossattention.output.dense.bias', 'bert.encoder.layer.10.crossattention.output.LayerNorm.weight', 'bert.encoder.layer.10.crossattention.output.LayerNorm.bias', 'bert.encoder.layer.11.crossattention.self.query.weight', 'bert.encoder.layer.11.crossattention.self.query.bias', 'bert.encoder.layer.11.crossattention.self.key.weight', 'bert.encoder.layer.11.crossattention.self.key.bias', 'bert.encoder.layer.11.crossattention.self.value.weight', 'bert.encoder.layer.11.crossattention.self.value.bias', 'bert.encoder.layer.11.crossattention.output.dense.weight', 'bert.encoder.layer.11.crossattention.output.dense.bias', 'bert.encoder.layer.11.crossattention.output.LayerNorm.weight', 'bert.encoder.layer.11.crossattention.output.LayerNorm.bias']\n",
            "You should probably TRAIN this model on a down-stream task to be able to use it for predictions and inference.\n"
          ],
          "name": "stderr"
        },
        {
          "output_type": "display_data",
          "data": {
            "application/vnd.jupyter.widget-view+json": {
              "model_id": "9455f86810d7448791996567875b2f53",
              "version_minor": 0,
              "version_major": 2
            },
            "text/plain": [
              "HBox(children=(FloatProgress(value=0.0, description='Downloading', max=213450.0, style=ProgressStyle(descripti…"
            ]
          },
          "metadata": {
            "tags": []
          }
        },
        {
          "output_type": "stream",
          "text": [
            "\n"
          ],
          "name": "stdout"
        },
        {
          "output_type": "display_data",
          "data": {
            "application/vnd.jupyter.widget-view+json": {
              "model_id": "e34a4b1f91cd47eba71a5ee123dba7fb",
              "version_minor": 0,
              "version_major": 2
            },
            "text/plain": [
              "HBox(children=(FloatProgress(value=0.0, description='Downloading', max=435797.0, style=ProgressStyle(descripti…"
            ]
          },
          "metadata": {
            "tags": []
          }
        },
        {
          "output_type": "stream",
          "text": [
            "\n"
          ],
          "name": "stdout"
        },
        {
          "output_type": "display_data",
          "data": {
            "application/vnd.jupyter.widget-view+json": {
              "model_id": "88bd132c6c154c77b06d87c09db07e57",
              "version_minor": 0,
              "version_major": 2
            },
            "text/plain": [
              "HBox(children=(FloatProgress(value=0.0, description='Downloading', max=29.0, style=ProgressStyle(description_w…"
            ]
          },
          "metadata": {
            "tags": []
          }
        },
        {
          "output_type": "stream",
          "text": [
            "\n"
          ],
          "name": "stdout"
        }
      ]
    },
    {
      "cell_type": "markdown",
      "metadata": {
        "id": "UrSiAbVaGLei"
      },
      "source": [
        "# Dataset Loading and Preprocessing"
      ]
    },
    {
      "cell_type": "code",
      "metadata": {
        "id": "b4EGwb58LBsc",
        "colab": {
          "base_uri": "https://localhost:8080/"
        },
        "outputId": "2972333a-43ac-4e14-e015-bd4b3155056c"
      },
      "source": [
        "from google.colab import drive\n",
        "drive.mount('/content/drive')"
      ],
      "execution_count": null,
      "outputs": [
        {
          "output_type": "stream",
          "text": [
            "Mounted at /content/drive\n"
          ],
          "name": "stdout"
        }
      ]
    },
    {
      "cell_type": "code",
      "metadata": {
        "id": "8yP7-R7XLKv7"
      },
      "source": [
        "# Loading Dataset\n",
        "file = '/content/drive/MyDrive/Title Generation/Dataset/Dataset_Title_Summarization_of_Various_Summaries.xlsx' \n",
        "df = pd.read_excel(file, names = ['ID','Combined Abstract', 'Title'])\n",
        "df = df.drop(['ID'], axis=1)\n",
        "df"
      ],
      "execution_count": null,
      "outputs": []
    },
    {
      "cell_type": "code",
      "metadata": {
        "id": "jkQu4gZNNJ1e"
      },
      "source": [
        "# Train Test Split of Dataset\n",
        "train_df, test_df = train_test_split(df, test_size = 0.25, random_state = 42)\n",
        "print('Train Dataset Length = {}'.format(len(train_df)))\n",
        "print('Test Dataset Length  = {}'.format(len(test_df)))"
      ],
      "execution_count": null,
      "outputs": []
    },
    {
      "cell_type": "code",
      "metadata": {
        "id": "KIVMvoFYN3Pt",
        "colab": {
          "base_uri": "https://localhost:8080/"
        },
        "outputId": "2559711c-e5b7-4752-bb37-9d82f1ffc90e"
      },
      "source": [
        "# Data Preparation into Pandas Dataframe for Model Input\n",
        "def get_data(dataframe):\n",
        "  abstract = list(dataframe['Combined Abstract'])\n",
        "  title = list(dataframe['Title'])\n",
        "  \n",
        "  raw_data_train = {'Abstract': abstract, 'Title': title}\n",
        "  df = pd.DataFrame(raw_data_train, columns = ['Abstract','Title'])\n",
        "  return df\n",
        "\n",
        "train_data = get_data(train_df)\n",
        "test_data = get_data(test_df)\n",
        "\n",
        "print('Training Data:')\n",
        "print(train_data[0:3])\n",
        "print('\\nTesting Data:')\n",
        "print(test_data[0:3])"
      ],
      "execution_count": null,
      "outputs": [
        {
          "output_type": "stream",
          "text": [
            "Training Data:\n",
            "                                            Abstract                                              Title\n",
            "0  to this end we instantiate two policy gradient...                      Variational Intrinsic Control\n",
            "1  ReCTnet reaches a detection sensitivity of 90....   Recurrent Convolutional Networks for Pulmonar...\n",
            "2  the proposed method has a set of parameters th...   Discovering the Graph Structure in the Cluste...\n",
            "\n",
            "Testing Data:\n",
            "                                            Abstract                                              Title\n",
            "0  independence tests using the optimized feature...   An Adaptive Test of Independence with Analyti...\n",
            "1  in this paper we will provide a method in whic...   A Mixed Observability Markov Decision Process...\n",
            "2  our results show several interesting findings ...   Learning Multi Relational Semantics Using Neu...\n"
          ],
          "name": "stdout"
        }
      ]
    },
    {
      "cell_type": "code",
      "metadata": {
        "id": "yEVdSHjYA-a8"
      },
      "source": [
        "# Data Preparation for Seq2Seq Model Input\n",
        "class CustomDataset(Dataset):\n",
        "    def __init__(self, dataframe, tokenizer, max_len_enc, max_len_dec):\n",
        "      self.tokenizer = tokenizer\n",
        "      self.data = dataframe\n",
        "      self.abstract = dataframe.Abstract\n",
        "      self.title = dataframe.Title\n",
        "      self.encoder_max_len = max_len_enc\n",
        "      self.decoder_max_len = max_len_dec\n",
        "        \n",
        "    def __len__(self):\n",
        "      return len(self.abstract)\n",
        "\n",
        "    def __getitem__(self, index):\n",
        "      # Abstract Tokenization\n",
        "      abstract_data = str(self.abstract[index])\n",
        "      inputs = self.tokenizer.encode_plus(abstract_data,\n",
        "                                          truncation=True,\n",
        "                                          add_special_tokens=True,\n",
        "                                          max_length = self.encoder_max_len,\n",
        "                                          padding = 'max_length',\n",
        "                                          return_token_type_ids = False)\n",
        "      input_ids = inputs['input_ids']\n",
        "      input_mask = inputs['attention_mask']\n",
        "      \n",
        "      # Title Tokenization\n",
        "      title_data = str(self.title[index])\n",
        "      outputs = self.tokenizer.encode_plus(title_data,\n",
        "                                           truncation=True,\n",
        "                                           add_special_tokens=True,\n",
        "                                           max_length = self.decoder_max_len,\n",
        "                                           padding = 'max_length',\n",
        "                                           return_token_type_ids = False)\n",
        "      output_ids = outputs['input_ids']\n",
        "      output_mask = outputs['attention_mask']\n",
        "      \n",
        "      return {'input_ids': torch.tensor(input_ids, dtype=torch.long),\n",
        "              'attention_mask': torch.tensor(input_mask, dtype=torch.long),\n",
        "              'decoder_input_ids': torch.tensor(output_ids, dtype=torch.long),\n",
        "              'decoder_attention_mask' : torch.tensor(output_mask, dtype=torch.long),\n",
        "              'labels': torch.tensor(output_ids, dtype=torch.long)}\n",
        "\n",
        "ENCODER_MAX_LEN = 256                                                                   # Encoder Max Sequence Length (Change)\n",
        "DECODER_MAX_LEN = 32                                                                    # Decoder Max Sequence Length\n",
        "\n",
        "training_set = CustomDataset(train_data, tokenizer, ENCODER_MAX_LEN, DECODER_MAX_LEN)   # Training Set\n",
        "testing_set = CustomDataset(test_data, tokenizer, ENCODER_MAX_LEN, DECODER_MAX_LEN)     # Testing Set"
      ],
      "execution_count": null,
      "outputs": []
    },
    {
      "cell_type": "markdown",
      "metadata": {
        "id": "ADEiS4e0WXhN"
      },
      "source": [
        "# Training"
      ]
    },
    {
      "cell_type": "code",
      "metadata": {
        "id": "_08B8RoAHvHi"
      },
      "source": [
        "# Device Mapping Select (GPU or CPU)\n",
        "device = torch.device(\"cuda\" if torch.cuda.is_available() else \"cpu\")\n",
        "if (torch.cuda.is_available() == True):\n",
        "  print(\"Model Mapped CUDA::GPU\")\n",
        "  seq2seq = seq2seq.cuda()\n",
        "\n",
        "# Early Stopping Callback Setup\n",
        "early_stop = EarlyStoppingCallback(early_stopping_patience = 3, early_stopping_threshold = 0.01)\n",
        "\n",
        "# Learning Rate Schedulers\n",
        "scheduler_options = ['linear', 'cosine', 'cosine_with_restarts', 'polynomial', 'constant', 'constant_with_warmup']\n",
        "\n",
        "# Training Parameters (Should be Tuned)\n",
        "training_args = Seq2SeqTrainingArguments(seed = 42,\n",
        "                                         output_dir=\"./models/model_name\",\n",
        "                                         overwrite_output_dir = True,\n",
        "                                         evaluation_strategy = \"epoch\",\n",
        "                                         do_train = True,\n",
        "                                         do_eval = True,\n",
        "                                         learning_rate = 5e-5,\n",
        "                                         lr_scheduler_type = 'polynomial',\n",
        "                                         weight_decay = 0.01,\n",
        "                                         per_device_train_batch_size = 16,\n",
        "                                         per_device_eval_batch_size = 16,\n",
        "                                         predict_with_generate = False,\n",
        "                                         num_train_epochs = 20,\n",
        "                                         logging_steps = 2,\n",
        "                                         save_steps = 0, \n",
        "                                         warmup_steps = 16,\n",
        "                                         load_best_model_at_end = True)\n",
        "\n",
        "# Instantiate Seq2Seq Trainer\n",
        "trainer = Seq2SeqTrainer(model = seq2seq,\n",
        "                         callbacks = [early_stop],\n",
        "                         tokenizer = tokenizer,\n",
        "                         args = training_args,\n",
        "                         train_dataset = training_set,\n",
        "                         eval_dataset = testing_set)\n",
        "\n",
        "# Train Model\n",
        "trainer.train()"
      ],
      "execution_count": null,
      "outputs": []
    },
    {
      "cell_type": "markdown",
      "metadata": {
        "id": "HgwAQ-36WzQW"
      },
      "source": [
        "# Testing"
      ]
    },
    {
      "cell_type": "code",
      "metadata": {
        "id": "hWvwNv9HKmly"
      },
      "source": [
        "trainer.evaluate(testing_set)"
      ],
      "execution_count": null,
      "outputs": []
    },
    {
      "cell_type": "markdown",
      "metadata": {
        "id": "_sCFxj-u5Arc"
      },
      "source": [
        "# Model Save"
      ]
    },
    {
      "cell_type": "code",
      "metadata": {
        "id": "xbRH0-5ZXFGm"
      },
      "source": [
        "# Model Save\n",
        "model_save_path = '/content/drive/MyDrive/Title Generation/Model Weights/Seq2Seq_state_dict_Bert_Base_10000_Various_Summaries_Beam_6'\n",
        "torch.save(seq2seq.state_dict(), model_save_path + '.pth')"
      ],
      "execution_count": null,
      "outputs": []
    },
    {
      "cell_type": "markdown",
      "metadata": {
        "id": "kSzvI4Sk48rE"
      },
      "source": [
        "# Model Load"
      ]
    },
    {
      "cell_type": "code",
      "metadata": {
        "id": "UY_W9BttW5xO",
        "colab": {
          "base_uri": "https://localhost:8080/"
        },
        "outputId": "4afbda26-7086-4868-a455-6e324335c138"
      },
      "source": [
        "# Model Load (Load Already Finetuned Model)\n",
        "device = torch.device(\"cuda\" if torch.cuda.is_available() else \"cpu\")\n",
        "model_load_path = '/content/drive/MyDrive/Title Generation/Model Weights/Seq2Seq_state_dict_Bert_Base_10000_Various_Summaries_Beam_6.pth'\n",
        "seq2seq.load_state_dict(torch.load(model_load_path, map_location = device))"
      ],
      "execution_count": null,
      "outputs": [
        {
          "output_type": "execute_result",
          "data": {
            "text/plain": [
              "<All keys matched successfully>"
            ]
          },
          "metadata": {
            "tags": []
          },
          "execution_count": 13
        }
      ]
    },
    {
      "cell_type": "markdown",
      "metadata": {
        "id": "qLwuRDjE5F7N"
      },
      "source": [
        "# Rouge Score Calcultion"
      ]
    },
    {
      "cell_type": "code",
      "metadata": {
        "id": "MIPWNIjB-Lof"
      },
      "source": [
        "# Rouge Score Calculation\n",
        "test_size = 2500\n",
        "rouge = Rouge()\n",
        "test_index_limit = test_size                     # Test Size for GPU Constraints\n",
        "\n",
        "# Placeholders for Rouge Scores\n",
        "rouge_1_f = []\n",
        "rouge_1_p = []\n",
        "rouge_1_r = []\n",
        "\n",
        "rouge_2_f = []\n",
        "rouge_2_p = []\n",
        "rouge_2_r = []\n",
        "\n",
        "rouge_l_f = []\n",
        "rouge_l_p = []\n",
        "rouge_l_r = []\n",
        "\n",
        "# Calculation\n",
        "for i in range(test_index_limit):\n",
        "\n",
        "  # Inference \n",
        "  data = test_data['Abstract'][i]\n",
        "  input_sentence_ids = torch.tensor(tokenizer.encode(data, add_special_tokens = True)).unsqueeze(0).cuda()\n",
        "  generated = seq2seq.generate(input_sentence_ids,\n",
        "                               max_length = 20, \n",
        "                               decoder_start_token_id = seq2seq.config.decoder.pad_token_id)\n",
        "  if (i % 50 == 0):\n",
        "    print(\"Inferene Done for Test ID = {}\".format(i))\n",
        "  # Reference and Hypothesis for Rouge Score Calculation\n",
        "  hypothesis = tokenizer.batch_decode(generated, skip_special_tokens = True)[0]      # Predicted Title\n",
        "  reference = test_data['Title'][i]                                                  # Reference Title\n",
        "\n",
        "  # Calculating Rouge Scores\n",
        "  score = rouge.get_scores(hypothesis, reference)\n",
        "  rouge_1_f.append(score[0]['rouge-1']['f'])\n",
        "  rouge_1_p.append(score[0]['rouge-1']['p'])\n",
        "  rouge_1_r.append(score[0]['rouge-1']['r'])\n",
        "\n",
        "  rouge_2_f.append(score[0]['rouge-2']['f'])\n",
        "  rouge_2_p.append(score[0]['rouge-2']['p'])\n",
        "  rouge_2_r.append(score[0]['rouge-2']['r'])\n",
        "\n",
        "  rouge_l_f.append(score[0]['rouge-l']['f'])\n",
        "  rouge_l_p.append(score[0]['rouge-l']['p'])\n",
        "  rouge_l_r.append(score[0]['rouge-l']['r'])\n",
        "\n",
        "# Final Average Rouge Score Calculation\n",
        "rouge_1_f_val = sum(rouge_1_f)/test_size\n",
        "rouge_1_p_val = sum(rouge_1_p)/test_size\n",
        "rouge_1_r_val = sum(rouge_1_r)/test_size\n",
        "\n",
        "rouge_2_f_val = sum(rouge_2_f)/test_size\n",
        "rouge_2_p_val = sum(rouge_2_p)/test_size\n",
        "rouge_2_r_val = sum(rouge_2_r)/test_size\n",
        "\n",
        "rouge_l_f_val = sum(rouge_l_f)/test_size\n",
        "rouge_l_p_val = sum(rouge_l_p)/test_size\n",
        "rouge_l_r_val = sum(rouge_l_r)/test_size\n",
        "print('\\n Scores:')\n",
        "print('Avergae Rouge 1 F Score   : {}'.format(rouge_1_f_val))\n",
        "print('Avergae Rouge 1 Precision : {}'.format(rouge_1_p_val))\n",
        "print('Avergae Rouge 1 Recall    : {}'.format(rouge_1_r_val))\n",
        "print('\\n')\n",
        "print('Avergae Rouge 2 F Score   : {}'.format(rouge_2_f_val))\n",
        "print('Avergae Rouge 2 Precision : {}'.format(rouge_2_p_val))\n",
        "print('Avergae Rouge 2 Recall    : {}'.format(rouge_2_r_val))\n",
        "print('\\n')\n",
        "print('Avergae Rouge L F Score   : {}'.format(rouge_l_f_val))\n",
        "print('Avergae Rouge L Precision : {}'.format(rouge_l_p_val))\n",
        "print('Avergae Rouge L Recall    : {}'.format(rouge_l_r_val))"
      ],
      "execution_count": null,
      "outputs": []
    },
    {
      "cell_type": "markdown",
      "metadata": {
        "id": "1bWjYXN2W1we"
      },
      "source": [
        "# Inference (Generation)"
      ]
    },
    {
      "cell_type": "code",
      "metadata": {
        "id": "5X5k2PDUXRBF"
      },
      "source": [
        "def inference(model, tokenizer, test_list, test_dataset, maximum_length, show_abstracts = True):\n",
        "  for test_index in test_list:                      \n",
        "    # Fetch Input and Reference from Test Dataset\n",
        "    data = test_dataset['Abstract'][test_index]\n",
        "    reference = test_dataset['Title'][test_index]\n",
        "\n",
        "    # Inference\n",
        "    input_sentence_ids = torch.tensor(tokenizer.encode(data, add_special_tokens=True)).unsqueeze(0).cuda()\n",
        "    generated = model.generate(input_sentence_ids,\n",
        "                               max_length = maximum_length, \n",
        "                               decoder_start_token_id = model.config.decoder.pad_token_id)\n",
        "    hypothesis = tokenizer.batch_decode(generated, skip_special_tokens=True)[0]\n",
        "    print('\\nTest ID = {}'.format(test_index))\n",
        "    if (show_abstracts == True):\n",
        "      print('\\nAbstract:')\n",
        "      print(data)\n",
        "    print('\\nActual Title:')\n",
        "    print(reference)\n",
        "    print('\\nPredicted Title:')\n",
        "    print(hypothesis)\n",
        "\n",
        "test_list = [1,4,5,7,9,10,12,20,22,100,134,200]                         # Test Indices for Inference\n",
        "inference(seq2seq, tokenizer, test_list, test_data, 24, show_abstracts = False)"
      ],
      "execution_count": null,
      "outputs": []
    }
  ]
}