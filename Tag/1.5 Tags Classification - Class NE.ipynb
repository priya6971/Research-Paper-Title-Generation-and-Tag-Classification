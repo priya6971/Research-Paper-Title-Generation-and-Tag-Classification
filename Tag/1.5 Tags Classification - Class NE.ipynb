{
  "nbformat": 4,
  "nbformat_minor": 0,
  "metadata": {
    "colab": {
      "name": "Tags_Classification_Class_NE_Final_Code .ipynb",
      "provenance": [],
      "toc_visible": true
    },
    "kernelspec": {
      "name": "python3",
      "display_name": "Python 3"
    },
    "language_info": {
      "name": "python"
    },
    "widgets": {
      "application/vnd.jupyter.widget-state+json": {
        "a86e0e1d519f402f8aec8789c2326da5": {
          "model_module": "@jupyter-widgets/controls",
          "model_name": "HBoxModel",
          "state": {
            "_view_name": "HBoxView",
            "_dom_classes": [],
            "_model_name": "HBoxModel",
            "_view_module": "@jupyter-widgets/controls",
            "_model_module_version": "1.5.0",
            "_view_count": null,
            "_view_module_version": "1.5.0",
            "box_style": "",
            "layout": "IPY_MODEL_dc8dacc7410a46298fd8d7175c2cfab5",
            "_model_module": "@jupyter-widgets/controls",
            "children": [
              "IPY_MODEL_7437d2dc4e174b7d818439cde0887dd7",
              "IPY_MODEL_5b9171edbd9440fda3dd696e59857188"
            ]
          }
        },
        "dc8dacc7410a46298fd8d7175c2cfab5": {
          "model_module": "@jupyter-widgets/base",
          "model_name": "LayoutModel",
          "state": {
            "_view_name": "LayoutView",
            "grid_template_rows": null,
            "right": null,
            "justify_content": null,
            "_view_module": "@jupyter-widgets/base",
            "overflow": null,
            "_model_module_version": "1.2.0",
            "_view_count": null,
            "flex_flow": null,
            "width": null,
            "min_width": null,
            "border": null,
            "align_items": null,
            "bottom": null,
            "_model_module": "@jupyter-widgets/base",
            "top": null,
            "grid_column": null,
            "overflow_y": null,
            "overflow_x": null,
            "grid_auto_flow": null,
            "grid_area": null,
            "grid_template_columns": null,
            "flex": null,
            "_model_name": "LayoutModel",
            "justify_items": null,
            "grid_row": null,
            "max_height": null,
            "align_content": null,
            "visibility": null,
            "align_self": null,
            "height": null,
            "min_height": null,
            "padding": null,
            "grid_auto_rows": null,
            "grid_gap": null,
            "max_width": null,
            "order": null,
            "_view_module_version": "1.2.0",
            "grid_template_areas": null,
            "object_position": null,
            "object_fit": null,
            "grid_auto_columns": null,
            "margin": null,
            "display": null,
            "left": null
          }
        },
        "7437d2dc4e174b7d818439cde0887dd7": {
          "model_module": "@jupyter-widgets/controls",
          "model_name": "FloatProgressModel",
          "state": {
            "_view_name": "ProgressView",
            "style": "IPY_MODEL_4c245272a5234294b4abc792d31cfd82",
            "_dom_classes": [],
            "description": "Downloading: 100%",
            "_model_name": "FloatProgressModel",
            "bar_style": "success",
            "max": 213450,
            "_view_module": "@jupyter-widgets/controls",
            "_model_module_version": "1.5.0",
            "value": 213450,
            "_view_count": null,
            "_view_module_version": "1.5.0",
            "orientation": "horizontal",
            "min": 0,
            "description_tooltip": null,
            "_model_module": "@jupyter-widgets/controls",
            "layout": "IPY_MODEL_de6ce8124ebd4d0eb1b17198b5de5cbc"
          }
        },
        "5b9171edbd9440fda3dd696e59857188": {
          "model_module": "@jupyter-widgets/controls",
          "model_name": "HTMLModel",
          "state": {
            "_view_name": "HTMLView",
            "style": "IPY_MODEL_024970b579394017954dae1bae05412f",
            "_dom_classes": [],
            "description": "",
            "_model_name": "HTMLModel",
            "placeholder": "​",
            "_view_module": "@jupyter-widgets/controls",
            "_model_module_version": "1.5.0",
            "value": " 213k/213k [00:00&lt;00:00, 715kB/s]",
            "_view_count": null,
            "_view_module_version": "1.5.0",
            "description_tooltip": null,
            "_model_module": "@jupyter-widgets/controls",
            "layout": "IPY_MODEL_d54ec4141b0d4da2a466522fc6700b5d"
          }
        },
        "4c245272a5234294b4abc792d31cfd82": {
          "model_module": "@jupyter-widgets/controls",
          "model_name": "ProgressStyleModel",
          "state": {
            "_view_name": "StyleView",
            "_model_name": "ProgressStyleModel",
            "description_width": "initial",
            "_view_module": "@jupyter-widgets/base",
            "_model_module_version": "1.5.0",
            "_view_count": null,
            "_view_module_version": "1.2.0",
            "bar_color": null,
            "_model_module": "@jupyter-widgets/controls"
          }
        },
        "de6ce8124ebd4d0eb1b17198b5de5cbc": {
          "model_module": "@jupyter-widgets/base",
          "model_name": "LayoutModel",
          "state": {
            "_view_name": "LayoutView",
            "grid_template_rows": null,
            "right": null,
            "justify_content": null,
            "_view_module": "@jupyter-widgets/base",
            "overflow": null,
            "_model_module_version": "1.2.0",
            "_view_count": null,
            "flex_flow": null,
            "width": null,
            "min_width": null,
            "border": null,
            "align_items": null,
            "bottom": null,
            "_model_module": "@jupyter-widgets/base",
            "top": null,
            "grid_column": null,
            "overflow_y": null,
            "overflow_x": null,
            "grid_auto_flow": null,
            "grid_area": null,
            "grid_template_columns": null,
            "flex": null,
            "_model_name": "LayoutModel",
            "justify_items": null,
            "grid_row": null,
            "max_height": null,
            "align_content": null,
            "visibility": null,
            "align_self": null,
            "height": null,
            "min_height": null,
            "padding": null,
            "grid_auto_rows": null,
            "grid_gap": null,
            "max_width": null,
            "order": null,
            "_view_module_version": "1.2.0",
            "grid_template_areas": null,
            "object_position": null,
            "object_fit": null,
            "grid_auto_columns": null,
            "margin": null,
            "display": null,
            "left": null
          }
        },
        "024970b579394017954dae1bae05412f": {
          "model_module": "@jupyter-widgets/controls",
          "model_name": "DescriptionStyleModel",
          "state": {
            "_view_name": "StyleView",
            "_model_name": "DescriptionStyleModel",
            "description_width": "",
            "_view_module": "@jupyter-widgets/base",
            "_model_module_version": "1.5.0",
            "_view_count": null,
            "_view_module_version": "1.2.0",
            "_model_module": "@jupyter-widgets/controls"
          }
        },
        "d54ec4141b0d4da2a466522fc6700b5d": {
          "model_module": "@jupyter-widgets/base",
          "model_name": "LayoutModel",
          "state": {
            "_view_name": "LayoutView",
            "grid_template_rows": null,
            "right": null,
            "justify_content": null,
            "_view_module": "@jupyter-widgets/base",
            "overflow": null,
            "_model_module_version": "1.2.0",
            "_view_count": null,
            "flex_flow": null,
            "width": null,
            "min_width": null,
            "border": null,
            "align_items": null,
            "bottom": null,
            "_model_module": "@jupyter-widgets/base",
            "top": null,
            "grid_column": null,
            "overflow_y": null,
            "overflow_x": null,
            "grid_auto_flow": null,
            "grid_area": null,
            "grid_template_columns": null,
            "flex": null,
            "_model_name": "LayoutModel",
            "justify_items": null,
            "grid_row": null,
            "max_height": null,
            "align_content": null,
            "visibility": null,
            "align_self": null,
            "height": null,
            "min_height": null,
            "padding": null,
            "grid_auto_rows": null,
            "grid_gap": null,
            "max_width": null,
            "order": null,
            "_view_module_version": "1.2.0",
            "grid_template_areas": null,
            "object_position": null,
            "object_fit": null,
            "grid_auto_columns": null,
            "margin": null,
            "display": null,
            "left": null
          }
        },
        "e722feb050114ce388795214eee2ce74": {
          "model_module": "@jupyter-widgets/controls",
          "model_name": "HBoxModel",
          "state": {
            "_view_name": "HBoxView",
            "_dom_classes": [],
            "_model_name": "HBoxModel",
            "_view_module": "@jupyter-widgets/controls",
            "_model_module_version": "1.5.0",
            "_view_count": null,
            "_view_module_version": "1.5.0",
            "box_style": "",
            "layout": "IPY_MODEL_77687afc301740739c3b508563f88cda",
            "_model_module": "@jupyter-widgets/controls",
            "children": [
              "IPY_MODEL_5174a640c1a949788cb8c7739386c962",
              "IPY_MODEL_e9bcc184fb1d4e23bc5121e17134a54b"
            ]
          }
        },
        "77687afc301740739c3b508563f88cda": {
          "model_module": "@jupyter-widgets/base",
          "model_name": "LayoutModel",
          "state": {
            "_view_name": "LayoutView",
            "grid_template_rows": null,
            "right": null,
            "justify_content": null,
            "_view_module": "@jupyter-widgets/base",
            "overflow": null,
            "_model_module_version": "1.2.0",
            "_view_count": null,
            "flex_flow": null,
            "width": null,
            "min_width": null,
            "border": null,
            "align_items": null,
            "bottom": null,
            "_model_module": "@jupyter-widgets/base",
            "top": null,
            "grid_column": null,
            "overflow_y": null,
            "overflow_x": null,
            "grid_auto_flow": null,
            "grid_area": null,
            "grid_template_columns": null,
            "flex": null,
            "_model_name": "LayoutModel",
            "justify_items": null,
            "grid_row": null,
            "max_height": null,
            "align_content": null,
            "visibility": null,
            "align_self": null,
            "height": null,
            "min_height": null,
            "padding": null,
            "grid_auto_rows": null,
            "grid_gap": null,
            "max_width": null,
            "order": null,
            "_view_module_version": "1.2.0",
            "grid_template_areas": null,
            "object_position": null,
            "object_fit": null,
            "grid_auto_columns": null,
            "margin": null,
            "display": null,
            "left": null
          }
        },
        "5174a640c1a949788cb8c7739386c962": {
          "model_module": "@jupyter-widgets/controls",
          "model_name": "FloatProgressModel",
          "state": {
            "_view_name": "ProgressView",
            "style": "IPY_MODEL_af4ad88982b8470e8ae3b085b7c56bc2",
            "_dom_classes": [],
            "description": "Downloading: 100%",
            "_model_name": "FloatProgressModel",
            "bar_style": "success",
            "max": 29,
            "_view_module": "@jupyter-widgets/controls",
            "_model_module_version": "1.5.0",
            "value": 29,
            "_view_count": null,
            "_view_module_version": "1.5.0",
            "orientation": "horizontal",
            "min": 0,
            "description_tooltip": null,
            "_model_module": "@jupyter-widgets/controls",
            "layout": "IPY_MODEL_796c0796eb444d39a5a43282cd5344d5"
          }
        },
        "e9bcc184fb1d4e23bc5121e17134a54b": {
          "model_module": "@jupyter-widgets/controls",
          "model_name": "HTMLModel",
          "state": {
            "_view_name": "HTMLView",
            "style": "IPY_MODEL_8f387ac6b3a14579880d337922028816",
            "_dom_classes": [],
            "description": "",
            "_model_name": "HTMLModel",
            "placeholder": "​",
            "_view_module": "@jupyter-widgets/controls",
            "_model_module_version": "1.5.0",
            "value": " 29.0/29.0 [00:00&lt;00:00, 367B/s]",
            "_view_count": null,
            "_view_module_version": "1.5.0",
            "description_tooltip": null,
            "_model_module": "@jupyter-widgets/controls",
            "layout": "IPY_MODEL_791f86cd79d548a798f6cdd74338fe0e"
          }
        },
        "af4ad88982b8470e8ae3b085b7c56bc2": {
          "model_module": "@jupyter-widgets/controls",
          "model_name": "ProgressStyleModel",
          "state": {
            "_view_name": "StyleView",
            "_model_name": "ProgressStyleModel",
            "description_width": "initial",
            "_view_module": "@jupyter-widgets/base",
            "_model_module_version": "1.5.0",
            "_view_count": null,
            "_view_module_version": "1.2.0",
            "bar_color": null,
            "_model_module": "@jupyter-widgets/controls"
          }
        },
        "796c0796eb444d39a5a43282cd5344d5": {
          "model_module": "@jupyter-widgets/base",
          "model_name": "LayoutModel",
          "state": {
            "_view_name": "LayoutView",
            "grid_template_rows": null,
            "right": null,
            "justify_content": null,
            "_view_module": "@jupyter-widgets/base",
            "overflow": null,
            "_model_module_version": "1.2.0",
            "_view_count": null,
            "flex_flow": null,
            "width": null,
            "min_width": null,
            "border": null,
            "align_items": null,
            "bottom": null,
            "_model_module": "@jupyter-widgets/base",
            "top": null,
            "grid_column": null,
            "overflow_y": null,
            "overflow_x": null,
            "grid_auto_flow": null,
            "grid_area": null,
            "grid_template_columns": null,
            "flex": null,
            "_model_name": "LayoutModel",
            "justify_items": null,
            "grid_row": null,
            "max_height": null,
            "align_content": null,
            "visibility": null,
            "align_self": null,
            "height": null,
            "min_height": null,
            "padding": null,
            "grid_auto_rows": null,
            "grid_gap": null,
            "max_width": null,
            "order": null,
            "_view_module_version": "1.2.0",
            "grid_template_areas": null,
            "object_position": null,
            "object_fit": null,
            "grid_auto_columns": null,
            "margin": null,
            "display": null,
            "left": null
          }
        },
        "8f387ac6b3a14579880d337922028816": {
          "model_module": "@jupyter-widgets/controls",
          "model_name": "DescriptionStyleModel",
          "state": {
            "_view_name": "StyleView",
            "_model_name": "DescriptionStyleModel",
            "description_width": "",
            "_view_module": "@jupyter-widgets/base",
            "_model_module_version": "1.5.0",
            "_view_count": null,
            "_view_module_version": "1.2.0",
            "_model_module": "@jupyter-widgets/controls"
          }
        },
        "791f86cd79d548a798f6cdd74338fe0e": {
          "model_module": "@jupyter-widgets/base",
          "model_name": "LayoutModel",
          "state": {
            "_view_name": "LayoutView",
            "grid_template_rows": null,
            "right": null,
            "justify_content": null,
            "_view_module": "@jupyter-widgets/base",
            "overflow": null,
            "_model_module_version": "1.2.0",
            "_view_count": null,
            "flex_flow": null,
            "width": null,
            "min_width": null,
            "border": null,
            "align_items": null,
            "bottom": null,
            "_model_module": "@jupyter-widgets/base",
            "top": null,
            "grid_column": null,
            "overflow_y": null,
            "overflow_x": null,
            "grid_auto_flow": null,
            "grid_area": null,
            "grid_template_columns": null,
            "flex": null,
            "_model_name": "LayoutModel",
            "justify_items": null,
            "grid_row": null,
            "max_height": null,
            "align_content": null,
            "visibility": null,
            "align_self": null,
            "height": null,
            "min_height": null,
            "padding": null,
            "grid_auto_rows": null,
            "grid_gap": null,
            "max_width": null,
            "order": null,
            "_view_module_version": "1.2.0",
            "grid_template_areas": null,
            "object_position": null,
            "object_fit": null,
            "grid_auto_columns": null,
            "margin": null,
            "display": null,
            "left": null
          }
        },
        "ad6a7197b1a5444cbce9e64926ac5fd1": {
          "model_module": "@jupyter-widgets/controls",
          "model_name": "HBoxModel",
          "state": {
            "_view_name": "HBoxView",
            "_dom_classes": [],
            "_model_name": "HBoxModel",
            "_view_module": "@jupyter-widgets/controls",
            "_model_module_version": "1.5.0",
            "_view_count": null,
            "_view_module_version": "1.5.0",
            "box_style": "",
            "layout": "IPY_MODEL_a4cc4696d6c24fd197656a996cba7bb4",
            "_model_module": "@jupyter-widgets/controls",
            "children": [
              "IPY_MODEL_85fdc9814c1c427cb64f4deb04e338ad",
              "IPY_MODEL_5650be85a8e041148ca56b4308d17129"
            ]
          }
        },
        "a4cc4696d6c24fd197656a996cba7bb4": {
          "model_module": "@jupyter-widgets/base",
          "model_name": "LayoutModel",
          "state": {
            "_view_name": "LayoutView",
            "grid_template_rows": null,
            "right": null,
            "justify_content": null,
            "_view_module": "@jupyter-widgets/base",
            "overflow": null,
            "_model_module_version": "1.2.0",
            "_view_count": null,
            "flex_flow": null,
            "width": null,
            "min_width": null,
            "border": null,
            "align_items": null,
            "bottom": null,
            "_model_module": "@jupyter-widgets/base",
            "top": null,
            "grid_column": null,
            "overflow_y": null,
            "overflow_x": null,
            "grid_auto_flow": null,
            "grid_area": null,
            "grid_template_columns": null,
            "flex": null,
            "_model_name": "LayoutModel",
            "justify_items": null,
            "grid_row": null,
            "max_height": null,
            "align_content": null,
            "visibility": null,
            "align_self": null,
            "height": null,
            "min_height": null,
            "padding": null,
            "grid_auto_rows": null,
            "grid_gap": null,
            "max_width": null,
            "order": null,
            "_view_module_version": "1.2.0",
            "grid_template_areas": null,
            "object_position": null,
            "object_fit": null,
            "grid_auto_columns": null,
            "margin": null,
            "display": null,
            "left": null
          }
        },
        "85fdc9814c1c427cb64f4deb04e338ad": {
          "model_module": "@jupyter-widgets/controls",
          "model_name": "FloatProgressModel",
          "state": {
            "_view_name": "ProgressView",
            "style": "IPY_MODEL_b5c6230d8f8d44b69e0a1d656a00cecc",
            "_dom_classes": [],
            "description": "Downloading: 100%",
            "_model_name": "FloatProgressModel",
            "bar_style": "success",
            "max": 435797,
            "_view_module": "@jupyter-widgets/controls",
            "_model_module_version": "1.5.0",
            "value": 435797,
            "_view_count": null,
            "_view_module_version": "1.5.0",
            "orientation": "horizontal",
            "min": 0,
            "description_tooltip": null,
            "_model_module": "@jupyter-widgets/controls",
            "layout": "IPY_MODEL_64df7c930e574d7893aebe69342a532b"
          }
        },
        "5650be85a8e041148ca56b4308d17129": {
          "model_module": "@jupyter-widgets/controls",
          "model_name": "HTMLModel",
          "state": {
            "_view_name": "HTMLView",
            "style": "IPY_MODEL_7e6c4fef31bb4e078157932b604d46cd",
            "_dom_classes": [],
            "description": "",
            "_model_name": "HTMLModel",
            "placeholder": "​",
            "_view_module": "@jupyter-widgets/controls",
            "_model_module_version": "1.5.0",
            "value": " 436k/436k [00:00&lt;00:00, 4.91MB/s]",
            "_view_count": null,
            "_view_module_version": "1.5.0",
            "description_tooltip": null,
            "_model_module": "@jupyter-widgets/controls",
            "layout": "IPY_MODEL_15e7102477f64fa6af0e7cc81c293d51"
          }
        },
        "b5c6230d8f8d44b69e0a1d656a00cecc": {
          "model_module": "@jupyter-widgets/controls",
          "model_name": "ProgressStyleModel",
          "state": {
            "_view_name": "StyleView",
            "_model_name": "ProgressStyleModel",
            "description_width": "initial",
            "_view_module": "@jupyter-widgets/base",
            "_model_module_version": "1.5.0",
            "_view_count": null,
            "_view_module_version": "1.2.0",
            "bar_color": null,
            "_model_module": "@jupyter-widgets/controls"
          }
        },
        "64df7c930e574d7893aebe69342a532b": {
          "model_module": "@jupyter-widgets/base",
          "model_name": "LayoutModel",
          "state": {
            "_view_name": "LayoutView",
            "grid_template_rows": null,
            "right": null,
            "justify_content": null,
            "_view_module": "@jupyter-widgets/base",
            "overflow": null,
            "_model_module_version": "1.2.0",
            "_view_count": null,
            "flex_flow": null,
            "width": null,
            "min_width": null,
            "border": null,
            "align_items": null,
            "bottom": null,
            "_model_module": "@jupyter-widgets/base",
            "top": null,
            "grid_column": null,
            "overflow_y": null,
            "overflow_x": null,
            "grid_auto_flow": null,
            "grid_area": null,
            "grid_template_columns": null,
            "flex": null,
            "_model_name": "LayoutModel",
            "justify_items": null,
            "grid_row": null,
            "max_height": null,
            "align_content": null,
            "visibility": null,
            "align_self": null,
            "height": null,
            "min_height": null,
            "padding": null,
            "grid_auto_rows": null,
            "grid_gap": null,
            "max_width": null,
            "order": null,
            "_view_module_version": "1.2.0",
            "grid_template_areas": null,
            "object_position": null,
            "object_fit": null,
            "grid_auto_columns": null,
            "margin": null,
            "display": null,
            "left": null
          }
        },
        "7e6c4fef31bb4e078157932b604d46cd": {
          "model_module": "@jupyter-widgets/controls",
          "model_name": "DescriptionStyleModel",
          "state": {
            "_view_name": "StyleView",
            "_model_name": "DescriptionStyleModel",
            "description_width": "",
            "_view_module": "@jupyter-widgets/base",
            "_model_module_version": "1.5.0",
            "_view_count": null,
            "_view_module_version": "1.2.0",
            "_model_module": "@jupyter-widgets/controls"
          }
        },
        "15e7102477f64fa6af0e7cc81c293d51": {
          "model_module": "@jupyter-widgets/base",
          "model_name": "LayoutModel",
          "state": {
            "_view_name": "LayoutView",
            "grid_template_rows": null,
            "right": null,
            "justify_content": null,
            "_view_module": "@jupyter-widgets/base",
            "overflow": null,
            "_model_module_version": "1.2.0",
            "_view_count": null,
            "flex_flow": null,
            "width": null,
            "min_width": null,
            "border": null,
            "align_items": null,
            "bottom": null,
            "_model_module": "@jupyter-widgets/base",
            "top": null,
            "grid_column": null,
            "overflow_y": null,
            "overflow_x": null,
            "grid_auto_flow": null,
            "grid_area": null,
            "grid_template_columns": null,
            "flex": null,
            "_model_name": "LayoutModel",
            "justify_items": null,
            "grid_row": null,
            "max_height": null,
            "align_content": null,
            "visibility": null,
            "align_self": null,
            "height": null,
            "min_height": null,
            "padding": null,
            "grid_auto_rows": null,
            "grid_gap": null,
            "max_width": null,
            "order": null,
            "_view_module_version": "1.2.0",
            "grid_template_areas": null,
            "object_position": null,
            "object_fit": null,
            "grid_auto_columns": null,
            "margin": null,
            "display": null,
            "left": null
          }
        },
        "60387db64b2f4a318c2c6f318af6f2d2": {
          "model_module": "@jupyter-widgets/controls",
          "model_name": "HBoxModel",
          "state": {
            "_view_name": "HBoxView",
            "_dom_classes": [],
            "_model_name": "HBoxModel",
            "_view_module": "@jupyter-widgets/controls",
            "_model_module_version": "1.5.0",
            "_view_count": null,
            "_view_module_version": "1.5.0",
            "box_style": "",
            "layout": "IPY_MODEL_cb61c5f717574615bf484fef006013b1",
            "_model_module": "@jupyter-widgets/controls",
            "children": [
              "IPY_MODEL_3166adb012ff4a139e8dcb39f67dec18",
              "IPY_MODEL_d9e37f8efa3e481e8ae50858015764c6"
            ]
          }
        },
        "cb61c5f717574615bf484fef006013b1": {
          "model_module": "@jupyter-widgets/base",
          "model_name": "LayoutModel",
          "state": {
            "_view_name": "LayoutView",
            "grid_template_rows": null,
            "right": null,
            "justify_content": null,
            "_view_module": "@jupyter-widgets/base",
            "overflow": null,
            "_model_module_version": "1.2.0",
            "_view_count": null,
            "flex_flow": null,
            "width": null,
            "min_width": null,
            "border": null,
            "align_items": null,
            "bottom": null,
            "_model_module": "@jupyter-widgets/base",
            "top": null,
            "grid_column": null,
            "overflow_y": null,
            "overflow_x": null,
            "grid_auto_flow": null,
            "grid_area": null,
            "grid_template_columns": null,
            "flex": null,
            "_model_name": "LayoutModel",
            "justify_items": null,
            "grid_row": null,
            "max_height": null,
            "align_content": null,
            "visibility": null,
            "align_self": null,
            "height": null,
            "min_height": null,
            "padding": null,
            "grid_auto_rows": null,
            "grid_gap": null,
            "max_width": null,
            "order": null,
            "_view_module_version": "1.2.0",
            "grid_template_areas": null,
            "object_position": null,
            "object_fit": null,
            "grid_auto_columns": null,
            "margin": null,
            "display": null,
            "left": null
          }
        },
        "3166adb012ff4a139e8dcb39f67dec18": {
          "model_module": "@jupyter-widgets/controls",
          "model_name": "FloatProgressModel",
          "state": {
            "_view_name": "ProgressView",
            "style": "IPY_MODEL_ead1a6d8c24a4e56b659483231e5171f",
            "_dom_classes": [],
            "description": "Downloading: 100%",
            "_model_name": "FloatProgressModel",
            "bar_style": "success",
            "max": 570,
            "_view_module": "@jupyter-widgets/controls",
            "_model_module_version": "1.5.0",
            "value": 570,
            "_view_count": null,
            "_view_module_version": "1.5.0",
            "orientation": "horizontal",
            "min": 0,
            "description_tooltip": null,
            "_model_module": "@jupyter-widgets/controls",
            "layout": "IPY_MODEL_0550559a7e014eb18ebeb90a0605b8b9"
          }
        },
        "d9e37f8efa3e481e8ae50858015764c6": {
          "model_module": "@jupyter-widgets/controls",
          "model_name": "HTMLModel",
          "state": {
            "_view_name": "HTMLView",
            "style": "IPY_MODEL_1d1799b97358452b8aabc8a6779353cf",
            "_dom_classes": [],
            "description": "",
            "_model_name": "HTMLModel",
            "placeholder": "​",
            "_view_module": "@jupyter-widgets/controls",
            "_model_module_version": "1.5.0",
            "value": " 570/570 [00:00&lt;00:00, 4.95kB/s]",
            "_view_count": null,
            "_view_module_version": "1.5.0",
            "description_tooltip": null,
            "_model_module": "@jupyter-widgets/controls",
            "layout": "IPY_MODEL_420f658040194bfe8214714349f2c369"
          }
        },
        "ead1a6d8c24a4e56b659483231e5171f": {
          "model_module": "@jupyter-widgets/controls",
          "model_name": "ProgressStyleModel",
          "state": {
            "_view_name": "StyleView",
            "_model_name": "ProgressStyleModel",
            "description_width": "initial",
            "_view_module": "@jupyter-widgets/base",
            "_model_module_version": "1.5.0",
            "_view_count": null,
            "_view_module_version": "1.2.0",
            "bar_color": null,
            "_model_module": "@jupyter-widgets/controls"
          }
        },
        "0550559a7e014eb18ebeb90a0605b8b9": {
          "model_module": "@jupyter-widgets/base",
          "model_name": "LayoutModel",
          "state": {
            "_view_name": "LayoutView",
            "grid_template_rows": null,
            "right": null,
            "justify_content": null,
            "_view_module": "@jupyter-widgets/base",
            "overflow": null,
            "_model_module_version": "1.2.0",
            "_view_count": null,
            "flex_flow": null,
            "width": null,
            "min_width": null,
            "border": null,
            "align_items": null,
            "bottom": null,
            "_model_module": "@jupyter-widgets/base",
            "top": null,
            "grid_column": null,
            "overflow_y": null,
            "overflow_x": null,
            "grid_auto_flow": null,
            "grid_area": null,
            "grid_template_columns": null,
            "flex": null,
            "_model_name": "LayoutModel",
            "justify_items": null,
            "grid_row": null,
            "max_height": null,
            "align_content": null,
            "visibility": null,
            "align_self": null,
            "height": null,
            "min_height": null,
            "padding": null,
            "grid_auto_rows": null,
            "grid_gap": null,
            "max_width": null,
            "order": null,
            "_view_module_version": "1.2.0",
            "grid_template_areas": null,
            "object_position": null,
            "object_fit": null,
            "grid_auto_columns": null,
            "margin": null,
            "display": null,
            "left": null
          }
        },
        "1d1799b97358452b8aabc8a6779353cf": {
          "model_module": "@jupyter-widgets/controls",
          "model_name": "DescriptionStyleModel",
          "state": {
            "_view_name": "StyleView",
            "_model_name": "DescriptionStyleModel",
            "description_width": "",
            "_view_module": "@jupyter-widgets/base",
            "_model_module_version": "1.5.0",
            "_view_count": null,
            "_view_module_version": "1.2.0",
            "_model_module": "@jupyter-widgets/controls"
          }
        },
        "420f658040194bfe8214714349f2c369": {
          "model_module": "@jupyter-widgets/base",
          "model_name": "LayoutModel",
          "state": {
            "_view_name": "LayoutView",
            "grid_template_rows": null,
            "right": null,
            "justify_content": null,
            "_view_module": "@jupyter-widgets/base",
            "overflow": null,
            "_model_module_version": "1.2.0",
            "_view_count": null,
            "flex_flow": null,
            "width": null,
            "min_width": null,
            "border": null,
            "align_items": null,
            "bottom": null,
            "_model_module": "@jupyter-widgets/base",
            "top": null,
            "grid_column": null,
            "overflow_y": null,
            "overflow_x": null,
            "grid_auto_flow": null,
            "grid_area": null,
            "grid_template_columns": null,
            "flex": null,
            "_model_name": "LayoutModel",
            "justify_items": null,
            "grid_row": null,
            "max_height": null,
            "align_content": null,
            "visibility": null,
            "align_self": null,
            "height": null,
            "min_height": null,
            "padding": null,
            "grid_auto_rows": null,
            "grid_gap": null,
            "max_width": null,
            "order": null,
            "_view_module_version": "1.2.0",
            "grid_template_areas": null,
            "object_position": null,
            "object_fit": null,
            "grid_auto_columns": null,
            "margin": null,
            "display": null,
            "left": null
          }
        },
        "abc493b294d44cc2b323b480da3f6f13": {
          "model_module": "@jupyter-widgets/controls",
          "model_name": "HBoxModel",
          "state": {
            "_view_name": "HBoxView",
            "_dom_classes": [],
            "_model_name": "HBoxModel",
            "_view_module": "@jupyter-widgets/controls",
            "_model_module_version": "1.5.0",
            "_view_count": null,
            "_view_module_version": "1.5.0",
            "box_style": "",
            "layout": "IPY_MODEL_9935ae36850f4044b219aa5875d19f10",
            "_model_module": "@jupyter-widgets/controls",
            "children": [
              "IPY_MODEL_b2c4adaa1edf40228c44f6eec8bdf1fb",
              "IPY_MODEL_b9c2b9c39db5485bb1d3b5546a6abb11"
            ]
          }
        },
        "9935ae36850f4044b219aa5875d19f10": {
          "model_module": "@jupyter-widgets/base",
          "model_name": "LayoutModel",
          "state": {
            "_view_name": "LayoutView",
            "grid_template_rows": null,
            "right": null,
            "justify_content": null,
            "_view_module": "@jupyter-widgets/base",
            "overflow": null,
            "_model_module_version": "1.2.0",
            "_view_count": null,
            "flex_flow": null,
            "width": null,
            "min_width": null,
            "border": null,
            "align_items": null,
            "bottom": null,
            "_model_module": "@jupyter-widgets/base",
            "top": null,
            "grid_column": null,
            "overflow_y": null,
            "overflow_x": null,
            "grid_auto_flow": null,
            "grid_area": null,
            "grid_template_columns": null,
            "flex": null,
            "_model_name": "LayoutModel",
            "justify_items": null,
            "grid_row": null,
            "max_height": null,
            "align_content": null,
            "visibility": null,
            "align_self": null,
            "height": null,
            "min_height": null,
            "padding": null,
            "grid_auto_rows": null,
            "grid_gap": null,
            "max_width": null,
            "order": null,
            "_view_module_version": "1.2.0",
            "grid_template_areas": null,
            "object_position": null,
            "object_fit": null,
            "grid_auto_columns": null,
            "margin": null,
            "display": null,
            "left": null
          }
        },
        "b2c4adaa1edf40228c44f6eec8bdf1fb": {
          "model_module": "@jupyter-widgets/controls",
          "model_name": "FloatProgressModel",
          "state": {
            "_view_name": "ProgressView",
            "style": "IPY_MODEL_6d41f47fe5f64324ad9b582e530d79fc",
            "_dom_classes": [],
            "description": "Downloading: 100%",
            "_model_name": "FloatProgressModel",
            "bar_style": "success",
            "max": 435779157,
            "_view_module": "@jupyter-widgets/controls",
            "_model_module_version": "1.5.0",
            "value": 435779157,
            "_view_count": null,
            "_view_module_version": "1.5.0",
            "orientation": "horizontal",
            "min": 0,
            "description_tooltip": null,
            "_model_module": "@jupyter-widgets/controls",
            "layout": "IPY_MODEL_2f5c04b45435401d844cfa09208e5894"
          }
        },
        "b9c2b9c39db5485bb1d3b5546a6abb11": {
          "model_module": "@jupyter-widgets/controls",
          "model_name": "HTMLModel",
          "state": {
            "_view_name": "HTMLView",
            "style": "IPY_MODEL_bf7ba452579748548567f15fa4927864",
            "_dom_classes": [],
            "description": "",
            "_model_name": "HTMLModel",
            "placeholder": "​",
            "_view_module": "@jupyter-widgets/controls",
            "_model_module_version": "1.5.0",
            "value": " 436M/436M [00:10&lt;00:00, 40.1MB/s]",
            "_view_count": null,
            "_view_module_version": "1.5.0",
            "description_tooltip": null,
            "_model_module": "@jupyter-widgets/controls",
            "layout": "IPY_MODEL_15c0b28940224a10a43052a46058a32e"
          }
        },
        "6d41f47fe5f64324ad9b582e530d79fc": {
          "model_module": "@jupyter-widgets/controls",
          "model_name": "ProgressStyleModel",
          "state": {
            "_view_name": "StyleView",
            "_model_name": "ProgressStyleModel",
            "description_width": "initial",
            "_view_module": "@jupyter-widgets/base",
            "_model_module_version": "1.5.0",
            "_view_count": null,
            "_view_module_version": "1.2.0",
            "bar_color": null,
            "_model_module": "@jupyter-widgets/controls"
          }
        },
        "2f5c04b45435401d844cfa09208e5894": {
          "model_module": "@jupyter-widgets/base",
          "model_name": "LayoutModel",
          "state": {
            "_view_name": "LayoutView",
            "grid_template_rows": null,
            "right": null,
            "justify_content": null,
            "_view_module": "@jupyter-widgets/base",
            "overflow": null,
            "_model_module_version": "1.2.0",
            "_view_count": null,
            "flex_flow": null,
            "width": null,
            "min_width": null,
            "border": null,
            "align_items": null,
            "bottom": null,
            "_model_module": "@jupyter-widgets/base",
            "top": null,
            "grid_column": null,
            "overflow_y": null,
            "overflow_x": null,
            "grid_auto_flow": null,
            "grid_area": null,
            "grid_template_columns": null,
            "flex": null,
            "_model_name": "LayoutModel",
            "justify_items": null,
            "grid_row": null,
            "max_height": null,
            "align_content": null,
            "visibility": null,
            "align_self": null,
            "height": null,
            "min_height": null,
            "padding": null,
            "grid_auto_rows": null,
            "grid_gap": null,
            "max_width": null,
            "order": null,
            "_view_module_version": "1.2.0",
            "grid_template_areas": null,
            "object_position": null,
            "object_fit": null,
            "grid_auto_columns": null,
            "margin": null,
            "display": null,
            "left": null
          }
        },
        "bf7ba452579748548567f15fa4927864": {
          "model_module": "@jupyter-widgets/controls",
          "model_name": "DescriptionStyleModel",
          "state": {
            "_view_name": "StyleView",
            "_model_name": "DescriptionStyleModel",
            "description_width": "",
            "_view_module": "@jupyter-widgets/base",
            "_model_module_version": "1.5.0",
            "_view_count": null,
            "_view_module_version": "1.2.0",
            "_model_module": "@jupyter-widgets/controls"
          }
        },
        "15c0b28940224a10a43052a46058a32e": {
          "model_module": "@jupyter-widgets/base",
          "model_name": "LayoutModel",
          "state": {
            "_view_name": "LayoutView",
            "grid_template_rows": null,
            "right": null,
            "justify_content": null,
            "_view_module": "@jupyter-widgets/base",
            "overflow": null,
            "_model_module_version": "1.2.0",
            "_view_count": null,
            "flex_flow": null,
            "width": null,
            "min_width": null,
            "border": null,
            "align_items": null,
            "bottom": null,
            "_model_module": "@jupyter-widgets/base",
            "top": null,
            "grid_column": null,
            "overflow_y": null,
            "overflow_x": null,
            "grid_auto_flow": null,
            "grid_area": null,
            "grid_template_columns": null,
            "flex": null,
            "_model_name": "LayoutModel",
            "justify_items": null,
            "grid_row": null,
            "max_height": null,
            "align_content": null,
            "visibility": null,
            "align_self": null,
            "height": null,
            "min_height": null,
            "padding": null,
            "grid_auto_rows": null,
            "grid_gap": null,
            "max_width": null,
            "order": null,
            "_view_module_version": "1.2.0",
            "grid_template_areas": null,
            "object_position": null,
            "object_fit": null,
            "grid_auto_columns": null,
            "margin": null,
            "display": null,
            "left": null
          }
        },
        "d59f53b8693a4c3cb94404c48cdc6a49": {
          "model_module": "@jupyter-widgets/controls",
          "model_name": "HBoxModel",
          "state": {
            "_view_name": "HBoxView",
            "_dom_classes": [],
            "_model_name": "HBoxModel",
            "_view_module": "@jupyter-widgets/controls",
            "_model_module_version": "1.5.0",
            "_view_count": null,
            "_view_module_version": "1.5.0",
            "box_style": "",
            "layout": "IPY_MODEL_5f6d293eca58471dbbd352c916f77eab",
            "_model_module": "@jupyter-widgets/controls",
            "children": [
              "IPY_MODEL_04846fa754104eb29a0fcc2faf3fb5a3",
              "IPY_MODEL_e5515432cd67415480c5e8a639856b41"
            ]
          }
        },
        "5f6d293eca58471dbbd352c916f77eab": {
          "model_module": "@jupyter-widgets/base",
          "model_name": "LayoutModel",
          "state": {
            "_view_name": "LayoutView",
            "grid_template_rows": null,
            "right": null,
            "justify_content": null,
            "_view_module": "@jupyter-widgets/base",
            "overflow": null,
            "_model_module_version": "1.2.0",
            "_view_count": null,
            "flex_flow": null,
            "width": null,
            "min_width": null,
            "border": null,
            "align_items": null,
            "bottom": null,
            "_model_module": "@jupyter-widgets/base",
            "top": null,
            "grid_column": null,
            "overflow_y": null,
            "overflow_x": null,
            "grid_auto_flow": null,
            "grid_area": null,
            "grid_template_columns": null,
            "flex": null,
            "_model_name": "LayoutModel",
            "justify_items": null,
            "grid_row": null,
            "max_height": null,
            "align_content": null,
            "visibility": null,
            "align_self": null,
            "height": null,
            "min_height": null,
            "padding": null,
            "grid_auto_rows": null,
            "grid_gap": null,
            "max_width": null,
            "order": null,
            "_view_module_version": "1.2.0",
            "grid_template_areas": null,
            "object_position": null,
            "object_fit": null,
            "grid_auto_columns": null,
            "margin": null,
            "display": null,
            "left": null
          }
        },
        "04846fa754104eb29a0fcc2faf3fb5a3": {
          "model_module": "@jupyter-widgets/controls",
          "model_name": "FloatProgressModel",
          "state": {
            "_view_name": "ProgressView",
            "style": "IPY_MODEL_e51dd0d0f4024360938e8813fb7933f3",
            "_dom_classes": [],
            "description": "100%",
            "_model_name": "FloatProgressModel",
            "bar_style": "success",
            "max": 5,
            "_view_module": "@jupyter-widgets/controls",
            "_model_module_version": "1.5.0",
            "value": 5,
            "_view_count": null,
            "_view_module_version": "1.5.0",
            "orientation": "horizontal",
            "min": 0,
            "description_tooltip": null,
            "_model_module": "@jupyter-widgets/controls",
            "layout": "IPY_MODEL_299fa561d2c14b35a1875b88487abe5d"
          }
        },
        "e5515432cd67415480c5e8a639856b41": {
          "model_module": "@jupyter-widgets/controls",
          "model_name": "HTMLModel",
          "state": {
            "_view_name": "HTMLView",
            "style": "IPY_MODEL_a846098349aa4b9c852805b99cd1c719",
            "_dom_classes": [],
            "description": "",
            "_model_name": "HTMLModel",
            "placeholder": "​",
            "_view_module": "@jupyter-widgets/controls",
            "_model_module_version": "1.5.0",
            "value": " 5/5 [35:06&lt;00:00, 421.25s/it]",
            "_view_count": null,
            "_view_module_version": "1.5.0",
            "description_tooltip": null,
            "_model_module": "@jupyter-widgets/controls",
            "layout": "IPY_MODEL_b3ca5d3bd1a2479d995fa4874b4e242b"
          }
        },
        "e51dd0d0f4024360938e8813fb7933f3": {
          "model_module": "@jupyter-widgets/controls",
          "model_name": "ProgressStyleModel",
          "state": {
            "_view_name": "StyleView",
            "_model_name": "ProgressStyleModel",
            "description_width": "initial",
            "_view_module": "@jupyter-widgets/base",
            "_model_module_version": "1.5.0",
            "_view_count": null,
            "_view_module_version": "1.2.0",
            "bar_color": null,
            "_model_module": "@jupyter-widgets/controls"
          }
        },
        "299fa561d2c14b35a1875b88487abe5d": {
          "model_module": "@jupyter-widgets/base",
          "model_name": "LayoutModel",
          "state": {
            "_view_name": "LayoutView",
            "grid_template_rows": null,
            "right": null,
            "justify_content": null,
            "_view_module": "@jupyter-widgets/base",
            "overflow": null,
            "_model_module_version": "1.2.0",
            "_view_count": null,
            "flex_flow": null,
            "width": null,
            "min_width": null,
            "border": null,
            "align_items": null,
            "bottom": null,
            "_model_module": "@jupyter-widgets/base",
            "top": null,
            "grid_column": null,
            "overflow_y": null,
            "overflow_x": null,
            "grid_auto_flow": null,
            "grid_area": null,
            "grid_template_columns": null,
            "flex": null,
            "_model_name": "LayoutModel",
            "justify_items": null,
            "grid_row": null,
            "max_height": null,
            "align_content": null,
            "visibility": null,
            "align_self": null,
            "height": null,
            "min_height": null,
            "padding": null,
            "grid_auto_rows": null,
            "grid_gap": null,
            "max_width": null,
            "order": null,
            "_view_module_version": "1.2.0",
            "grid_template_areas": null,
            "object_position": null,
            "object_fit": null,
            "grid_auto_columns": null,
            "margin": null,
            "display": null,
            "left": null
          }
        },
        "a846098349aa4b9c852805b99cd1c719": {
          "model_module": "@jupyter-widgets/controls",
          "model_name": "DescriptionStyleModel",
          "state": {
            "_view_name": "StyleView",
            "_model_name": "DescriptionStyleModel",
            "description_width": "",
            "_view_module": "@jupyter-widgets/base",
            "_model_module_version": "1.5.0",
            "_view_count": null,
            "_view_module_version": "1.2.0",
            "_model_module": "@jupyter-widgets/controls"
          }
        },
        "b3ca5d3bd1a2479d995fa4874b4e242b": {
          "model_module": "@jupyter-widgets/base",
          "model_name": "LayoutModel",
          "state": {
            "_view_name": "LayoutView",
            "grid_template_rows": null,
            "right": null,
            "justify_content": null,
            "_view_module": "@jupyter-widgets/base",
            "overflow": null,
            "_model_module_version": "1.2.0",
            "_view_count": null,
            "flex_flow": null,
            "width": null,
            "min_width": null,
            "border": null,
            "align_items": null,
            "bottom": null,
            "_model_module": "@jupyter-widgets/base",
            "top": null,
            "grid_column": null,
            "overflow_y": null,
            "overflow_x": null,
            "grid_auto_flow": null,
            "grid_area": null,
            "grid_template_columns": null,
            "flex": null,
            "_model_name": "LayoutModel",
            "justify_items": null,
            "grid_row": null,
            "max_height": null,
            "align_content": null,
            "visibility": null,
            "align_self": null,
            "height": null,
            "min_height": null,
            "padding": null,
            "grid_auto_rows": null,
            "grid_gap": null,
            "max_width": null,
            "order": null,
            "_view_module_version": "1.2.0",
            "grid_template_areas": null,
            "object_position": null,
            "object_fit": null,
            "grid_auto_columns": null,
            "margin": null,
            "display": null,
            "left": null
          }
        },
        "0615bc1bb2254ff987799b703c1af623": {
          "model_module": "@jupyter-widgets/controls",
          "model_name": "HBoxModel",
          "state": {
            "_view_name": "HBoxView",
            "_dom_classes": [],
            "_model_name": "HBoxModel",
            "_view_module": "@jupyter-widgets/controls",
            "_model_module_version": "1.5.0",
            "_view_count": null,
            "_view_module_version": "1.5.0",
            "box_style": "",
            "layout": "IPY_MODEL_c345cd1c710b4f638be13bc32769fc6f",
            "_model_module": "@jupyter-widgets/controls",
            "children": [
              "IPY_MODEL_3dade0dc7b3b44d9b76ab09c12b6f08c",
              "IPY_MODEL_367c61c72f0f442cbe8356016c13a6dd"
            ]
          }
        },
        "c345cd1c710b4f638be13bc32769fc6f": {
          "model_module": "@jupyter-widgets/base",
          "model_name": "LayoutModel",
          "state": {
            "_view_name": "LayoutView",
            "grid_template_rows": null,
            "right": null,
            "justify_content": null,
            "_view_module": "@jupyter-widgets/base",
            "overflow": null,
            "_model_module_version": "1.2.0",
            "_view_count": null,
            "flex_flow": null,
            "width": null,
            "min_width": null,
            "border": null,
            "align_items": null,
            "bottom": null,
            "_model_module": "@jupyter-widgets/base",
            "top": null,
            "grid_column": null,
            "overflow_y": null,
            "overflow_x": null,
            "grid_auto_flow": null,
            "grid_area": null,
            "grid_template_columns": null,
            "flex": null,
            "_model_name": "LayoutModel",
            "justify_items": null,
            "grid_row": null,
            "max_height": null,
            "align_content": null,
            "visibility": null,
            "align_self": null,
            "height": null,
            "min_height": null,
            "padding": null,
            "grid_auto_rows": null,
            "grid_gap": null,
            "max_width": null,
            "order": null,
            "_view_module_version": "1.2.0",
            "grid_template_areas": null,
            "object_position": null,
            "object_fit": null,
            "grid_auto_columns": null,
            "margin": null,
            "display": null,
            "left": null
          }
        },
        "3dade0dc7b3b44d9b76ab09c12b6f08c": {
          "model_module": "@jupyter-widgets/controls",
          "model_name": "FloatProgressModel",
          "state": {
            "_view_name": "ProgressView",
            "style": "IPY_MODEL_1e745acec7a14e6f83921e224c807520",
            "_dom_classes": [],
            "description": "Epoch 1: 100%",
            "_model_name": "FloatProgressModel",
            "bar_style": "",
            "max": 1222,
            "_view_module": "@jupyter-widgets/controls",
            "_model_module_version": "1.5.0",
            "value": 1222,
            "_view_count": null,
            "_view_module_version": "1.5.0",
            "orientation": "horizontal",
            "min": 0,
            "description_tooltip": null,
            "_model_module": "@jupyter-widgets/controls",
            "layout": "IPY_MODEL_286cb33dc75a469baa783cce36081bbb"
          }
        },
        "367c61c72f0f442cbe8356016c13a6dd": {
          "model_module": "@jupyter-widgets/controls",
          "model_name": "HTMLModel",
          "state": {
            "_view_name": "HTMLView",
            "style": "IPY_MODEL_f4576281bdcd4091876187b0a2722500",
            "_dom_classes": [],
            "description": "",
            "_model_name": "HTMLModel",
            "placeholder": "​",
            "_view_module": "@jupyter-widgets/controls",
            "_model_module_version": "1.5.0",
            "value": " 1222/1222 [04:48&lt;00:00,  4.20it/s, training_loss=0.257]",
            "_view_count": null,
            "_view_module_version": "1.5.0",
            "description_tooltip": null,
            "_model_module": "@jupyter-widgets/controls",
            "layout": "IPY_MODEL_97aef4c6ee064604a1474f935f0a91d8"
          }
        },
        "1e745acec7a14e6f83921e224c807520": {
          "model_module": "@jupyter-widgets/controls",
          "model_name": "ProgressStyleModel",
          "state": {
            "_view_name": "StyleView",
            "_model_name": "ProgressStyleModel",
            "description_width": "initial",
            "_view_module": "@jupyter-widgets/base",
            "_model_module_version": "1.5.0",
            "_view_count": null,
            "_view_module_version": "1.2.0",
            "bar_color": null,
            "_model_module": "@jupyter-widgets/controls"
          }
        },
        "286cb33dc75a469baa783cce36081bbb": {
          "model_module": "@jupyter-widgets/base",
          "model_name": "LayoutModel",
          "state": {
            "_view_name": "LayoutView",
            "grid_template_rows": null,
            "right": null,
            "justify_content": null,
            "_view_module": "@jupyter-widgets/base",
            "overflow": null,
            "_model_module_version": "1.2.0",
            "_view_count": null,
            "flex_flow": null,
            "width": null,
            "min_width": null,
            "border": null,
            "align_items": null,
            "bottom": null,
            "_model_module": "@jupyter-widgets/base",
            "top": null,
            "grid_column": null,
            "overflow_y": null,
            "overflow_x": null,
            "grid_auto_flow": null,
            "grid_area": null,
            "grid_template_columns": null,
            "flex": null,
            "_model_name": "LayoutModel",
            "justify_items": null,
            "grid_row": null,
            "max_height": null,
            "align_content": null,
            "visibility": null,
            "align_self": null,
            "height": null,
            "min_height": null,
            "padding": null,
            "grid_auto_rows": null,
            "grid_gap": null,
            "max_width": null,
            "order": null,
            "_view_module_version": "1.2.0",
            "grid_template_areas": null,
            "object_position": null,
            "object_fit": null,
            "grid_auto_columns": null,
            "margin": null,
            "display": null,
            "left": null
          }
        },
        "f4576281bdcd4091876187b0a2722500": {
          "model_module": "@jupyter-widgets/controls",
          "model_name": "DescriptionStyleModel",
          "state": {
            "_view_name": "StyleView",
            "_model_name": "DescriptionStyleModel",
            "description_width": "",
            "_view_module": "@jupyter-widgets/base",
            "_model_module_version": "1.5.0",
            "_view_count": null,
            "_view_module_version": "1.2.0",
            "_model_module": "@jupyter-widgets/controls"
          }
        },
        "97aef4c6ee064604a1474f935f0a91d8": {
          "model_module": "@jupyter-widgets/base",
          "model_name": "LayoutModel",
          "state": {
            "_view_name": "LayoutView",
            "grid_template_rows": null,
            "right": null,
            "justify_content": null,
            "_view_module": "@jupyter-widgets/base",
            "overflow": null,
            "_model_module_version": "1.2.0",
            "_view_count": null,
            "flex_flow": null,
            "width": null,
            "min_width": null,
            "border": null,
            "align_items": null,
            "bottom": null,
            "_model_module": "@jupyter-widgets/base",
            "top": null,
            "grid_column": null,
            "overflow_y": null,
            "overflow_x": null,
            "grid_auto_flow": null,
            "grid_area": null,
            "grid_template_columns": null,
            "flex": null,
            "_model_name": "LayoutModel",
            "justify_items": null,
            "grid_row": null,
            "max_height": null,
            "align_content": null,
            "visibility": null,
            "align_self": null,
            "height": null,
            "min_height": null,
            "padding": null,
            "grid_auto_rows": null,
            "grid_gap": null,
            "max_width": null,
            "order": null,
            "_view_module_version": "1.2.0",
            "grid_template_areas": null,
            "object_position": null,
            "object_fit": null,
            "grid_auto_columns": null,
            "margin": null,
            "display": null,
            "left": null
          }
        },
        "19bc9c2bdbc5421a8c5554503e62c6e7": {
          "model_module": "@jupyter-widgets/controls",
          "model_name": "HBoxModel",
          "state": {
            "_view_name": "HBoxView",
            "_dom_classes": [],
            "_model_name": "HBoxModel",
            "_view_module": "@jupyter-widgets/controls",
            "_model_module_version": "1.5.0",
            "_view_count": null,
            "_view_module_version": "1.5.0",
            "box_style": "",
            "layout": "IPY_MODEL_9c692b39e02446ea94f7fbba7a2159ca",
            "_model_module": "@jupyter-widgets/controls",
            "children": [
              "IPY_MODEL_120fda31781f4ae8b49a51d4fbaa8c59",
              "IPY_MODEL_3168beb92a3d4e5aab0dc0356ad5281a"
            ]
          }
        },
        "9c692b39e02446ea94f7fbba7a2159ca": {
          "model_module": "@jupyter-widgets/base",
          "model_name": "LayoutModel",
          "state": {
            "_view_name": "LayoutView",
            "grid_template_rows": null,
            "right": null,
            "justify_content": null,
            "_view_module": "@jupyter-widgets/base",
            "overflow": null,
            "_model_module_version": "1.2.0",
            "_view_count": null,
            "flex_flow": null,
            "width": null,
            "min_width": null,
            "border": null,
            "align_items": null,
            "bottom": null,
            "_model_module": "@jupyter-widgets/base",
            "top": null,
            "grid_column": null,
            "overflow_y": null,
            "overflow_x": null,
            "grid_auto_flow": null,
            "grid_area": null,
            "grid_template_columns": null,
            "flex": null,
            "_model_name": "LayoutModel",
            "justify_items": null,
            "grid_row": null,
            "max_height": null,
            "align_content": null,
            "visibility": null,
            "align_self": null,
            "height": null,
            "min_height": null,
            "padding": null,
            "grid_auto_rows": null,
            "grid_gap": null,
            "max_width": null,
            "order": null,
            "_view_module_version": "1.2.0",
            "grid_template_areas": null,
            "object_position": null,
            "object_fit": null,
            "grid_auto_columns": null,
            "margin": null,
            "display": null,
            "left": null
          }
        },
        "120fda31781f4ae8b49a51d4fbaa8c59": {
          "model_module": "@jupyter-widgets/controls",
          "model_name": "FloatProgressModel",
          "state": {
            "_view_name": "ProgressView",
            "style": "IPY_MODEL_045f1d99b8e347bfa9308a9c27b8eb98",
            "_dom_classes": [],
            "description": "Epoch 2: 100%",
            "_model_name": "FloatProgressModel",
            "bar_style": "",
            "max": 1222,
            "_view_module": "@jupyter-widgets/controls",
            "_model_module_version": "1.5.0",
            "value": 1222,
            "_view_count": null,
            "_view_module_version": "1.5.0",
            "orientation": "horizontal",
            "min": 0,
            "description_tooltip": null,
            "_model_module": "@jupyter-widgets/controls",
            "layout": "IPY_MODEL_7df0b78cc2744acaad5c594dceeb95be"
          }
        },
        "3168beb92a3d4e5aab0dc0356ad5281a": {
          "model_module": "@jupyter-widgets/controls",
          "model_name": "HTMLModel",
          "state": {
            "_view_name": "HTMLView",
            "style": "IPY_MODEL_53bd3209b3d949f891065b06e557ee43",
            "_dom_classes": [],
            "description": "",
            "_model_name": "HTMLModel",
            "placeholder": "​",
            "_view_module": "@jupyter-widgets/controls",
            "_model_module_version": "1.5.0",
            "value": " 1222/1222 [04:51&lt;00:00,  4.22it/s, training_loss=0.215]",
            "_view_count": null,
            "_view_module_version": "1.5.0",
            "description_tooltip": null,
            "_model_module": "@jupyter-widgets/controls",
            "layout": "IPY_MODEL_4d0cc46452c348d69a0e25fad77ca8ea"
          }
        },
        "045f1d99b8e347bfa9308a9c27b8eb98": {
          "model_module": "@jupyter-widgets/controls",
          "model_name": "ProgressStyleModel",
          "state": {
            "_view_name": "StyleView",
            "_model_name": "ProgressStyleModel",
            "description_width": "initial",
            "_view_module": "@jupyter-widgets/base",
            "_model_module_version": "1.5.0",
            "_view_count": null,
            "_view_module_version": "1.2.0",
            "bar_color": null,
            "_model_module": "@jupyter-widgets/controls"
          }
        },
        "7df0b78cc2744acaad5c594dceeb95be": {
          "model_module": "@jupyter-widgets/base",
          "model_name": "LayoutModel",
          "state": {
            "_view_name": "LayoutView",
            "grid_template_rows": null,
            "right": null,
            "justify_content": null,
            "_view_module": "@jupyter-widgets/base",
            "overflow": null,
            "_model_module_version": "1.2.0",
            "_view_count": null,
            "flex_flow": null,
            "width": null,
            "min_width": null,
            "border": null,
            "align_items": null,
            "bottom": null,
            "_model_module": "@jupyter-widgets/base",
            "top": null,
            "grid_column": null,
            "overflow_y": null,
            "overflow_x": null,
            "grid_auto_flow": null,
            "grid_area": null,
            "grid_template_columns": null,
            "flex": null,
            "_model_name": "LayoutModel",
            "justify_items": null,
            "grid_row": null,
            "max_height": null,
            "align_content": null,
            "visibility": null,
            "align_self": null,
            "height": null,
            "min_height": null,
            "padding": null,
            "grid_auto_rows": null,
            "grid_gap": null,
            "max_width": null,
            "order": null,
            "_view_module_version": "1.2.0",
            "grid_template_areas": null,
            "object_position": null,
            "object_fit": null,
            "grid_auto_columns": null,
            "margin": null,
            "display": null,
            "left": null
          }
        },
        "53bd3209b3d949f891065b06e557ee43": {
          "model_module": "@jupyter-widgets/controls",
          "model_name": "DescriptionStyleModel",
          "state": {
            "_view_name": "StyleView",
            "_model_name": "DescriptionStyleModel",
            "description_width": "",
            "_view_module": "@jupyter-widgets/base",
            "_model_module_version": "1.5.0",
            "_view_count": null,
            "_view_module_version": "1.2.0",
            "_model_module": "@jupyter-widgets/controls"
          }
        },
        "4d0cc46452c348d69a0e25fad77ca8ea": {
          "model_module": "@jupyter-widgets/base",
          "model_name": "LayoutModel",
          "state": {
            "_view_name": "LayoutView",
            "grid_template_rows": null,
            "right": null,
            "justify_content": null,
            "_view_module": "@jupyter-widgets/base",
            "overflow": null,
            "_model_module_version": "1.2.0",
            "_view_count": null,
            "flex_flow": null,
            "width": null,
            "min_width": null,
            "border": null,
            "align_items": null,
            "bottom": null,
            "_model_module": "@jupyter-widgets/base",
            "top": null,
            "grid_column": null,
            "overflow_y": null,
            "overflow_x": null,
            "grid_auto_flow": null,
            "grid_area": null,
            "grid_template_columns": null,
            "flex": null,
            "_model_name": "LayoutModel",
            "justify_items": null,
            "grid_row": null,
            "max_height": null,
            "align_content": null,
            "visibility": null,
            "align_self": null,
            "height": null,
            "min_height": null,
            "padding": null,
            "grid_auto_rows": null,
            "grid_gap": null,
            "max_width": null,
            "order": null,
            "_view_module_version": "1.2.0",
            "grid_template_areas": null,
            "object_position": null,
            "object_fit": null,
            "grid_auto_columns": null,
            "margin": null,
            "display": null,
            "left": null
          }
        },
        "bf150291a98d4461b6b5507f022b8af0": {
          "model_module": "@jupyter-widgets/controls",
          "model_name": "HBoxModel",
          "state": {
            "_view_name": "HBoxView",
            "_dom_classes": [],
            "_model_name": "HBoxModel",
            "_view_module": "@jupyter-widgets/controls",
            "_model_module_version": "1.5.0",
            "_view_count": null,
            "_view_module_version": "1.5.0",
            "box_style": "",
            "layout": "IPY_MODEL_efb945f741304b7994011548ae162a20",
            "_model_module": "@jupyter-widgets/controls",
            "children": [
              "IPY_MODEL_dfabe691283e4a70a0df801c2fa6fa12",
              "IPY_MODEL_1ae913c7cbc34ba4a95fb85c8e149483"
            ]
          }
        },
        "efb945f741304b7994011548ae162a20": {
          "model_module": "@jupyter-widgets/base",
          "model_name": "LayoutModel",
          "state": {
            "_view_name": "LayoutView",
            "grid_template_rows": null,
            "right": null,
            "justify_content": null,
            "_view_module": "@jupyter-widgets/base",
            "overflow": null,
            "_model_module_version": "1.2.0",
            "_view_count": null,
            "flex_flow": null,
            "width": null,
            "min_width": null,
            "border": null,
            "align_items": null,
            "bottom": null,
            "_model_module": "@jupyter-widgets/base",
            "top": null,
            "grid_column": null,
            "overflow_y": null,
            "overflow_x": null,
            "grid_auto_flow": null,
            "grid_area": null,
            "grid_template_columns": null,
            "flex": null,
            "_model_name": "LayoutModel",
            "justify_items": null,
            "grid_row": null,
            "max_height": null,
            "align_content": null,
            "visibility": null,
            "align_self": null,
            "height": null,
            "min_height": null,
            "padding": null,
            "grid_auto_rows": null,
            "grid_gap": null,
            "max_width": null,
            "order": null,
            "_view_module_version": "1.2.0",
            "grid_template_areas": null,
            "object_position": null,
            "object_fit": null,
            "grid_auto_columns": null,
            "margin": null,
            "display": null,
            "left": null
          }
        },
        "dfabe691283e4a70a0df801c2fa6fa12": {
          "model_module": "@jupyter-widgets/controls",
          "model_name": "FloatProgressModel",
          "state": {
            "_view_name": "ProgressView",
            "style": "IPY_MODEL_d96aaee209854c17bf7bfbe4c55bfbf7",
            "_dom_classes": [],
            "description": "Epoch 3: 100%",
            "_model_name": "FloatProgressModel",
            "bar_style": "",
            "max": 1222,
            "_view_module": "@jupyter-widgets/controls",
            "_model_module_version": "1.5.0",
            "value": 1222,
            "_view_count": null,
            "_view_module_version": "1.5.0",
            "orientation": "horizontal",
            "min": 0,
            "description_tooltip": null,
            "_model_module": "@jupyter-widgets/controls",
            "layout": "IPY_MODEL_6515fa0bc5e849c0ace0e471ed7f0156"
          }
        },
        "1ae913c7cbc34ba4a95fb85c8e149483": {
          "model_module": "@jupyter-widgets/controls",
          "model_name": "HTMLModel",
          "state": {
            "_view_name": "HTMLView",
            "style": "IPY_MODEL_7f99b4e147cb446da7bd08f074c91087",
            "_dom_classes": [],
            "description": "",
            "_model_name": "HTMLModel",
            "placeholder": "​",
            "_view_module": "@jupyter-widgets/controls",
            "_model_module_version": "1.5.0",
            "value": " 1222/1222 [04:51&lt;00:00,  4.13it/s, training_loss=0.235]",
            "_view_count": null,
            "_view_module_version": "1.5.0",
            "description_tooltip": null,
            "_model_module": "@jupyter-widgets/controls",
            "layout": "IPY_MODEL_07081e491af844ffa566e83e22ab6567"
          }
        },
        "d96aaee209854c17bf7bfbe4c55bfbf7": {
          "model_module": "@jupyter-widgets/controls",
          "model_name": "ProgressStyleModel",
          "state": {
            "_view_name": "StyleView",
            "_model_name": "ProgressStyleModel",
            "description_width": "initial",
            "_view_module": "@jupyter-widgets/base",
            "_model_module_version": "1.5.0",
            "_view_count": null,
            "_view_module_version": "1.2.0",
            "bar_color": null,
            "_model_module": "@jupyter-widgets/controls"
          }
        },
        "6515fa0bc5e849c0ace0e471ed7f0156": {
          "model_module": "@jupyter-widgets/base",
          "model_name": "LayoutModel",
          "state": {
            "_view_name": "LayoutView",
            "grid_template_rows": null,
            "right": null,
            "justify_content": null,
            "_view_module": "@jupyter-widgets/base",
            "overflow": null,
            "_model_module_version": "1.2.0",
            "_view_count": null,
            "flex_flow": null,
            "width": null,
            "min_width": null,
            "border": null,
            "align_items": null,
            "bottom": null,
            "_model_module": "@jupyter-widgets/base",
            "top": null,
            "grid_column": null,
            "overflow_y": null,
            "overflow_x": null,
            "grid_auto_flow": null,
            "grid_area": null,
            "grid_template_columns": null,
            "flex": null,
            "_model_name": "LayoutModel",
            "justify_items": null,
            "grid_row": null,
            "max_height": null,
            "align_content": null,
            "visibility": null,
            "align_self": null,
            "height": null,
            "min_height": null,
            "padding": null,
            "grid_auto_rows": null,
            "grid_gap": null,
            "max_width": null,
            "order": null,
            "_view_module_version": "1.2.0",
            "grid_template_areas": null,
            "object_position": null,
            "object_fit": null,
            "grid_auto_columns": null,
            "margin": null,
            "display": null,
            "left": null
          }
        },
        "7f99b4e147cb446da7bd08f074c91087": {
          "model_module": "@jupyter-widgets/controls",
          "model_name": "DescriptionStyleModel",
          "state": {
            "_view_name": "StyleView",
            "_model_name": "DescriptionStyleModel",
            "description_width": "",
            "_view_module": "@jupyter-widgets/base",
            "_model_module_version": "1.5.0",
            "_view_count": null,
            "_view_module_version": "1.2.0",
            "_model_module": "@jupyter-widgets/controls"
          }
        },
        "07081e491af844ffa566e83e22ab6567": {
          "model_module": "@jupyter-widgets/base",
          "model_name": "LayoutModel",
          "state": {
            "_view_name": "LayoutView",
            "grid_template_rows": null,
            "right": null,
            "justify_content": null,
            "_view_module": "@jupyter-widgets/base",
            "overflow": null,
            "_model_module_version": "1.2.0",
            "_view_count": null,
            "flex_flow": null,
            "width": null,
            "min_width": null,
            "border": null,
            "align_items": null,
            "bottom": null,
            "_model_module": "@jupyter-widgets/base",
            "top": null,
            "grid_column": null,
            "overflow_y": null,
            "overflow_x": null,
            "grid_auto_flow": null,
            "grid_area": null,
            "grid_template_columns": null,
            "flex": null,
            "_model_name": "LayoutModel",
            "justify_items": null,
            "grid_row": null,
            "max_height": null,
            "align_content": null,
            "visibility": null,
            "align_self": null,
            "height": null,
            "min_height": null,
            "padding": null,
            "grid_auto_rows": null,
            "grid_gap": null,
            "max_width": null,
            "order": null,
            "_view_module_version": "1.2.0",
            "grid_template_areas": null,
            "object_position": null,
            "object_fit": null,
            "grid_auto_columns": null,
            "margin": null,
            "display": null,
            "left": null
          }
        },
        "19a8601c0f38445ba683a3c786dd846a": {
          "model_module": "@jupyter-widgets/controls",
          "model_name": "HBoxModel",
          "state": {
            "_view_name": "HBoxView",
            "_dom_classes": [],
            "_model_name": "HBoxModel",
            "_view_module": "@jupyter-widgets/controls",
            "_model_module_version": "1.5.0",
            "_view_count": null,
            "_view_module_version": "1.5.0",
            "box_style": "",
            "layout": "IPY_MODEL_70e3db5e66814cd480d08dd84d1bf79b",
            "_model_module": "@jupyter-widgets/controls",
            "children": [
              "IPY_MODEL_bbf38eb76ebb4befb40e604c8d2a9d85",
              "IPY_MODEL_2176b71dd3954aa587052abbfaa0088d"
            ]
          }
        },
        "70e3db5e66814cd480d08dd84d1bf79b": {
          "model_module": "@jupyter-widgets/base",
          "model_name": "LayoutModel",
          "state": {
            "_view_name": "LayoutView",
            "grid_template_rows": null,
            "right": null,
            "justify_content": null,
            "_view_module": "@jupyter-widgets/base",
            "overflow": null,
            "_model_module_version": "1.2.0",
            "_view_count": null,
            "flex_flow": null,
            "width": null,
            "min_width": null,
            "border": null,
            "align_items": null,
            "bottom": null,
            "_model_module": "@jupyter-widgets/base",
            "top": null,
            "grid_column": null,
            "overflow_y": null,
            "overflow_x": null,
            "grid_auto_flow": null,
            "grid_area": null,
            "grid_template_columns": null,
            "flex": null,
            "_model_name": "LayoutModel",
            "justify_items": null,
            "grid_row": null,
            "max_height": null,
            "align_content": null,
            "visibility": null,
            "align_self": null,
            "height": null,
            "min_height": null,
            "padding": null,
            "grid_auto_rows": null,
            "grid_gap": null,
            "max_width": null,
            "order": null,
            "_view_module_version": "1.2.0",
            "grid_template_areas": null,
            "object_position": null,
            "object_fit": null,
            "grid_auto_columns": null,
            "margin": null,
            "display": null,
            "left": null
          }
        },
        "bbf38eb76ebb4befb40e604c8d2a9d85": {
          "model_module": "@jupyter-widgets/controls",
          "model_name": "FloatProgressModel",
          "state": {
            "_view_name": "ProgressView",
            "style": "IPY_MODEL_fd3a13e1b8de40c2be8456f2d0a0cce0",
            "_dom_classes": [],
            "description": "Epoch 4: 100%",
            "_model_name": "FloatProgressModel",
            "bar_style": "",
            "max": 1222,
            "_view_module": "@jupyter-widgets/controls",
            "_model_module_version": "1.5.0",
            "value": 1222,
            "_view_count": null,
            "_view_module_version": "1.5.0",
            "orientation": "horizontal",
            "min": 0,
            "description_tooltip": null,
            "_model_module": "@jupyter-widgets/controls",
            "layout": "IPY_MODEL_7c19957660e44825850d8253fbf9229b"
          }
        },
        "2176b71dd3954aa587052abbfaa0088d": {
          "model_module": "@jupyter-widgets/controls",
          "model_name": "HTMLModel",
          "state": {
            "_view_name": "HTMLView",
            "style": "IPY_MODEL_00bc53fbeadc4d07877bbfb516f53d36",
            "_dom_classes": [],
            "description": "",
            "_model_name": "HTMLModel",
            "placeholder": "​",
            "_view_module": "@jupyter-widgets/controls",
            "_model_module_version": "1.5.0",
            "value": " 1222/1222 [04:51&lt;00:00,  4.21it/s, training_loss=0.245]",
            "_view_count": null,
            "_view_module_version": "1.5.0",
            "description_tooltip": null,
            "_model_module": "@jupyter-widgets/controls",
            "layout": "IPY_MODEL_2ddefc3c47ab4888b0370a0b430574bc"
          }
        },
        "fd3a13e1b8de40c2be8456f2d0a0cce0": {
          "model_module": "@jupyter-widgets/controls",
          "model_name": "ProgressStyleModel",
          "state": {
            "_view_name": "StyleView",
            "_model_name": "ProgressStyleModel",
            "description_width": "initial",
            "_view_module": "@jupyter-widgets/base",
            "_model_module_version": "1.5.0",
            "_view_count": null,
            "_view_module_version": "1.2.0",
            "bar_color": null,
            "_model_module": "@jupyter-widgets/controls"
          }
        },
        "7c19957660e44825850d8253fbf9229b": {
          "model_module": "@jupyter-widgets/base",
          "model_name": "LayoutModel",
          "state": {
            "_view_name": "LayoutView",
            "grid_template_rows": null,
            "right": null,
            "justify_content": null,
            "_view_module": "@jupyter-widgets/base",
            "overflow": null,
            "_model_module_version": "1.2.0",
            "_view_count": null,
            "flex_flow": null,
            "width": null,
            "min_width": null,
            "border": null,
            "align_items": null,
            "bottom": null,
            "_model_module": "@jupyter-widgets/base",
            "top": null,
            "grid_column": null,
            "overflow_y": null,
            "overflow_x": null,
            "grid_auto_flow": null,
            "grid_area": null,
            "grid_template_columns": null,
            "flex": null,
            "_model_name": "LayoutModel",
            "justify_items": null,
            "grid_row": null,
            "max_height": null,
            "align_content": null,
            "visibility": null,
            "align_self": null,
            "height": null,
            "min_height": null,
            "padding": null,
            "grid_auto_rows": null,
            "grid_gap": null,
            "max_width": null,
            "order": null,
            "_view_module_version": "1.2.0",
            "grid_template_areas": null,
            "object_position": null,
            "object_fit": null,
            "grid_auto_columns": null,
            "margin": null,
            "display": null,
            "left": null
          }
        },
        "00bc53fbeadc4d07877bbfb516f53d36": {
          "model_module": "@jupyter-widgets/controls",
          "model_name": "DescriptionStyleModel",
          "state": {
            "_view_name": "StyleView",
            "_model_name": "DescriptionStyleModel",
            "description_width": "",
            "_view_module": "@jupyter-widgets/base",
            "_model_module_version": "1.5.0",
            "_view_count": null,
            "_view_module_version": "1.2.0",
            "_model_module": "@jupyter-widgets/controls"
          }
        },
        "2ddefc3c47ab4888b0370a0b430574bc": {
          "model_module": "@jupyter-widgets/base",
          "model_name": "LayoutModel",
          "state": {
            "_view_name": "LayoutView",
            "grid_template_rows": null,
            "right": null,
            "justify_content": null,
            "_view_module": "@jupyter-widgets/base",
            "overflow": null,
            "_model_module_version": "1.2.0",
            "_view_count": null,
            "flex_flow": null,
            "width": null,
            "min_width": null,
            "border": null,
            "align_items": null,
            "bottom": null,
            "_model_module": "@jupyter-widgets/base",
            "top": null,
            "grid_column": null,
            "overflow_y": null,
            "overflow_x": null,
            "grid_auto_flow": null,
            "grid_area": null,
            "grid_template_columns": null,
            "flex": null,
            "_model_name": "LayoutModel",
            "justify_items": null,
            "grid_row": null,
            "max_height": null,
            "align_content": null,
            "visibility": null,
            "align_self": null,
            "height": null,
            "min_height": null,
            "padding": null,
            "grid_auto_rows": null,
            "grid_gap": null,
            "max_width": null,
            "order": null,
            "_view_module_version": "1.2.0",
            "grid_template_areas": null,
            "object_position": null,
            "object_fit": null,
            "grid_auto_columns": null,
            "margin": null,
            "display": null,
            "left": null
          }
        },
        "50e530033abb44009b20662ddc63ee59": {
          "model_module": "@jupyter-widgets/controls",
          "model_name": "HBoxModel",
          "state": {
            "_view_name": "HBoxView",
            "_dom_classes": [],
            "_model_name": "HBoxModel",
            "_view_module": "@jupyter-widgets/controls",
            "_model_module_version": "1.5.0",
            "_view_count": null,
            "_view_module_version": "1.5.0",
            "box_style": "",
            "layout": "IPY_MODEL_e332f41f9a0245b8bfcfbaf7ca2af752",
            "_model_module": "@jupyter-widgets/controls",
            "children": [
              "IPY_MODEL_775b0ce03d2d4f44a41328821e4a5f99",
              "IPY_MODEL_7c5ddfde0197435e9b498f5dedcf637e"
            ]
          }
        },
        "e332f41f9a0245b8bfcfbaf7ca2af752": {
          "model_module": "@jupyter-widgets/base",
          "model_name": "LayoutModel",
          "state": {
            "_view_name": "LayoutView",
            "grid_template_rows": null,
            "right": null,
            "justify_content": null,
            "_view_module": "@jupyter-widgets/base",
            "overflow": null,
            "_model_module_version": "1.2.0",
            "_view_count": null,
            "flex_flow": null,
            "width": null,
            "min_width": null,
            "border": null,
            "align_items": null,
            "bottom": null,
            "_model_module": "@jupyter-widgets/base",
            "top": null,
            "grid_column": null,
            "overflow_y": null,
            "overflow_x": null,
            "grid_auto_flow": null,
            "grid_area": null,
            "grid_template_columns": null,
            "flex": null,
            "_model_name": "LayoutModel",
            "justify_items": null,
            "grid_row": null,
            "max_height": null,
            "align_content": null,
            "visibility": null,
            "align_self": null,
            "height": null,
            "min_height": null,
            "padding": null,
            "grid_auto_rows": null,
            "grid_gap": null,
            "max_width": null,
            "order": null,
            "_view_module_version": "1.2.0",
            "grid_template_areas": null,
            "object_position": null,
            "object_fit": null,
            "grid_auto_columns": null,
            "margin": null,
            "display": null,
            "left": null
          }
        },
        "775b0ce03d2d4f44a41328821e4a5f99": {
          "model_module": "@jupyter-widgets/controls",
          "model_name": "FloatProgressModel",
          "state": {
            "_view_name": "ProgressView",
            "style": "IPY_MODEL_275f60947fb543cf95ea72757753d74e",
            "_dom_classes": [],
            "description": "Epoch 5: 100%",
            "_model_name": "FloatProgressModel",
            "bar_style": "",
            "max": 1222,
            "_view_module": "@jupyter-widgets/controls",
            "_model_module_version": "1.5.0",
            "value": 1222,
            "_view_count": null,
            "_view_module_version": "1.5.0",
            "orientation": "horizontal",
            "min": 0,
            "description_tooltip": null,
            "_model_module": "@jupyter-widgets/controls",
            "layout": "IPY_MODEL_01a3ecac222249a0963c0d8459fb33a7"
          }
        },
        "7c5ddfde0197435e9b498f5dedcf637e": {
          "model_module": "@jupyter-widgets/controls",
          "model_name": "HTMLModel",
          "state": {
            "_view_name": "HTMLView",
            "style": "IPY_MODEL_b79846b5f31a45fcb17529e51ccea100",
            "_dom_classes": [],
            "description": "",
            "_model_name": "HTMLModel",
            "placeholder": "​",
            "_view_module": "@jupyter-widgets/controls",
            "_model_module_version": "1.5.0",
            "value": " 1222/1222 [04:51&lt;00:00,  4.19it/s, training_loss=0.102]",
            "_view_count": null,
            "_view_module_version": "1.5.0",
            "description_tooltip": null,
            "_model_module": "@jupyter-widgets/controls",
            "layout": "IPY_MODEL_8d3f51837bcd4cf09c60617a7d839bff"
          }
        },
        "275f60947fb543cf95ea72757753d74e": {
          "model_module": "@jupyter-widgets/controls",
          "model_name": "ProgressStyleModel",
          "state": {
            "_view_name": "StyleView",
            "_model_name": "ProgressStyleModel",
            "description_width": "initial",
            "_view_module": "@jupyter-widgets/base",
            "_model_module_version": "1.5.0",
            "_view_count": null,
            "_view_module_version": "1.2.0",
            "bar_color": null,
            "_model_module": "@jupyter-widgets/controls"
          }
        },
        "01a3ecac222249a0963c0d8459fb33a7": {
          "model_module": "@jupyter-widgets/base",
          "model_name": "LayoutModel",
          "state": {
            "_view_name": "LayoutView",
            "grid_template_rows": null,
            "right": null,
            "justify_content": null,
            "_view_module": "@jupyter-widgets/base",
            "overflow": null,
            "_model_module_version": "1.2.0",
            "_view_count": null,
            "flex_flow": null,
            "width": null,
            "min_width": null,
            "border": null,
            "align_items": null,
            "bottom": null,
            "_model_module": "@jupyter-widgets/base",
            "top": null,
            "grid_column": null,
            "overflow_y": null,
            "overflow_x": null,
            "grid_auto_flow": null,
            "grid_area": null,
            "grid_template_columns": null,
            "flex": null,
            "_model_name": "LayoutModel",
            "justify_items": null,
            "grid_row": null,
            "max_height": null,
            "align_content": null,
            "visibility": null,
            "align_self": null,
            "height": null,
            "min_height": null,
            "padding": null,
            "grid_auto_rows": null,
            "grid_gap": null,
            "max_width": null,
            "order": null,
            "_view_module_version": "1.2.0",
            "grid_template_areas": null,
            "object_position": null,
            "object_fit": null,
            "grid_auto_columns": null,
            "margin": null,
            "display": null,
            "left": null
          }
        },
        "b79846b5f31a45fcb17529e51ccea100": {
          "model_module": "@jupyter-widgets/controls",
          "model_name": "DescriptionStyleModel",
          "state": {
            "_view_name": "StyleView",
            "_model_name": "DescriptionStyleModel",
            "description_width": "",
            "_view_module": "@jupyter-widgets/base",
            "_model_module_version": "1.5.0",
            "_view_count": null,
            "_view_module_version": "1.2.0",
            "_model_module": "@jupyter-widgets/controls"
          }
        },
        "8d3f51837bcd4cf09c60617a7d839bff": {
          "model_module": "@jupyter-widgets/base",
          "model_name": "LayoutModel",
          "state": {
            "_view_name": "LayoutView",
            "grid_template_rows": null,
            "right": null,
            "justify_content": null,
            "_view_module": "@jupyter-widgets/base",
            "overflow": null,
            "_model_module_version": "1.2.0",
            "_view_count": null,
            "flex_flow": null,
            "width": null,
            "min_width": null,
            "border": null,
            "align_items": null,
            "bottom": null,
            "_model_module": "@jupyter-widgets/base",
            "top": null,
            "grid_column": null,
            "overflow_y": null,
            "overflow_x": null,
            "grid_auto_flow": null,
            "grid_area": null,
            "grid_template_columns": null,
            "flex": null,
            "_model_name": "LayoutModel",
            "justify_items": null,
            "grid_row": null,
            "max_height": null,
            "align_content": null,
            "visibility": null,
            "align_self": null,
            "height": null,
            "min_height": null,
            "padding": null,
            "grid_auto_rows": null,
            "grid_gap": null,
            "max_width": null,
            "order": null,
            "_view_module_version": "1.2.0",
            "grid_template_areas": null,
            "object_position": null,
            "object_fit": null,
            "grid_auto_columns": null,
            "margin": null,
            "display": null,
            "left": null
          }
        }
      }
    },
    "accelerator": "GPU"
  },
  "cells": [
    {
      "cell_type": "markdown",
      "metadata": {
        "id": "XyBH9mYQO_7r"
      },
      "source": [
        "# **NATURAL LANGUAGE PROCESSING:**\n",
        "## **Project Title :** **Title Generation**\n",
        "### -by\n",
        "*   **Arkadipta De (AI20MTECH14002)**\n",
        "*   **Venkatesh E (AI20MTECH14005)**\n",
        "*   **Priya Bhatia (AI20MTECH14015)**\n",
        "\n",
        "#### **Guide : Dr Maunendra Sankar Desarkar, Dr Srijith**"
      ]
    },
    {
      "cell_type": "markdown",
      "metadata": {
        "id": "Dk3f_vQ0QAbu"
      },
      "source": [
        "**Description:** Given the abstract of a technical paper, generate a suitable title for it\n",
        "\n",
        "**Data Source Link :**[Arxiv Dataset](https://www.kaggle.com/neelshah18/arxivdataset)\n",
        "\n",
        "\n",
        "\n",
        "*   Collection of 31000+ paper meta data.\n",
        "*   This data contains all paper related to ML, CL, NER, AI and CV field publish between 1992 to 2018-Feb."
      ]
    },
    {
      "cell_type": "markdown",
      "metadata": {
        "id": "v52KJeTXQv1Q"
      },
      "source": [
        "### **IMPORTING LIBRARIES :**\n"
      ]
    },
    {
      "cell_type": "code",
      "metadata": {
        "colab": {
          "base_uri": "https://localhost:8080/"
        },
        "id": "ubdt9BEbOM-y",
        "outputId": "2eb899a6-623d-494a-ddbe-8b68091769f5"
      },
      "source": [
        "# For using in Google Colab\n",
        "from google.colab import drive\n",
        "drive.mount(\"/content/gdrive\")"
      ],
      "execution_count": null,
      "outputs": [
        {
          "output_type": "stream",
          "text": [
            "Mounted at /content/gdrive\n"
          ],
          "name": "stdout"
        }
      ]
    },
    {
      "cell_type": "code",
      "metadata": {
        "colab": {
          "base_uri": "https://localhost:8080/"
        },
        "id": "mb8CmsYcShtG",
        "outputId": "e8008d96-c99e-4d36-9da9-388d8e6ef587"
      },
      "source": [
        "!pip install transformers"
      ],
      "execution_count": null,
      "outputs": [
        {
          "output_type": "stream",
          "text": [
            "Collecting transformers\n",
            "\u001b[?25l  Downloading https://files.pythonhosted.org/packages/d8/b2/57495b5309f09fa501866e225c84532d1fd89536ea62406b2181933fb418/transformers-4.5.1-py3-none-any.whl (2.1MB)\n",
            "\u001b[K     |████████████████████████████████| 2.1MB 22.9MB/s \n",
            "\u001b[?25hRequirement already satisfied: tqdm>=4.27 in /usr/local/lib/python3.7/dist-packages (from transformers) (4.41.1)\n",
            "Requirement already satisfied: numpy>=1.17 in /usr/local/lib/python3.7/dist-packages (from transformers) (1.19.5)\n",
            "Collecting tokenizers<0.11,>=0.10.1\n",
            "\u001b[?25l  Downloading https://files.pythonhosted.org/packages/ae/04/5b870f26a858552025a62f1649c20d29d2672c02ff3c3fb4c688ca46467a/tokenizers-0.10.2-cp37-cp37m-manylinux2010_x86_64.whl (3.3MB)\n",
            "\u001b[K     |████████████████████████████████| 3.3MB 55.1MB/s \n",
            "\u001b[?25hRequirement already satisfied: filelock in /usr/local/lib/python3.7/dist-packages (from transformers) (3.0.12)\n",
            "Requirement already satisfied: regex!=2019.12.17 in /usr/local/lib/python3.7/dist-packages (from transformers) (2019.12.20)\n",
            "Requirement already satisfied: packaging in /usr/local/lib/python3.7/dist-packages (from transformers) (20.9)\n",
            "Requirement already satisfied: requests in /usr/local/lib/python3.7/dist-packages (from transformers) (2.23.0)\n",
            "Collecting sacremoses\n",
            "\u001b[?25l  Downloading https://files.pythonhosted.org/packages/75/ee/67241dc87f266093c533a2d4d3d69438e57d7a90abb216fa076e7d475d4a/sacremoses-0.0.45-py3-none-any.whl (895kB)\n",
            "\u001b[K     |████████████████████████████████| 901kB 43.9MB/s \n",
            "\u001b[?25hRequirement already satisfied: importlib-metadata; python_version < \"3.8\" in /usr/local/lib/python3.7/dist-packages (from transformers) (3.10.1)\n",
            "Requirement already satisfied: pyparsing>=2.0.2 in /usr/local/lib/python3.7/dist-packages (from packaging->transformers) (2.4.7)\n",
            "Requirement already satisfied: chardet<4,>=3.0.2 in /usr/local/lib/python3.7/dist-packages (from requests->transformers) (3.0.4)\n",
            "Requirement already satisfied: urllib3!=1.25.0,!=1.25.1,<1.26,>=1.21.1 in /usr/local/lib/python3.7/dist-packages (from requests->transformers) (1.24.3)\n",
            "Requirement already satisfied: idna<3,>=2.5 in /usr/local/lib/python3.7/dist-packages (from requests->transformers) (2.10)\n",
            "Requirement already satisfied: certifi>=2017.4.17 in /usr/local/lib/python3.7/dist-packages (from requests->transformers) (2020.12.5)\n",
            "Requirement already satisfied: click in /usr/local/lib/python3.7/dist-packages (from sacremoses->transformers) (7.1.2)\n",
            "Requirement already satisfied: six in /usr/local/lib/python3.7/dist-packages (from sacremoses->transformers) (1.15.0)\n",
            "Requirement already satisfied: joblib in /usr/local/lib/python3.7/dist-packages (from sacremoses->transformers) (1.0.1)\n",
            "Requirement already satisfied: zipp>=0.5 in /usr/local/lib/python3.7/dist-packages (from importlib-metadata; python_version < \"3.8\"->transformers) (3.4.1)\n",
            "Requirement already satisfied: typing-extensions>=3.6.4; python_version < \"3.8\" in /usr/local/lib/python3.7/dist-packages (from importlib-metadata; python_version < \"3.8\"->transformers) (3.7.4.3)\n",
            "Installing collected packages: tokenizers, sacremoses, transformers\n",
            "Successfully installed sacremoses-0.0.45 tokenizers-0.10.2 transformers-4.5.1\n"
          ],
          "name": "stdout"
        }
      ]
    },
    {
      "cell_type": "code",
      "metadata": {
        "colab": {
          "base_uri": "https://localhost:8080/"
        },
        "id": "0e9amxNrShvt",
        "outputId": "1a9fb662-21e9-4489-f44d-c6c77327cfec"
      },
      "source": [
        "!pip install sentencepiece"
      ],
      "execution_count": null,
      "outputs": [
        {
          "output_type": "stream",
          "text": [
            "Collecting sentencepiece\n",
            "\u001b[?25l  Downloading https://files.pythonhosted.org/packages/f5/99/e0808cb947ba10f575839c43e8fafc9cc44e4a7a2c8f79c60db48220a577/sentencepiece-0.1.95-cp37-cp37m-manylinux2014_x86_64.whl (1.2MB)\n",
            "\r\u001b[K     |▎                               | 10kB 22.5MB/s eta 0:00:01\r\u001b[K     |▌                               | 20kB 30.2MB/s eta 0:00:01\r\u001b[K     |▉                               | 30kB 23.0MB/s eta 0:00:01\r\u001b[K     |█                               | 40kB 26.5MB/s eta 0:00:01\r\u001b[K     |█▍                              | 51kB 26.3MB/s eta 0:00:01\r\u001b[K     |█▋                              | 61kB 28.5MB/s eta 0:00:01\r\u001b[K     |██                              | 71kB 18.9MB/s eta 0:00:01\r\u001b[K     |██▏                             | 81kB 20.0MB/s eta 0:00:01\r\u001b[K     |██▌                             | 92kB 18.7MB/s eta 0:00:01\r\u001b[K     |██▊                             | 102kB 18.9MB/s eta 0:00:01\r\u001b[K     |███                             | 112kB 18.9MB/s eta 0:00:01\r\u001b[K     |███▎                            | 122kB 18.9MB/s eta 0:00:01\r\u001b[K     |███▌                            | 133kB 18.9MB/s eta 0:00:01\r\u001b[K     |███▉                            | 143kB 18.9MB/s eta 0:00:01\r\u001b[K     |████                            | 153kB 18.9MB/s eta 0:00:01\r\u001b[K     |████▍                           | 163kB 18.9MB/s eta 0:00:01\r\u001b[K     |████▋                           | 174kB 18.9MB/s eta 0:00:01\r\u001b[K     |█████                           | 184kB 18.9MB/s eta 0:00:01\r\u001b[K     |█████▏                          | 194kB 18.9MB/s eta 0:00:01\r\u001b[K     |█████▌                          | 204kB 18.9MB/s eta 0:00:01\r\u001b[K     |█████▊                          | 215kB 18.9MB/s eta 0:00:01\r\u001b[K     |██████                          | 225kB 18.9MB/s eta 0:00:01\r\u001b[K     |██████▎                         | 235kB 18.9MB/s eta 0:00:01\r\u001b[K     |██████▌                         | 245kB 18.9MB/s eta 0:00:01\r\u001b[K     |██████▉                         | 256kB 18.9MB/s eta 0:00:01\r\u001b[K     |███████                         | 266kB 18.9MB/s eta 0:00:01\r\u001b[K     |███████▍                        | 276kB 18.9MB/s eta 0:00:01\r\u001b[K     |███████▋                        | 286kB 18.9MB/s eta 0:00:01\r\u001b[K     |████████                        | 296kB 18.9MB/s eta 0:00:01\r\u001b[K     |████████▏                       | 307kB 18.9MB/s eta 0:00:01\r\u001b[K     |████████▍                       | 317kB 18.9MB/s eta 0:00:01\r\u001b[K     |████████▊                       | 327kB 18.9MB/s eta 0:00:01\r\u001b[K     |█████████                       | 337kB 18.9MB/s eta 0:00:01\r\u001b[K     |█████████▎                      | 348kB 18.9MB/s eta 0:00:01\r\u001b[K     |█████████▌                      | 358kB 18.9MB/s eta 0:00:01\r\u001b[K     |█████████▉                      | 368kB 18.9MB/s eta 0:00:01\r\u001b[K     |██████████                      | 378kB 18.9MB/s eta 0:00:01\r\u001b[K     |██████████▍                     | 389kB 18.9MB/s eta 0:00:01\r\u001b[K     |██████████▋                     | 399kB 18.9MB/s eta 0:00:01\r\u001b[K     |███████████                     | 409kB 18.9MB/s eta 0:00:01\r\u001b[K     |███████████▏                    | 419kB 18.9MB/s eta 0:00:01\r\u001b[K     |███████████▍                    | 430kB 18.9MB/s eta 0:00:01\r\u001b[K     |███████████▊                    | 440kB 18.9MB/s eta 0:00:01\r\u001b[K     |████████████                    | 450kB 18.9MB/s eta 0:00:01\r\u001b[K     |████████████▎                   | 460kB 18.9MB/s eta 0:00:01\r\u001b[K     |████████████▌                   | 471kB 18.9MB/s eta 0:00:01\r\u001b[K     |████████████▉                   | 481kB 18.9MB/s eta 0:00:01\r\u001b[K     |█████████████                   | 491kB 18.9MB/s eta 0:00:01\r\u001b[K     |█████████████▍                  | 501kB 18.9MB/s eta 0:00:01\r\u001b[K     |█████████████▋                  | 512kB 18.9MB/s eta 0:00:01\r\u001b[K     |█████████████▉                  | 522kB 18.9MB/s eta 0:00:01\r\u001b[K     |██████████████▏                 | 532kB 18.9MB/s eta 0:00:01\r\u001b[K     |██████████████▍                 | 542kB 18.9MB/s eta 0:00:01\r\u001b[K     |██████████████▊                 | 552kB 18.9MB/s eta 0:00:01\r\u001b[K     |███████████████                 | 563kB 18.9MB/s eta 0:00:01\r\u001b[K     |███████████████▎                | 573kB 18.9MB/s eta 0:00:01\r\u001b[K     |███████████████▌                | 583kB 18.9MB/s eta 0:00:01\r\u001b[K     |███████████████▉                | 593kB 18.9MB/s eta 0:00:01\r\u001b[K     |████████████████                | 604kB 18.9MB/s eta 0:00:01\r\u001b[K     |████████████████▍               | 614kB 18.9MB/s eta 0:00:01\r\u001b[K     |████████████████▋               | 624kB 18.9MB/s eta 0:00:01\r\u001b[K     |████████████████▉               | 634kB 18.9MB/s eta 0:00:01\r\u001b[K     |█████████████████▏              | 645kB 18.9MB/s eta 0:00:01\r\u001b[K     |█████████████████▍              | 655kB 18.9MB/s eta 0:00:01\r\u001b[K     |█████████████████▊              | 665kB 18.9MB/s eta 0:00:01\r\u001b[K     |██████████████████              | 675kB 18.9MB/s eta 0:00:01\r\u001b[K     |██████████████████▎             | 686kB 18.9MB/s eta 0:00:01\r\u001b[K     |██████████████████▌             | 696kB 18.9MB/s eta 0:00:01\r\u001b[K     |██████████████████▉             | 706kB 18.9MB/s eta 0:00:01\r\u001b[K     |███████████████████             | 716kB 18.9MB/s eta 0:00:01\r\u001b[K     |███████████████████▎            | 727kB 18.9MB/s eta 0:00:01\r\u001b[K     |███████████████████▋            | 737kB 18.9MB/s eta 0:00:01\r\u001b[K     |███████████████████▉            | 747kB 18.9MB/s eta 0:00:01\r\u001b[K     |████████████████████▏           | 757kB 18.9MB/s eta 0:00:01\r\u001b[K     |████████████████████▍           | 768kB 18.9MB/s eta 0:00:01\r\u001b[K     |████████████████████▊           | 778kB 18.9MB/s eta 0:00:01\r\u001b[K     |█████████████████████           | 788kB 18.9MB/s eta 0:00:01\r\u001b[K     |█████████████████████▎          | 798kB 18.9MB/s eta 0:00:01\r\u001b[K     |█████████████████████▌          | 808kB 18.9MB/s eta 0:00:01\r\u001b[K     |█████████████████████▉          | 819kB 18.9MB/s eta 0:00:01\r\u001b[K     |██████████████████████          | 829kB 18.9MB/s eta 0:00:01\r\u001b[K     |██████████████████████▎         | 839kB 18.9MB/s eta 0:00:01\r\u001b[K     |██████████████████████▋         | 849kB 18.9MB/s eta 0:00:01\r\u001b[K     |██████████████████████▉         | 860kB 18.9MB/s eta 0:00:01\r\u001b[K     |███████████████████████▏        | 870kB 18.9MB/s eta 0:00:01\r\u001b[K     |███████████████████████▍        | 880kB 18.9MB/s eta 0:00:01\r\u001b[K     |███████████████████████▊        | 890kB 18.9MB/s eta 0:00:01\r\u001b[K     |████████████████████████        | 901kB 18.9MB/s eta 0:00:01\r\u001b[K     |████████████████████████▎       | 911kB 18.9MB/s eta 0:00:01\r\u001b[K     |████████████████████████▌       | 921kB 18.9MB/s eta 0:00:01\r\u001b[K     |████████████████████████▊       | 931kB 18.9MB/s eta 0:00:01\r\u001b[K     |█████████████████████████       | 942kB 18.9MB/s eta 0:00:01\r\u001b[K     |█████████████████████████▎      | 952kB 18.9MB/s eta 0:00:01\r\u001b[K     |█████████████████████████▋      | 962kB 18.9MB/s eta 0:00:01\r\u001b[K     |█████████████████████████▉      | 972kB 18.9MB/s eta 0:00:01\r\u001b[K     |██████████████████████████▏     | 983kB 18.9MB/s eta 0:00:01\r\u001b[K     |██████████████████████████▍     | 993kB 18.9MB/s eta 0:00:01\r\u001b[K     |██████████████████████████▊     | 1.0MB 18.9MB/s eta 0:00:01\r\u001b[K     |███████████████████████████     | 1.0MB 18.9MB/s eta 0:00:01\r\u001b[K     |███████████████████████████▎    | 1.0MB 18.9MB/s eta 0:00:01\r\u001b[K     |███████████████████████████▌    | 1.0MB 18.9MB/s eta 0:00:01\r\u001b[K     |███████████████████████████▊    | 1.0MB 18.9MB/s eta 0:00:01\r\u001b[K     |████████████████████████████    | 1.1MB 18.9MB/s eta 0:00:01\r\u001b[K     |████████████████████████████▎   | 1.1MB 18.9MB/s eta 0:00:01\r\u001b[K     |████████████████████████████▋   | 1.1MB 18.9MB/s eta 0:00:01\r\u001b[K     |████████████████████████████▉   | 1.1MB 18.9MB/s eta 0:00:01\r\u001b[K     |█████████████████████████████▏  | 1.1MB 18.9MB/s eta 0:00:01\r\u001b[K     |█████████████████████████████▍  | 1.1MB 18.9MB/s eta 0:00:01\r\u001b[K     |█████████████████████████████▊  | 1.1MB 18.9MB/s eta 0:00:01\r\u001b[K     |██████████████████████████████  | 1.1MB 18.9MB/s eta 0:00:01\r\u001b[K     |██████████████████████████████▏ | 1.1MB 18.9MB/s eta 0:00:01\r\u001b[K     |██████████████████████████████▌ | 1.1MB 18.9MB/s eta 0:00:01\r\u001b[K     |██████████████████████████████▊ | 1.2MB 18.9MB/s eta 0:00:01\r\u001b[K     |███████████████████████████████ | 1.2MB 18.9MB/s eta 0:00:01\r\u001b[K     |███████████████████████████████▎| 1.2MB 18.9MB/s eta 0:00:01\r\u001b[K     |███████████████████████████████▋| 1.2MB 18.9MB/s eta 0:00:01\r\u001b[K     |███████████████████████████████▉| 1.2MB 18.9MB/s eta 0:00:01\r\u001b[K     |████████████████████████████████| 1.2MB 18.9MB/s \n",
            "\u001b[?25hInstalling collected packages: sentencepiece\n",
            "Successfully installed sentencepiece-0.1.95\n"
          ],
          "name": "stdout"
        }
      ]
    },
    {
      "cell_type": "code",
      "metadata": {
        "id": "YtRbHzfXShyL"
      },
      "source": [
        "import numpy as np \n",
        "import pandas as pd \n",
        "import matplotlib.pyplot as plt\n",
        "import seaborn as sns \n",
        "\n",
        "import random\n",
        "\n",
        "import json, re\n",
        "from tqdm import tqdm_notebook\n",
        "from uuid import uuid4\n",
        "\n",
        "import torch\n",
        "import torch.optim as optim\n",
        "import torch.nn as nn\n",
        "import torch.nn.functional as F\n",
        "from torch.autograd import Variable\n",
        "from torch.utils.data import Dataset, DataLoader, TensorDataset, RandomSampler, SequentialSampler\n",
        "\n",
        "from transformers import glue_compute_metrics\n",
        "from transformers import Trainer, TrainingArguments\n",
        "from transformers import AdamW, get_linear_schedule_with_warmup\n",
        "\n",
        "from transformers import BertTokenizer, BertModel, BertConfig, BertForSequenceClassification\n",
        "from transformers import RobertaConfig, RobertaModel, RobertaTokenizer, RobertaForSequenceClassification\n",
        "\n",
        "from sklearn.metrics import f1_score, accuracy_score,confusion_matrix \n",
        "from sklearn.metrics import classification_report as Report\n",
        "\n",
        "from tqdm.notebook import tqdm\n",
        "\n",
        "import itertools    \n",
        "from sklearn.utils import shuffle\n",
        "\n",
        "import warnings\n",
        "warnings.filterwarnings(\"ignore\")"
      ],
      "execution_count": null,
      "outputs": []
    },
    {
      "cell_type": "code",
      "metadata": {
        "id": "rzTMwIQ_Sh1N"
      },
      "source": [
        "device=torch.device(\"cuda\" if torch.cuda.is_available() else \"cpu\")"
      ],
      "execution_count": null,
      "outputs": []
    },
    {
      "cell_type": "code",
      "metadata": {
        "colab": {
          "base_uri": "https://localhost:8080/"
        },
        "id": "xTv4lH4BSh4B",
        "outputId": "231240e9-b561-4e74-bc68-9306d1d4f11b"
      },
      "source": [
        "print(\"GPU Torch Available = {}\".format(torch.cuda.is_available()))\n",
        "print(\"Torch Version = {}\".format(torch.__version__))"
      ],
      "execution_count": null,
      "outputs": [
        {
          "output_type": "stream",
          "text": [
            "GPU Torch Available = True\n",
            "Torch Version = 1.8.1+cu101\n"
          ],
          "name": "stdout"
        }
      ]
    },
    {
      "cell_type": "code",
      "metadata": {
        "id": "ov24WRs8Sh6M"
      },
      "source": [
        "# to display the rows and columns of dataset properly \n",
        "pd.set_option('display.max_rows', None)\n",
        "pd.set_option('display.max_columns', None)\n",
        "pd.set_option('display.width', None)\n",
        "pd.set_option('display.max_colwidth', -1)"
      ],
      "execution_count": null,
      "outputs": []
    },
    {
      "cell_type": "markdown",
      "metadata": {
        "id": "P9u3zRkKTN0l"
      },
      "source": [
        "### **DATA LOADING :**"
      ]
    },
    {
      "cell_type": "code",
      "metadata": {
        "id": "ktAOLjTUSh9l"
      },
      "source": [
        "# loading the data \n",
        "def Load_Excel_Data(path1,path2):\n",
        "  \"\"\"\n",
        "  Input : path1 and path2 - file path of excel file of X_train and y_train\n",
        "  Returns : dataframe \n",
        "  \"\"\"\n",
        "  df1=pd.read_excel(path1)\n",
        "  df2=pd.read_excel(path2)\n",
        "  df=pd.concat([df1,df2],axis=1)\n",
        "  df.columns=['Abstract','Domain_Labels']\n",
        "  return df \n",
        "\n",
        "def Get_Sampled_Dataset(df):\n",
        "  vals=list(df['Domain_Labels'].value_counts())\n",
        "  min_val=min(vals)\n",
        "  label_1=df[df['Domain_Labels']==1]\n",
        "  label_0=df[df['Domain_Labels']==0]\n",
        "  df0 = label_0.sample(n=min_val,random_state=42)\n",
        "  new_df=pd.concat([df0,label_1],axis=0)\n",
        "  new_df=shuffle(new_df)\n",
        "  return new_df\n",
        "\n",
        "def Train_Val_Test(label,undersampling=0):\n",
        "  \"\"\"\n",
        "  Input : label - return train, val, test data for given label \n",
        "          undersampling = 0(default - don't perform undersampling on train data), else : perform undersampling on train dataset \n",
        "  Returns : dataframe - train, val and test \n",
        "  \"\"\"\n",
        "  train_data = Load_Excel_Data(\"/content/gdrive/My Drive/Title Generation NLP/Dataset/X_train.xlsx\",\"/content/gdrive/My Drive/Title Generation NLP/Dataset/y_train_\"+label+\".xlsx\")\n",
        "  val_data = Load_Excel_Data(\"/content/gdrive/My Drive/Title Generation NLP/Dataset/X_val.xlsx\",\"/content/gdrive/My Drive/Title Generation NLP/Dataset/y_val_\"+label+\".xlsx\")\n",
        "  test_data = Load_Excel_Data(\"/content/gdrive/My Drive/Title Generation NLP/Dataset/X_test.xlsx\",\"/content/gdrive/My Drive/Title Generation NLP/Dataset/y_test_\"+label+\".xlsx\")\n",
        "  if undersampling!=0:\n",
        "    train_data=Get_Sampled_Dataset(train_data)\n",
        "  return train_data, val_data, test_data \n"
      ],
      "execution_count": null,
      "outputs": []
    },
    {
      "cell_type": "markdown",
      "metadata": {
        "id": "EEvG1GEoTTbP"
      },
      "source": [
        "**Class Label : NE**"
      ]
    },
    {
      "cell_type": "code",
      "metadata": {
        "id": "8L4dFRphTe9k"
      },
      "source": [
        "# undersampling \n",
        "train_NE, val_NE, test_NE = Train_Val_Test(\"NE\",1)"
      ],
      "execution_count": null,
      "outputs": []
    },
    {
      "cell_type": "code",
      "metadata": {
        "colab": {
          "base_uri": "https://localhost:8080/"
        },
        "id": "DCf1Rj56WalP",
        "outputId": "28c86861-067c-4f51-9b8e-face1f9d28c2"
      },
      "source": [
        "# shape of data \n",
        "print(\"Train Shape : \",train_NE.shape)\n",
        "print(\"Validation Shape : \",val_NE.shape)\n",
        "print(\"Test Shape : \",test_NE.shape)"
      ],
      "execution_count": null,
      "outputs": [
        {
          "output_type": "stream",
          "text": [
            "Train Shape :  (4888, 2)\n",
            "Validation Shape :  (6277, 2)\n",
            "Test Shape :  (7847, 2)\n"
          ],
          "name": "stdout"
        }
      ]
    },
    {
      "cell_type": "markdown",
      "metadata": {
        "id": "mXvdu-3LWzNS"
      },
      "source": [
        "### **MODEL BUILDING :**"
      ]
    },
    {
      "cell_type": "code",
      "metadata": {
        "id": "GGzpv___akH_"
      },
      "source": [
        "def Result_Evaluator(data_val,model):\n",
        "  \"\"\"\n",
        "  This function evaluates the f1-score and accuracy for given data \n",
        "  Input : model - Bert Base/RoBerta Base \n",
        "  \"\"\"\n",
        "  model.eval()\n",
        "  loss_val_total = 0\n",
        "  predictions, true_vals = [], []\n",
        "    \n",
        "  for batch in data_val:\n",
        "    batch = tuple(b.to(device) for b in batch)\n",
        "    inputs = {'input_ids':batch[0],'attention_mask': batch[1],'labels':batch[2],}\n",
        "\n",
        "    with torch.no_grad():        \n",
        "      outputs = model(**inputs)\n",
        "            \n",
        "    loss = outputs[0]\n",
        "    logits = outputs[1]\n",
        "    loss_val_total += loss.item()\n",
        "\n",
        "    logits = logits.detach().cpu().numpy()\n",
        "    label_ids = inputs['labels'].cpu().numpy()\n",
        "    predictions.append(logits)\n",
        "    true_vals.append(label_ids)\n",
        "    \n",
        "  loss_val_avg = loss_val_total/len(data_val) \n",
        "  predictions = np.concatenate(predictions, axis=0)\n",
        "  true_vals = np.concatenate(true_vals, axis=0)\n",
        "            \n",
        "  return loss_val_avg, predictions, true_vals"
      ],
      "execution_count": null,
      "outputs": []
    },
    {
      "cell_type": "markdown",
      "metadata": {
        "id": "I7j7C3r1ZUl_"
      },
      "source": [
        "#### **Performance Measure :**"
      ]
    },
    {
      "cell_type": "code",
      "metadata": {
        "id": "5Z7-uwYGZTHY"
      },
      "source": [
        "def f1_score_func(preds, labels):\n",
        "  \"\"\"\n",
        "  This function returns the f1-score for given and predicted labels \n",
        "  Input : preds - predicted label \n",
        "          labels - original label \n",
        "  Returns : F1 - Score \n",
        "  \"\"\"\n",
        "  preds_flat = np.argmax(preds, axis=1).flatten()\n",
        "  labels_flat = labels.flatten()\n",
        "  return f1_score(labels_flat, preds_flat, average='weighted')\n",
        "\n",
        "def Accuracy_Score(preds,labels):\n",
        "  \"\"\"\n",
        "  This function returns the Accuracy-score for given and predicted labels \n",
        "  Input : preds - predicted label \n",
        "          labels - original label \n",
        "  Returns : Accuracy - Score \n",
        "  \"\"\"\n",
        "  preds_flat=np.argmax(preds,axis=1).flatten()\n",
        "  labels_flat=labels.flatten()\n",
        "  return accuracy_score(labels_flat,preds_flat)"
      ],
      "execution_count": null,
      "outputs": []
    },
    {
      "cell_type": "code",
      "metadata": {
        "id": "V8SZjfftWdCu"
      },
      "source": [
        "def Tag_Classifier_Modelling(tokenizer,model,folder_path,file_path):\n",
        "  \"\"\"\n",
        "  Return Data For Modelling \n",
        "  Input : tokenizer - Bert Base/Roberta Base tokenizer \n",
        "  \"\"\"\n",
        "  encoded_data_train = tokenizer.batch_encode_plus(train_NE.Abstract.values, \n",
        "                                                   add_special_tokens=True, \n",
        "                                                   return_attention_mask=True, \n",
        "                                                   pad_to_max_length=True,\n",
        "                                                   max_length=256, \n",
        "                                                   return_tensors='pt')\n",
        "  \n",
        "  encoded_data_val = tokenizer.batch_encode_plus(val_NE.Abstract.values, \n",
        "                                                 add_special_tokens=True, \n",
        "                                                 return_attention_mask=True, \n",
        "                                                 pad_to_max_length=True, \n",
        "                                                 max_length=256, \n",
        "                                                 return_tensors='pt')\n",
        "  \n",
        "  encoded_data_test = tokenizer.batch_encode_plus(test_NE.Abstract.values, \n",
        "                                                  add_special_tokens=True, \n",
        "                                                  return_attention_mask=True, \n",
        "                                                  pad_to_max_length=True, \n",
        "                                                  max_length=256, \n",
        "                                                  return_tensors='pt')\n",
        "  \n",
        "  input_ids_train = encoded_data_train['input_ids']\n",
        "  attention_masks_train = encoded_data_train['attention_mask']\n",
        "  labels_train = torch.tensor(train_NE.Domain_Labels.values)\n",
        "  \n",
        "  input_ids_val = encoded_data_val['input_ids']\n",
        "  attention_masks_val = encoded_data_val['attention_mask']\n",
        "  labels_val = torch.tensor(val_NE.Domain_Labels.values)\n",
        "  \n",
        "  input_ids_test = encoded_data_test['input_ids']\n",
        "  attention_masks_test = encoded_data_test['attention_mask']\n",
        "  labels_test = torch.tensor(test_NE.Domain_Labels.values)\n",
        "  \n",
        "  dataset_train = TensorDataset(input_ids_train, attention_masks_train, labels_train)\n",
        "  dataset_val = TensorDataset(input_ids_val, attention_masks_val, labels_val)\n",
        "  dataset_test = TensorDataset(input_ids_test, attention_masks_test, labels_test)\n",
        "  \n",
        "  batch_size = 4\n",
        "  \n",
        "  dataloader_train = DataLoader(dataset_train, \n",
        "                                sampler=RandomSampler(dataset_train), \n",
        "                                batch_size=batch_size)\n",
        "  \n",
        "  dataloader_validation = DataLoader(dataset_val, \n",
        "                                     sampler=SequentialSampler(dataset_val), \n",
        "                                     batch_size=batch_size)\n",
        "  \n",
        "  dataloader_test = DataLoader(dataset_test, \n",
        "                               sampler=SequentialSampler(dataset_test), \n",
        "                               batch_size=batch_size)\n",
        "  \n",
        "  optimizer = AdamW(model.parameters(),lr=1e-5, eps=1e-8)\n",
        "  \n",
        "  epochs = 5\n",
        "  \n",
        "  scheduler = get_linear_schedule_with_warmup(optimizer, num_warmup_steps=0,num_training_steps=len(dataloader_train)*epochs)\n",
        "  \n",
        "  val_f1_list=[]\n",
        "  \n",
        "  for epoch in tqdm(range(1, epochs+1)):\n",
        "    model.train()\n",
        "    loss_train_total = 0\n",
        "    model = model.to(device)\n",
        "\n",
        "    progress_bar = tqdm(dataloader_train, desc='Epoch {:1d}'.format(epoch), leave=False, disable=False)\n",
        "    for batch in progress_bar:\n",
        "      model.zero_grad()\n",
        "      batch = tuple(b.to(device) for b in batch)\n",
        "      inputs = {'input_ids':batch[0],'attention_mask': batch[1],'labels':batch[2],}       \n",
        "      outputs = model(**inputs)\n",
        "        \n",
        "      loss = outputs[0]\n",
        "      loss_train_total += loss.item()\n",
        "      loss.backward()\n",
        "\n",
        "      torch.nn.utils.clip_grad_norm_(model.parameters(), 1.0)\n",
        "      optimizer.step()\n",
        "      scheduler.step()\n",
        "        \n",
        "      progress_bar.set_postfix({'training_loss': '{:.3f}'.format(loss.item()/len(batch))})\n",
        "         \n",
        "    # Model Save\n",
        "    model_save_path = folder_path\n",
        "    torch.save(model.state_dict(), model_save_path + file_path +str(epoch)+ '.pth') \n",
        "\n",
        "    tqdm.write(f'\\nEpoch {epoch}')\n",
        "    \n",
        "    loss_train_avg = loss_train_total/len(dataloader_train)            \n",
        "    tqdm.write(f'Training loss: {loss_train_avg}')\n",
        "    \n",
        "    val_loss, predictions, true_vals = Result_Evaluator(dataloader_validation,model)\n",
        "    val_f1 = f1_score_func(predictions, true_vals)\n",
        "    val_acc=Accuracy_Score(predictions,true_vals)\n",
        "    tqdm.write(f'Validation loss: {val_loss}')\n",
        "    tqdm.write(f'F1 Score (Weighted): {val_f1}')\n",
        "    tqdm.write(f'Accuracy Score: {val_acc}')\n",
        "    val_f1_list.append(val_f1)\n",
        "\n",
        "  maxi_f1=np.argmax(val_f1_list)+1 \n",
        "  model.load_state_dict(torch.load(model_save_path +file_path+str(maxi_f1)+'.pth', map_location=torch.device('cpu')))\n",
        "\n",
        "  _, predictions, true_vals = Result_Evaluator(dataloader_test,model)\n",
        "\n",
        "  return predictions,true_vals"
      ],
      "execution_count": null,
      "outputs": []
    },
    {
      "cell_type": "code",
      "metadata": {
        "colab": {
          "base_uri": "https://localhost:8080/",
          "height": 365,
          "referenced_widgets": [
            "a86e0e1d519f402f8aec8789c2326da5",
            "dc8dacc7410a46298fd8d7175c2cfab5",
            "7437d2dc4e174b7d818439cde0887dd7",
            "5b9171edbd9440fda3dd696e59857188",
            "4c245272a5234294b4abc792d31cfd82",
            "de6ce8124ebd4d0eb1b17198b5de5cbc",
            "024970b579394017954dae1bae05412f",
            "d54ec4141b0d4da2a466522fc6700b5d",
            "e722feb050114ce388795214eee2ce74",
            "77687afc301740739c3b508563f88cda",
            "5174a640c1a949788cb8c7739386c962",
            "e9bcc184fb1d4e23bc5121e17134a54b",
            "af4ad88982b8470e8ae3b085b7c56bc2",
            "796c0796eb444d39a5a43282cd5344d5",
            "8f387ac6b3a14579880d337922028816",
            "791f86cd79d548a798f6cdd74338fe0e",
            "ad6a7197b1a5444cbce9e64926ac5fd1",
            "a4cc4696d6c24fd197656a996cba7bb4",
            "85fdc9814c1c427cb64f4deb04e338ad",
            "5650be85a8e041148ca56b4308d17129",
            "b5c6230d8f8d44b69e0a1d656a00cecc",
            "64df7c930e574d7893aebe69342a532b",
            "7e6c4fef31bb4e078157932b604d46cd",
            "15e7102477f64fa6af0e7cc81c293d51",
            "60387db64b2f4a318c2c6f318af6f2d2",
            "cb61c5f717574615bf484fef006013b1",
            "3166adb012ff4a139e8dcb39f67dec18",
            "d9e37f8efa3e481e8ae50858015764c6",
            "ead1a6d8c24a4e56b659483231e5171f",
            "0550559a7e014eb18ebeb90a0605b8b9",
            "1d1799b97358452b8aabc8a6779353cf",
            "420f658040194bfe8214714349f2c369",
            "abc493b294d44cc2b323b480da3f6f13",
            "9935ae36850f4044b219aa5875d19f10",
            "b2c4adaa1edf40228c44f6eec8bdf1fb",
            "b9c2b9c39db5485bb1d3b5546a6abb11",
            "6d41f47fe5f64324ad9b582e530d79fc",
            "2f5c04b45435401d844cfa09208e5894",
            "bf7ba452579748548567f15fa4927864",
            "15c0b28940224a10a43052a46058a32e"
          ]
        },
        "id": "WRl7EJ_QkF7O",
        "outputId": "84d4a10c-6308-4462-a86a-f1bfe574e69a"
      },
      "source": [
        "tokenizer = BertTokenizer.from_pretrained('bert-base-cased')\n",
        "model = BertForSequenceClassification.from_pretrained(\"bert-base-cased\",\n",
        "                                                      num_labels=2,\n",
        "                                                      output_attentions=False,\n",
        "                                                      output_hidden_states=False)"
      ],
      "execution_count": null,
      "outputs": [
        {
          "output_type": "display_data",
          "data": {
            "application/vnd.jupyter.widget-view+json": {
              "model_id": "a86e0e1d519f402f8aec8789c2326da5",
              "version_minor": 0,
              "version_major": 2
            },
            "text/plain": [
              "HBox(children=(FloatProgress(value=0.0, description='Downloading', max=213450.0, style=ProgressStyle(descripti…"
            ]
          },
          "metadata": {
            "tags": []
          }
        },
        {
          "output_type": "stream",
          "text": [
            "\n"
          ],
          "name": "stdout"
        },
        {
          "output_type": "display_data",
          "data": {
            "application/vnd.jupyter.widget-view+json": {
              "model_id": "e722feb050114ce388795214eee2ce74",
              "version_minor": 0,
              "version_major": 2
            },
            "text/plain": [
              "HBox(children=(FloatProgress(value=0.0, description='Downloading', max=29.0, style=ProgressStyle(description_w…"
            ]
          },
          "metadata": {
            "tags": []
          }
        },
        {
          "output_type": "stream",
          "text": [
            "\n"
          ],
          "name": "stdout"
        },
        {
          "output_type": "display_data",
          "data": {
            "application/vnd.jupyter.widget-view+json": {
              "model_id": "ad6a7197b1a5444cbce9e64926ac5fd1",
              "version_minor": 0,
              "version_major": 2
            },
            "text/plain": [
              "HBox(children=(FloatProgress(value=0.0, description='Downloading', max=435797.0, style=ProgressStyle(descripti…"
            ]
          },
          "metadata": {
            "tags": []
          }
        },
        {
          "output_type": "stream",
          "text": [
            "\n"
          ],
          "name": "stdout"
        },
        {
          "output_type": "display_data",
          "data": {
            "application/vnd.jupyter.widget-view+json": {
              "model_id": "60387db64b2f4a318c2c6f318af6f2d2",
              "version_minor": 0,
              "version_major": 2
            },
            "text/plain": [
              "HBox(children=(FloatProgress(value=0.0, description='Downloading', max=570.0, style=ProgressStyle(description_…"
            ]
          },
          "metadata": {
            "tags": []
          }
        },
        {
          "output_type": "stream",
          "text": [
            "\n"
          ],
          "name": "stdout"
        },
        {
          "output_type": "display_data",
          "data": {
            "application/vnd.jupyter.widget-view+json": {
              "model_id": "abc493b294d44cc2b323b480da3f6f13",
              "version_minor": 0,
              "version_major": 2
            },
            "text/plain": [
              "HBox(children=(FloatProgress(value=0.0, description='Downloading', max=435779157.0, style=ProgressStyle(descri…"
            ]
          },
          "metadata": {
            "tags": []
          }
        },
        {
          "output_type": "stream",
          "text": [
            "\n"
          ],
          "name": "stdout"
        },
        {
          "output_type": "stream",
          "text": [
            "Some weights of the model checkpoint at bert-base-cased were not used when initializing BertForSequenceClassification: ['cls.predictions.bias', 'cls.predictions.transform.dense.weight', 'cls.predictions.transform.dense.bias', 'cls.predictions.decoder.weight', 'cls.seq_relationship.weight', 'cls.seq_relationship.bias', 'cls.predictions.transform.LayerNorm.weight', 'cls.predictions.transform.LayerNorm.bias']\n",
            "- This IS expected if you are initializing BertForSequenceClassification from the checkpoint of a model trained on another task or with another architecture (e.g. initializing a BertForSequenceClassification model from a BertForPreTraining model).\n",
            "- This IS NOT expected if you are initializing BertForSequenceClassification from the checkpoint of a model that you expect to be exactly identical (initializing a BertForSequenceClassification model from a BertForSequenceClassification model).\n",
            "Some weights of BertForSequenceClassification were not initialized from the model checkpoint at bert-base-cased and are newly initialized: ['classifier.weight', 'classifier.bias']\n",
            "You should probably TRAIN this model on a down-stream task to be able to use it for predictions and inference.\n"
          ],
          "name": "stderr"
        }
      ]
    },
    {
      "cell_type": "code",
      "metadata": {
        "colab": {
          "base_uri": "https://localhost:8080/",
          "height": 606,
          "referenced_widgets": [
            "d59f53b8693a4c3cb94404c48cdc6a49",
            "5f6d293eca58471dbbd352c916f77eab",
            "04846fa754104eb29a0fcc2faf3fb5a3",
            "e5515432cd67415480c5e8a639856b41",
            "e51dd0d0f4024360938e8813fb7933f3",
            "299fa561d2c14b35a1875b88487abe5d",
            "a846098349aa4b9c852805b99cd1c719",
            "b3ca5d3bd1a2479d995fa4874b4e242b",
            "0615bc1bb2254ff987799b703c1af623",
            "c345cd1c710b4f638be13bc32769fc6f",
            "3dade0dc7b3b44d9b76ab09c12b6f08c",
            "367c61c72f0f442cbe8356016c13a6dd",
            "1e745acec7a14e6f83921e224c807520",
            "286cb33dc75a469baa783cce36081bbb",
            "f4576281bdcd4091876187b0a2722500",
            "97aef4c6ee064604a1474f935f0a91d8",
            "19bc9c2bdbc5421a8c5554503e62c6e7",
            "9c692b39e02446ea94f7fbba7a2159ca",
            "120fda31781f4ae8b49a51d4fbaa8c59",
            "3168beb92a3d4e5aab0dc0356ad5281a",
            "045f1d99b8e347bfa9308a9c27b8eb98",
            "7df0b78cc2744acaad5c594dceeb95be",
            "53bd3209b3d949f891065b06e557ee43",
            "4d0cc46452c348d69a0e25fad77ca8ea",
            "bf150291a98d4461b6b5507f022b8af0",
            "efb945f741304b7994011548ae162a20",
            "dfabe691283e4a70a0df801c2fa6fa12",
            "1ae913c7cbc34ba4a95fb85c8e149483",
            "d96aaee209854c17bf7bfbe4c55bfbf7",
            "6515fa0bc5e849c0ace0e471ed7f0156",
            "7f99b4e147cb446da7bd08f074c91087",
            "07081e491af844ffa566e83e22ab6567",
            "19a8601c0f38445ba683a3c786dd846a",
            "70e3db5e66814cd480d08dd84d1bf79b",
            "bbf38eb76ebb4befb40e604c8d2a9d85",
            "2176b71dd3954aa587052abbfaa0088d",
            "fd3a13e1b8de40c2be8456f2d0a0cce0",
            "7c19957660e44825850d8253fbf9229b",
            "00bc53fbeadc4d07877bbfb516f53d36",
            "2ddefc3c47ab4888b0370a0b430574bc",
            "50e530033abb44009b20662ddc63ee59",
            "e332f41f9a0245b8bfcfbaf7ca2af752",
            "775b0ce03d2d4f44a41328821e4a5f99",
            "7c5ddfde0197435e9b498f5dedcf637e",
            "275f60947fb543cf95ea72757753d74e",
            "01a3ecac222249a0963c0d8459fb33a7",
            "b79846b5f31a45fcb17529e51ccea100",
            "8d3f51837bcd4cf09c60617a7d839bff"
          ]
        },
        "id": "jYzL-Lbejhmy",
        "outputId": "4869afbd-c136-4d8f-ff18-7d4c74f331d8"
      },
      "source": [
        "seed_val = 17\n",
        "random.seed(seed_val)\n",
        "np.random.seed(seed_val)\n",
        "torch.manual_seed(seed_val)\n",
        "torch.cuda.manual_seed_all(seed_val)\n",
        "\n",
        "test_pred, test_true_vals = Tag_Classifier_Modelling(tokenizer,model,\"/content/gdrive/My Drive/Title Generation NLP/Bert_Models/\",\"Bert_NE_Final_Epoch_\")"
      ],
      "execution_count": null,
      "outputs": [
        {
          "output_type": "stream",
          "text": [
            "Truncation was not explicitly activated but `max_length` is provided a specific value, please use `truncation=True` to explicitly truncate examples to max length. Defaulting to 'longest_first' truncation strategy. If you encode pairs of sequences (GLUE-style) with the tokenizer you can select this strategy more precisely by providing a specific strategy to `truncation`.\n"
          ],
          "name": "stderr"
        },
        {
          "output_type": "display_data",
          "data": {
            "application/vnd.jupyter.widget-view+json": {
              "model_id": "d59f53b8693a4c3cb94404c48cdc6a49",
              "version_minor": 0,
              "version_major": 2
            },
            "text/plain": [
              "HBox(children=(FloatProgress(value=0.0, max=5.0), HTML(value='')))"
            ]
          },
          "metadata": {
            "tags": []
          }
        },
        {
          "output_type": "display_data",
          "data": {
            "application/vnd.jupyter.widget-view+json": {
              "model_id": "0615bc1bb2254ff987799b703c1af623",
              "version_minor": 0,
              "version_major": 2
            },
            "text/plain": [
              "HBox(children=(FloatProgress(value=0.0, description='Epoch 1', max=1222.0, style=ProgressStyle(description_wid…"
            ]
          },
          "metadata": {
            "tags": []
          }
        },
        {
          "output_type": "stream",
          "text": [
            "\r\n",
            "Epoch 1\n",
            "Training loss: 0.7051673971982322\n",
            "Validation loss: 0.7793335184170183\n",
            "F1 Score (Weighted): 0.01726899839152469\n",
            "Accuracy Score: 0.09733949338856142\n"
          ],
          "name": "stdout"
        },
        {
          "output_type": "display_data",
          "data": {
            "application/vnd.jupyter.widget-view+json": {
              "model_id": "19bc9c2bdbc5421a8c5554503e62c6e7",
              "version_minor": 0,
              "version_major": 2
            },
            "text/plain": [
              "HBox(children=(FloatProgress(value=0.0, description='Epoch 2', max=1222.0, style=ProgressStyle(description_wid…"
            ]
          },
          "metadata": {
            "tags": []
          }
        },
        {
          "output_type": "stream",
          "text": [
            "\r\n",
            "Epoch 2\n",
            "Training loss: 0.6981734766848934\n",
            "Validation loss: 0.7215866649606425\n",
            "F1 Score (Weighted): 0.11604033560580522\n",
            "Accuracy Score: 0.14369921937231162\n"
          ],
          "name": "stdout"
        },
        {
          "output_type": "display_data",
          "data": {
            "application/vnd.jupyter.widget-view+json": {
              "model_id": "bf150291a98d4461b6b5507f022b8af0",
              "version_minor": 0,
              "version_major": 2
            },
            "text/plain": [
              "HBox(children=(FloatProgress(value=0.0, description='Epoch 3', max=1222.0, style=ProgressStyle(description_wid…"
            ]
          },
          "metadata": {
            "tags": []
          }
        },
        {
          "output_type": "stream",
          "text": [
            "\r\n",
            "Epoch 3\n",
            "Training loss: 0.6927972835916935\n",
            "Validation loss: 0.7328691540250353\n",
            "F1 Score (Weighted): 0.5350796346939389\n",
            "Accuracy Score: 0.436514258403696\n"
          ],
          "name": "stdout"
        },
        {
          "output_type": "display_data",
          "data": {
            "application/vnd.jupyter.widget-view+json": {
              "model_id": "19a8601c0f38445ba683a3c786dd846a",
              "version_minor": 0,
              "version_major": 2
            },
            "text/plain": [
              "HBox(children=(FloatProgress(value=0.0, description='Epoch 4', max=1222.0, style=ProgressStyle(description_wid…"
            ]
          },
          "metadata": {
            "tags": []
          }
        },
        {
          "output_type": "stream",
          "text": [
            "\r\n",
            "Epoch 4\n",
            "Training loss: 0.66691830003125\n",
            "Validation loss: 0.8822276276387986\n",
            "F1 Score (Weighted): 0.4908227774340551\n",
            "Accuracy Score: 0.39477457384100684\n"
          ],
          "name": "stdout"
        },
        {
          "output_type": "display_data",
          "data": {
            "application/vnd.jupyter.widget-view+json": {
              "model_id": "50e530033abb44009b20662ddc63ee59",
              "version_minor": 0,
              "version_major": 2
            },
            "text/plain": [
              "HBox(children=(FloatProgress(value=0.0, description='Epoch 5', max=1222.0, style=ProgressStyle(description_wid…"
            ]
          },
          "metadata": {
            "tags": []
          }
        },
        {
          "output_type": "stream",
          "text": [
            "\r\n",
            "Epoch 5\n",
            "Training loss: 0.5918226159145711\n",
            "Validation loss: 0.8711390032699913\n",
            "F1 Score (Weighted): 0.5798913255206617\n",
            "Accuracy Score: 0.4809622431097658\n",
            "\n"
          ],
          "name": "stdout"
        }
      ]
    },
    {
      "cell_type": "code",
      "metadata": {
        "colab": {
          "base_uri": "https://localhost:8080/"
        },
        "id": "y-nesQk_bx0h",
        "outputId": "d640ab3c-ef38-4c27-8eca-2b48f2d346c0"
      },
      "source": [
        "print(test_pred.shape)\n",
        "print(test_true_vals.shape)"
      ],
      "execution_count": null,
      "outputs": [
        {
          "output_type": "stream",
          "text": [
            "(7847, 2)\n",
            "(7847,)\n"
          ],
          "name": "stdout"
        }
      ]
    },
    {
      "cell_type": "code",
      "metadata": {
        "id": "QnvVbZpUmK-9",
        "colab": {
          "base_uri": "https://localhost:8080/"
        },
        "outputId": "3a751064-4a18-4afe-cb1c-0849a1531081"
      },
      "source": [
        "# Test data results \n",
        "test_f1 = f1_score_func(test_pred, test_true_vals)\n",
        "test_acc=Accuracy_Score(test_pred,test_true_vals)\n",
        "tqdm.write(f'F1 Score (Weighted): {test_f1}')\n",
        "tqdm.write(f'Accuracy Score: {test_acc}')"
      ],
      "execution_count": null,
      "outputs": [
        {
          "output_type": "stream",
          "text": [
            "F1 Score (Weighted): 0.5812638334154133\n",
            "Accuracy Score: 0.4828596916018861\n"
          ],
          "name": "stdout"
        }
      ]
    },
    {
      "cell_type": "code",
      "metadata": {
        "id": "8VfPigd3mnBY",
        "colab": {
          "base_uri": "https://localhost:8080/",
          "height": 630
        },
        "outputId": "255302c4-b1e3-479f-ac5d-2412d1e990dd"
      },
      "source": [
        "def plot_confusion_matrix(cm,\n",
        "                          target_names,\n",
        "                          title='Confusion matrix',\n",
        "                          cmap=None,\n",
        "                          normalize=False):\n",
        "    \"\"\"\n",
        "    given a sklearn confusion matrix (cm), make a nice plot\n",
        "\n",
        "    Arguments\n",
        "    ---------\n",
        "    cm:           confusion matrix from sklearn.metrics.confusion_matrix\n",
        "    target_names: given classification classes such as [0, 1, 2]\n",
        "                  the class names, for example: ['high', 'medium', 'low']\n",
        "    title:        the text to display at the top of the matrix\n",
        "    cmap:         the gradient of the values displayed from matplotlib.pyplot.cm\n",
        "                  see http://matplotlib.org/examples/color/colormaps_reference.html\n",
        "                  plt.get_cmap('jet') or plt.cm.Blues\n",
        "\n",
        "    normalize:    If False, plot the raw numbers\n",
        "                  If True, plot the proportions\n",
        "\n",
        "    Usage\n",
        "    -----\n",
        "    plot_confusion_matrix(cm           = cm,                  # confusion matrix created by\n",
        "                                                              # sklearn.metrics.confusion_matrix\n",
        "                          normalize    = True,                # show proportions\n",
        "                          target_names = y_labels_vals,       # list of names of the classes\n",
        "                          title        = best_estimator_name) # title of graph\n",
        "\n",
        "    Citiation\n",
        "    ---------\n",
        "    http://scikit-learn.org/stable/auto_examples/model_selection/plot_confusion_matrix.html\n",
        "\n",
        "    \"\"\"\n",
        "    accuracy = np.trace(cm) / np.sum(cm).astype('float')\n",
        "    misclass = 1 - accuracy\n",
        "\n",
        "    if cmap is None:\n",
        "        cmap = plt.get_cmap('Blues')\n",
        "\n",
        "    plt.figure(figsize=(8, 6))\n",
        "    plt.imshow(cm, interpolation='nearest', cmap=cmap)\n",
        "    plt.title(title,fontsize=20)\n",
        "    plt.colorbar()\n",
        "\n",
        "    if target_names is not None:\n",
        "        tick_marks = np.arange(len(target_names))\n",
        "        plt.xticks(tick_marks, target_names, rotation=0,fontsize=20)\n",
        "        plt.yticks(tick_marks, target_names,fontsize=20)\n",
        "\n",
        "    if normalize:\n",
        "        cm = cm.astype('float') / cm.sum(axis=1)[:, np.newaxis]\n",
        "\n",
        "\n",
        "    thresh = cm.max() / 1.5 if normalize else cm.max() / 2\n",
        "    for i, j in itertools.product(range(cm.shape[0]), range(cm.shape[1])):\n",
        "        if normalize:\n",
        "            plt.text(j, i, \"{:0.4f}\".format(cm[i, j]),\n",
        "                     horizontalalignment=\"center\",fontsize=30,\n",
        "                     color=\"white\" if cm[i, j] > thresh else \"black\")\n",
        "        else:\n",
        "            plt.text(j, i, \"{:,}\".format(cm[i, j]),\n",
        "                     horizontalalignment=\"center\",fontsize=30,\n",
        "                     color=\"white\" if cm[i, j] > thresh else \"black\" )\n",
        "\n",
        "\n",
        "    plt.tight_layout()\n",
        "    plt.ylabel('True label',fontsize=16)\n",
        "    plt.xlabel('Predicted label\\naccuracy={:0.4f}; misclass={:0.4f}'.format(accuracy, misclass),fontsize=16)\n",
        "    plt.show()\n",
        "\n",
        "def plot(neglabel,poslabel,preds,labels):\n",
        "  \"\"\"\n",
        "  input : neglabel - false label\n",
        "          poslabel - true label \n",
        "          y_true - true y_labels \n",
        "          y_pred - predicted y_labels\n",
        "  plots : confusion matrix for the y_true and y_pred that is being passed \n",
        "  \"\"\"\n",
        "  y_pred = np.argmax(preds, axis=1).flatten()\n",
        "  y_true = labels.flatten()\n",
        "  # Classification Report\n",
        "  print(Report(y_true,y_pred))\n",
        "  # Label Names\n",
        "  target_names = [neglabel,poslabel]\n",
        "  # Confusion Matrix\n",
        "  cm = confusion_matrix(y_true, y_pred)\n",
        "  # Actual Plot (Downloadble)\n",
        "  plot_confusion_matrix(cm, target_names)\n",
        "\n",
        "plot(\"Non-NE\",\"NE\",test_pred, test_true_vals)"
      ],
      "execution_count": null,
      "outputs": [
        {
          "output_type": "stream",
          "text": [
            "              precision    recall  f1-score   support\n",
            "\n",
            "           0       0.90      0.48      0.63      7083\n",
            "           1       0.09      0.49      0.16       764\n",
            "\n",
            "    accuracy                           0.48      7847\n",
            "   macro avg       0.50      0.49      0.39      7847\n",
            "weighted avg       0.82      0.48      0.58      7847\n",
            "\n"
          ],
          "name": "stdout"
        },
        {
          "output_type": "display_data",
          "data": {
            "image/png": "[encoded data removed]",
            "text/plain": [
              "<Figure size 576x432 with 2 Axes>"
            ]
          },
          "metadata": {
            "tags": [],
            "needs_background": "light"
          }
        }
      ]
    },
    {
      "cell_type": "code",
      "metadata": {
        "id": "5SfwOD7_GoHQ"
      },
      "source": [
        "# save the test true labels and test predictions \n",
        "np.save(\"NE_test_pred\",test_pred)\n",
        "np.save(\"NE_test_true_labels\",test_true_vals)"
      ],
      "execution_count": null,
      "outputs": []
    }
  ]
}