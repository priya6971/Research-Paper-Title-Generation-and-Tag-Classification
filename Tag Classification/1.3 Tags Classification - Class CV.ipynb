{
  "nbformat": 4,
  "nbformat_minor": 0,
  "metadata": {
    "colab": {
      "name": "Tags_Classification_Class_CV_Final_Code .ipynb",
      "provenance": [],
      "toc_visible": true
    },
    "kernelspec": {
      "name": "python3",
      "display_name": "Python 3"
    },
    "language_info": {
      "name": "python"
    },
    "widgets": {
      "application/vnd.jupyter.widget-state+json": {
        "3e823bfe54d44de3bddd1d5b6d7412c7": {
          "model_module": "@jupyter-widgets/controls",
          "model_name": "HBoxModel",
          "state": {
            "_view_name": "HBoxView",
            "_dom_classes": [],
            "_model_name": "HBoxModel",
            "_view_module": "@jupyter-widgets/controls",
            "_model_module_version": "1.5.0",
            "_view_count": null,
            "_view_module_version": "1.5.0",
            "box_style": "",
            "layout": "IPY_MODEL_8756a3793cee4cc4be07eb0e01eac23b",
            "_model_module": "@jupyter-widgets/controls",
            "children": [
              "IPY_MODEL_37e2f1d2d6324092aa1377d15ec082ca",
              "IPY_MODEL_8b5d7f93b79642b8a030f459beb667c3"
            ]
          }
        },
        "8756a3793cee4cc4be07eb0e01eac23b": {
          "model_module": "@jupyter-widgets/base",
          "model_name": "LayoutModel",
          "state": {
            "_view_name": "LayoutView",
            "grid_template_rows": null,
            "right": null,
            "justify_content": null,
            "_view_module": "@jupyter-widgets/base",
            "overflow": null,
            "_model_module_version": "1.2.0",
            "_view_count": null,
            "flex_flow": null,
            "width": null,
            "min_width": null,
            "border": null,
            "align_items": null,
            "bottom": null,
            "_model_module": "@jupyter-widgets/base",
            "top": null,
            "grid_column": null,
            "overflow_y": null,
            "overflow_x": null,
            "grid_auto_flow": null,
            "grid_area": null,
            "grid_template_columns": null,
            "flex": null,
            "_model_name": "LayoutModel",
            "justify_items": null,
            "grid_row": null,
            "max_height": null,
            "align_content": null,
            "visibility": null,
            "align_self": null,
            "height": null,
            "min_height": null,
            "padding": null,
            "grid_auto_rows": null,
            "grid_gap": null,
            "max_width": null,
            "order": null,
            "_view_module_version": "1.2.0",
            "grid_template_areas": null,
            "object_position": null,
            "object_fit": null,
            "grid_auto_columns": null,
            "margin": null,
            "display": null,
            "left": null
          }
        },
        "37e2f1d2d6324092aa1377d15ec082ca": {
          "model_module": "@jupyter-widgets/controls",
          "model_name": "FloatProgressModel",
          "state": {
            "_view_name": "ProgressView",
            "style": "IPY_MODEL_f4d624c240be4bce8779a6bd856d625f",
            "_dom_classes": [],
            "description": "Downloading: 100%",
            "_model_name": "FloatProgressModel",
            "bar_style": "success",
            "max": 213450,
            "_view_module": "@jupyter-widgets/controls",
            "_model_module_version": "1.5.0",
            "value": 213450,
            "_view_count": null,
            "_view_module_version": "1.5.0",
            "orientation": "horizontal",
            "min": 0,
            "description_tooltip": null,
            "_model_module": "@jupyter-widgets/controls",
            "layout": "IPY_MODEL_8a636a0cf94746659c77bb0316ef9469"
          }
        },
        "8b5d7f93b79642b8a030f459beb667c3": {
          "model_module": "@jupyter-widgets/controls",
          "model_name": "HTMLModel",
          "state": {
            "_view_name": "HTMLView",
            "style": "IPY_MODEL_f4b268379f8f4841b64f723371d3232b",
            "_dom_classes": [],
            "description": "",
            "_model_name": "HTMLModel",
            "placeholder": "​",
            "_view_module": "@jupyter-widgets/controls",
            "_model_module_version": "1.5.0",
            "value": " 213k/213k [00:00&lt;00:00, 717kB/s]",
            "_view_count": null,
            "_view_module_version": "1.5.0",
            "description_tooltip": null,
            "_model_module": "@jupyter-widgets/controls",
            "layout": "IPY_MODEL_92473da0f6c04324bd47cc8159503740"
          }
        },
        "f4d624c240be4bce8779a6bd856d625f": {
          "model_module": "@jupyter-widgets/controls",
          "model_name": "ProgressStyleModel",
          "state": {
            "_view_name": "StyleView",
            "_model_name": "ProgressStyleModel",
            "description_width": "initial",
            "_view_module": "@jupyter-widgets/base",
            "_model_module_version": "1.5.0",
            "_view_count": null,
            "_view_module_version": "1.2.0",
            "bar_color": null,
            "_model_module": "@jupyter-widgets/controls"
          }
        },
        "8a636a0cf94746659c77bb0316ef9469": {
          "model_module": "@jupyter-widgets/base",
          "model_name": "LayoutModel",
          "state": {
            "_view_name": "LayoutView",
            "grid_template_rows": null,
            "right": null,
            "justify_content": null,
            "_view_module": "@jupyter-widgets/base",
            "overflow": null,
            "_model_module_version": "1.2.0",
            "_view_count": null,
            "flex_flow": null,
            "width": null,
            "min_width": null,
            "border": null,
            "align_items": null,
            "bottom": null,
            "_model_module": "@jupyter-widgets/base",
            "top": null,
            "grid_column": null,
            "overflow_y": null,
            "overflow_x": null,
            "grid_auto_flow": null,
            "grid_area": null,
            "grid_template_columns": null,
            "flex": null,
            "_model_name": "LayoutModel",
            "justify_items": null,
            "grid_row": null,
            "max_height": null,
            "align_content": null,
            "visibility": null,
            "align_self": null,
            "height": null,
            "min_height": null,
            "padding": null,
            "grid_auto_rows": null,
            "grid_gap": null,
            "max_width": null,
            "order": null,
            "_view_module_version": "1.2.0",
            "grid_template_areas": null,
            "object_position": null,
            "object_fit": null,
            "grid_auto_columns": null,
            "margin": null,
            "display": null,
            "left": null
          }
        },
        "f4b268379f8f4841b64f723371d3232b": {
          "model_module": "@jupyter-widgets/controls",
          "model_name": "DescriptionStyleModel",
          "state": {
            "_view_name": "StyleView",
            "_model_name": "DescriptionStyleModel",
            "description_width": "",
            "_view_module": "@jupyter-widgets/base",
            "_model_module_version": "1.5.0",
            "_view_count": null,
            "_view_module_version": "1.2.0",
            "_model_module": "@jupyter-widgets/controls"
          }
        },
        "92473da0f6c04324bd47cc8159503740": {
          "model_module": "@jupyter-widgets/base",
          "model_name": "LayoutModel",
          "state": {
            "_view_name": "LayoutView",
            "grid_template_rows": null,
            "right": null,
            "justify_content": null,
            "_view_module": "@jupyter-widgets/base",
            "overflow": null,
            "_model_module_version": "1.2.0",
            "_view_count": null,
            "flex_flow": null,
            "width": null,
            "min_width": null,
            "border": null,
            "align_items": null,
            "bottom": null,
            "_model_module": "@jupyter-widgets/base",
            "top": null,
            "grid_column": null,
            "overflow_y": null,
            "overflow_x": null,
            "grid_auto_flow": null,
            "grid_area": null,
            "grid_template_columns": null,
            "flex": null,
            "_model_name": "LayoutModel",
            "justify_items": null,
            "grid_row": null,
            "max_height": null,
            "align_content": null,
            "visibility": null,
            "align_self": null,
            "height": null,
            "min_height": null,
            "padding": null,
            "grid_auto_rows": null,
            "grid_gap": null,
            "max_width": null,
            "order": null,
            "_view_module_version": "1.2.0",
            "grid_template_areas": null,
            "object_position": null,
            "object_fit": null,
            "grid_auto_columns": null,
            "margin": null,
            "display": null,
            "left": null
          }
        },
        "6bd716131db24226a7d66d4743fc91c6": {
          "model_module": "@jupyter-widgets/controls",
          "model_name": "HBoxModel",
          "state": {
            "_view_name": "HBoxView",
            "_dom_classes": [],
            "_model_name": "HBoxModel",
            "_view_module": "@jupyter-widgets/controls",
            "_model_module_version": "1.5.0",
            "_view_count": null,
            "_view_module_version": "1.5.0",
            "box_style": "",
            "layout": "IPY_MODEL_d2d010bf90d9441b97f0b9af1d7b9fce",
            "_model_module": "@jupyter-widgets/controls",
            "children": [
              "IPY_MODEL_d273db26c4af4c91b6c18b866091d7e4",
              "IPY_MODEL_c374fefa8d0e4f78a37d314fc526771d"
            ]
          }
        },
        "d2d010bf90d9441b97f0b9af1d7b9fce": {
          "model_module": "@jupyter-widgets/base",
          "model_name": "LayoutModel",
          "state": {
            "_view_name": "LayoutView",
            "grid_template_rows": null,
            "right": null,
            "justify_content": null,
            "_view_module": "@jupyter-widgets/base",
            "overflow": null,
            "_model_module_version": "1.2.0",
            "_view_count": null,
            "flex_flow": null,
            "width": null,
            "min_width": null,
            "border": null,
            "align_items": null,
            "bottom": null,
            "_model_module": "@jupyter-widgets/base",
            "top": null,
            "grid_column": null,
            "overflow_y": null,
            "overflow_x": null,
            "grid_auto_flow": null,
            "grid_area": null,
            "grid_template_columns": null,
            "flex": null,
            "_model_name": "LayoutModel",
            "justify_items": null,
            "grid_row": null,
            "max_height": null,
            "align_content": null,
            "visibility": null,
            "align_self": null,
            "height": null,
            "min_height": null,
            "padding": null,
            "grid_auto_rows": null,
            "grid_gap": null,
            "max_width": null,
            "order": null,
            "_view_module_version": "1.2.0",
            "grid_template_areas": null,
            "object_position": null,
            "object_fit": null,
            "grid_auto_columns": null,
            "margin": null,
            "display": null,
            "left": null
          }
        },
        "d273db26c4af4c91b6c18b866091d7e4": {
          "model_module": "@jupyter-widgets/controls",
          "model_name": "FloatProgressModel",
          "state": {
            "_view_name": "ProgressView",
            "style": "IPY_MODEL_0acf6a5b12f4433f89a2c8f21c6de3fc",
            "_dom_classes": [],
            "description": "Downloading: 100%",
            "_model_name": "FloatProgressModel",
            "bar_style": "success",
            "max": 29,
            "_view_module": "@jupyter-widgets/controls",
            "_model_module_version": "1.5.0",
            "value": 29,
            "_view_count": null,
            "_view_module_version": "1.5.0",
            "orientation": "horizontal",
            "min": 0,
            "description_tooltip": null,
            "_model_module": "@jupyter-widgets/controls",
            "layout": "IPY_MODEL_bb4657196f04426083536f17251702c8"
          }
        },
        "c374fefa8d0e4f78a37d314fc526771d": {
          "model_module": "@jupyter-widgets/controls",
          "model_name": "HTMLModel",
          "state": {
            "_view_name": "HTMLView",
            "style": "IPY_MODEL_93ea2210094f4cdcbcf9560650558f30",
            "_dom_classes": [],
            "description": "",
            "_model_name": "HTMLModel",
            "placeholder": "​",
            "_view_module": "@jupyter-widgets/controls",
            "_model_module_version": "1.5.0",
            "value": " 29.0/29.0 [00:00&lt;00:00, 302B/s]",
            "_view_count": null,
            "_view_module_version": "1.5.0",
            "description_tooltip": null,
            "_model_module": "@jupyter-widgets/controls",
            "layout": "IPY_MODEL_61220c15a40c47daa2604ab51d42d503"
          }
        },
        "0acf6a5b12f4433f89a2c8f21c6de3fc": {
          "model_module": "@jupyter-widgets/controls",
          "model_name": "ProgressStyleModel",
          "state": {
            "_view_name": "StyleView",
            "_model_name": "ProgressStyleModel",
            "description_width": "initial",
            "_view_module": "@jupyter-widgets/base",
            "_model_module_version": "1.5.0",
            "_view_count": null,
            "_view_module_version": "1.2.0",
            "bar_color": null,
            "_model_module": "@jupyter-widgets/controls"
          }
        },
        "bb4657196f04426083536f17251702c8": {
          "model_module": "@jupyter-widgets/base",
          "model_name": "LayoutModel",
          "state": {
            "_view_name": "LayoutView",
            "grid_template_rows": null,
            "right": null,
            "justify_content": null,
            "_view_module": "@jupyter-widgets/base",
            "overflow": null,
            "_model_module_version": "1.2.0",
            "_view_count": null,
            "flex_flow": null,
            "width": null,
            "min_width": null,
            "border": null,
            "align_items": null,
            "bottom": null,
            "_model_module": "@jupyter-widgets/base",
            "top": null,
            "grid_column": null,
            "overflow_y": null,
            "overflow_x": null,
            "grid_auto_flow": null,
            "grid_area": null,
            "grid_template_columns": null,
            "flex": null,
            "_model_name": "LayoutModel",
            "justify_items": null,
            "grid_row": null,
            "max_height": null,
            "align_content": null,
            "visibility": null,
            "align_self": null,
            "height": null,
            "min_height": null,
            "padding": null,
            "grid_auto_rows": null,
            "grid_gap": null,
            "max_width": null,
            "order": null,
            "_view_module_version": "1.2.0",
            "grid_template_areas": null,
            "object_position": null,
            "object_fit": null,
            "grid_auto_columns": null,
            "margin": null,
            "display": null,
            "left": null
          }
        },
        "93ea2210094f4cdcbcf9560650558f30": {
          "model_module": "@jupyter-widgets/controls",
          "model_name": "DescriptionStyleModel",
          "state": {
            "_view_name": "StyleView",
            "_model_name": "DescriptionStyleModel",
            "description_width": "",
            "_view_module": "@jupyter-widgets/base",
            "_model_module_version": "1.5.0",
            "_view_count": null,
            "_view_module_version": "1.2.0",
            "_model_module": "@jupyter-widgets/controls"
          }
        },
        "61220c15a40c47daa2604ab51d42d503": {
          "model_module": "@jupyter-widgets/base",
          "model_name": "LayoutModel",
          "state": {
            "_view_name": "LayoutView",
            "grid_template_rows": null,
            "right": null,
            "justify_content": null,
            "_view_module": "@jupyter-widgets/base",
            "overflow": null,
            "_model_module_version": "1.2.0",
            "_view_count": null,
            "flex_flow": null,
            "width": null,
            "min_width": null,
            "border": null,
            "align_items": null,
            "bottom": null,
            "_model_module": "@jupyter-widgets/base",
            "top": null,
            "grid_column": null,
            "overflow_y": null,
            "overflow_x": null,
            "grid_auto_flow": null,
            "grid_area": null,
            "grid_template_columns": null,
            "flex": null,
            "_model_name": "LayoutModel",
            "justify_items": null,
            "grid_row": null,
            "max_height": null,
            "align_content": null,
            "visibility": null,
            "align_self": null,
            "height": null,
            "min_height": null,
            "padding": null,
            "grid_auto_rows": null,
            "grid_gap": null,
            "max_width": null,
            "order": null,
            "_view_module_version": "1.2.0",
            "grid_template_areas": null,
            "object_position": null,
            "object_fit": null,
            "grid_auto_columns": null,
            "margin": null,
            "display": null,
            "left": null
          }
        },
        "dc29a2ca35da45cca47f8dd1d4d6b249": {
          "model_module": "@jupyter-widgets/controls",
          "model_name": "HBoxModel",
          "state": {
            "_view_name": "HBoxView",
            "_dom_classes": [],
            "_model_name": "HBoxModel",
            "_view_module": "@jupyter-widgets/controls",
            "_model_module_version": "1.5.0",
            "_view_count": null,
            "_view_module_version": "1.5.0",
            "box_style": "",
            "layout": "IPY_MODEL_dcb36ae271814c5cbe71b7f963f5d76e",
            "_model_module": "@jupyter-widgets/controls",
            "children": [
              "IPY_MODEL_d3e006817515491dab87653afb0be070",
              "IPY_MODEL_b4c02a28b39f41fe9436c77d7a6413ec"
            ]
          }
        },
        "dcb36ae271814c5cbe71b7f963f5d76e": {
          "model_module": "@jupyter-widgets/base",
          "model_name": "LayoutModel",
          "state": {
            "_view_name": "LayoutView",
            "grid_template_rows": null,
            "right": null,
            "justify_content": null,
            "_view_module": "@jupyter-widgets/base",
            "overflow": null,
            "_model_module_version": "1.2.0",
            "_view_count": null,
            "flex_flow": null,
            "width": null,
            "min_width": null,
            "border": null,
            "align_items": null,
            "bottom": null,
            "_model_module": "@jupyter-widgets/base",
            "top": null,
            "grid_column": null,
            "overflow_y": null,
            "overflow_x": null,
            "grid_auto_flow": null,
            "grid_area": null,
            "grid_template_columns": null,
            "flex": null,
            "_model_name": "LayoutModel",
            "justify_items": null,
            "grid_row": null,
            "max_height": null,
            "align_content": null,
            "visibility": null,
            "align_self": null,
            "height": null,
            "min_height": null,
            "padding": null,
            "grid_auto_rows": null,
            "grid_gap": null,
            "max_width": null,
            "order": null,
            "_view_module_version": "1.2.0",
            "grid_template_areas": null,
            "object_position": null,
            "object_fit": null,
            "grid_auto_columns": null,
            "margin": null,
            "display": null,
            "left": null
          }
        },
        "d3e006817515491dab87653afb0be070": {
          "model_module": "@jupyter-widgets/controls",
          "model_name": "FloatProgressModel",
          "state": {
            "_view_name": "ProgressView",
            "style": "IPY_MODEL_1b0971c91a2f4191bf2a190fe960bc5b",
            "_dom_classes": [],
            "description": "Downloading: 100%",
            "_model_name": "FloatProgressModel",
            "bar_style": "success",
            "max": 435797,
            "_view_module": "@jupyter-widgets/controls",
            "_model_module_version": "1.5.0",
            "value": 435797,
            "_view_count": null,
            "_view_module_version": "1.5.0",
            "orientation": "horizontal",
            "min": 0,
            "description_tooltip": null,
            "_model_module": "@jupyter-widgets/controls",
            "layout": "IPY_MODEL_e0eac2743701401787f3d9c470fa7467"
          }
        },
        "b4c02a28b39f41fe9436c77d7a6413ec": {
          "model_module": "@jupyter-widgets/controls",
          "model_name": "HTMLModel",
          "state": {
            "_view_name": "HTMLView",
            "style": "IPY_MODEL_dd4e8e18287f4db8b9ea9a1de6ea87fb",
            "_dom_classes": [],
            "description": "",
            "_model_name": "HTMLModel",
            "placeholder": "​",
            "_view_module": "@jupyter-widgets/controls",
            "_model_module_version": "1.5.0",
            "value": " 436k/436k [00:00&lt;00:00, 4.33MB/s]",
            "_view_count": null,
            "_view_module_version": "1.5.0",
            "description_tooltip": null,
            "_model_module": "@jupyter-widgets/controls",
            "layout": "IPY_MODEL_91fa0a12643047c3b4aa1ec9b7cd963e"
          }
        },
        "1b0971c91a2f4191bf2a190fe960bc5b": {
          "model_module": "@jupyter-widgets/controls",
          "model_name": "ProgressStyleModel",
          "state": {
            "_view_name": "StyleView",
            "_model_name": "ProgressStyleModel",
            "description_width": "initial",
            "_view_module": "@jupyter-widgets/base",
            "_model_module_version": "1.5.0",
            "_view_count": null,
            "_view_module_version": "1.2.0",
            "bar_color": null,
            "_model_module": "@jupyter-widgets/controls"
          }
        },
        "e0eac2743701401787f3d9c470fa7467": {
          "model_module": "@jupyter-widgets/base",
          "model_name": "LayoutModel",
          "state": {
            "_view_name": "LayoutView",
            "grid_template_rows": null,
            "right": null,
            "justify_content": null,
            "_view_module": "@jupyter-widgets/base",
            "overflow": null,
            "_model_module_version": "1.2.0",
            "_view_count": null,
            "flex_flow": null,
            "width": null,
            "min_width": null,
            "border": null,
            "align_items": null,
            "bottom": null,
            "_model_module": "@jupyter-widgets/base",
            "top": null,
            "grid_column": null,
            "overflow_y": null,
            "overflow_x": null,
            "grid_auto_flow": null,
            "grid_area": null,
            "grid_template_columns": null,
            "flex": null,
            "_model_name": "LayoutModel",
            "justify_items": null,
            "grid_row": null,
            "max_height": null,
            "align_content": null,
            "visibility": null,
            "align_self": null,
            "height": null,
            "min_height": null,
            "padding": null,
            "grid_auto_rows": null,
            "grid_gap": null,
            "max_width": null,
            "order": null,
            "_view_module_version": "1.2.0",
            "grid_template_areas": null,
            "object_position": null,
            "object_fit": null,
            "grid_auto_columns": null,
            "margin": null,
            "display": null,
            "left": null
          }
        },
        "dd4e8e18287f4db8b9ea9a1de6ea87fb": {
          "model_module": "@jupyter-widgets/controls",
          "model_name": "DescriptionStyleModel",
          "state": {
            "_view_name": "StyleView",
            "_model_name": "DescriptionStyleModel",
            "description_width": "",
            "_view_module": "@jupyter-widgets/base",
            "_model_module_version": "1.5.0",
            "_view_count": null,
            "_view_module_version": "1.2.0",
            "_model_module": "@jupyter-widgets/controls"
          }
        },
        "91fa0a12643047c3b4aa1ec9b7cd963e": {
          "model_module": "@jupyter-widgets/base",
          "model_name": "LayoutModel",
          "state": {
            "_view_name": "LayoutView",
            "grid_template_rows": null,
            "right": null,
            "justify_content": null,
            "_view_module": "@jupyter-widgets/base",
            "overflow": null,
            "_model_module_version": "1.2.0",
            "_view_count": null,
            "flex_flow": null,
            "width": null,
            "min_width": null,
            "border": null,
            "align_items": null,
            "bottom": null,
            "_model_module": "@jupyter-widgets/base",
            "top": null,
            "grid_column": null,
            "overflow_y": null,
            "overflow_x": null,
            "grid_auto_flow": null,
            "grid_area": null,
            "grid_template_columns": null,
            "flex": null,
            "_model_name": "LayoutModel",
            "justify_items": null,
            "grid_row": null,
            "max_height": null,
            "align_content": null,
            "visibility": null,
            "align_self": null,
            "height": null,
            "min_height": null,
            "padding": null,
            "grid_auto_rows": null,
            "grid_gap": null,
            "max_width": null,
            "order": null,
            "_view_module_version": "1.2.0",
            "grid_template_areas": null,
            "object_position": null,
            "object_fit": null,
            "grid_auto_columns": null,
            "margin": null,
            "display": null,
            "left": null
          }
        },
        "079007e20d12436a9e7078b6f4d95f08": {
          "model_module": "@jupyter-widgets/controls",
          "model_name": "HBoxModel",
          "state": {
            "_view_name": "HBoxView",
            "_dom_classes": [],
            "_model_name": "HBoxModel",
            "_view_module": "@jupyter-widgets/controls",
            "_model_module_version": "1.5.0",
            "_view_count": null,
            "_view_module_version": "1.5.0",
            "box_style": "",
            "layout": "IPY_MODEL_8ba8aa18ba304aa081bda76464328643",
            "_model_module": "@jupyter-widgets/controls",
            "children": [
              "IPY_MODEL_2a0820f3b1c04c1c9eda3b95c422c472",
              "IPY_MODEL_5d7b92a4ab9347868f2f8b12510a07f5"
            ]
          }
        },
        "8ba8aa18ba304aa081bda76464328643": {
          "model_module": "@jupyter-widgets/base",
          "model_name": "LayoutModel",
          "state": {
            "_view_name": "LayoutView",
            "grid_template_rows": null,
            "right": null,
            "justify_content": null,
            "_view_module": "@jupyter-widgets/base",
            "overflow": null,
            "_model_module_version": "1.2.0",
            "_view_count": null,
            "flex_flow": null,
            "width": null,
            "min_width": null,
            "border": null,
            "align_items": null,
            "bottom": null,
            "_model_module": "@jupyter-widgets/base",
            "top": null,
            "grid_column": null,
            "overflow_y": null,
            "overflow_x": null,
            "grid_auto_flow": null,
            "grid_area": null,
            "grid_template_columns": null,
            "flex": null,
            "_model_name": "LayoutModel",
            "justify_items": null,
            "grid_row": null,
            "max_height": null,
            "align_content": null,
            "visibility": null,
            "align_self": null,
            "height": null,
            "min_height": null,
            "padding": null,
            "grid_auto_rows": null,
            "grid_gap": null,
            "max_width": null,
            "order": null,
            "_view_module_version": "1.2.0",
            "grid_template_areas": null,
            "object_position": null,
            "object_fit": null,
            "grid_auto_columns": null,
            "margin": null,
            "display": null,
            "left": null
          }
        },
        "2a0820f3b1c04c1c9eda3b95c422c472": {
          "model_module": "@jupyter-widgets/controls",
          "model_name": "FloatProgressModel",
          "state": {
            "_view_name": "ProgressView",
            "style": "IPY_MODEL_c6cb6f040e95492ca6b7e6bdc8ddd8f9",
            "_dom_classes": [],
            "description": "Downloading: 100%",
            "_model_name": "FloatProgressModel",
            "bar_style": "success",
            "max": 570,
            "_view_module": "@jupyter-widgets/controls",
            "_model_module_version": "1.5.0",
            "value": 570,
            "_view_count": null,
            "_view_module_version": "1.5.0",
            "orientation": "horizontal",
            "min": 0,
            "description_tooltip": null,
            "_model_module": "@jupyter-widgets/controls",
            "layout": "IPY_MODEL_714151da9ec74c2797bdd0c99660e5eb"
          }
        },
        "5d7b92a4ab9347868f2f8b12510a07f5": {
          "model_module": "@jupyter-widgets/controls",
          "model_name": "HTMLModel",
          "state": {
            "_view_name": "HTMLView",
            "style": "IPY_MODEL_f52c9310edd948439d1ccea373d1dfb8",
            "_dom_classes": [],
            "description": "",
            "_model_name": "HTMLModel",
            "placeholder": "​",
            "_view_module": "@jupyter-widgets/controls",
            "_model_module_version": "1.5.0",
            "value": " 570/570 [00:00&lt;00:00, 2.86kB/s]",
            "_view_count": null,
            "_view_module_version": "1.5.0",
            "description_tooltip": null,
            "_model_module": "@jupyter-widgets/controls",
            "layout": "IPY_MODEL_20146a65462844539d965c0d2be18b96"
          }
        },
        "c6cb6f040e95492ca6b7e6bdc8ddd8f9": {
          "model_module": "@jupyter-widgets/controls",
          "model_name": "ProgressStyleModel",
          "state": {
            "_view_name": "StyleView",
            "_model_name": "ProgressStyleModel",
            "description_width": "initial",
            "_view_module": "@jupyter-widgets/base",
            "_model_module_version": "1.5.0",
            "_view_count": null,
            "_view_module_version": "1.2.0",
            "bar_color": null,
            "_model_module": "@jupyter-widgets/controls"
          }
        },
        "714151da9ec74c2797bdd0c99660e5eb": {
          "model_module": "@jupyter-widgets/base",
          "model_name": "LayoutModel",
          "state": {
            "_view_name": "LayoutView",
            "grid_template_rows": null,
            "right": null,
            "justify_content": null,
            "_view_module": "@jupyter-widgets/base",
            "overflow": null,
            "_model_module_version": "1.2.0",
            "_view_count": null,
            "flex_flow": null,
            "width": null,
            "min_width": null,
            "border": null,
            "align_items": null,
            "bottom": null,
            "_model_module": "@jupyter-widgets/base",
            "top": null,
            "grid_column": null,
            "overflow_y": null,
            "overflow_x": null,
            "grid_auto_flow": null,
            "grid_area": null,
            "grid_template_columns": null,
            "flex": null,
            "_model_name": "LayoutModel",
            "justify_items": null,
            "grid_row": null,
            "max_height": null,
            "align_content": null,
            "visibility": null,
            "align_self": null,
            "height": null,
            "min_height": null,
            "padding": null,
            "grid_auto_rows": null,
            "grid_gap": null,
            "max_width": null,
            "order": null,
            "_view_module_version": "1.2.0",
            "grid_template_areas": null,
            "object_position": null,
            "object_fit": null,
            "grid_auto_columns": null,
            "margin": null,
            "display": null,
            "left": null
          }
        },
        "f52c9310edd948439d1ccea373d1dfb8": {
          "model_module": "@jupyter-widgets/controls",
          "model_name": "DescriptionStyleModel",
          "state": {
            "_view_name": "StyleView",
            "_model_name": "DescriptionStyleModel",
            "description_width": "",
            "_view_module": "@jupyter-widgets/base",
            "_model_module_version": "1.5.0",
            "_view_count": null,
            "_view_module_version": "1.2.0",
            "_model_module": "@jupyter-widgets/controls"
          }
        },
        "20146a65462844539d965c0d2be18b96": {
          "model_module": "@jupyter-widgets/base",
          "model_name": "LayoutModel",
          "state": {
            "_view_name": "LayoutView",
            "grid_template_rows": null,
            "right": null,
            "justify_content": null,
            "_view_module": "@jupyter-widgets/base",
            "overflow": null,
            "_model_module_version": "1.2.0",
            "_view_count": null,
            "flex_flow": null,
            "width": null,
            "min_width": null,
            "border": null,
            "align_items": null,
            "bottom": null,
            "_model_module": "@jupyter-widgets/base",
            "top": null,
            "grid_column": null,
            "overflow_y": null,
            "overflow_x": null,
            "grid_auto_flow": null,
            "grid_area": null,
            "grid_template_columns": null,
            "flex": null,
            "_model_name": "LayoutModel",
            "justify_items": null,
            "grid_row": null,
            "max_height": null,
            "align_content": null,
            "visibility": null,
            "align_self": null,
            "height": null,
            "min_height": null,
            "padding": null,
            "grid_auto_rows": null,
            "grid_gap": null,
            "max_width": null,
            "order": null,
            "_view_module_version": "1.2.0",
            "grid_template_areas": null,
            "object_position": null,
            "object_fit": null,
            "grid_auto_columns": null,
            "margin": null,
            "display": null,
            "left": null
          }
        },
        "7fc3176196bf43ad814ca278694cb1e7": {
          "model_module": "@jupyter-widgets/controls",
          "model_name": "HBoxModel",
          "state": {
            "_view_name": "HBoxView",
            "_dom_classes": [],
            "_model_name": "HBoxModel",
            "_view_module": "@jupyter-widgets/controls",
            "_model_module_version": "1.5.0",
            "_view_count": null,
            "_view_module_version": "1.5.0",
            "box_style": "",
            "layout": "IPY_MODEL_9e21e7ab5f364658b1a297f710b4c69b",
            "_model_module": "@jupyter-widgets/controls",
            "children": [
              "IPY_MODEL_148cf5f7cc9346d9891d8f0339d27db7",
              "IPY_MODEL_4e86985815ab4e3492b8353b8d4b8093"
            ]
          }
        },
        "9e21e7ab5f364658b1a297f710b4c69b": {
          "model_module": "@jupyter-widgets/base",
          "model_name": "LayoutModel",
          "state": {
            "_view_name": "LayoutView",
            "grid_template_rows": null,
            "right": null,
            "justify_content": null,
            "_view_module": "@jupyter-widgets/base",
            "overflow": null,
            "_model_module_version": "1.2.0",
            "_view_count": null,
            "flex_flow": null,
            "width": null,
            "min_width": null,
            "border": null,
            "align_items": null,
            "bottom": null,
            "_model_module": "@jupyter-widgets/base",
            "top": null,
            "grid_column": null,
            "overflow_y": null,
            "overflow_x": null,
            "grid_auto_flow": null,
            "grid_area": null,
            "grid_template_columns": null,
            "flex": null,
            "_model_name": "LayoutModel",
            "justify_items": null,
            "grid_row": null,
            "max_height": null,
            "align_content": null,
            "visibility": null,
            "align_self": null,
            "height": null,
            "min_height": null,
            "padding": null,
            "grid_auto_rows": null,
            "grid_gap": null,
            "max_width": null,
            "order": null,
            "_view_module_version": "1.2.0",
            "grid_template_areas": null,
            "object_position": null,
            "object_fit": null,
            "grid_auto_columns": null,
            "margin": null,
            "display": null,
            "left": null
          }
        },
        "148cf5f7cc9346d9891d8f0339d27db7": {
          "model_module": "@jupyter-widgets/controls",
          "model_name": "FloatProgressModel",
          "state": {
            "_view_name": "ProgressView",
            "style": "IPY_MODEL_01aa4f20ed274007912f6a115df1613d",
            "_dom_classes": [],
            "description": "Downloading: 100%",
            "_model_name": "FloatProgressModel",
            "bar_style": "success",
            "max": 435779157,
            "_view_module": "@jupyter-widgets/controls",
            "_model_module_version": "1.5.0",
            "value": 435779157,
            "_view_count": null,
            "_view_module_version": "1.5.0",
            "orientation": "horizontal",
            "min": 0,
            "description_tooltip": null,
            "_model_module": "@jupyter-widgets/controls",
            "layout": "IPY_MODEL_febd279d8605415f95e2a8a7db291403"
          }
        },
        "4e86985815ab4e3492b8353b8d4b8093": {
          "model_module": "@jupyter-widgets/controls",
          "model_name": "HTMLModel",
          "state": {
            "_view_name": "HTMLView",
            "style": "IPY_MODEL_177f14c681064d24babd95b9227d3995",
            "_dom_classes": [],
            "description": "",
            "_model_name": "HTMLModel",
            "placeholder": "​",
            "_view_module": "@jupyter-widgets/controls",
            "_model_module_version": "1.5.0",
            "value": " 436M/436M [00:13&lt;00:00, 31.1MB/s]",
            "_view_count": null,
            "_view_module_version": "1.5.0",
            "description_tooltip": null,
            "_model_module": "@jupyter-widgets/controls",
            "layout": "IPY_MODEL_bd09364693c646209021f6e1d4bed193"
          }
        },
        "01aa4f20ed274007912f6a115df1613d": {
          "model_module": "@jupyter-widgets/controls",
          "model_name": "ProgressStyleModel",
          "state": {
            "_view_name": "StyleView",
            "_model_name": "ProgressStyleModel",
            "description_width": "initial",
            "_view_module": "@jupyter-widgets/base",
            "_model_module_version": "1.5.0",
            "_view_count": null,
            "_view_module_version": "1.2.0",
            "bar_color": null,
            "_model_module": "@jupyter-widgets/controls"
          }
        },
        "febd279d8605415f95e2a8a7db291403": {
          "model_module": "@jupyter-widgets/base",
          "model_name": "LayoutModel",
          "state": {
            "_view_name": "LayoutView",
            "grid_template_rows": null,
            "right": null,
            "justify_content": null,
            "_view_module": "@jupyter-widgets/base",
            "overflow": null,
            "_model_module_version": "1.2.0",
            "_view_count": null,
            "flex_flow": null,
            "width": null,
            "min_width": null,
            "border": null,
            "align_items": null,
            "bottom": null,
            "_model_module": "@jupyter-widgets/base",
            "top": null,
            "grid_column": null,
            "overflow_y": null,
            "overflow_x": null,
            "grid_auto_flow": null,
            "grid_area": null,
            "grid_template_columns": null,
            "flex": null,
            "_model_name": "LayoutModel",
            "justify_items": null,
            "grid_row": null,
            "max_height": null,
            "align_content": null,
            "visibility": null,
            "align_self": null,
            "height": null,
            "min_height": null,
            "padding": null,
            "grid_auto_rows": null,
            "grid_gap": null,
            "max_width": null,
            "order": null,
            "_view_module_version": "1.2.0",
            "grid_template_areas": null,
            "object_position": null,
            "object_fit": null,
            "grid_auto_columns": null,
            "margin": null,
            "display": null,
            "left": null
          }
        },
        "177f14c681064d24babd95b9227d3995": {
          "model_module": "@jupyter-widgets/controls",
          "model_name": "DescriptionStyleModel",
          "state": {
            "_view_name": "StyleView",
            "_model_name": "DescriptionStyleModel",
            "description_width": "",
            "_view_module": "@jupyter-widgets/base",
            "_model_module_version": "1.5.0",
            "_view_count": null,
            "_view_module_version": "1.2.0",
            "_model_module": "@jupyter-widgets/controls"
          }
        },
        "bd09364693c646209021f6e1d4bed193": {
          "model_module": "@jupyter-widgets/base",
          "model_name": "LayoutModel",
          "state": {
            "_view_name": "LayoutView",
            "grid_template_rows": null,
            "right": null,
            "justify_content": null,
            "_view_module": "@jupyter-widgets/base",
            "overflow": null,
            "_model_module_version": "1.2.0",
            "_view_count": null,
            "flex_flow": null,
            "width": null,
            "min_width": null,
            "border": null,
            "align_items": null,
            "bottom": null,
            "_model_module": "@jupyter-widgets/base",
            "top": null,
            "grid_column": null,
            "overflow_y": null,
            "overflow_x": null,
            "grid_auto_flow": null,
            "grid_area": null,
            "grid_template_columns": null,
            "flex": null,
            "_model_name": "LayoutModel",
            "justify_items": null,
            "grid_row": null,
            "max_height": null,
            "align_content": null,
            "visibility": null,
            "align_self": null,
            "height": null,
            "min_height": null,
            "padding": null,
            "grid_auto_rows": null,
            "grid_gap": null,
            "max_width": null,
            "order": null,
            "_view_module_version": "1.2.0",
            "grid_template_areas": null,
            "object_position": null,
            "object_fit": null,
            "grid_auto_columns": null,
            "margin": null,
            "display": null,
            "left": null
          }
        },
        "2be6b09aa5e647cd860637c3dafacae1": {
          "model_module": "@jupyter-widgets/controls",
          "model_name": "HBoxModel",
          "state": {
            "_view_name": "HBoxView",
            "_dom_classes": [],
            "_model_name": "HBoxModel",
            "_view_module": "@jupyter-widgets/controls",
            "_model_module_version": "1.5.0",
            "_view_count": null,
            "_view_module_version": "1.5.0",
            "box_style": "",
            "layout": "IPY_MODEL_559807f39e7f4164864356343d664ac7",
            "_model_module": "@jupyter-widgets/controls",
            "children": [
              "IPY_MODEL_b594a250c61244faaa11f2a530145176",
              "IPY_MODEL_573b436501a44c48861dd25731baba60"
            ]
          }
        },
        "559807f39e7f4164864356343d664ac7": {
          "model_module": "@jupyter-widgets/base",
          "model_name": "LayoutModel",
          "state": {
            "_view_name": "LayoutView",
            "grid_template_rows": null,
            "right": null,
            "justify_content": null,
            "_view_module": "@jupyter-widgets/base",
            "overflow": null,
            "_model_module_version": "1.2.0",
            "_view_count": null,
            "flex_flow": null,
            "width": null,
            "min_width": null,
            "border": null,
            "align_items": null,
            "bottom": null,
            "_model_module": "@jupyter-widgets/base",
            "top": null,
            "grid_column": null,
            "overflow_y": null,
            "overflow_x": null,
            "grid_auto_flow": null,
            "grid_area": null,
            "grid_template_columns": null,
            "flex": null,
            "_model_name": "LayoutModel",
            "justify_items": null,
            "grid_row": null,
            "max_height": null,
            "align_content": null,
            "visibility": null,
            "align_self": null,
            "height": null,
            "min_height": null,
            "padding": null,
            "grid_auto_rows": null,
            "grid_gap": null,
            "max_width": null,
            "order": null,
            "_view_module_version": "1.2.0",
            "grid_template_areas": null,
            "object_position": null,
            "object_fit": null,
            "grid_auto_columns": null,
            "margin": null,
            "display": null,
            "left": null
          }
        },
        "b594a250c61244faaa11f2a530145176": {
          "model_module": "@jupyter-widgets/controls",
          "model_name": "FloatProgressModel",
          "state": {
            "_view_name": "ProgressView",
            "style": "IPY_MODEL_033f5a71755545968c3a1b978b9c6378",
            "_dom_classes": [],
            "description": "100%",
            "_model_name": "FloatProgressModel",
            "bar_style": "success",
            "max": 5,
            "_view_module": "@jupyter-widgets/controls",
            "_model_module_version": "1.5.0",
            "value": 5,
            "_view_count": null,
            "_view_module_version": "1.5.0",
            "orientation": "horizontal",
            "min": 0,
            "description_tooltip": null,
            "_model_module": "@jupyter-widgets/controls",
            "layout": "IPY_MODEL_392f6fbb1980488eb16010267aa05230"
          }
        },
        "573b436501a44c48861dd25731baba60": {
          "model_module": "@jupyter-widgets/controls",
          "model_name": "HTMLModel",
          "state": {
            "_view_name": "HTMLView",
            "style": "IPY_MODEL_394b010fcdda41ad9280b1c06fb97568",
            "_dom_classes": [],
            "description": "",
            "_model_name": "HTMLModel",
            "placeholder": "​",
            "_view_module": "@jupyter-widgets/controls",
            "_model_module_version": "1.5.0",
            "value": " 5/5 [2:09:13&lt;00:00, 1550.60s/it]",
            "_view_count": null,
            "_view_module_version": "1.5.0",
            "description_tooltip": null,
            "_model_module": "@jupyter-widgets/controls",
            "layout": "IPY_MODEL_6566bc01cbf545a3b374648555960506"
          }
        },
        "033f5a71755545968c3a1b978b9c6378": {
          "model_module": "@jupyter-widgets/controls",
          "model_name": "ProgressStyleModel",
          "state": {
            "_view_name": "StyleView",
            "_model_name": "ProgressStyleModel",
            "description_width": "initial",
            "_view_module": "@jupyter-widgets/base",
            "_model_module_version": "1.5.0",
            "_view_count": null,
            "_view_module_version": "1.2.0",
            "bar_color": null,
            "_model_module": "@jupyter-widgets/controls"
          }
        },
        "392f6fbb1980488eb16010267aa05230": {
          "model_module": "@jupyter-widgets/base",
          "model_name": "LayoutModel",
          "state": {
            "_view_name": "LayoutView",
            "grid_template_rows": null,
            "right": null,
            "justify_content": null,
            "_view_module": "@jupyter-widgets/base",
            "overflow": null,
            "_model_module_version": "1.2.0",
            "_view_count": null,
            "flex_flow": null,
            "width": null,
            "min_width": null,
            "border": null,
            "align_items": null,
            "bottom": null,
            "_model_module": "@jupyter-widgets/base",
            "top": null,
            "grid_column": null,
            "overflow_y": null,
            "overflow_x": null,
            "grid_auto_flow": null,
            "grid_area": null,
            "grid_template_columns": null,
            "flex": null,
            "_model_name": "LayoutModel",
            "justify_items": null,
            "grid_row": null,
            "max_height": null,
            "align_content": null,
            "visibility": null,
            "align_self": null,
            "height": null,
            "min_height": null,
            "padding": null,
            "grid_auto_rows": null,
            "grid_gap": null,
            "max_width": null,
            "order": null,
            "_view_module_version": "1.2.0",
            "grid_template_areas": null,
            "object_position": null,
            "object_fit": null,
            "grid_auto_columns": null,
            "margin": null,
            "display": null,
            "left": null
          }
        },
        "394b010fcdda41ad9280b1c06fb97568": {
          "model_module": "@jupyter-widgets/controls",
          "model_name": "DescriptionStyleModel",
          "state": {
            "_view_name": "StyleView",
            "_model_name": "DescriptionStyleModel",
            "description_width": "",
            "_view_module": "@jupyter-widgets/base",
            "_model_module_version": "1.5.0",
            "_view_count": null,
            "_view_module_version": "1.2.0",
            "_model_module": "@jupyter-widgets/controls"
          }
        },
        "6566bc01cbf545a3b374648555960506": {
          "model_module": "@jupyter-widgets/base",
          "model_name": "LayoutModel",
          "state": {
            "_view_name": "LayoutView",
            "grid_template_rows": null,
            "right": null,
            "justify_content": null,
            "_view_module": "@jupyter-widgets/base",
            "overflow": null,
            "_model_module_version": "1.2.0",
            "_view_count": null,
            "flex_flow": null,
            "width": null,
            "min_width": null,
            "border": null,
            "align_items": null,
            "bottom": null,
            "_model_module": "@jupyter-widgets/base",
            "top": null,
            "grid_column": null,
            "overflow_y": null,
            "overflow_x": null,
            "grid_auto_flow": null,
            "grid_area": null,
            "grid_template_columns": null,
            "flex": null,
            "_model_name": "LayoutModel",
            "justify_items": null,
            "grid_row": null,
            "max_height": null,
            "align_content": null,
            "visibility": null,
            "align_self": null,
            "height": null,
            "min_height": null,
            "padding": null,
            "grid_auto_rows": null,
            "grid_gap": null,
            "max_width": null,
            "order": null,
            "_view_module_version": "1.2.0",
            "grid_template_areas": null,
            "object_position": null,
            "object_fit": null,
            "grid_auto_columns": null,
            "margin": null,
            "display": null,
            "left": null
          }
        },
        "d73c6367eb124bdd9a936c7bbccf6404": {
          "model_module": "@jupyter-widgets/controls",
          "model_name": "HBoxModel",
          "state": {
            "_view_name": "HBoxView",
            "_dom_classes": [],
            "_model_name": "HBoxModel",
            "_view_module": "@jupyter-widgets/controls",
            "_model_module_version": "1.5.0",
            "_view_count": null,
            "_view_module_version": "1.5.0",
            "box_style": "",
            "layout": "IPY_MODEL_3308a45f49ee4df2821434543dcad662",
            "_model_module": "@jupyter-widgets/controls",
            "children": [
              "IPY_MODEL_aeb50d640de94f6a953e30fc6c7b6686",
              "IPY_MODEL_f4ae8a34d03b4cdba1ad58fb853d31e5"
            ]
          }
        },
        "3308a45f49ee4df2821434543dcad662": {
          "model_module": "@jupyter-widgets/base",
          "model_name": "LayoutModel",
          "state": {
            "_view_name": "LayoutView",
            "grid_template_rows": null,
            "right": null,
            "justify_content": null,
            "_view_module": "@jupyter-widgets/base",
            "overflow": null,
            "_model_module_version": "1.2.0",
            "_view_count": null,
            "flex_flow": null,
            "width": null,
            "min_width": null,
            "border": null,
            "align_items": null,
            "bottom": null,
            "_model_module": "@jupyter-widgets/base",
            "top": null,
            "grid_column": null,
            "overflow_y": null,
            "overflow_x": null,
            "grid_auto_flow": null,
            "grid_area": null,
            "grid_template_columns": null,
            "flex": null,
            "_model_name": "LayoutModel",
            "justify_items": null,
            "grid_row": null,
            "max_height": null,
            "align_content": null,
            "visibility": null,
            "align_self": null,
            "height": null,
            "min_height": null,
            "padding": null,
            "grid_auto_rows": null,
            "grid_gap": null,
            "max_width": null,
            "order": null,
            "_view_module_version": "1.2.0",
            "grid_template_areas": null,
            "object_position": null,
            "object_fit": null,
            "grid_auto_columns": null,
            "margin": null,
            "display": null,
            "left": null
          }
        },
        "aeb50d640de94f6a953e30fc6c7b6686": {
          "model_module": "@jupyter-widgets/controls",
          "model_name": "FloatProgressModel",
          "state": {
            "_view_name": "ProgressView",
            "style": "IPY_MODEL_be75bd94d8a1463fa35feb0f4c1fae44",
            "_dom_classes": [],
            "description": "Epoch 1: 100%",
            "_model_name": "FloatProgressModel",
            "bar_style": "",
            "max": 6277,
            "_view_module": "@jupyter-widgets/controls",
            "_model_module_version": "1.5.0",
            "value": 6277,
            "_view_count": null,
            "_view_module_version": "1.5.0",
            "orientation": "horizontal",
            "min": 0,
            "description_tooltip": null,
            "_model_module": "@jupyter-widgets/controls",
            "layout": "IPY_MODEL_8a81d8cd7ae448f7a5ad1d414c107c1a"
          }
        },
        "f4ae8a34d03b4cdba1ad58fb853d31e5": {
          "model_module": "@jupyter-widgets/controls",
          "model_name": "HTMLModel",
          "state": {
            "_view_name": "HTMLView",
            "style": "IPY_MODEL_8d03276251e84f9abc8cc58d5bf5888c",
            "_dom_classes": [],
            "description": "",
            "_model_name": "HTMLModel",
            "placeholder": "​",
            "_view_module": "@jupyter-widgets/controls",
            "_model_module_version": "1.5.0",
            "value": " 6277/6277 [23:38&lt;00:00,  4.68it/s, training_loss=0.181]",
            "_view_count": null,
            "_view_module_version": "1.5.0",
            "description_tooltip": null,
            "_model_module": "@jupyter-widgets/controls",
            "layout": "IPY_MODEL_f6cac2d0469842bbbdb0fcf6e997b3fe"
          }
        },
        "be75bd94d8a1463fa35feb0f4c1fae44": {
          "model_module": "@jupyter-widgets/controls",
          "model_name": "ProgressStyleModel",
          "state": {
            "_view_name": "StyleView",
            "_model_name": "ProgressStyleModel",
            "description_width": "initial",
            "_view_module": "@jupyter-widgets/base",
            "_model_module_version": "1.5.0",
            "_view_count": null,
            "_view_module_version": "1.2.0",
            "bar_color": null,
            "_model_module": "@jupyter-widgets/controls"
          }
        },
        "8a81d8cd7ae448f7a5ad1d414c107c1a": {
          "model_module": "@jupyter-widgets/base",
          "model_name": "LayoutModel",
          "state": {
            "_view_name": "LayoutView",
            "grid_template_rows": null,
            "right": null,
            "justify_content": null,
            "_view_module": "@jupyter-widgets/base",
            "overflow": null,
            "_model_module_version": "1.2.0",
            "_view_count": null,
            "flex_flow": null,
            "width": null,
            "min_width": null,
            "border": null,
            "align_items": null,
            "bottom": null,
            "_model_module": "@jupyter-widgets/base",
            "top": null,
            "grid_column": null,
            "overflow_y": null,
            "overflow_x": null,
            "grid_auto_flow": null,
            "grid_area": null,
            "grid_template_columns": null,
            "flex": null,
            "_model_name": "LayoutModel",
            "justify_items": null,
            "grid_row": null,
            "max_height": null,
            "align_content": null,
            "visibility": null,
            "align_self": null,
            "height": null,
            "min_height": null,
            "padding": null,
            "grid_auto_rows": null,
            "grid_gap": null,
            "max_width": null,
            "order": null,
            "_view_module_version": "1.2.0",
            "grid_template_areas": null,
            "object_position": null,
            "object_fit": null,
            "grid_auto_columns": null,
            "margin": null,
            "display": null,
            "left": null
          }
        },
        "8d03276251e84f9abc8cc58d5bf5888c": {
          "model_module": "@jupyter-widgets/controls",
          "model_name": "DescriptionStyleModel",
          "state": {
            "_view_name": "StyleView",
            "_model_name": "DescriptionStyleModel",
            "description_width": "",
            "_view_module": "@jupyter-widgets/base",
            "_model_module_version": "1.5.0",
            "_view_count": null,
            "_view_module_version": "1.2.0",
            "_model_module": "@jupyter-widgets/controls"
          }
        },
        "f6cac2d0469842bbbdb0fcf6e997b3fe": {
          "model_module": "@jupyter-widgets/base",
          "model_name": "LayoutModel",
          "state": {
            "_view_name": "LayoutView",
            "grid_template_rows": null,
            "right": null,
            "justify_content": null,
            "_view_module": "@jupyter-widgets/base",
            "overflow": null,
            "_model_module_version": "1.2.0",
            "_view_count": null,
            "flex_flow": null,
            "width": null,
            "min_width": null,
            "border": null,
            "align_items": null,
            "bottom": null,
            "_model_module": "@jupyter-widgets/base",
            "top": null,
            "grid_column": null,
            "overflow_y": null,
            "overflow_x": null,
            "grid_auto_flow": null,
            "grid_area": null,
            "grid_template_columns": null,
            "flex": null,
            "_model_name": "LayoutModel",
            "justify_items": null,
            "grid_row": null,
            "max_height": null,
            "align_content": null,
            "visibility": null,
            "align_self": null,
            "height": null,
            "min_height": null,
            "padding": null,
            "grid_auto_rows": null,
            "grid_gap": null,
            "max_width": null,
            "order": null,
            "_view_module_version": "1.2.0",
            "grid_template_areas": null,
            "object_position": null,
            "object_fit": null,
            "grid_auto_columns": null,
            "margin": null,
            "display": null,
            "left": null
          }
        },
        "56a0adf143544d9e846bd17cc3425d52": {
          "model_module": "@jupyter-widgets/controls",
          "model_name": "HBoxModel",
          "state": {
            "_view_name": "HBoxView",
            "_dom_classes": [],
            "_model_name": "HBoxModel",
            "_view_module": "@jupyter-widgets/controls",
            "_model_module_version": "1.5.0",
            "_view_count": null,
            "_view_module_version": "1.5.0",
            "box_style": "",
            "layout": "IPY_MODEL_a28d6514ce43431ebbb46b4448a65399",
            "_model_module": "@jupyter-widgets/controls",
            "children": [
              "IPY_MODEL_7c3825ee38cd41fc84c415bd347b2ee4",
              "IPY_MODEL_b13aeba347554344b2b3148572566227"
            ]
          }
        },
        "a28d6514ce43431ebbb46b4448a65399": {
          "model_module": "@jupyter-widgets/base",
          "model_name": "LayoutModel",
          "state": {
            "_view_name": "LayoutView",
            "grid_template_rows": null,
            "right": null,
            "justify_content": null,
            "_view_module": "@jupyter-widgets/base",
            "overflow": null,
            "_model_module_version": "1.2.0",
            "_view_count": null,
            "flex_flow": null,
            "width": null,
            "min_width": null,
            "border": null,
            "align_items": null,
            "bottom": null,
            "_model_module": "@jupyter-widgets/base",
            "top": null,
            "grid_column": null,
            "overflow_y": null,
            "overflow_x": null,
            "grid_auto_flow": null,
            "grid_area": null,
            "grid_template_columns": null,
            "flex": null,
            "_model_name": "LayoutModel",
            "justify_items": null,
            "grid_row": null,
            "max_height": null,
            "align_content": null,
            "visibility": null,
            "align_self": null,
            "height": null,
            "min_height": null,
            "padding": null,
            "grid_auto_rows": null,
            "grid_gap": null,
            "max_width": null,
            "order": null,
            "_view_module_version": "1.2.0",
            "grid_template_areas": null,
            "object_position": null,
            "object_fit": null,
            "grid_auto_columns": null,
            "margin": null,
            "display": null,
            "left": null
          }
        },
        "7c3825ee38cd41fc84c415bd347b2ee4": {
          "model_module": "@jupyter-widgets/controls",
          "model_name": "FloatProgressModel",
          "state": {
            "_view_name": "ProgressView",
            "style": "IPY_MODEL_5a9546c5e54b46b9967ec5620aff75cf",
            "_dom_classes": [],
            "description": "Epoch 2: 100%",
            "_model_name": "FloatProgressModel",
            "bar_style": "",
            "max": 6277,
            "_view_module": "@jupyter-widgets/controls",
            "_model_module_version": "1.5.0",
            "value": 6277,
            "_view_count": null,
            "_view_module_version": "1.5.0",
            "orientation": "horizontal",
            "min": 0,
            "description_tooltip": null,
            "_model_module": "@jupyter-widgets/controls",
            "layout": "IPY_MODEL_5c5fd68676334d3092f955ca1c33bcc9"
          }
        },
        "b13aeba347554344b2b3148572566227": {
          "model_module": "@jupyter-widgets/controls",
          "model_name": "HTMLModel",
          "state": {
            "_view_name": "HTMLView",
            "style": "IPY_MODEL_f117a21df6d84743a209d6045a40402a",
            "_dom_classes": [],
            "description": "",
            "_model_name": "HTMLModel",
            "placeholder": "​",
            "_view_module": "@jupyter-widgets/controls",
            "_model_module_version": "1.5.0",
            "value": " 6277/6277 [23:50&lt;00:00,  4.68it/s, training_loss=0.283]",
            "_view_count": null,
            "_view_module_version": "1.5.0",
            "description_tooltip": null,
            "_model_module": "@jupyter-widgets/controls",
            "layout": "IPY_MODEL_829ade34931442f3808f87e4c13c6d3a"
          }
        },
        "5a9546c5e54b46b9967ec5620aff75cf": {
          "model_module": "@jupyter-widgets/controls",
          "model_name": "ProgressStyleModel",
          "state": {
            "_view_name": "StyleView",
            "_model_name": "ProgressStyleModel",
            "description_width": "initial",
            "_view_module": "@jupyter-widgets/base",
            "_model_module_version": "1.5.0",
            "_view_count": null,
            "_view_module_version": "1.2.0",
            "bar_color": null,
            "_model_module": "@jupyter-widgets/controls"
          }
        },
        "5c5fd68676334d3092f955ca1c33bcc9": {
          "model_module": "@jupyter-widgets/base",
          "model_name": "LayoutModel",
          "state": {
            "_view_name": "LayoutView",
            "grid_template_rows": null,
            "right": null,
            "justify_content": null,
            "_view_module": "@jupyter-widgets/base",
            "overflow": null,
            "_model_module_version": "1.2.0",
            "_view_count": null,
            "flex_flow": null,
            "width": null,
            "min_width": null,
            "border": null,
            "align_items": null,
            "bottom": null,
            "_model_module": "@jupyter-widgets/base",
            "top": null,
            "grid_column": null,
            "overflow_y": null,
            "overflow_x": null,
            "grid_auto_flow": null,
            "grid_area": null,
            "grid_template_columns": null,
            "flex": null,
            "_model_name": "LayoutModel",
            "justify_items": null,
            "grid_row": null,
            "max_height": null,
            "align_content": null,
            "visibility": null,
            "align_self": null,
            "height": null,
            "min_height": null,
            "padding": null,
            "grid_auto_rows": null,
            "grid_gap": null,
            "max_width": null,
            "order": null,
            "_view_module_version": "1.2.0",
            "grid_template_areas": null,
            "object_position": null,
            "object_fit": null,
            "grid_auto_columns": null,
            "margin": null,
            "display": null,
            "left": null
          }
        },
        "f117a21df6d84743a209d6045a40402a": {
          "model_module": "@jupyter-widgets/controls",
          "model_name": "DescriptionStyleModel",
          "state": {
            "_view_name": "StyleView",
            "_model_name": "DescriptionStyleModel",
            "description_width": "",
            "_view_module": "@jupyter-widgets/base",
            "_model_module_version": "1.5.0",
            "_view_count": null,
            "_view_module_version": "1.2.0",
            "_model_module": "@jupyter-widgets/controls"
          }
        },
        "829ade34931442f3808f87e4c13c6d3a": {
          "model_module": "@jupyter-widgets/base",
          "model_name": "LayoutModel",
          "state": {
            "_view_name": "LayoutView",
            "grid_template_rows": null,
            "right": null,
            "justify_content": null,
            "_view_module": "@jupyter-widgets/base",
            "overflow": null,
            "_model_module_version": "1.2.0",
            "_view_count": null,
            "flex_flow": null,
            "width": null,
            "min_width": null,
            "border": null,
            "align_items": null,
            "bottom": null,
            "_model_module": "@jupyter-widgets/base",
            "top": null,
            "grid_column": null,
            "overflow_y": null,
            "overflow_x": null,
            "grid_auto_flow": null,
            "grid_area": null,
            "grid_template_columns": null,
            "flex": null,
            "_model_name": "LayoutModel",
            "justify_items": null,
            "grid_row": null,
            "max_height": null,
            "align_content": null,
            "visibility": null,
            "align_self": null,
            "height": null,
            "min_height": null,
            "padding": null,
            "grid_auto_rows": null,
            "grid_gap": null,
            "max_width": null,
            "order": null,
            "_view_module_version": "1.2.0",
            "grid_template_areas": null,
            "object_position": null,
            "object_fit": null,
            "grid_auto_columns": null,
            "margin": null,
            "display": null,
            "left": null
          }
        },
        "81618fed216b4f2483b1dd0d170eccd8": {
          "model_module": "@jupyter-widgets/controls",
          "model_name": "HBoxModel",
          "state": {
            "_view_name": "HBoxView",
            "_dom_classes": [],
            "_model_name": "HBoxModel",
            "_view_module": "@jupyter-widgets/controls",
            "_model_module_version": "1.5.0",
            "_view_count": null,
            "_view_module_version": "1.5.0",
            "box_style": "",
            "layout": "IPY_MODEL_29a368c4c7e249d8ab9513a5e66e1760",
            "_model_module": "@jupyter-widgets/controls",
            "children": [
              "IPY_MODEL_44006f21467d479f94368555ff9a819d",
              "IPY_MODEL_c7559eceea184217bee2d006b0c4e1a7"
            ]
          }
        },
        "29a368c4c7e249d8ab9513a5e66e1760": {
          "model_module": "@jupyter-widgets/base",
          "model_name": "LayoutModel",
          "state": {
            "_view_name": "LayoutView",
            "grid_template_rows": null,
            "right": null,
            "justify_content": null,
            "_view_module": "@jupyter-widgets/base",
            "overflow": null,
            "_model_module_version": "1.2.0",
            "_view_count": null,
            "flex_flow": null,
            "width": null,
            "min_width": null,
            "border": null,
            "align_items": null,
            "bottom": null,
            "_model_module": "@jupyter-widgets/base",
            "top": null,
            "grid_column": null,
            "overflow_y": null,
            "overflow_x": null,
            "grid_auto_flow": null,
            "grid_area": null,
            "grid_template_columns": null,
            "flex": null,
            "_model_name": "LayoutModel",
            "justify_items": null,
            "grid_row": null,
            "max_height": null,
            "align_content": null,
            "visibility": null,
            "align_self": null,
            "height": null,
            "min_height": null,
            "padding": null,
            "grid_auto_rows": null,
            "grid_gap": null,
            "max_width": null,
            "order": null,
            "_view_module_version": "1.2.0",
            "grid_template_areas": null,
            "object_position": null,
            "object_fit": null,
            "grid_auto_columns": null,
            "margin": null,
            "display": null,
            "left": null
          }
        },
        "44006f21467d479f94368555ff9a819d": {
          "model_module": "@jupyter-widgets/controls",
          "model_name": "FloatProgressModel",
          "state": {
            "_view_name": "ProgressView",
            "style": "IPY_MODEL_6dbe760845d9403b815d2856954fd5c9",
            "_dom_classes": [],
            "description": "Epoch 3: 100%",
            "_model_name": "FloatProgressModel",
            "bar_style": "",
            "max": 6277,
            "_view_module": "@jupyter-widgets/controls",
            "_model_module_version": "1.5.0",
            "value": 6277,
            "_view_count": null,
            "_view_module_version": "1.5.0",
            "orientation": "horizontal",
            "min": 0,
            "description_tooltip": null,
            "_model_module": "@jupyter-widgets/controls",
            "layout": "IPY_MODEL_f2abf7582962484b8e080fce8b37d73b"
          }
        },
        "c7559eceea184217bee2d006b0c4e1a7": {
          "model_module": "@jupyter-widgets/controls",
          "model_name": "HTMLModel",
          "state": {
            "_view_name": "HTMLView",
            "style": "IPY_MODEL_a9f1c15481e94d48bfd10b80c1f5b5b5",
            "_dom_classes": [],
            "description": "",
            "_model_name": "HTMLModel",
            "placeholder": "​",
            "_view_module": "@jupyter-widgets/controls",
            "_model_module_version": "1.5.0",
            "value": " 6277/6277 [23:51&lt;00:00,  4.63it/s, training_loss=0.231]",
            "_view_count": null,
            "_view_module_version": "1.5.0",
            "description_tooltip": null,
            "_model_module": "@jupyter-widgets/controls",
            "layout": "IPY_MODEL_8a25a80da8ba4c9ca50b1dab0828607a"
          }
        },
        "6dbe760845d9403b815d2856954fd5c9": {
          "model_module": "@jupyter-widgets/controls",
          "model_name": "ProgressStyleModel",
          "state": {
            "_view_name": "StyleView",
            "_model_name": "ProgressStyleModel",
            "description_width": "initial",
            "_view_module": "@jupyter-widgets/base",
            "_model_module_version": "1.5.0",
            "_view_count": null,
            "_view_module_version": "1.2.0",
            "bar_color": null,
            "_model_module": "@jupyter-widgets/controls"
          }
        },
        "f2abf7582962484b8e080fce8b37d73b": {
          "model_module": "@jupyter-widgets/base",
          "model_name": "LayoutModel",
          "state": {
            "_view_name": "LayoutView",
            "grid_template_rows": null,
            "right": null,
            "justify_content": null,
            "_view_module": "@jupyter-widgets/base",
            "overflow": null,
            "_model_module_version": "1.2.0",
            "_view_count": null,
            "flex_flow": null,
            "width": null,
            "min_width": null,
            "border": null,
            "align_items": null,
            "bottom": null,
            "_model_module": "@jupyter-widgets/base",
            "top": null,
            "grid_column": null,
            "overflow_y": null,
            "overflow_x": null,
            "grid_auto_flow": null,
            "grid_area": null,
            "grid_template_columns": null,
            "flex": null,
            "_model_name": "LayoutModel",
            "justify_items": null,
            "grid_row": null,
            "max_height": null,
            "align_content": null,
            "visibility": null,
            "align_self": null,
            "height": null,
            "min_height": null,
            "padding": null,
            "grid_auto_rows": null,
            "grid_gap": null,
            "max_width": null,
            "order": null,
            "_view_module_version": "1.2.0",
            "grid_template_areas": null,
            "object_position": null,
            "object_fit": null,
            "grid_auto_columns": null,
            "margin": null,
            "display": null,
            "left": null
          }
        },
        "a9f1c15481e94d48bfd10b80c1f5b5b5": {
          "model_module": "@jupyter-widgets/controls",
          "model_name": "DescriptionStyleModel",
          "state": {
            "_view_name": "StyleView",
            "_model_name": "DescriptionStyleModel",
            "description_width": "",
            "_view_module": "@jupyter-widgets/base",
            "_model_module_version": "1.5.0",
            "_view_count": null,
            "_view_module_version": "1.2.0",
            "_model_module": "@jupyter-widgets/controls"
          }
        },
        "8a25a80da8ba4c9ca50b1dab0828607a": {
          "model_module": "@jupyter-widgets/base",
          "model_name": "LayoutModel",
          "state": {
            "_view_name": "LayoutView",
            "grid_template_rows": null,
            "right": null,
            "justify_content": null,
            "_view_module": "@jupyter-widgets/base",
            "overflow": null,
            "_model_module_version": "1.2.0",
            "_view_count": null,
            "flex_flow": null,
            "width": null,
            "min_width": null,
            "border": null,
            "align_items": null,
            "bottom": null,
            "_model_module": "@jupyter-widgets/base",
            "top": null,
            "grid_column": null,
            "overflow_y": null,
            "overflow_x": null,
            "grid_auto_flow": null,
            "grid_area": null,
            "grid_template_columns": null,
            "flex": null,
            "_model_name": "LayoutModel",
            "justify_items": null,
            "grid_row": null,
            "max_height": null,
            "align_content": null,
            "visibility": null,
            "align_self": null,
            "height": null,
            "min_height": null,
            "padding": null,
            "grid_auto_rows": null,
            "grid_gap": null,
            "max_width": null,
            "order": null,
            "_view_module_version": "1.2.0",
            "grid_template_areas": null,
            "object_position": null,
            "object_fit": null,
            "grid_auto_columns": null,
            "margin": null,
            "display": null,
            "left": null
          }
        },
        "f6be142e615c47c29052e660a0c701e3": {
          "model_module": "@jupyter-widgets/controls",
          "model_name": "HBoxModel",
          "state": {
            "_view_name": "HBoxView",
            "_dom_classes": [],
            "_model_name": "HBoxModel",
            "_view_module": "@jupyter-widgets/controls",
            "_model_module_version": "1.5.0",
            "_view_count": null,
            "_view_module_version": "1.5.0",
            "box_style": "",
            "layout": "IPY_MODEL_ffb76cd2c23a4190bf397e43cf4fa2e9",
            "_model_module": "@jupyter-widgets/controls",
            "children": [
              "IPY_MODEL_195f18ae539e4a8faf4a95d781b231b4",
              "IPY_MODEL_bdecfb921a514994ac1295ed298105a0"
            ]
          }
        },
        "ffb76cd2c23a4190bf397e43cf4fa2e9": {
          "model_module": "@jupyter-widgets/base",
          "model_name": "LayoutModel",
          "state": {
            "_view_name": "LayoutView",
            "grid_template_rows": null,
            "right": null,
            "justify_content": null,
            "_view_module": "@jupyter-widgets/base",
            "overflow": null,
            "_model_module_version": "1.2.0",
            "_view_count": null,
            "flex_flow": null,
            "width": null,
            "min_width": null,
            "border": null,
            "align_items": null,
            "bottom": null,
            "_model_module": "@jupyter-widgets/base",
            "top": null,
            "grid_column": null,
            "overflow_y": null,
            "overflow_x": null,
            "grid_auto_flow": null,
            "grid_area": null,
            "grid_template_columns": null,
            "flex": null,
            "_model_name": "LayoutModel",
            "justify_items": null,
            "grid_row": null,
            "max_height": null,
            "align_content": null,
            "visibility": null,
            "align_self": null,
            "height": null,
            "min_height": null,
            "padding": null,
            "grid_auto_rows": null,
            "grid_gap": null,
            "max_width": null,
            "order": null,
            "_view_module_version": "1.2.0",
            "grid_template_areas": null,
            "object_position": null,
            "object_fit": null,
            "grid_auto_columns": null,
            "margin": null,
            "display": null,
            "left": null
          }
        },
        "195f18ae539e4a8faf4a95d781b231b4": {
          "model_module": "@jupyter-widgets/controls",
          "model_name": "FloatProgressModel",
          "state": {
            "_view_name": "ProgressView",
            "style": "IPY_MODEL_2c3319375f0844c28da90f01d2ff50e6",
            "_dom_classes": [],
            "description": "Epoch 4: 100%",
            "_model_name": "FloatProgressModel",
            "bar_style": "",
            "max": 6277,
            "_view_module": "@jupyter-widgets/controls",
            "_model_module_version": "1.5.0",
            "value": 6277,
            "_view_count": null,
            "_view_module_version": "1.5.0",
            "orientation": "horizontal",
            "min": 0,
            "description_tooltip": null,
            "_model_module": "@jupyter-widgets/controls",
            "layout": "IPY_MODEL_021aa1c1a42c4dbe910bf63e1e8ce028"
          }
        },
        "bdecfb921a514994ac1295ed298105a0": {
          "model_module": "@jupyter-widgets/controls",
          "model_name": "HTMLModel",
          "state": {
            "_view_name": "HTMLView",
            "style": "IPY_MODEL_097dc3c6fc394043b86788bb5147b27a",
            "_dom_classes": [],
            "description": "",
            "_model_name": "HTMLModel",
            "placeholder": "​",
            "_view_module": "@jupyter-widgets/controls",
            "_model_module_version": "1.5.0",
            "value": " 6277/6277 [23:49&lt;00:00,  4.70it/s, training_loss=0.372]",
            "_view_count": null,
            "_view_module_version": "1.5.0",
            "description_tooltip": null,
            "_model_module": "@jupyter-widgets/controls",
            "layout": "IPY_MODEL_e1f0bb4bd06b4c4ca2b0e9e3399216f6"
          }
        },
        "2c3319375f0844c28da90f01d2ff50e6": {
          "model_module": "@jupyter-widgets/controls",
          "model_name": "ProgressStyleModel",
          "state": {
            "_view_name": "StyleView",
            "_model_name": "ProgressStyleModel",
            "description_width": "initial",
            "_view_module": "@jupyter-widgets/base",
            "_model_module_version": "1.5.0",
            "_view_count": null,
            "_view_module_version": "1.2.0",
            "bar_color": null,
            "_model_module": "@jupyter-widgets/controls"
          }
        },
        "021aa1c1a42c4dbe910bf63e1e8ce028": {
          "model_module": "@jupyter-widgets/base",
          "model_name": "LayoutModel",
          "state": {
            "_view_name": "LayoutView",
            "grid_template_rows": null,
            "right": null,
            "justify_content": null,
            "_view_module": "@jupyter-widgets/base",
            "overflow": null,
            "_model_module_version": "1.2.0",
            "_view_count": null,
            "flex_flow": null,
            "width": null,
            "min_width": null,
            "border": null,
            "align_items": null,
            "bottom": null,
            "_model_module": "@jupyter-widgets/base",
            "top": null,
            "grid_column": null,
            "overflow_y": null,
            "overflow_x": null,
            "grid_auto_flow": null,
            "grid_area": null,
            "grid_template_columns": null,
            "flex": null,
            "_model_name": "LayoutModel",
            "justify_items": null,
            "grid_row": null,
            "max_height": null,
            "align_content": null,
            "visibility": null,
            "align_self": null,
            "height": null,
            "min_height": null,
            "padding": null,
            "grid_auto_rows": null,
            "grid_gap": null,
            "max_width": null,
            "order": null,
            "_view_module_version": "1.2.0",
            "grid_template_areas": null,
            "object_position": null,
            "object_fit": null,
            "grid_auto_columns": null,
            "margin": null,
            "display": null,
            "left": null
          }
        },
        "097dc3c6fc394043b86788bb5147b27a": {
          "model_module": "@jupyter-widgets/controls",
          "model_name": "DescriptionStyleModel",
          "state": {
            "_view_name": "StyleView",
            "_model_name": "DescriptionStyleModel",
            "description_width": "",
            "_view_module": "@jupyter-widgets/base",
            "_model_module_version": "1.5.0",
            "_view_count": null,
            "_view_module_version": "1.2.0",
            "_model_module": "@jupyter-widgets/controls"
          }
        },
        "e1f0bb4bd06b4c4ca2b0e9e3399216f6": {
          "model_module": "@jupyter-widgets/base",
          "model_name": "LayoutModel",
          "state": {
            "_view_name": "LayoutView",
            "grid_template_rows": null,
            "right": null,
            "justify_content": null,
            "_view_module": "@jupyter-widgets/base",
            "overflow": null,
            "_model_module_version": "1.2.0",
            "_view_count": null,
            "flex_flow": null,
            "width": null,
            "min_width": null,
            "border": null,
            "align_items": null,
            "bottom": null,
            "_model_module": "@jupyter-widgets/base",
            "top": null,
            "grid_column": null,
            "overflow_y": null,
            "overflow_x": null,
            "grid_auto_flow": null,
            "grid_area": null,
            "grid_template_columns": null,
            "flex": null,
            "_model_name": "LayoutModel",
            "justify_items": null,
            "grid_row": null,
            "max_height": null,
            "align_content": null,
            "visibility": null,
            "align_self": null,
            "height": null,
            "min_height": null,
            "padding": null,
            "grid_auto_rows": null,
            "grid_gap": null,
            "max_width": null,
            "order": null,
            "_view_module_version": "1.2.0",
            "grid_template_areas": null,
            "object_position": null,
            "object_fit": null,
            "grid_auto_columns": null,
            "margin": null,
            "display": null,
            "left": null
          }
        },
        "6cb47753f57f41cb886f79fefa9fa954": {
          "model_module": "@jupyter-widgets/controls",
          "model_name": "HBoxModel",
          "state": {
            "_view_name": "HBoxView",
            "_dom_classes": [],
            "_model_name": "HBoxModel",
            "_view_module": "@jupyter-widgets/controls",
            "_model_module_version": "1.5.0",
            "_view_count": null,
            "_view_module_version": "1.5.0",
            "box_style": "",
            "layout": "IPY_MODEL_6e8750810f2743b5903ef659f10d4366",
            "_model_module": "@jupyter-widgets/controls",
            "children": [
              "IPY_MODEL_80caa215fde841f195ac9ac9cf996875",
              "IPY_MODEL_34498850b4c5404c8f8c30a21a6a5654"
            ]
          }
        },
        "6e8750810f2743b5903ef659f10d4366": {
          "model_module": "@jupyter-widgets/base",
          "model_name": "LayoutModel",
          "state": {
            "_view_name": "LayoutView",
            "grid_template_rows": null,
            "right": null,
            "justify_content": null,
            "_view_module": "@jupyter-widgets/base",
            "overflow": null,
            "_model_module_version": "1.2.0",
            "_view_count": null,
            "flex_flow": null,
            "width": null,
            "min_width": null,
            "border": null,
            "align_items": null,
            "bottom": null,
            "_model_module": "@jupyter-widgets/base",
            "top": null,
            "grid_column": null,
            "overflow_y": null,
            "overflow_x": null,
            "grid_auto_flow": null,
            "grid_area": null,
            "grid_template_columns": null,
            "flex": null,
            "_model_name": "LayoutModel",
            "justify_items": null,
            "grid_row": null,
            "max_height": null,
            "align_content": null,
            "visibility": null,
            "align_self": null,
            "height": null,
            "min_height": null,
            "padding": null,
            "grid_auto_rows": null,
            "grid_gap": null,
            "max_width": null,
            "order": null,
            "_view_module_version": "1.2.0",
            "grid_template_areas": null,
            "object_position": null,
            "object_fit": null,
            "grid_auto_columns": null,
            "margin": null,
            "display": null,
            "left": null
          }
        },
        "80caa215fde841f195ac9ac9cf996875": {
          "model_module": "@jupyter-widgets/controls",
          "model_name": "FloatProgressModel",
          "state": {
            "_view_name": "ProgressView",
            "style": "IPY_MODEL_119fcbe7b504402b87e1df47c11d97b5",
            "_dom_classes": [],
            "description": "Epoch 5: 100%",
            "_model_name": "FloatProgressModel",
            "bar_style": "",
            "max": 6277,
            "_view_module": "@jupyter-widgets/controls",
            "_model_module_version": "1.5.0",
            "value": 6277,
            "_view_count": null,
            "_view_module_version": "1.5.0",
            "orientation": "horizontal",
            "min": 0,
            "description_tooltip": null,
            "_model_module": "@jupyter-widgets/controls",
            "layout": "IPY_MODEL_53e53a126d05467cad60db1dcfd34c82"
          }
        },
        "34498850b4c5404c8f8c30a21a6a5654": {
          "model_module": "@jupyter-widgets/controls",
          "model_name": "HTMLModel",
          "state": {
            "_view_name": "HTMLView",
            "style": "IPY_MODEL_d1fd730e369f48cbb5a7bfafb09cad7e",
            "_dom_classes": [],
            "description": "",
            "_model_name": "HTMLModel",
            "placeholder": "​",
            "_view_module": "@jupyter-widgets/controls",
            "_model_module_version": "1.5.0",
            "value": " 6277/6277 [23:51&lt;00:00,  4.69it/s, training_loss=0.117]",
            "_view_count": null,
            "_view_module_version": "1.5.0",
            "description_tooltip": null,
            "_model_module": "@jupyter-widgets/controls",
            "layout": "IPY_MODEL_67775f6ad88747dfb579d55026a4fd0b"
          }
        },
        "119fcbe7b504402b87e1df47c11d97b5": {
          "model_module": "@jupyter-widgets/controls",
          "model_name": "ProgressStyleModel",
          "state": {
            "_view_name": "StyleView",
            "_model_name": "ProgressStyleModel",
            "description_width": "initial",
            "_view_module": "@jupyter-widgets/base",
            "_model_module_version": "1.5.0",
            "_view_count": null,
            "_view_module_version": "1.2.0",
            "bar_color": null,
            "_model_module": "@jupyter-widgets/controls"
          }
        },
        "53e53a126d05467cad60db1dcfd34c82": {
          "model_module": "@jupyter-widgets/base",
          "model_name": "LayoutModel",
          "state": {
            "_view_name": "LayoutView",
            "grid_template_rows": null,
            "right": null,
            "justify_content": null,
            "_view_module": "@jupyter-widgets/base",
            "overflow": null,
            "_model_module_version": "1.2.0",
            "_view_count": null,
            "flex_flow": null,
            "width": null,
            "min_width": null,
            "border": null,
            "align_items": null,
            "bottom": null,
            "_model_module": "@jupyter-widgets/base",
            "top": null,
            "grid_column": null,
            "overflow_y": null,
            "overflow_x": null,
            "grid_auto_flow": null,
            "grid_area": null,
            "grid_template_columns": null,
            "flex": null,
            "_model_name": "LayoutModel",
            "justify_items": null,
            "grid_row": null,
            "max_height": null,
            "align_content": null,
            "visibility": null,
            "align_self": null,
            "height": null,
            "min_height": null,
            "padding": null,
            "grid_auto_rows": null,
            "grid_gap": null,
            "max_width": null,
            "order": null,
            "_view_module_version": "1.2.0",
            "grid_template_areas": null,
            "object_position": null,
            "object_fit": null,
            "grid_auto_columns": null,
            "margin": null,
            "display": null,
            "left": null
          }
        },
        "d1fd730e369f48cbb5a7bfafb09cad7e": {
          "model_module": "@jupyter-widgets/controls",
          "model_name": "DescriptionStyleModel",
          "state": {
            "_view_name": "StyleView",
            "_model_name": "DescriptionStyleModel",
            "description_width": "",
            "_view_module": "@jupyter-widgets/base",
            "_model_module_version": "1.5.0",
            "_view_count": null,
            "_view_module_version": "1.2.0",
            "_model_module": "@jupyter-widgets/controls"
          }
        },
        "67775f6ad88747dfb579d55026a4fd0b": {
          "model_module": "@jupyter-widgets/base",
          "model_name": "LayoutModel",
          "state": {
            "_view_name": "LayoutView",
            "grid_template_rows": null,
            "right": null,
            "justify_content": null,
            "_view_module": "@jupyter-widgets/base",
            "overflow": null,
            "_model_module_version": "1.2.0",
            "_view_count": null,
            "flex_flow": null,
            "width": null,
            "min_width": null,
            "border": null,
            "align_items": null,
            "bottom": null,
            "_model_module": "@jupyter-widgets/base",
            "top": null,
            "grid_column": null,
            "overflow_y": null,
            "overflow_x": null,
            "grid_auto_flow": null,
            "grid_area": null,
            "grid_template_columns": null,
            "flex": null,
            "_model_name": "LayoutModel",
            "justify_items": null,
            "grid_row": null,
            "max_height": null,
            "align_content": null,
            "visibility": null,
            "align_self": null,
            "height": null,
            "min_height": null,
            "padding": null,
            "grid_auto_rows": null,
            "grid_gap": null,
            "max_width": null,
            "order": null,
            "_view_module_version": "1.2.0",
            "grid_template_areas": null,
            "object_position": null,
            "object_fit": null,
            "grid_auto_columns": null,
            "margin": null,
            "display": null,
            "left": null
          }
        }
      }
    },
    "accelerator": "GPU"
  },
  "cells": [
    {
      "cell_type": "markdown",
      "metadata": {
        "id": "XyBH9mYQO_7r"
      },
      "source": [
        "# **NATURAL LANGUAGE PROCESSING:**\n",
        "## **Project Title :** **Title Generation**\n",
        "### -by\n",
        "*   **Arkadipta De (AI20MTECH14002)**\n",
        "*   **Venkatesh E (AI20MTECH14005)**\n",
        "*   **Priya Bhatia (AI20MTECH14015)**\n",
        "\n",
        "#### **Guide : Dr Maunendra Sankar Desarkar, Dr Srijith**"
      ]
    },
    {
      "cell_type": "markdown",
      "metadata": {
        "id": "Dk3f_vQ0QAbu"
      },
      "source": [
        "**Description:** Given the abstract of a technical paper, generate a suitable title for it\n",
        "\n",
        "**Data Source Link :**[Arxiv Dataset](https://www.kaggle.com/neelshah18/arxivdataset)\n",
        "\n",
        "\n",
        "\n",
        "*   Collection of 31000+ paper meta data.\n",
        "*   This data contains all paper related to ML, CL, NER, AI and CV field publish between 1992 to 2018-Feb."
      ]
    },
    {
      "cell_type": "markdown",
      "metadata": {
        "id": "v52KJeTXQv1Q"
      },
      "source": [
        "### **IMPORTING LIBRARIES :**\n"
      ]
    },
    {
      "cell_type": "code",
      "metadata": {
        "colab": {
          "base_uri": "https://localhost:8080/"
        },
        "id": "ubdt9BEbOM-y",
        "outputId": "17bf1840-85a3-415e-a9b4-efd02fe48bc4"
      },
      "source": [
        "# For using in Google Colab\n",
        "from google.colab import drive\n",
        "drive.mount(\"/content/gdrive\")"
      ],
      "execution_count": null,
      "outputs": [
        {
          "output_type": "stream",
          "text": [
            "Mounted at /content/gdrive\n"
          ],
          "name": "stdout"
        }
      ]
    },
    {
      "cell_type": "code",
      "metadata": {
        "colab": {
          "base_uri": "https://localhost:8080/"
        },
        "id": "mb8CmsYcShtG",
        "outputId": "30f1ab82-390f-4ce1-9856-e2753be18d10"
      },
      "source": [
        "!pip install transformers"
      ],
      "execution_count": null,
      "outputs": [
        {
          "output_type": "stream",
          "text": [
            "Collecting transformers\n",
            "\u001b[?25l  Downloading https://files.pythonhosted.org/packages/d8/b2/57495b5309f09fa501866e225c84532d1fd89536ea62406b2181933fb418/transformers-4.5.1-py3-none-any.whl (2.1MB)\n",
            "\r\u001b[K     |▏                               | 10kB 22.9MB/s eta 0:00:01\r\u001b[K     |▎                               | 20kB 30.1MB/s eta 0:00:01\r\u001b[K     |▌                               | 30kB 22.7MB/s eta 0:00:01\r\u001b[K     |▋                               | 40kB 26.3MB/s eta 0:00:01\r\u001b[K     |▉                               | 51kB 24.7MB/s eta 0:00:01\r\u001b[K     |█                               | 61kB 27.2MB/s eta 0:00:01\r\u001b[K     |█▏                              | 71kB 20.0MB/s eta 0:00:01\r\u001b[K     |█▎                              | 81kB 21.4MB/s eta 0:00:01\r\u001b[K     |█▍                              | 92kB 20.2MB/s eta 0:00:01\r\u001b[K     |█▋                              | 102kB 20.5MB/s eta 0:00:01\r\u001b[K     |█▊                              | 112kB 20.5MB/s eta 0:00:01\r\u001b[K     |██                              | 122kB 20.5MB/s eta 0:00:01\r\u001b[K     |██                              | 133kB 20.5MB/s eta 0:00:01\r\u001b[K     |██▎                             | 143kB 20.5MB/s eta 0:00:01\r\u001b[K     |██▍                             | 153kB 20.5MB/s eta 0:00:01\r\u001b[K     |██▌                             | 163kB 20.5MB/s eta 0:00:01\r\u001b[K     |██▊                             | 174kB 20.5MB/s eta 0:00:01\r\u001b[K     |██▉                             | 184kB 20.5MB/s eta 0:00:01\r\u001b[K     |███                             | 194kB 20.5MB/s eta 0:00:01\r\u001b[K     |███▏                            | 204kB 20.5MB/s eta 0:00:01\r\u001b[K     |███▍                            | 215kB 20.5MB/s eta 0:00:01\r\u001b[K     |███▌                            | 225kB 20.5MB/s eta 0:00:01\r\u001b[K     |███▋                            | 235kB 20.5MB/s eta 0:00:01\r\u001b[K     |███▉                            | 245kB 20.5MB/s eta 0:00:01\r\u001b[K     |████                            | 256kB 20.5MB/s eta 0:00:01\r\u001b[K     |████▏                           | 266kB 20.5MB/s eta 0:00:01\r\u001b[K     |████▎                           | 276kB 20.5MB/s eta 0:00:01\r\u001b[K     |████▌                           | 286kB 20.5MB/s eta 0:00:01\r\u001b[K     |████▋                           | 296kB 20.5MB/s eta 0:00:01\r\u001b[K     |████▊                           | 307kB 20.5MB/s eta 0:00:01\r\u001b[K     |█████                           | 317kB 20.5MB/s eta 0:00:01\r\u001b[K     |█████                           | 327kB 20.5MB/s eta 0:00:01\r\u001b[K     |█████▎                          | 337kB 20.5MB/s eta 0:00:01\r\u001b[K     |█████▍                          | 348kB 20.5MB/s eta 0:00:01\r\u001b[K     |█████▋                          | 358kB 20.5MB/s eta 0:00:01\r\u001b[K     |█████▊                          | 368kB 20.5MB/s eta 0:00:01\r\u001b[K     |█████▉                          | 378kB 20.5MB/s eta 0:00:01\r\u001b[K     |██████                          | 389kB 20.5MB/s eta 0:00:01\r\u001b[K     |██████▏                         | 399kB 20.5MB/s eta 0:00:01\r\u001b[K     |██████▍                         | 409kB 20.5MB/s eta 0:00:01\r\u001b[K     |██████▌                         | 419kB 20.5MB/s eta 0:00:01\r\u001b[K     |██████▊                         | 430kB 20.5MB/s eta 0:00:01\r\u001b[K     |██████▉                         | 440kB 20.5MB/s eta 0:00:01\r\u001b[K     |███████                         | 450kB 20.5MB/s eta 0:00:01\r\u001b[K     |███████▏                        | 460kB 20.5MB/s eta 0:00:01\r\u001b[K     |███████▎                        | 471kB 20.5MB/s eta 0:00:01\r\u001b[K     |███████▌                        | 481kB 20.5MB/s eta 0:00:01\r\u001b[K     |███████▋                        | 491kB 20.5MB/s eta 0:00:01\r\u001b[K     |███████▉                        | 501kB 20.5MB/s eta 0:00:01\r\u001b[K     |████████                        | 512kB 20.5MB/s eta 0:00:01\r\u001b[K     |████████                        | 522kB 20.5MB/s eta 0:00:01\r\u001b[K     |████████▎                       | 532kB 20.5MB/s eta 0:00:01\r\u001b[K     |████████▍                       | 542kB 20.5MB/s eta 0:00:01\r\u001b[K     |████████▋                       | 552kB 20.5MB/s eta 0:00:01\r\u001b[K     |████████▊                       | 563kB 20.5MB/s eta 0:00:01\r\u001b[K     |█████████                       | 573kB 20.5MB/s eta 0:00:01\r\u001b[K     |█████████                       | 583kB 20.5MB/s eta 0:00:01\r\u001b[K     |█████████▎                      | 593kB 20.5MB/s eta 0:00:01\r\u001b[K     |█████████▍                      | 604kB 20.5MB/s eta 0:00:01\r\u001b[K     |█████████▌                      | 614kB 20.5MB/s eta 0:00:01\r\u001b[K     |█████████▊                      | 624kB 20.5MB/s eta 0:00:01\r\u001b[K     |█████████▉                      | 634kB 20.5MB/s eta 0:00:01\r\u001b[K     |██████████                      | 645kB 20.5MB/s eta 0:00:01\r\u001b[K     |██████████▏                     | 655kB 20.5MB/s eta 0:00:01\r\u001b[K     |██████████▍                     | 665kB 20.5MB/s eta 0:00:01\r\u001b[K     |██████████▌                     | 675kB 20.5MB/s eta 0:00:01\r\u001b[K     |██████████▋                     | 686kB 20.5MB/s eta 0:00:01\r\u001b[K     |██████████▉                     | 696kB 20.5MB/s eta 0:00:01\r\u001b[K     |███████████                     | 706kB 20.5MB/s eta 0:00:01\r\u001b[K     |███████████▏                    | 716kB 20.5MB/s eta 0:00:01\r\u001b[K     |███████████▎                    | 727kB 20.5MB/s eta 0:00:01\r\u001b[K     |███████████▌                    | 737kB 20.5MB/s eta 0:00:01\r\u001b[K     |███████████▋                    | 747kB 20.5MB/s eta 0:00:01\r\u001b[K     |███████████▊                    | 757kB 20.5MB/s eta 0:00:01\r\u001b[K     |████████████                    | 768kB 20.5MB/s eta 0:00:01\r\u001b[K     |████████████                    | 778kB 20.5MB/s eta 0:00:01\r\u001b[K     |████████████▎                   | 788kB 20.5MB/s eta 0:00:01\r\u001b[K     |████████████▍                   | 798kB 20.5MB/s eta 0:00:01\r\u001b[K     |████████████▋                   | 808kB 20.5MB/s eta 0:00:01\r\u001b[K     |████████████▊                   | 819kB 20.5MB/s eta 0:00:01\r\u001b[K     |████████████▉                   | 829kB 20.5MB/s eta 0:00:01\r\u001b[K     |█████████████                   | 839kB 20.5MB/s eta 0:00:01\r\u001b[K     |█████████████▏                  | 849kB 20.5MB/s eta 0:00:01\r\u001b[K     |█████████████▍                  | 860kB 20.5MB/s eta 0:00:01\r\u001b[K     |█████████████▌                  | 870kB 20.5MB/s eta 0:00:01\r\u001b[K     |█████████████▊                  | 880kB 20.5MB/s eta 0:00:01\r\u001b[K     |█████████████▉                  | 890kB 20.5MB/s eta 0:00:01\r\u001b[K     |██████████████                  | 901kB 20.5MB/s eta 0:00:01\r\u001b[K     |██████████████▏                 | 911kB 20.5MB/s eta 0:00:01\r\u001b[K     |██████████████▎                 | 921kB 20.5MB/s eta 0:00:01\r\u001b[K     |██████████████▌                 | 931kB 20.5MB/s eta 0:00:01\r\u001b[K     |██████████████▋                 | 942kB 20.5MB/s eta 0:00:01\r\u001b[K     |██████████████▉                 | 952kB 20.5MB/s eta 0:00:01\r\u001b[K     |███████████████                 | 962kB 20.5MB/s eta 0:00:01\r\u001b[K     |███████████████                 | 972kB 20.5MB/s eta 0:00:01\r\u001b[K     |███████████████▎                | 983kB 20.5MB/s eta 0:00:01\r\u001b[K     |███████████████▍                | 993kB 20.5MB/s eta 0:00:01\r\u001b[K     |███████████████▋                | 1.0MB 20.5MB/s eta 0:00:01\r\u001b[K     |███████████████▊                | 1.0MB 20.5MB/s eta 0:00:01\r\u001b[K     |████████████████                | 1.0MB 20.5MB/s eta 0:00:01\r\u001b[K     |████████████████                | 1.0MB 20.5MB/s eta 0:00:01\r\u001b[K     |████████████████▏               | 1.0MB 20.5MB/s eta 0:00:01\r\u001b[K     |████████████████▍               | 1.1MB 20.5MB/s eta 0:00:01\r\u001b[K     |████████████████▌               | 1.1MB 20.5MB/s eta 0:00:01\r\u001b[K     |████████████████▊               | 1.1MB 20.5MB/s eta 0:00:01\r\u001b[K     |████████████████▉               | 1.1MB 20.5MB/s eta 0:00:01\r\u001b[K     |█████████████████               | 1.1MB 20.5MB/s eta 0:00:01\r\u001b[K     |█████████████████▏              | 1.1MB 20.5MB/s eta 0:00:01\r\u001b[K     |█████████████████▍              | 1.1MB 20.5MB/s eta 0:00:01\r\u001b[K     |█████████████████▌              | 1.1MB 20.5MB/s eta 0:00:01\r\u001b[K     |█████████████████▋              | 1.1MB 20.5MB/s eta 0:00:01\r\u001b[K     |█████████████████▉              | 1.1MB 20.5MB/s eta 0:00:01\r\u001b[K     |██████████████████              | 1.2MB 20.5MB/s eta 0:00:01\r\u001b[K     |██████████████████▏             | 1.2MB 20.5MB/s eta 0:00:01\r\u001b[K     |██████████████████▎             | 1.2MB 20.5MB/s eta 0:00:01\r\u001b[K     |██████████████████▌             | 1.2MB 20.5MB/s eta 0:00:01\r\u001b[K     |██████████████████▋             | 1.2MB 20.5MB/s eta 0:00:01\r\u001b[K     |██████████████████▊             | 1.2MB 20.5MB/s eta 0:00:01\r\u001b[K     |███████████████████             | 1.2MB 20.5MB/s eta 0:00:01\r\u001b[K     |███████████████████             | 1.2MB 20.5MB/s eta 0:00:01\r\u001b[K     |███████████████████▎            | 1.2MB 20.5MB/s eta 0:00:01\r\u001b[K     |███████████████████▍            | 1.2MB 20.5MB/s eta 0:00:01\r\u001b[K     |███████████████████▋            | 1.3MB 20.5MB/s eta 0:00:01\r\u001b[K     |███████████████████▊            | 1.3MB 20.5MB/s eta 0:00:01\r\u001b[K     |███████████████████▉            | 1.3MB 20.5MB/s eta 0:00:01\r\u001b[K     |████████████████████            | 1.3MB 20.5MB/s eta 0:00:01\r\u001b[K     |████████████████████▏           | 1.3MB 20.5MB/s eta 0:00:01\r\u001b[K     |████████████████████▍           | 1.3MB 20.5MB/s eta 0:00:01\r\u001b[K     |████████████████████▌           | 1.3MB 20.5MB/s eta 0:00:01\r\u001b[K     |████████████████████▊           | 1.3MB 20.5MB/s eta 0:00:01\r\u001b[K     |████████████████████▉           | 1.3MB 20.5MB/s eta 0:00:01\r\u001b[K     |█████████████████████           | 1.4MB 20.5MB/s eta 0:00:01\r\u001b[K     |█████████████████████▏          | 1.4MB 20.5MB/s eta 0:00:01\r\u001b[K     |█████████████████████▎          | 1.4MB 20.5MB/s eta 0:00:01\r\u001b[K     |█████████████████████▌          | 1.4MB 20.5MB/s eta 0:00:01\r\u001b[K     |█████████████████████▋          | 1.4MB 20.5MB/s eta 0:00:01\r\u001b[K     |█████████████████████▉          | 1.4MB 20.5MB/s eta 0:00:01\r\u001b[K     |██████████████████████          | 1.4MB 20.5MB/s eta 0:00:01\r\u001b[K     |██████████████████████          | 1.4MB 20.5MB/s eta 0:00:01\r\u001b[K     |██████████████████████▎         | 1.4MB 20.5MB/s eta 0:00:01\r\u001b[K     |██████████████████████▍         | 1.4MB 20.5MB/s eta 0:00:01\r\u001b[K     |██████████████████████▋         | 1.5MB 20.5MB/s eta 0:00:01\r\u001b[K     |██████████████████████▊         | 1.5MB 20.5MB/s eta 0:00:01\r\u001b[K     |███████████████████████         | 1.5MB 20.5MB/s eta 0:00:01\r\u001b[K     |███████████████████████         | 1.5MB 20.5MB/s eta 0:00:01\r\u001b[K     |███████████████████████▏        | 1.5MB 20.5MB/s eta 0:00:01\r\u001b[K     |███████████████████████▍        | 1.5MB 20.5MB/s eta 0:00:01\r\u001b[K     |███████████████████████▌        | 1.5MB 20.5MB/s eta 0:00:01\r\u001b[K     |███████████████████████▊        | 1.5MB 20.5MB/s eta 0:00:01\r\u001b[K     |███████████████████████▉        | 1.5MB 20.5MB/s eta 0:00:01\r\u001b[K     |████████████████████████        | 1.5MB 20.5MB/s eta 0:00:01\r\u001b[K     |████████████████████████▏       | 1.6MB 20.5MB/s eta 0:00:01\r\u001b[K     |████████████████████████▎       | 1.6MB 20.5MB/s eta 0:00:01\r\u001b[K     |████████████████████████▌       | 1.6MB 20.5MB/s eta 0:00:01\r\u001b[K     |████████████████████████▋       | 1.6MB 20.5MB/s eta 0:00:01\r\u001b[K     |████████████████████████▉       | 1.6MB 20.5MB/s eta 0:00:01\r\u001b[K     |█████████████████████████       | 1.6MB 20.5MB/s eta 0:00:01\r\u001b[K     |█████████████████████████▏      | 1.6MB 20.5MB/s eta 0:00:01\r\u001b[K     |█████████████████████████▎      | 1.6MB 20.5MB/s eta 0:00:01\r\u001b[K     |█████████████████████████▍      | 1.6MB 20.5MB/s eta 0:00:01\r\u001b[K     |█████████████████████████▋      | 1.6MB 20.5MB/s eta 0:00:01\r\u001b[K     |█████████████████████████▊      | 1.7MB 20.5MB/s eta 0:00:01\r\u001b[K     |██████████████████████████      | 1.7MB 20.5MB/s eta 0:00:01\r\u001b[K     |██████████████████████████      | 1.7MB 20.5MB/s eta 0:00:01\r\u001b[K     |██████████████████████████▎     | 1.7MB 20.5MB/s eta 0:00:01\r\u001b[K     |██████████████████████████▍     | 1.7MB 20.5MB/s eta 0:00:01\r\u001b[K     |██████████████████████████▋     | 1.7MB 20.5MB/s eta 0:00:01\r\u001b[K     |██████████████████████████▊     | 1.7MB 20.5MB/s eta 0:00:01\r\u001b[K     |██████████████████████████▉     | 1.7MB 20.5MB/s eta 0:00:01\r\u001b[K     |███████████████████████████     | 1.7MB 20.5MB/s eta 0:00:01\r\u001b[K     |███████████████████████████▏    | 1.8MB 20.5MB/s eta 0:00:01\r\u001b[K     |███████████████████████████▍    | 1.8MB 20.5MB/s eta 0:00:01\r\u001b[K     |███████████████████████████▌    | 1.8MB 20.5MB/s eta 0:00:01\r\u001b[K     |███████████████████████████▊    | 1.8MB 20.5MB/s eta 0:00:01\r\u001b[K     |███████████████████████████▉    | 1.8MB 20.5MB/s eta 0:00:01\r\u001b[K     |████████████████████████████    | 1.8MB 20.5MB/s eta 0:00:01\r\u001b[K     |████████████████████████████▏   | 1.8MB 20.5MB/s eta 0:00:01\r\u001b[K     |████████████████████████████▎   | 1.8MB 20.5MB/s eta 0:00:01\r\u001b[K     |████████████████████████████▌   | 1.8MB 20.5MB/s eta 0:00:01\r\u001b[K     |████████████████████████████▋   | 1.8MB 20.5MB/s eta 0:00:01\r\u001b[K     |████████████████████████████▉   | 1.9MB 20.5MB/s eta 0:00:01\r\u001b[K     |█████████████████████████████   | 1.9MB 20.5MB/s eta 0:00:01\r\u001b[K     |█████████████████████████████   | 1.9MB 20.5MB/s eta 0:00:01\r\u001b[K     |█████████████████████████████▎  | 1.9MB 20.5MB/s eta 0:00:01\r\u001b[K     |█████████████████████████████▍  | 1.9MB 20.5MB/s eta 0:00:01\r\u001b[K     |█████████████████████████████▋  | 1.9MB 20.5MB/s eta 0:00:01\r\u001b[K     |█████████████████████████████▊  | 1.9MB 20.5MB/s eta 0:00:01\r\u001b[K     |██████████████████████████████  | 1.9MB 20.5MB/s eta 0:00:01\r\u001b[K     |██████████████████████████████  | 1.9MB 20.5MB/s eta 0:00:01\r\u001b[K     |██████████████████████████████▏ | 1.9MB 20.5MB/s eta 0:00:01\r\u001b[K     |██████████████████████████████▍ | 2.0MB 20.5MB/s eta 0:00:01\r\u001b[K     |██████████████████████████████▌ | 2.0MB 20.5MB/s eta 0:00:01\r\u001b[K     |██████████████████████████████▊ | 2.0MB 20.5MB/s eta 0:00:01\r\u001b[K     |██████████████████████████████▉ | 2.0MB 20.5MB/s eta 0:00:01\r\u001b[K     |███████████████████████████████ | 2.0MB 20.5MB/s eta 0:00:01\r\u001b[K     |███████████████████████████████▏| 2.0MB 20.5MB/s eta 0:00:01\r\u001b[K     |███████████████████████████████▎| 2.0MB 20.5MB/s eta 0:00:01\r\u001b[K     |███████████████████████████████▌| 2.0MB 20.5MB/s eta 0:00:01\r\u001b[K     |███████████████████████████████▋| 2.0MB 20.5MB/s eta 0:00:01\r\u001b[K     |███████████████████████████████▉| 2.0MB 20.5MB/s eta 0:00:01\r\u001b[K     |████████████████████████████████| 2.1MB 20.5MB/s eta 0:00:01\r\u001b[K     |████████████████████████████████| 2.1MB 20.5MB/s \n",
            "\u001b[?25hRequirement already satisfied: numpy>=1.17 in /usr/local/lib/python3.7/dist-packages (from transformers) (1.19.5)\n",
            "Requirement already satisfied: requests in /usr/local/lib/python3.7/dist-packages (from transformers) (2.23.0)\n",
            "Requirement already satisfied: filelock in /usr/local/lib/python3.7/dist-packages (from transformers) (3.0.12)\n",
            "Requirement already satisfied: importlib-metadata; python_version < \"3.8\" in /usr/local/lib/python3.7/dist-packages (from transformers) (3.10.1)\n",
            "Requirement already satisfied: packaging in /usr/local/lib/python3.7/dist-packages (from transformers) (20.9)\n",
            "Requirement already satisfied: tqdm>=4.27 in /usr/local/lib/python3.7/dist-packages (from transformers) (4.41.1)\n",
            "Requirement already satisfied: regex!=2019.12.17 in /usr/local/lib/python3.7/dist-packages (from transformers) (2019.12.20)\n",
            "Collecting tokenizers<0.11,>=0.10.1\n",
            "\u001b[?25l  Downloading https://files.pythonhosted.org/packages/ae/04/5b870f26a858552025a62f1649c20d29d2672c02ff3c3fb4c688ca46467a/tokenizers-0.10.2-cp37-cp37m-manylinux2010_x86_64.whl (3.3MB)\n",
            "\u001b[K     |████████████████████████████████| 3.3MB 54.5MB/s \n",
            "\u001b[?25hCollecting sacremoses\n",
            "\u001b[?25l  Downloading https://files.pythonhosted.org/packages/75/ee/67241dc87f266093c533a2d4d3d69438e57d7a90abb216fa076e7d475d4a/sacremoses-0.0.45-py3-none-any.whl (895kB)\n",
            "\u001b[K     |████████████████████████████████| 901kB 53.6MB/s \n",
            "\u001b[?25hRequirement already satisfied: urllib3!=1.25.0,!=1.25.1,<1.26,>=1.21.1 in /usr/local/lib/python3.7/dist-packages (from requests->transformers) (1.24.3)\n",
            "Requirement already satisfied: chardet<4,>=3.0.2 in /usr/local/lib/python3.7/dist-packages (from requests->transformers) (3.0.4)\n",
            "Requirement already satisfied: certifi>=2017.4.17 in /usr/local/lib/python3.7/dist-packages (from requests->transformers) (2020.12.5)\n",
            "Requirement already satisfied: idna<3,>=2.5 in /usr/local/lib/python3.7/dist-packages (from requests->transformers) (2.10)\n",
            "Requirement already satisfied: typing-extensions>=3.6.4; python_version < \"3.8\" in /usr/local/lib/python3.7/dist-packages (from importlib-metadata; python_version < \"3.8\"->transformers) (3.7.4.3)\n",
            "Requirement already satisfied: zipp>=0.5 in /usr/local/lib/python3.7/dist-packages (from importlib-metadata; python_version < \"3.8\"->transformers) (3.4.1)\n",
            "Requirement already satisfied: pyparsing>=2.0.2 in /usr/local/lib/python3.7/dist-packages (from packaging->transformers) (2.4.7)\n",
            "Requirement already satisfied: joblib in /usr/local/lib/python3.7/dist-packages (from sacremoses->transformers) (1.0.1)\n",
            "Requirement already satisfied: click in /usr/local/lib/python3.7/dist-packages (from sacremoses->transformers) (7.1.2)\n",
            "Requirement already satisfied: six in /usr/local/lib/python3.7/dist-packages (from sacremoses->transformers) (1.15.0)\n",
            "Installing collected packages: tokenizers, sacremoses, transformers\n",
            "Successfully installed sacremoses-0.0.45 tokenizers-0.10.2 transformers-4.5.1\n"
          ],
          "name": "stdout"
        }
      ]
    },
    {
      "cell_type": "code",
      "metadata": {
        "colab": {
          "base_uri": "https://localhost:8080/"
        },
        "id": "0e9amxNrShvt",
        "outputId": "75c04a26-dd02-439a-d5a2-6777ef31e606"
      },
      "source": [
        "!pip install sentencepiece"
      ],
      "execution_count": null,
      "outputs": [
        {
          "output_type": "stream",
          "text": [
            "Collecting sentencepiece\n",
            "\u001b[?25l  Downloading https://files.pythonhosted.org/packages/f5/99/e0808cb947ba10f575839c43e8fafc9cc44e4a7a2c8f79c60db48220a577/sentencepiece-0.1.95-cp37-cp37m-manylinux2014_x86_64.whl (1.2MB)\n",
            "\r\u001b[K     |▎                               | 10kB 24.0MB/s eta 0:00:01\r\u001b[K     |▌                               | 20kB 31.3MB/s eta 0:00:01\r\u001b[K     |▉                               | 30kB 20.1MB/s eta 0:00:01\r\u001b[K     |█                               | 40kB 23.7MB/s eta 0:00:01\r\u001b[K     |█▍                              | 51kB 20.1MB/s eta 0:00:01\r\u001b[K     |█▋                              | 61kB 17.8MB/s eta 0:00:01\r\u001b[K     |██                              | 71kB 19.6MB/s eta 0:00:01\r\u001b[K     |██▏                             | 81kB 18.7MB/s eta 0:00:01\r\u001b[K     |██▌                             | 92kB 17.8MB/s eta 0:00:01\r\u001b[K     |██▊                             | 102kB 18.0MB/s eta 0:00:01\r\u001b[K     |███                             | 112kB 18.0MB/s eta 0:00:01\r\u001b[K     |███▎                            | 122kB 18.0MB/s eta 0:00:01\r\u001b[K     |███▌                            | 133kB 18.0MB/s eta 0:00:01\r\u001b[K     |███▉                            | 143kB 18.0MB/s eta 0:00:01\r\u001b[K     |████                            | 153kB 18.0MB/s eta 0:00:01\r\u001b[K     |████▍                           | 163kB 18.0MB/s eta 0:00:01\r\u001b[K     |████▋                           | 174kB 18.0MB/s eta 0:00:01\r\u001b[K     |█████                           | 184kB 18.0MB/s eta 0:00:01\r\u001b[K     |█████▏                          | 194kB 18.0MB/s eta 0:00:01\r\u001b[K     |█████▌                          | 204kB 18.0MB/s eta 0:00:01\r\u001b[K     |█████▊                          | 215kB 18.0MB/s eta 0:00:01\r\u001b[K     |██████                          | 225kB 18.0MB/s eta 0:00:01\r\u001b[K     |██████▎                         | 235kB 18.0MB/s eta 0:00:01\r\u001b[K     |██████▌                         | 245kB 18.0MB/s eta 0:00:01\r\u001b[K     |██████▉                         | 256kB 18.0MB/s eta 0:00:01\r\u001b[K     |███████                         | 266kB 18.0MB/s eta 0:00:01\r\u001b[K     |███████▍                        | 276kB 18.0MB/s eta 0:00:01\r\u001b[K     |███████▋                        | 286kB 18.0MB/s eta 0:00:01\r\u001b[K     |████████                        | 296kB 18.0MB/s eta 0:00:01\r\u001b[K     |████████▏                       | 307kB 18.0MB/s eta 0:00:01\r\u001b[K     |████████▍                       | 317kB 18.0MB/s eta 0:00:01\r\u001b[K     |████████▊                       | 327kB 18.0MB/s eta 0:00:01\r\u001b[K     |█████████                       | 337kB 18.0MB/s eta 0:00:01\r\u001b[K     |█████████▎                      | 348kB 18.0MB/s eta 0:00:01\r\u001b[K     |█████████▌                      | 358kB 18.0MB/s eta 0:00:01\r\u001b[K     |█████████▉                      | 368kB 18.0MB/s eta 0:00:01\r\u001b[K     |██████████                      | 378kB 18.0MB/s eta 0:00:01\r\u001b[K     |██████████▍                     | 389kB 18.0MB/s eta 0:00:01\r\u001b[K     |██████████▋                     | 399kB 18.0MB/s eta 0:00:01\r\u001b[K     |███████████                     | 409kB 18.0MB/s eta 0:00:01\r\u001b[K     |███████████▏                    | 419kB 18.0MB/s eta 0:00:01\r\u001b[K     |███████████▍                    | 430kB 18.0MB/s eta 0:00:01\r\u001b[K     |███████████▊                    | 440kB 18.0MB/s eta 0:00:01\r\u001b[K     |████████████                    | 450kB 18.0MB/s eta 0:00:01\r\u001b[K     |████████████▎                   | 460kB 18.0MB/s eta 0:00:01\r\u001b[K     |████████████▌                   | 471kB 18.0MB/s eta 0:00:01\r\u001b[K     |████████████▉                   | 481kB 18.0MB/s eta 0:00:01\r\u001b[K     |█████████████                   | 491kB 18.0MB/s eta 0:00:01\r\u001b[K     |█████████████▍                  | 501kB 18.0MB/s eta 0:00:01\r\u001b[K     |█████████████▋                  | 512kB 18.0MB/s eta 0:00:01\r\u001b[K     |█████████████▉                  | 522kB 18.0MB/s eta 0:00:01\r\u001b[K     |██████████████▏                 | 532kB 18.0MB/s eta 0:00:01\r\u001b[K     |██████████████▍                 | 542kB 18.0MB/s eta 0:00:01\r\u001b[K     |██████████████▊                 | 552kB 18.0MB/s eta 0:00:01\r\u001b[K     |███████████████                 | 563kB 18.0MB/s eta 0:00:01\r\u001b[K     |███████████████▎                | 573kB 18.0MB/s eta 0:00:01\r\u001b[K     |███████████████▌                | 583kB 18.0MB/s eta 0:00:01\r\u001b[K     |███████████████▉                | 593kB 18.0MB/s eta 0:00:01\r\u001b[K     |████████████████                | 604kB 18.0MB/s eta 0:00:01\r\u001b[K     |████████████████▍               | 614kB 18.0MB/s eta 0:00:01\r\u001b[K     |████████████████▋               | 624kB 18.0MB/s eta 0:00:01\r\u001b[K     |████████████████▉               | 634kB 18.0MB/s eta 0:00:01\r\u001b[K     |█████████████████▏              | 645kB 18.0MB/s eta 0:00:01\r\u001b[K     |█████████████████▍              | 655kB 18.0MB/s eta 0:00:01\r\u001b[K     |█████████████████▊              | 665kB 18.0MB/s eta 0:00:01\r\u001b[K     |██████████████████              | 675kB 18.0MB/s eta 0:00:01\r\u001b[K     |██████████████████▎             | 686kB 18.0MB/s eta 0:00:01\r\u001b[K     |██████████████████▌             | 696kB 18.0MB/s eta 0:00:01\r\u001b[K     |██████████████████▉             | 706kB 18.0MB/s eta 0:00:01\r\u001b[K     |███████████████████             | 716kB 18.0MB/s eta 0:00:01\r\u001b[K     |███████████████████▎            | 727kB 18.0MB/s eta 0:00:01\r\u001b[K     |███████████████████▋            | 737kB 18.0MB/s eta 0:00:01\r\u001b[K     |███████████████████▉            | 747kB 18.0MB/s eta 0:00:01\r\u001b[K     |████████████████████▏           | 757kB 18.0MB/s eta 0:00:01\r\u001b[K     |████████████████████▍           | 768kB 18.0MB/s eta 0:00:01\r\u001b[K     |████████████████████▊           | 778kB 18.0MB/s eta 0:00:01\r\u001b[K     |█████████████████████           | 788kB 18.0MB/s eta 0:00:01\r\u001b[K     |█████████████████████▎          | 798kB 18.0MB/s eta 0:00:01\r\u001b[K     |█████████████████████▌          | 808kB 18.0MB/s eta 0:00:01\r\u001b[K     |█████████████████████▉          | 819kB 18.0MB/s eta 0:00:01\r\u001b[K     |██████████████████████          | 829kB 18.0MB/s eta 0:00:01\r\u001b[K     |██████████████████████▎         | 839kB 18.0MB/s eta 0:00:01\r\u001b[K     |██████████████████████▋         | 849kB 18.0MB/s eta 0:00:01\r\u001b[K     |██████████████████████▉         | 860kB 18.0MB/s eta 0:00:01\r\u001b[K     |███████████████████████▏        | 870kB 18.0MB/s eta 0:00:01\r\u001b[K     |███████████████████████▍        | 880kB 18.0MB/s eta 0:00:01\r\u001b[K     |███████████████████████▊        | 890kB 18.0MB/s eta 0:00:01\r\u001b[K     |████████████████████████        | 901kB 18.0MB/s eta 0:00:01\r\u001b[K     |████████████████████████▎       | 911kB 18.0MB/s eta 0:00:01\r\u001b[K     |████████████████████████▌       | 921kB 18.0MB/s eta 0:00:01\r\u001b[K     |████████████████████████▊       | 931kB 18.0MB/s eta 0:00:01\r\u001b[K     |█████████████████████████       | 942kB 18.0MB/s eta 0:00:01\r\u001b[K     |█████████████████████████▎      | 952kB 18.0MB/s eta 0:00:01\r\u001b[K     |█████████████████████████▋      | 962kB 18.0MB/s eta 0:00:01\r\u001b[K     |█████████████████████████▉      | 972kB 18.0MB/s eta 0:00:01\r\u001b[K     |██████████████████████████▏     | 983kB 18.0MB/s eta 0:00:01\r\u001b[K     |██████████████████████████▍     | 993kB 18.0MB/s eta 0:00:01\r\u001b[K     |██████████████████████████▊     | 1.0MB 18.0MB/s eta 0:00:01\r\u001b[K     |███████████████████████████     | 1.0MB 18.0MB/s eta 0:00:01\r\u001b[K     |███████████████████████████▎    | 1.0MB 18.0MB/s eta 0:00:01\r\u001b[K     |███████████████████████████▌    | 1.0MB 18.0MB/s eta 0:00:01\r\u001b[K     |███████████████████████████▊    | 1.0MB 18.0MB/s eta 0:00:01\r\u001b[K     |████████████████████████████    | 1.1MB 18.0MB/s eta 0:00:01\r\u001b[K     |████████████████████████████▎   | 1.1MB 18.0MB/s eta 0:00:01\r\u001b[K     |████████████████████████████▋   | 1.1MB 18.0MB/s eta 0:00:01\r\u001b[K     |████████████████████████████▉   | 1.1MB 18.0MB/s eta 0:00:01\r\u001b[K     |█████████████████████████████▏  | 1.1MB 18.0MB/s eta 0:00:01\r\u001b[K     |█████████████████████████████▍  | 1.1MB 18.0MB/s eta 0:00:01\r\u001b[K     |█████████████████████████████▊  | 1.1MB 18.0MB/s eta 0:00:01\r\u001b[K     |██████████████████████████████  | 1.1MB 18.0MB/s eta 0:00:01\r\u001b[K     |██████████████████████████████▏ | 1.1MB 18.0MB/s eta 0:00:01\r\u001b[K     |██████████████████████████████▌ | 1.1MB 18.0MB/s eta 0:00:01\r\u001b[K     |██████████████████████████████▊ | 1.2MB 18.0MB/s eta 0:00:01\r\u001b[K     |███████████████████████████████ | 1.2MB 18.0MB/s eta 0:00:01\r\u001b[K     |███████████████████████████████▎| 1.2MB 18.0MB/s eta 0:00:01\r\u001b[K     |███████████████████████████████▋| 1.2MB 18.0MB/s eta 0:00:01\r\u001b[K     |███████████████████████████████▉| 1.2MB 18.0MB/s eta 0:00:01\r\u001b[K     |████████████████████████████████| 1.2MB 18.0MB/s \n",
            "\u001b[?25hInstalling collected packages: sentencepiece\n",
            "Successfully installed sentencepiece-0.1.95\n"
          ],
          "name": "stdout"
        }
      ]
    },
    {
      "cell_type": "code",
      "metadata": {
        "id": "YtRbHzfXShyL"
      },
      "source": [
        "import numpy as np \n",
        "import pandas as pd \n",
        "import matplotlib.pyplot as plt\n",
        "import seaborn as sns \n",
        "\n",
        "import random\n",
        "\n",
        "import json, re\n",
        "from tqdm import tqdm_notebook\n",
        "from uuid import uuid4\n",
        "\n",
        "import torch\n",
        "import torch.optim as optim\n",
        "import torch.nn as nn\n",
        "import torch.nn.functional as F\n",
        "from torch.autograd import Variable\n",
        "from torch.utils.data import Dataset, DataLoader, TensorDataset, RandomSampler, SequentialSampler\n",
        "\n",
        "from transformers import glue_compute_metrics\n",
        "from transformers import Trainer, TrainingArguments\n",
        "from transformers import AdamW, get_linear_schedule_with_warmup\n",
        "\n",
        "from transformers import BertTokenizer, BertModel, BertConfig, BertForSequenceClassification\n",
        "from transformers import RobertaConfig, RobertaModel, RobertaTokenizer, RobertaForSequenceClassification\n",
        "\n",
        "from sklearn.metrics import f1_score, accuracy_score,confusion_matrix \n",
        "from sklearn.metrics import classification_report as Report\n",
        "\n",
        "from tqdm.notebook import tqdm\n",
        "\n",
        "import itertools    \n",
        "from sklearn.utils import shuffle\n",
        "\n",
        "import warnings\n",
        "warnings.filterwarnings(\"ignore\")"
      ],
      "execution_count": null,
      "outputs": []
    },
    {
      "cell_type": "code",
      "metadata": {
        "id": "rzTMwIQ_Sh1N"
      },
      "source": [
        "device=torch.device(\"cuda\" if torch.cuda.is_available() else \"cpu\")"
      ],
      "execution_count": null,
      "outputs": []
    },
    {
      "cell_type": "code",
      "metadata": {
        "colab": {
          "base_uri": "https://localhost:8080/"
        },
        "id": "xTv4lH4BSh4B",
        "outputId": "7964c314-e627-40c7-fe82-9f574dbccf55"
      },
      "source": [
        "print(\"GPU Torch Available = {}\".format(torch.cuda.is_available()))\n",
        "print(\"Torch Version = {}\".format(torch.__version__))"
      ],
      "execution_count": null,
      "outputs": [
        {
          "output_type": "stream",
          "text": [
            "GPU Torch Available = True\n",
            "Torch Version = 1.8.1+cu101\n"
          ],
          "name": "stdout"
        }
      ]
    },
    {
      "cell_type": "code",
      "metadata": {
        "id": "ov24WRs8Sh6M"
      },
      "source": [
        "# to display the rows and columns of dataset properly \n",
        "pd.set_option('display.max_rows', None)\n",
        "pd.set_option('display.max_columns', None)\n",
        "pd.set_option('display.width', None)\n",
        "pd.set_option('display.max_colwidth', -1)"
      ],
      "execution_count": null,
      "outputs": []
    },
    {
      "cell_type": "markdown",
      "metadata": {
        "id": "P9u3zRkKTN0l"
      },
      "source": [
        "### **DATA LOADING :**"
      ]
    },
    {
      "cell_type": "code",
      "metadata": {
        "id": "ktAOLjTUSh9l"
      },
      "source": [
        "# loading the data \n",
        "def Load_Excel_Data(path1,path2):\n",
        "  \"\"\"\n",
        "  Input : path1 and path2 - file path of excel file of X_train and y_train\n",
        "  Returns : dataframe \n",
        "  \"\"\"\n",
        "  df1=pd.read_excel(path1)\n",
        "  df2=pd.read_excel(path2)\n",
        "  df=pd.concat([df1,df2],axis=1)\n",
        "  df.columns=['Abstract','Domain_Labels']\n",
        "  return df \n",
        "\n",
        "def Get_Sampled_Dataset(df):\n",
        "  vals=list(df['Domain_Labels'].value_counts())\n",
        "  min_val=min(vals)\n",
        "  label_1=df[df['Domain_Labels']==1]\n",
        "  label_0=df[df['Domain_Labels']==0]\n",
        "  df0 = label_0.sample(n=min_val,random_state=42)\n",
        "  new_df=pd.concat([df0,label_1],axis=0)\n",
        "  new_df=shuffle(new_df)\n",
        "  return new_df\n",
        "\n",
        "def Train_Val_Test(label,undersampling=0):\n",
        "  \"\"\"\n",
        "  Input : label - return train, val, test data for given label \n",
        "          undersampling = 0(default - don't perform undersampling on train data), else : perform undersampling on train dataset \n",
        "  Returns : dataframe - train, val and test \n",
        "  \"\"\"\n",
        "  train_data = Load_Excel_Data(\"/content/gdrive/My Drive/Title Generation NLP/Dataset/X_train.xlsx\",\"/content/gdrive/My Drive/Title Generation NLP/Dataset/y_train_\"+label+\".xlsx\")\n",
        "  val_data = Load_Excel_Data(\"/content/gdrive/My Drive/Title Generation NLP/Dataset/X_val.xlsx\",\"/content/gdrive/My Drive/Title Generation NLP/Dataset/y_val_\"+label+\".xlsx\")\n",
        "  test_data = Load_Excel_Data(\"/content/gdrive/My Drive/Title Generation NLP/Dataset/X_test.xlsx\",\"/content/gdrive/My Drive/Title Generation NLP/Dataset/y_test_\"+label+\".xlsx\")\n",
        "  if undersampling!=0:\n",
        "    train_data=Get_Sampled_Dataset(train_data)\n",
        "  return train_data, val_data, test_data \n"
      ],
      "execution_count": null,
      "outputs": []
    },
    {
      "cell_type": "markdown",
      "metadata": {
        "id": "EEvG1GEoTTbP"
      },
      "source": [
        "**Class Label : CV**"
      ]
    },
    {
      "cell_type": "code",
      "metadata": {
        "id": "8L4dFRphTe9k"
      },
      "source": [
        "# undersampling not done \n",
        "train_CV, val_CV, test_CV = Train_Val_Test(\"CV\")"
      ],
      "execution_count": null,
      "outputs": []
    },
    {
      "cell_type": "code",
      "metadata": {
        "colab": {
          "base_uri": "https://localhost:8080/"
        },
        "id": "DCf1Rj56WalP",
        "outputId": "b41bb927-1d71-4dd6-b009-06a53e90abad"
      },
      "source": [
        "# shape of data \n",
        "print(\"Train Shape : \",train_CV.shape)\n",
        "print(\"Validation Shape : \",val_CV.shape)\n",
        "print(\"Test Shape : \",test_CV.shape)"
      ],
      "execution_count": null,
      "outputs": [
        {
          "output_type": "stream",
          "text": [
            "Train Shape :  (25107, 2)\n",
            "Validation Shape :  (6277, 2)\n",
            "Test Shape :  (7847, 2)\n"
          ],
          "name": "stdout"
        }
      ]
    },
    {
      "cell_type": "markdown",
      "metadata": {
        "id": "mXvdu-3LWzNS"
      },
      "source": [
        "### **MODEL BUILDING :**"
      ]
    },
    {
      "cell_type": "code",
      "metadata": {
        "id": "GGzpv___akH_"
      },
      "source": [
        "def Result_Evaluator(data_val,model):\n",
        "  \"\"\"\n",
        "  This function evaluates the f1-score and accuracy for given data \n",
        "  Input : model - Bert Base/RoBerta Base \n",
        "  \"\"\"\n",
        "  model.eval()\n",
        "  loss_val_total = 0\n",
        "  predictions, true_vals = [], []\n",
        "    \n",
        "  for batch in data_val:\n",
        "    batch = tuple(b.to(device) for b in batch)\n",
        "    inputs = {'input_ids':batch[0],'attention_mask': batch[1],'labels':batch[2],}\n",
        "\n",
        "    with torch.no_grad():        \n",
        "      outputs = model(**inputs)\n",
        "            \n",
        "    loss = outputs[0]\n",
        "    logits = outputs[1]\n",
        "    loss_val_total += loss.item()\n",
        "\n",
        "    logits = logits.detach().cpu().numpy()\n",
        "    label_ids = inputs['labels'].cpu().numpy()\n",
        "    predictions.append(logits)\n",
        "    true_vals.append(label_ids)\n",
        "    \n",
        "  loss_val_avg = loss_val_total/len(data_val) \n",
        "  predictions = np.concatenate(predictions, axis=0)\n",
        "  true_vals = np.concatenate(true_vals, axis=0)\n",
        "            \n",
        "  return loss_val_avg, predictions, true_vals"
      ],
      "execution_count": null,
      "outputs": []
    },
    {
      "cell_type": "markdown",
      "metadata": {
        "id": "I7j7C3r1ZUl_"
      },
      "source": [
        "#### **Performance Measure :**"
      ]
    },
    {
      "cell_type": "code",
      "metadata": {
        "id": "5Z7-uwYGZTHY"
      },
      "source": [
        "def f1_score_func(preds, labels):\n",
        "  \"\"\"\n",
        "  This function returns the f1-score for given and predicted labels \n",
        "  Input : preds - predicted label \n",
        "          labels - original label \n",
        "  Returns : F1 - Score \n",
        "  \"\"\"\n",
        "  preds_flat = np.argmax(preds, axis=1).flatten()\n",
        "  labels_flat = labels.flatten()\n",
        "  return f1_score(labels_flat, preds_flat, average='weighted')\n",
        "\n",
        "def Accuracy_Score(preds,labels):\n",
        "  \"\"\"\n",
        "  This function returns the Accuracy-score for given and predicted labels \n",
        "  Input : preds - predicted label \n",
        "          labels - original label \n",
        "  Returns : Accuracy - Score \n",
        "  \"\"\"\n",
        "  preds_flat=np.argmax(preds,axis=1).flatten()\n",
        "  labels_flat=labels.flatten()\n",
        "  return accuracy_score(labels_flat,preds_flat)"
      ],
      "execution_count": null,
      "outputs": []
    },
    {
      "cell_type": "code",
      "metadata": {
        "id": "V8SZjfftWdCu"
      },
      "source": [
        "def Tag_Classifier_Modelling(tokenizer,model,folder_path,file_path):\n",
        "  \"\"\"\n",
        "  Perform Modelling using the given tokenizer \n",
        "  Input : tokenizer - Bert Base/Roberta Base tokenizer \n",
        "          model - Bert Base/Roberta Base model \n",
        "          folder_path,file_path - folder and file path to store models \n",
        "  \"\"\"\n",
        "  encoded_data_train = tokenizer.batch_encode_plus(train_CV.Abstract.values, \n",
        "                                                   add_special_tokens=True, \n",
        "                                                   return_attention_mask=True, \n",
        "                                                   pad_to_max_length=True,\n",
        "                                                   max_length=256, \n",
        "                                                   return_tensors='pt')\n",
        "  \n",
        "  encoded_data_val = tokenizer.batch_encode_plus(val_CV.Abstract.values, \n",
        "                                                 add_special_tokens=True, \n",
        "                                                 return_attention_mask=True, \n",
        "                                                 pad_to_max_length=True, \n",
        "                                                 max_length=256, \n",
        "                                                 return_tensors='pt')\n",
        "  \n",
        "  encoded_data_test = tokenizer.batch_encode_plus(test_CV.Abstract.values, \n",
        "                                                  add_special_tokens=True, \n",
        "                                                  return_attention_mask=True, \n",
        "                                                  pad_to_max_length=True, \n",
        "                                                  max_length=256, \n",
        "                                                  return_tensors='pt')\n",
        "  \n",
        "  input_ids_train = encoded_data_train['input_ids']\n",
        "  attention_masks_train = encoded_data_train['attention_mask']\n",
        "  labels_train = torch.tensor(train_CV.Domain_Labels.values)\n",
        "  \n",
        "  input_ids_val = encoded_data_val['input_ids']\n",
        "  attention_masks_val = encoded_data_val['attention_mask']\n",
        "  labels_val = torch.tensor(val_CV.Domain_Labels.values)\n",
        "  \n",
        "  input_ids_test = encoded_data_test['input_ids']\n",
        "  attention_masks_test = encoded_data_test['attention_mask']\n",
        "  labels_test = torch.tensor(test_CV.Domain_Labels.values)\n",
        "  \n",
        "  dataset_train = TensorDataset(input_ids_train, attention_masks_train, labels_train)\n",
        "  dataset_val = TensorDataset(input_ids_val, attention_masks_val, labels_val)\n",
        "  dataset_test = TensorDataset(input_ids_test, attention_masks_test, labels_test)\n",
        "  \n",
        "  batch_size = 4\n",
        "  \n",
        "  dataloader_train = DataLoader(dataset_train, \n",
        "                                sampler=RandomSampler(dataset_train), \n",
        "                                batch_size=batch_size)\n",
        "  \n",
        "  dataloader_validation = DataLoader(dataset_val, \n",
        "                                     sampler=SequentialSampler(dataset_val), \n",
        "                                     batch_size=batch_size)\n",
        "  \n",
        "  dataloader_test = DataLoader(dataset_test, \n",
        "                               sampler=SequentialSampler(dataset_test), \n",
        "                               batch_size=batch_size)\n",
        "  \n",
        "  optimizer = AdamW(model.parameters(),lr=1e-5, eps=1e-8)\n",
        "  \n",
        "  epochs = 5\n",
        "  \n",
        "  scheduler = get_linear_schedule_with_warmup(optimizer, num_warmup_steps=0,num_training_steps=len(dataloader_train)*epochs)\n",
        "  \n",
        "  val_f1_list=[]\n",
        "  \n",
        "  for epoch in tqdm(range(1, epochs+1)):\n",
        "    model.train()\n",
        "    loss_train_total = 0\n",
        "    model = model.to(device)\n",
        "\n",
        "    progress_bar = tqdm(dataloader_train, desc='Epoch {:1d}'.format(epoch), leave=False, disable=False)\n",
        "    for batch in progress_bar:\n",
        "      model.zero_grad()\n",
        "      batch = tuple(b.to(device) for b in batch)\n",
        "      inputs = {'input_ids':batch[0],'attention_mask': batch[1],'labels':batch[2],}       \n",
        "      outputs = model(**inputs)\n",
        "        \n",
        "      loss = outputs[0]\n",
        "      loss_train_total += loss.item()\n",
        "      loss.backward()\n",
        "\n",
        "      torch.nn.utils.clip_grad_norm_(model.parameters(), 1.0)\n",
        "      optimizer.step()\n",
        "      scheduler.step()\n",
        "        \n",
        "      progress_bar.set_postfix({'training_loss': '{:.3f}'.format(loss.item()/len(batch))})\n",
        "         \n",
        "    # Model Save\n",
        "    model_save_path = folder_path\n",
        "    torch.save(model.state_dict(), model_save_path + file_path +str(epoch)+ '.pth') \n",
        "\n",
        "    tqdm.write(f'\\nEpoch {epoch}')\n",
        "    \n",
        "    loss_train_avg = loss_train_total/len(dataloader_train)            \n",
        "    tqdm.write(f'Training loss: {loss_train_avg}')\n",
        "    \n",
        "    val_loss, predictions, true_vals = Result_Evaluator(dataloader_validation,model)\n",
        "    val_f1 = f1_score_func(predictions, true_vals)\n",
        "    val_acc=Accuracy_Score(predictions,true_vals)\n",
        "    tqdm.write(f'Validation loss: {val_loss}')\n",
        "    tqdm.write(f'F1 Score (Weighted): {val_f1}')\n",
        "    tqdm.write(f'Accuracy Score: {val_acc}')\n",
        "    val_f1_list.append(val_f1)\n",
        "\n",
        "  maxi_f1=np.argmax(val_f1_list)+1 \n",
        "  model.load_state_dict(torch.load(model_save_path +file_path+str(maxi_f1)+'.pth', map_location=torch.device('cpu')))\n",
        "\n",
        "  _, predictions, true_vals = Result_Evaluator(dataloader_test,model)\n",
        "\n",
        "  return predictions,true_vals"
      ],
      "execution_count": null,
      "outputs": []
    },
    {
      "cell_type": "code",
      "metadata": {
        "colab": {
          "base_uri": "https://localhost:8080/",
          "height": 365,
          "referenced_widgets": [
            "3e823bfe54d44de3bddd1d5b6d7412c7",
            "8756a3793cee4cc4be07eb0e01eac23b",
            "37e2f1d2d6324092aa1377d15ec082ca",
            "8b5d7f93b79642b8a030f459beb667c3",
            "f4d624c240be4bce8779a6bd856d625f",
            "8a636a0cf94746659c77bb0316ef9469",
            "f4b268379f8f4841b64f723371d3232b",
            "92473da0f6c04324bd47cc8159503740",
            "6bd716131db24226a7d66d4743fc91c6",
            "d2d010bf90d9441b97f0b9af1d7b9fce",
            "d273db26c4af4c91b6c18b866091d7e4",
            "c374fefa8d0e4f78a37d314fc526771d",
            "0acf6a5b12f4433f89a2c8f21c6de3fc",
            "bb4657196f04426083536f17251702c8",
            "93ea2210094f4cdcbcf9560650558f30",
            "61220c15a40c47daa2604ab51d42d503",
            "dc29a2ca35da45cca47f8dd1d4d6b249",
            "dcb36ae271814c5cbe71b7f963f5d76e",
            "d3e006817515491dab87653afb0be070",
            "b4c02a28b39f41fe9436c77d7a6413ec",
            "1b0971c91a2f4191bf2a190fe960bc5b",
            "e0eac2743701401787f3d9c470fa7467",
            "dd4e8e18287f4db8b9ea9a1de6ea87fb",
            "91fa0a12643047c3b4aa1ec9b7cd963e",
            "079007e20d12436a9e7078b6f4d95f08",
            "8ba8aa18ba304aa081bda76464328643",
            "2a0820f3b1c04c1c9eda3b95c422c472",
            "5d7b92a4ab9347868f2f8b12510a07f5",
            "c6cb6f040e95492ca6b7e6bdc8ddd8f9",
            "714151da9ec74c2797bdd0c99660e5eb",
            "f52c9310edd948439d1ccea373d1dfb8",
            "20146a65462844539d965c0d2be18b96",
            "7fc3176196bf43ad814ca278694cb1e7",
            "9e21e7ab5f364658b1a297f710b4c69b",
            "148cf5f7cc9346d9891d8f0339d27db7",
            "4e86985815ab4e3492b8353b8d4b8093",
            "01aa4f20ed274007912f6a115df1613d",
            "febd279d8605415f95e2a8a7db291403",
            "177f14c681064d24babd95b9227d3995",
            "bd09364693c646209021f6e1d4bed193"
          ]
        },
        "id": "WRl7EJ_QkF7O",
        "outputId": "cd881b73-3a8e-490f-a526-0ec36fbd067c"
      },
      "source": [
        "tokenizer = BertTokenizer.from_pretrained('bert-base-cased')\n",
        "model = BertForSequenceClassification.from_pretrained(\"bert-base-cased\",\n",
        "                                                      num_labels=2,\n",
        "                                                      output_attentions=False,\n",
        "                                                      output_hidden_states=False)"
      ],
      "execution_count": null,
      "outputs": [
        {
          "output_type": "display_data",
          "data": {
            "application/vnd.jupyter.widget-view+json": {
              "model_id": "3e823bfe54d44de3bddd1d5b6d7412c7",
              "version_minor": 0,
              "version_major": 2
            },
            "text/plain": [
              "HBox(children=(FloatProgress(value=0.0, description='Downloading', max=213450.0, style=ProgressStyle(descripti…"
            ]
          },
          "metadata": {
            "tags": []
          }
        },
        {
          "output_type": "stream",
          "text": [
            "\n"
          ],
          "name": "stdout"
        },
        {
          "output_type": "display_data",
          "data": {
            "application/vnd.jupyter.widget-view+json": {
              "model_id": "6bd716131db24226a7d66d4743fc91c6",
              "version_minor": 0,
              "version_major": 2
            },
            "text/plain": [
              "HBox(children=(FloatProgress(value=0.0, description='Downloading', max=29.0, style=ProgressStyle(description_w…"
            ]
          },
          "metadata": {
            "tags": []
          }
        },
        {
          "output_type": "stream",
          "text": [
            "\n"
          ],
          "name": "stdout"
        },
        {
          "output_type": "display_data",
          "data": {
            "application/vnd.jupyter.widget-view+json": {
              "model_id": "dc29a2ca35da45cca47f8dd1d4d6b249",
              "version_minor": 0,
              "version_major": 2
            },
            "text/plain": [
              "HBox(children=(FloatProgress(value=0.0, description='Downloading', max=435797.0, style=ProgressStyle(descripti…"
            ]
          },
          "metadata": {
            "tags": []
          }
        },
        {
          "output_type": "stream",
          "text": [
            "\n"
          ],
          "name": "stdout"
        },
        {
          "output_type": "display_data",
          "data": {
            "application/vnd.jupyter.widget-view+json": {
              "model_id": "079007e20d12436a9e7078b6f4d95f08",
              "version_minor": 0,
              "version_major": 2
            },
            "text/plain": [
              "HBox(children=(FloatProgress(value=0.0, description='Downloading', max=570.0, style=ProgressStyle(description_…"
            ]
          },
          "metadata": {
            "tags": []
          }
        },
        {
          "output_type": "stream",
          "text": [
            "\n"
          ],
          "name": "stdout"
        },
        {
          "output_type": "display_data",
          "data": {
            "application/vnd.jupyter.widget-view+json": {
              "model_id": "7fc3176196bf43ad814ca278694cb1e7",
              "version_minor": 0,
              "version_major": 2
            },
            "text/plain": [
              "HBox(children=(FloatProgress(value=0.0, description='Downloading', max=435779157.0, style=ProgressStyle(descri…"
            ]
          },
          "metadata": {
            "tags": []
          }
        },
        {
          "output_type": "stream",
          "text": [
            "\n"
          ],
          "name": "stdout"
        },
        {
          "output_type": "stream",
          "text": [
            "Some weights of the model checkpoint at bert-base-cased were not used when initializing BertForSequenceClassification: ['cls.predictions.bias', 'cls.predictions.transform.dense.weight', 'cls.predictions.transform.dense.bias', 'cls.predictions.decoder.weight', 'cls.seq_relationship.weight', 'cls.seq_relationship.bias', 'cls.predictions.transform.LayerNorm.weight', 'cls.predictions.transform.LayerNorm.bias']\n",
            "- This IS expected if you are initializing BertForSequenceClassification from the checkpoint of a model trained on another task or with another architecture (e.g. initializing a BertForSequenceClassification model from a BertForPreTraining model).\n",
            "- This IS NOT expected if you are initializing BertForSequenceClassification from the checkpoint of a model that you expect to be exactly identical (initializing a BertForSequenceClassification model from a BertForSequenceClassification model).\n",
            "Some weights of BertForSequenceClassification were not initialized from the model checkpoint at bert-base-cased and are newly initialized: ['classifier.weight', 'classifier.bias']\n",
            "You should probably TRAIN this model on a down-stream task to be able to use it for predictions and inference.\n"
          ],
          "name": "stderr"
        }
      ]
    },
    {
      "cell_type": "code",
      "metadata": {
        "colab": {
          "base_uri": "https://localhost:8080/",
          "height": 606,
          "referenced_widgets": [
            "2be6b09aa5e647cd860637c3dafacae1",
            "559807f39e7f4164864356343d664ac7",
            "b594a250c61244faaa11f2a530145176",
            "573b436501a44c48861dd25731baba60",
            "033f5a71755545968c3a1b978b9c6378",
            "392f6fbb1980488eb16010267aa05230",
            "394b010fcdda41ad9280b1c06fb97568",
            "6566bc01cbf545a3b374648555960506",
            "d73c6367eb124bdd9a936c7bbccf6404",
            "3308a45f49ee4df2821434543dcad662",
            "aeb50d640de94f6a953e30fc6c7b6686",
            "f4ae8a34d03b4cdba1ad58fb853d31e5",
            "be75bd94d8a1463fa35feb0f4c1fae44",
            "8a81d8cd7ae448f7a5ad1d414c107c1a",
            "8d03276251e84f9abc8cc58d5bf5888c",
            "f6cac2d0469842bbbdb0fcf6e997b3fe",
            "56a0adf143544d9e846bd17cc3425d52",
            "a28d6514ce43431ebbb46b4448a65399",
            "7c3825ee38cd41fc84c415bd347b2ee4",
            "b13aeba347554344b2b3148572566227",
            "5a9546c5e54b46b9967ec5620aff75cf",
            "5c5fd68676334d3092f955ca1c33bcc9",
            "f117a21df6d84743a209d6045a40402a",
            "829ade34931442f3808f87e4c13c6d3a",
            "81618fed216b4f2483b1dd0d170eccd8",
            "29a368c4c7e249d8ab9513a5e66e1760",
            "44006f21467d479f94368555ff9a819d",
            "c7559eceea184217bee2d006b0c4e1a7",
            "6dbe760845d9403b815d2856954fd5c9",
            "f2abf7582962484b8e080fce8b37d73b",
            "a9f1c15481e94d48bfd10b80c1f5b5b5",
            "8a25a80da8ba4c9ca50b1dab0828607a",
            "f6be142e615c47c29052e660a0c701e3",
            "ffb76cd2c23a4190bf397e43cf4fa2e9",
            "195f18ae539e4a8faf4a95d781b231b4",
            "bdecfb921a514994ac1295ed298105a0",
            "2c3319375f0844c28da90f01d2ff50e6",
            "021aa1c1a42c4dbe910bf63e1e8ce028",
            "097dc3c6fc394043b86788bb5147b27a",
            "e1f0bb4bd06b4c4ca2b0e9e3399216f6",
            "6cb47753f57f41cb886f79fefa9fa954",
            "6e8750810f2743b5903ef659f10d4366",
            "80caa215fde841f195ac9ac9cf996875",
            "34498850b4c5404c8f8c30a21a6a5654",
            "119fcbe7b504402b87e1df47c11d97b5",
            "53e53a126d05467cad60db1dcfd34c82",
            "d1fd730e369f48cbb5a7bfafb09cad7e",
            "67775f6ad88747dfb579d55026a4fd0b"
          ]
        },
        "id": "jYzL-Lbejhmy",
        "outputId": "f60d6e0c-2ee4-41f6-df5d-3f7ee11191ba"
      },
      "source": [
        "seed_val = 17\n",
        "random.seed(seed_val)\n",
        "np.random.seed(seed_val)\n",
        "torch.manual_seed(seed_val)\n",
        "torch.cuda.manual_seed_all(seed_val)\n",
        "\n",
        "test_pred, test_true_vals = Tag_Classifier_Modelling(tokenizer,model,\"/content/gdrive/My Drive/Title Generation NLP/Bert_Models/\",\"Bert_CV_Final_Epoch_\")"
      ],
      "execution_count": null,
      "outputs": [
        {
          "output_type": "stream",
          "text": [
            "Truncation was not explicitly activated but `max_length` is provided a specific value, please use `truncation=True` to explicitly truncate examples to max length. Defaulting to 'longest_first' truncation strategy. If you encode pairs of sequences (GLUE-style) with the tokenizer you can select this strategy more precisely by providing a specific strategy to `truncation`.\n"
          ],
          "name": "stderr"
        },
        {
          "output_type": "display_data",
          "data": {
            "application/vnd.jupyter.widget-view+json": {
              "model_id": "2be6b09aa5e647cd860637c3dafacae1",
              "version_minor": 0,
              "version_major": 2
            },
            "text/plain": [
              "HBox(children=(FloatProgress(value=0.0, max=5.0), HTML(value='')))"
            ]
          },
          "metadata": {
            "tags": []
          }
        },
        {
          "output_type": "display_data",
          "data": {
            "application/vnd.jupyter.widget-view+json": {
              "model_id": "d73c6367eb124bdd9a936c7bbccf6404",
              "version_minor": 0,
              "version_major": 2
            },
            "text/plain": [
              "HBox(children=(FloatProgress(value=0.0, description='Epoch 1', max=6277.0, style=ProgressStyle(description_wid…"
            ]
          },
          "metadata": {
            "tags": []
          }
        },
        {
          "output_type": "stream",
          "text": [
            "\r\n",
            "Epoch 1\n",
            "Training loss: 0.659554083794664\n",
            "Validation loss: 0.6598002580320759\n",
            "F1 Score (Weighted): 0.50667648960749\n",
            "Accuracy Score: 0.645690616536562\n"
          ],
          "name": "stdout"
        },
        {
          "output_type": "display_data",
          "data": {
            "application/vnd.jupyter.widget-view+json": {
              "model_id": "56a0adf143544d9e846bd17cc3425d52",
              "version_minor": 0,
              "version_major": 2
            },
            "text/plain": [
              "HBox(children=(FloatProgress(value=0.0, description='Epoch 2', max=6277.0, style=ProgressStyle(description_wid…"
            ]
          },
          "metadata": {
            "tags": []
          }
        },
        {
          "output_type": "stream",
          "text": [
            "\r\n",
            "Epoch 2\n",
            "Training loss: 0.6580973492129054\n",
            "Validation loss: 0.6511055439141146\n",
            "F1 Score (Weighted): 0.50667648960749\n",
            "Accuracy Score: 0.645690616536562\n"
          ],
          "name": "stdout"
        },
        {
          "output_type": "display_data",
          "data": {
            "application/vnd.jupyter.widget-view+json": {
              "model_id": "81618fed216b4f2483b1dd0d170eccd8",
              "version_minor": 0,
              "version_major": 2
            },
            "text/plain": [
              "HBox(children=(FloatProgress(value=0.0, description='Epoch 3', max=6277.0, style=ProgressStyle(description_wid…"
            ]
          },
          "metadata": {
            "tags": []
          }
        },
        {
          "output_type": "stream",
          "text": [
            "\r\n",
            "Epoch 3\n",
            "Training loss: 0.6545066075784985\n",
            "Validation loss: 0.6635804620328223\n",
            "F1 Score (Weighted): 0.50667648960749\n",
            "Accuracy Score: 0.645690616536562\n"
          ],
          "name": "stdout"
        },
        {
          "output_type": "display_data",
          "data": {
            "application/vnd.jupyter.widget-view+json": {
              "model_id": "f6be142e615c47c29052e660a0c701e3",
              "version_minor": 0,
              "version_major": 2
            },
            "text/plain": [
              "HBox(children=(FloatProgress(value=0.0, description='Epoch 4', max=6277.0, style=ProgressStyle(description_wid…"
            ]
          },
          "metadata": {
            "tags": []
          }
        },
        {
          "output_type": "stream",
          "text": [
            "\r\n",
            "Epoch 4\n",
            "Training loss: 0.6328323308365995\n",
            "Validation loss: 0.7143843436791638\n",
            "F1 Score (Weighted): 0.5364992805360094\n",
            "Accuracy Score: 0.6200414210610165\n"
          ],
          "name": "stdout"
        },
        {
          "output_type": "display_data",
          "data": {
            "application/vnd.jupyter.widget-view+json": {
              "model_id": "6cb47753f57f41cb886f79fefa9fa954",
              "version_minor": 0,
              "version_major": 2
            },
            "text/plain": [
              "HBox(children=(FloatProgress(value=0.0, description='Epoch 5', max=6277.0, style=ProgressStyle(description_wid…"
            ]
          },
          "metadata": {
            "tags": []
          }
        },
        {
          "output_type": "stream",
          "text": [
            "\r\n",
            "Epoch 5\n",
            "Training loss: 0.5795181689272646\n",
            "Validation loss: 0.7976756495227859\n",
            "F1 Score (Weighted): 0.5465528334211376\n",
            "Accuracy Score: 0.6025171260156126\n",
            "\n"
          ],
          "name": "stdout"
        }
      ]
    },
    {
      "cell_type": "code",
      "metadata": {
        "id": "QnvVbZpUmK-9",
        "colab": {
          "base_uri": "https://localhost:8080/"
        },
        "outputId": "a905e6f2-bf9a-4867-abc1-e3356c203303"
      },
      "source": [
        "# Test data results \n",
        "test_f1 = f1_score_func(test_pred, test_true_vals)\n",
        "test_acc=Accuracy_Score(test_pred,test_true_vals)\n",
        "tqdm.write(f'F1 Score (Weighted): {test_f1}')\n",
        "tqdm.write(f'Accuracy Score: {test_acc}')"
      ],
      "execution_count": null,
      "outputs": [
        {
          "output_type": "stream",
          "text": [
            "F1 Score (Weighted): 0.5479635745497038\n",
            "Accuracy Score: 0.6046896903275137\n"
          ],
          "name": "stdout"
        }
      ]
    },
    {
      "cell_type": "code",
      "metadata": {
        "id": "8VfPigd3mnBY",
        "colab": {
          "base_uri": "https://localhost:8080/",
          "height": 205
        },
        "outputId": "92693399-e738-4f54-8731-5fd1dbdefe19"
      },
      "source": [
        "def plot_confusion_matrix(cm,\n",
        "                          target_names,\n",
        "                          title='Confusion matrix',\n",
        "                          cmap=None,\n",
        "                          normalize=False):\n",
        "    \"\"\"\n",
        "    given a sklearn confusion matrix (cm), make a nice plot\n",
        "\n",
        "    Arguments\n",
        "    ---------\n",
        "    cm:           confusion matrix from sklearn.metrics.confusion_matrix\n",
        "    target_names: given classification classes such as [0, 1, 2]\n",
        "                  the class names, for example: ['high', 'medium', 'low']\n",
        "    title:        the text to display at the top of the matrix\n",
        "    cmap:         the gradient of the values displayed from matplotlib.pyplot.cm\n",
        "                  see http://matplotlib.org/examples/color/colormaps_reference.html\n",
        "                  plt.get_cmap('jet') or plt.cm.Blues\n",
        "\n",
        "    normalize:    If False, plot the raw numbers\n",
        "                  If True, plot the proportions\n",
        "\n",
        "    Usage\n",
        "    -----\n",
        "    plot_confusion_matrix(cm           = cm,                  # confusion matrix created by\n",
        "                                                              # sklearn.metrics.confusion_matrix\n",
        "                          normalize    = True,                # show proportions\n",
        "                          target_names = y_labels_vals,       # list of names of the classes\n",
        "                          title        = best_estimator_name) # title of graph\n",
        "\n",
        "    Citiation\n",
        "    ---------\n",
        "    http://scikit-learn.org/stable/auto_examples/model_selection/plot_confusion_matrix.html\n",
        "\n",
        "    \"\"\"\n",
        "    accuracy = np.trace(cm) / np.sum(cm).astype('float')\n",
        "    misclass = 1 - accuracy\n",
        "\n",
        "    if cmap is None:\n",
        "        cmap = plt.get_cmap('Blues')\n",
        "\n",
        "    plt.figure(figsize=(8, 6))\n",
        "    plt.imshow(cm, interpolation='nearest', cmap=cmap)\n",
        "    plt.title(title,fontsize=20)\n",
        "    plt.colorbar()\n",
        "\n",
        "    if target_names is not None:\n",
        "        tick_marks = np.arange(len(target_names))\n",
        "        plt.xticks(tick_marks, target_names, rotation=0,fontsize=20)\n",
        "        plt.yticks(tick_marks, target_names,fontsize=20)\n",
        "\n",
        "    if normalize:\n",
        "        cm = cm.astype('float') / cm.sum(axis=1)[:, np.newaxis]\n",
        "\n",
        "\n",
        "    thresh = cm.max() / 1.5 if normalize else cm.max() / 2\n",
        "    for i, j in itertools.product(range(cm.shape[0]), range(cm.shape[1])):\n",
        "        if normalize:\n",
        "            plt.text(j, i, \"{:0.4f}\".format(cm[i, j]),\n",
        "                     horizontalalignment=\"center\",fontsize=30,\n",
        "                     color=\"white\" if cm[i, j] > thresh else \"black\")\n",
        "        else:\n",
        "            plt.text(j, i, \"{:,}\".format(cm[i, j]),\n",
        "                     horizontalalignment=\"center\",fontsize=30,\n",
        "                     color=\"white\" if cm[i, j] > thresh else \"black\" )\n",
        "\n",
        "\n",
        "    plt.tight_layout()\n",
        "    plt.ylabel('True label',fontsize=16)\n",
        "    plt.xlabel('Predicted label\\naccuracy={:0.4f}; misclass={:0.4f}'.format(accuracy, misclass),fontsize=16)\n",
        "    plt.show()\n",
        "\n",
        "def plot(neglabel,poslabel,preds,labels):\n",
        "  \"\"\"\n",
        "  input : neglabel - false label\n",
        "          poslabel - true label \n",
        "          y_true - true y_labels \n",
        "          y_pred - predicted y_labels\n",
        "  plots : confusion matrix for the y_true and y_pred that is being passed \n",
        "  \"\"\"\n",
        "  y_pred = np.argmax(preds, axis=1).flatten()\n",
        "  y_true = labels.flatten()\n",
        "  # Classification Report\n",
        "  print(Report(y_true,y_pred))\n",
        "  # Label Names\n",
        "  target_names = [neglabel,poslabel]\n",
        "  # Confusion Matrix\n",
        "  cm = confusion_matrix(y_true, y_pred)\n",
        "  # Actual Plot (Downloadble)\n",
        "  plot_confusion_matrix(cm, target_names)\n",
        "\n",
        "plot(\"Non-CV\",\"CV\",test_pred, test_true_vals)"
      ],
      "execution_count": null,
      "outputs": [
        {
          "output_type": "stream",
          "text": [
            "              precision    recall  f1-score   support\n",
            "\n",
            "           0       0.65      0.86      0.74      5066\n",
            "           1       0.36      0.14      0.20      2781\n",
            "\n",
            "    accuracy                           0.60      7847\n",
            "   macro avg       0.50      0.50      0.47      7847\n",
            "weighted avg       0.54      0.60      0.55      7847\n",
            "\n"
          ],
          "name": "stdout"
        },
        {
          "output_type": "display_data",
          "data": {
            "image/png": "[encoded data removed]",
            "text/plain": [
              "<Figure size 576x432 with 2 Axes>"
            ]
          },
          "metadata": {
            "tags": [],
            "needs_background": "light"
          }
        }
      ]
    },
    {
      "cell_type": "code",
      "metadata": {
        "id": "QCtZPyx1QkIx"
      },
      "source": [
        "# save the test true labels and test predictions \n",
        "np.save(\"CV_test_pred\",test_pred)\n",
        "np.save(\"CV_test_true_labels\",test_true_vals)"
      ],
      "execution_count": null,
      "outputs": []
    },
    {
      "cell_type": "code",
      "metadata": {
        "id": "KwlCEBYnkqrK"
      },
      "source": [
        ""
      ],
      "execution_count": null,
      "outputs": []
    }
  ]
}