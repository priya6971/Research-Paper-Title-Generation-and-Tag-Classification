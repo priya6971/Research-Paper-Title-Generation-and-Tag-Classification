{
  "nbformat": 4,
  "nbformat_minor": 0,
  "metadata": {
    "colab": {
      "name": "Tags_Classification_Class_LG_Final_Code .ipynb",
      "provenance": [],
      "toc_visible": true
    },
    "kernelspec": {
      "name": "python3",
      "display_name": "Python 3"
    },
    "language_info": {
      "name": "python"
    },
    "widgets": {
      "application/vnd.jupyter.widget-state+json": {
        "1d9cc01f410a4f2c817c91ef24ce0b00": {
          "model_module": "@jupyter-widgets/controls",
          "model_name": "HBoxModel",
          "state": {
            "_view_name": "HBoxView",
            "_dom_classes": [],
            "_model_name": "HBoxModel",
            "_view_module": "@jupyter-widgets/controls",
            "_model_module_version": "1.5.0",
            "_view_count": null,
            "_view_module_version": "1.5.0",
            "box_style": "",
            "layout": "IPY_MODEL_3420cec546b445e9aa76a471a9819349",
            "_model_module": "@jupyter-widgets/controls",
            "children": [
              "IPY_MODEL_182db81d25bc44dd8b26c415299c0cff",
              "IPY_MODEL_31bf49bab7c44e32b9a819cdd4c3bf79"
            ]
          }
        },
        "3420cec546b445e9aa76a471a9819349": {
          "model_module": "@jupyter-widgets/base",
          "model_name": "LayoutModel",
          "state": {
            "_view_name": "LayoutView",
            "grid_template_rows": null,
            "right": null,
            "justify_content": null,
            "_view_module": "@jupyter-widgets/base",
            "overflow": null,
            "_model_module_version": "1.2.0",
            "_view_count": null,
            "flex_flow": null,
            "width": null,
            "min_width": null,
            "border": null,
            "align_items": null,
            "bottom": null,
            "_model_module": "@jupyter-widgets/base",
            "top": null,
            "grid_column": null,
            "overflow_y": null,
            "overflow_x": null,
            "grid_auto_flow": null,
            "grid_area": null,
            "grid_template_columns": null,
            "flex": null,
            "_model_name": "LayoutModel",
            "justify_items": null,
            "grid_row": null,
            "max_height": null,
            "align_content": null,
            "visibility": null,
            "align_self": null,
            "height": null,
            "min_height": null,
            "padding": null,
            "grid_auto_rows": null,
            "grid_gap": null,
            "max_width": null,
            "order": null,
            "_view_module_version": "1.2.0",
            "grid_template_areas": null,
            "object_position": null,
            "object_fit": null,
            "grid_auto_columns": null,
            "margin": null,
            "display": null,
            "left": null
          }
        },
        "182db81d25bc44dd8b26c415299c0cff": {
          "model_module": "@jupyter-widgets/controls",
          "model_name": "FloatProgressModel",
          "state": {
            "_view_name": "ProgressView",
            "style": "IPY_MODEL_207bd06d1d5a4ea7b994b4814338bea8",
            "_dom_classes": [],
            "description": "Downloading: 100%",
            "_model_name": "FloatProgressModel",
            "bar_style": "success",
            "max": 213450,
            "_view_module": "@jupyter-widgets/controls",
            "_model_module_version": "1.5.0",
            "value": 213450,
            "_view_count": null,
            "_view_module_version": "1.5.0",
            "orientation": "horizontal",
            "min": 0,
            "description_tooltip": null,
            "_model_module": "@jupyter-widgets/controls",
            "layout": "IPY_MODEL_9e0ef757696348979c05eba3b1e127ed"
          }
        },
        "31bf49bab7c44e32b9a819cdd4c3bf79": {
          "model_module": "@jupyter-widgets/controls",
          "model_name": "HTMLModel",
          "state": {
            "_view_name": "HTMLView",
            "style": "IPY_MODEL_d6bacb1fc4ad4317a17e9e704d686470",
            "_dom_classes": [],
            "description": "",
            "_model_name": "HTMLModel",
            "placeholder": "​",
            "_view_module": "@jupyter-widgets/controls",
            "_model_module_version": "1.5.0",
            "value": " 213k/213k [00:01&lt;00:00, 131kB/s]",
            "_view_count": null,
            "_view_module_version": "1.5.0",
            "description_tooltip": null,
            "_model_module": "@jupyter-widgets/controls",
            "layout": "IPY_MODEL_b9e3e50e7d3443f3926faa367aef9f31"
          }
        },
        "207bd06d1d5a4ea7b994b4814338bea8": {
          "model_module": "@jupyter-widgets/controls",
          "model_name": "ProgressStyleModel",
          "state": {
            "_view_name": "StyleView",
            "_model_name": "ProgressStyleModel",
            "description_width": "initial",
            "_view_module": "@jupyter-widgets/base",
            "_model_module_version": "1.5.0",
            "_view_count": null,
            "_view_module_version": "1.2.0",
            "bar_color": null,
            "_model_module": "@jupyter-widgets/controls"
          }
        },
        "9e0ef757696348979c05eba3b1e127ed": {
          "model_module": "@jupyter-widgets/base",
          "model_name": "LayoutModel",
          "state": {
            "_view_name": "LayoutView",
            "grid_template_rows": null,
            "right": null,
            "justify_content": null,
            "_view_module": "@jupyter-widgets/base",
            "overflow": null,
            "_model_module_version": "1.2.0",
            "_view_count": null,
            "flex_flow": null,
            "width": null,
            "min_width": null,
            "border": null,
            "align_items": null,
            "bottom": null,
            "_model_module": "@jupyter-widgets/base",
            "top": null,
            "grid_column": null,
            "overflow_y": null,
            "overflow_x": null,
            "grid_auto_flow": null,
            "grid_area": null,
            "grid_template_columns": null,
            "flex": null,
            "_model_name": "LayoutModel",
            "justify_items": null,
            "grid_row": null,
            "max_height": null,
            "align_content": null,
            "visibility": null,
            "align_self": null,
            "height": null,
            "min_height": null,
            "padding": null,
            "grid_auto_rows": null,
            "grid_gap": null,
            "max_width": null,
            "order": null,
            "_view_module_version": "1.2.0",
            "grid_template_areas": null,
            "object_position": null,
            "object_fit": null,
            "grid_auto_columns": null,
            "margin": null,
            "display": null,
            "left": null
          }
        },
        "d6bacb1fc4ad4317a17e9e704d686470": {
          "model_module": "@jupyter-widgets/controls",
          "model_name": "DescriptionStyleModel",
          "state": {
            "_view_name": "StyleView",
            "_model_name": "DescriptionStyleModel",
            "description_width": "",
            "_view_module": "@jupyter-widgets/base",
            "_model_module_version": "1.5.0",
            "_view_count": null,
            "_view_module_version": "1.2.0",
            "_model_module": "@jupyter-widgets/controls"
          }
        },
        "b9e3e50e7d3443f3926faa367aef9f31": {
          "model_module": "@jupyter-widgets/base",
          "model_name": "LayoutModel",
          "state": {
            "_view_name": "LayoutView",
            "grid_template_rows": null,
            "right": null,
            "justify_content": null,
            "_view_module": "@jupyter-widgets/base",
            "overflow": null,
            "_model_module_version": "1.2.0",
            "_view_count": null,
            "flex_flow": null,
            "width": null,
            "min_width": null,
            "border": null,
            "align_items": null,
            "bottom": null,
            "_model_module": "@jupyter-widgets/base",
            "top": null,
            "grid_column": null,
            "overflow_y": null,
            "overflow_x": null,
            "grid_auto_flow": null,
            "grid_area": null,
            "grid_template_columns": null,
            "flex": null,
            "_model_name": "LayoutModel",
            "justify_items": null,
            "grid_row": null,
            "max_height": null,
            "align_content": null,
            "visibility": null,
            "align_self": null,
            "height": null,
            "min_height": null,
            "padding": null,
            "grid_auto_rows": null,
            "grid_gap": null,
            "max_width": null,
            "order": null,
            "_view_module_version": "1.2.0",
            "grid_template_areas": null,
            "object_position": null,
            "object_fit": null,
            "grid_auto_columns": null,
            "margin": null,
            "display": null,
            "left": null
          }
        },
        "3f00f14be24141778515925e27529311": {
          "model_module": "@jupyter-widgets/controls",
          "model_name": "HBoxModel",
          "state": {
            "_view_name": "HBoxView",
            "_dom_classes": [],
            "_model_name": "HBoxModel",
            "_view_module": "@jupyter-widgets/controls",
            "_model_module_version": "1.5.0",
            "_view_count": null,
            "_view_module_version": "1.5.0",
            "box_style": "",
            "layout": "IPY_MODEL_a7a81e7b04944bc3a707df7253a90c2a",
            "_model_module": "@jupyter-widgets/controls",
            "children": [
              "IPY_MODEL_8c8eae326f61482db89b024d5151062c",
              "IPY_MODEL_45b930496ddd481d9ded5849f4dd93d8"
            ]
          }
        },
        "a7a81e7b04944bc3a707df7253a90c2a": {
          "model_module": "@jupyter-widgets/base",
          "model_name": "LayoutModel",
          "state": {
            "_view_name": "LayoutView",
            "grid_template_rows": null,
            "right": null,
            "justify_content": null,
            "_view_module": "@jupyter-widgets/base",
            "overflow": null,
            "_model_module_version": "1.2.0",
            "_view_count": null,
            "flex_flow": null,
            "width": null,
            "min_width": null,
            "border": null,
            "align_items": null,
            "bottom": null,
            "_model_module": "@jupyter-widgets/base",
            "top": null,
            "grid_column": null,
            "overflow_y": null,
            "overflow_x": null,
            "grid_auto_flow": null,
            "grid_area": null,
            "grid_template_columns": null,
            "flex": null,
            "_model_name": "LayoutModel",
            "justify_items": null,
            "grid_row": null,
            "max_height": null,
            "align_content": null,
            "visibility": null,
            "align_self": null,
            "height": null,
            "min_height": null,
            "padding": null,
            "grid_auto_rows": null,
            "grid_gap": null,
            "max_width": null,
            "order": null,
            "_view_module_version": "1.2.0",
            "grid_template_areas": null,
            "object_position": null,
            "object_fit": null,
            "grid_auto_columns": null,
            "margin": null,
            "display": null,
            "left": null
          }
        },
        "8c8eae326f61482db89b024d5151062c": {
          "model_module": "@jupyter-widgets/controls",
          "model_name": "FloatProgressModel",
          "state": {
            "_view_name": "ProgressView",
            "style": "IPY_MODEL_ba2a63232a234762b2736206ffde7e33",
            "_dom_classes": [],
            "description": "Downloading: 100%",
            "_model_name": "FloatProgressModel",
            "bar_style": "success",
            "max": 29,
            "_view_module": "@jupyter-widgets/controls",
            "_model_module_version": "1.5.0",
            "value": 29,
            "_view_count": null,
            "_view_module_version": "1.5.0",
            "orientation": "horizontal",
            "min": 0,
            "description_tooltip": null,
            "_model_module": "@jupyter-widgets/controls",
            "layout": "IPY_MODEL_b46105b19f2544029f9ca02aaf74bb08"
          }
        },
        "45b930496ddd481d9ded5849f4dd93d8": {
          "model_module": "@jupyter-widgets/controls",
          "model_name": "HTMLModel",
          "state": {
            "_view_name": "HTMLView",
            "style": "IPY_MODEL_24939376f8a4496888fca1702e391655",
            "_dom_classes": [],
            "description": "",
            "_model_name": "HTMLModel",
            "placeholder": "​",
            "_view_module": "@jupyter-widgets/controls",
            "_model_module_version": "1.5.0",
            "value": " 29.0/29.0 [00:00&lt;00:00, 57.2B/s]",
            "_view_count": null,
            "_view_module_version": "1.5.0",
            "description_tooltip": null,
            "_model_module": "@jupyter-widgets/controls",
            "layout": "IPY_MODEL_66c19f353862497ca459d9cf99ab17be"
          }
        },
        "ba2a63232a234762b2736206ffde7e33": {
          "model_module": "@jupyter-widgets/controls",
          "model_name": "ProgressStyleModel",
          "state": {
            "_view_name": "StyleView",
            "_model_name": "ProgressStyleModel",
            "description_width": "initial",
            "_view_module": "@jupyter-widgets/base",
            "_model_module_version": "1.5.0",
            "_view_count": null,
            "_view_module_version": "1.2.0",
            "bar_color": null,
            "_model_module": "@jupyter-widgets/controls"
          }
        },
        "b46105b19f2544029f9ca02aaf74bb08": {
          "model_module": "@jupyter-widgets/base",
          "model_name": "LayoutModel",
          "state": {
            "_view_name": "LayoutView",
            "grid_template_rows": null,
            "right": null,
            "justify_content": null,
            "_view_module": "@jupyter-widgets/base",
            "overflow": null,
            "_model_module_version": "1.2.0",
            "_view_count": null,
            "flex_flow": null,
            "width": null,
            "min_width": null,
            "border": null,
            "align_items": null,
            "bottom": null,
            "_model_module": "@jupyter-widgets/base",
            "top": null,
            "grid_column": null,
            "overflow_y": null,
            "overflow_x": null,
            "grid_auto_flow": null,
            "grid_area": null,
            "grid_template_columns": null,
            "flex": null,
            "_model_name": "LayoutModel",
            "justify_items": null,
            "grid_row": null,
            "max_height": null,
            "align_content": null,
            "visibility": null,
            "align_self": null,
            "height": null,
            "min_height": null,
            "padding": null,
            "grid_auto_rows": null,
            "grid_gap": null,
            "max_width": null,
            "order": null,
            "_view_module_version": "1.2.0",
            "grid_template_areas": null,
            "object_position": null,
            "object_fit": null,
            "grid_auto_columns": null,
            "margin": null,
            "display": null,
            "left": null
          }
        },
        "24939376f8a4496888fca1702e391655": {
          "model_module": "@jupyter-widgets/controls",
          "model_name": "DescriptionStyleModel",
          "state": {
            "_view_name": "StyleView",
            "_model_name": "DescriptionStyleModel",
            "description_width": "",
            "_view_module": "@jupyter-widgets/base",
            "_model_module_version": "1.5.0",
            "_view_count": null,
            "_view_module_version": "1.2.0",
            "_model_module": "@jupyter-widgets/controls"
          }
        },
        "66c19f353862497ca459d9cf99ab17be": {
          "model_module": "@jupyter-widgets/base",
          "model_name": "LayoutModel",
          "state": {
            "_view_name": "LayoutView",
            "grid_template_rows": null,
            "right": null,
            "justify_content": null,
            "_view_module": "@jupyter-widgets/base",
            "overflow": null,
            "_model_module_version": "1.2.0",
            "_view_count": null,
            "flex_flow": null,
            "width": null,
            "min_width": null,
            "border": null,
            "align_items": null,
            "bottom": null,
            "_model_module": "@jupyter-widgets/base",
            "top": null,
            "grid_column": null,
            "overflow_y": null,
            "overflow_x": null,
            "grid_auto_flow": null,
            "grid_area": null,
            "grid_template_columns": null,
            "flex": null,
            "_model_name": "LayoutModel",
            "justify_items": null,
            "grid_row": null,
            "max_height": null,
            "align_content": null,
            "visibility": null,
            "align_self": null,
            "height": null,
            "min_height": null,
            "padding": null,
            "grid_auto_rows": null,
            "grid_gap": null,
            "max_width": null,
            "order": null,
            "_view_module_version": "1.2.0",
            "grid_template_areas": null,
            "object_position": null,
            "object_fit": null,
            "grid_auto_columns": null,
            "margin": null,
            "display": null,
            "left": null
          }
        },
        "50e18789fa27453fa343c2ae0ddd5ea4": {
          "model_module": "@jupyter-widgets/controls",
          "model_name": "HBoxModel",
          "state": {
            "_view_name": "HBoxView",
            "_dom_classes": [],
            "_model_name": "HBoxModel",
            "_view_module": "@jupyter-widgets/controls",
            "_model_module_version": "1.5.0",
            "_view_count": null,
            "_view_module_version": "1.5.0",
            "box_style": "",
            "layout": "IPY_MODEL_a8599f3c1867403da68b7726fedb73fd",
            "_model_module": "@jupyter-widgets/controls",
            "children": [
              "IPY_MODEL_23996e2322b743f3b1fb8fd803eac5f0",
              "IPY_MODEL_7e0e11d86eb849da911e602c290b8251"
            ]
          }
        },
        "a8599f3c1867403da68b7726fedb73fd": {
          "model_module": "@jupyter-widgets/base",
          "model_name": "LayoutModel",
          "state": {
            "_view_name": "LayoutView",
            "grid_template_rows": null,
            "right": null,
            "justify_content": null,
            "_view_module": "@jupyter-widgets/base",
            "overflow": null,
            "_model_module_version": "1.2.0",
            "_view_count": null,
            "flex_flow": null,
            "width": null,
            "min_width": null,
            "border": null,
            "align_items": null,
            "bottom": null,
            "_model_module": "@jupyter-widgets/base",
            "top": null,
            "grid_column": null,
            "overflow_y": null,
            "overflow_x": null,
            "grid_auto_flow": null,
            "grid_area": null,
            "grid_template_columns": null,
            "flex": null,
            "_model_name": "LayoutModel",
            "justify_items": null,
            "grid_row": null,
            "max_height": null,
            "align_content": null,
            "visibility": null,
            "align_self": null,
            "height": null,
            "min_height": null,
            "padding": null,
            "grid_auto_rows": null,
            "grid_gap": null,
            "max_width": null,
            "order": null,
            "_view_module_version": "1.2.0",
            "grid_template_areas": null,
            "object_position": null,
            "object_fit": null,
            "grid_auto_columns": null,
            "margin": null,
            "display": null,
            "left": null
          }
        },
        "23996e2322b743f3b1fb8fd803eac5f0": {
          "model_module": "@jupyter-widgets/controls",
          "model_name": "FloatProgressModel",
          "state": {
            "_view_name": "ProgressView",
            "style": "IPY_MODEL_4d2e25fb3bea4ccf93d07374cfa84161",
            "_dom_classes": [],
            "description": "Downloading: 100%",
            "_model_name": "FloatProgressModel",
            "bar_style": "success",
            "max": 435797,
            "_view_module": "@jupyter-widgets/controls",
            "_model_module_version": "1.5.0",
            "value": 435797,
            "_view_count": null,
            "_view_module_version": "1.5.0",
            "orientation": "horizontal",
            "min": 0,
            "description_tooltip": null,
            "_model_module": "@jupyter-widgets/controls",
            "layout": "IPY_MODEL_a8ccb88b7f8248babb29166436cfeaad"
          }
        },
        "7e0e11d86eb849da911e602c290b8251": {
          "model_module": "@jupyter-widgets/controls",
          "model_name": "HTMLModel",
          "state": {
            "_view_name": "HTMLView",
            "style": "IPY_MODEL_f3c3db8a4c9c457ba783a8e62cb7c83d",
            "_dom_classes": [],
            "description": "",
            "_model_name": "HTMLModel",
            "placeholder": "​",
            "_view_module": "@jupyter-widgets/controls",
            "_model_module_version": "1.5.0",
            "value": " 436k/436k [00:00&lt;00:00, 1.19MB/s]",
            "_view_count": null,
            "_view_module_version": "1.5.0",
            "description_tooltip": null,
            "_model_module": "@jupyter-widgets/controls",
            "layout": "IPY_MODEL_47429bce19cf4572a99e8ad7c6b8e057"
          }
        },
        "4d2e25fb3bea4ccf93d07374cfa84161": {
          "model_module": "@jupyter-widgets/controls",
          "model_name": "ProgressStyleModel",
          "state": {
            "_view_name": "StyleView",
            "_model_name": "ProgressStyleModel",
            "description_width": "initial",
            "_view_module": "@jupyter-widgets/base",
            "_model_module_version": "1.5.0",
            "_view_count": null,
            "_view_module_version": "1.2.0",
            "bar_color": null,
            "_model_module": "@jupyter-widgets/controls"
          }
        },
        "a8ccb88b7f8248babb29166436cfeaad": {
          "model_module": "@jupyter-widgets/base",
          "model_name": "LayoutModel",
          "state": {
            "_view_name": "LayoutView",
            "grid_template_rows": null,
            "right": null,
            "justify_content": null,
            "_view_module": "@jupyter-widgets/base",
            "overflow": null,
            "_model_module_version": "1.2.0",
            "_view_count": null,
            "flex_flow": null,
            "width": null,
            "min_width": null,
            "border": null,
            "align_items": null,
            "bottom": null,
            "_model_module": "@jupyter-widgets/base",
            "top": null,
            "grid_column": null,
            "overflow_y": null,
            "overflow_x": null,
            "grid_auto_flow": null,
            "grid_area": null,
            "grid_template_columns": null,
            "flex": null,
            "_model_name": "LayoutModel",
            "justify_items": null,
            "grid_row": null,
            "max_height": null,
            "align_content": null,
            "visibility": null,
            "align_self": null,
            "height": null,
            "min_height": null,
            "padding": null,
            "grid_auto_rows": null,
            "grid_gap": null,
            "max_width": null,
            "order": null,
            "_view_module_version": "1.2.0",
            "grid_template_areas": null,
            "object_position": null,
            "object_fit": null,
            "grid_auto_columns": null,
            "margin": null,
            "display": null,
            "left": null
          }
        },
        "f3c3db8a4c9c457ba783a8e62cb7c83d": {
          "model_module": "@jupyter-widgets/controls",
          "model_name": "DescriptionStyleModel",
          "state": {
            "_view_name": "StyleView",
            "_model_name": "DescriptionStyleModel",
            "description_width": "",
            "_view_module": "@jupyter-widgets/base",
            "_model_module_version": "1.5.0",
            "_view_count": null,
            "_view_module_version": "1.2.0",
            "_model_module": "@jupyter-widgets/controls"
          }
        },
        "47429bce19cf4572a99e8ad7c6b8e057": {
          "model_module": "@jupyter-widgets/base",
          "model_name": "LayoutModel",
          "state": {
            "_view_name": "LayoutView",
            "grid_template_rows": null,
            "right": null,
            "justify_content": null,
            "_view_module": "@jupyter-widgets/base",
            "overflow": null,
            "_model_module_version": "1.2.0",
            "_view_count": null,
            "flex_flow": null,
            "width": null,
            "min_width": null,
            "border": null,
            "align_items": null,
            "bottom": null,
            "_model_module": "@jupyter-widgets/base",
            "top": null,
            "grid_column": null,
            "overflow_y": null,
            "overflow_x": null,
            "grid_auto_flow": null,
            "grid_area": null,
            "grid_template_columns": null,
            "flex": null,
            "_model_name": "LayoutModel",
            "justify_items": null,
            "grid_row": null,
            "max_height": null,
            "align_content": null,
            "visibility": null,
            "align_self": null,
            "height": null,
            "min_height": null,
            "padding": null,
            "grid_auto_rows": null,
            "grid_gap": null,
            "max_width": null,
            "order": null,
            "_view_module_version": "1.2.0",
            "grid_template_areas": null,
            "object_position": null,
            "object_fit": null,
            "grid_auto_columns": null,
            "margin": null,
            "display": null,
            "left": null
          }
        },
        "0bfc737c340547e490f13a1f9db363ed": {
          "model_module": "@jupyter-widgets/controls",
          "model_name": "HBoxModel",
          "state": {
            "_view_name": "HBoxView",
            "_dom_classes": [],
            "_model_name": "HBoxModel",
            "_view_module": "@jupyter-widgets/controls",
            "_model_module_version": "1.5.0",
            "_view_count": null,
            "_view_module_version": "1.5.0",
            "box_style": "",
            "layout": "IPY_MODEL_78e7545847ba40c58fc2886a99b27d95",
            "_model_module": "@jupyter-widgets/controls",
            "children": [
              "IPY_MODEL_35a065d10e6d456aacbe3c1614f53d75",
              "IPY_MODEL_07d5f176fa434118a3cb9a1dcc346725"
            ]
          }
        },
        "78e7545847ba40c58fc2886a99b27d95": {
          "model_module": "@jupyter-widgets/base",
          "model_name": "LayoutModel",
          "state": {
            "_view_name": "LayoutView",
            "grid_template_rows": null,
            "right": null,
            "justify_content": null,
            "_view_module": "@jupyter-widgets/base",
            "overflow": null,
            "_model_module_version": "1.2.0",
            "_view_count": null,
            "flex_flow": null,
            "width": null,
            "min_width": null,
            "border": null,
            "align_items": null,
            "bottom": null,
            "_model_module": "@jupyter-widgets/base",
            "top": null,
            "grid_column": null,
            "overflow_y": null,
            "overflow_x": null,
            "grid_auto_flow": null,
            "grid_area": null,
            "grid_template_columns": null,
            "flex": null,
            "_model_name": "LayoutModel",
            "justify_items": null,
            "grid_row": null,
            "max_height": null,
            "align_content": null,
            "visibility": null,
            "align_self": null,
            "height": null,
            "min_height": null,
            "padding": null,
            "grid_auto_rows": null,
            "grid_gap": null,
            "max_width": null,
            "order": null,
            "_view_module_version": "1.2.0",
            "grid_template_areas": null,
            "object_position": null,
            "object_fit": null,
            "grid_auto_columns": null,
            "margin": null,
            "display": null,
            "left": null
          }
        },
        "35a065d10e6d456aacbe3c1614f53d75": {
          "model_module": "@jupyter-widgets/controls",
          "model_name": "FloatProgressModel",
          "state": {
            "_view_name": "ProgressView",
            "style": "IPY_MODEL_0e1d6bd9af6e43c19da8fddb6667d882",
            "_dom_classes": [],
            "description": "Downloading: 100%",
            "_model_name": "FloatProgressModel",
            "bar_style": "success",
            "max": 570,
            "_view_module": "@jupyter-widgets/controls",
            "_model_module_version": "1.5.0",
            "value": 570,
            "_view_count": null,
            "_view_module_version": "1.5.0",
            "orientation": "horizontal",
            "min": 0,
            "description_tooltip": null,
            "_model_module": "@jupyter-widgets/controls",
            "layout": "IPY_MODEL_671f73bd729942839ee4e02f32e5f8ad"
          }
        },
        "07d5f176fa434118a3cb9a1dcc346725": {
          "model_module": "@jupyter-widgets/controls",
          "model_name": "HTMLModel",
          "state": {
            "_view_name": "HTMLView",
            "style": "IPY_MODEL_bc84929f91e04889844bb578f9ea0ff7",
            "_dom_classes": [],
            "description": "",
            "_model_name": "HTMLModel",
            "placeholder": "​",
            "_view_module": "@jupyter-widgets/controls",
            "_model_module_version": "1.5.0",
            "value": " 570/570 [00:00&lt;00:00, 1.12kB/s]",
            "_view_count": null,
            "_view_module_version": "1.5.0",
            "description_tooltip": null,
            "_model_module": "@jupyter-widgets/controls",
            "layout": "IPY_MODEL_9f699c99572042bb84f9616d8631134c"
          }
        },
        "0e1d6bd9af6e43c19da8fddb6667d882": {
          "model_module": "@jupyter-widgets/controls",
          "model_name": "ProgressStyleModel",
          "state": {
            "_view_name": "StyleView",
            "_model_name": "ProgressStyleModel",
            "description_width": "initial",
            "_view_module": "@jupyter-widgets/base",
            "_model_module_version": "1.5.0",
            "_view_count": null,
            "_view_module_version": "1.2.0",
            "bar_color": null,
            "_model_module": "@jupyter-widgets/controls"
          }
        },
        "671f73bd729942839ee4e02f32e5f8ad": {
          "model_module": "@jupyter-widgets/base",
          "model_name": "LayoutModel",
          "state": {
            "_view_name": "LayoutView",
            "grid_template_rows": null,
            "right": null,
            "justify_content": null,
            "_view_module": "@jupyter-widgets/base",
            "overflow": null,
            "_model_module_version": "1.2.0",
            "_view_count": null,
            "flex_flow": null,
            "width": null,
            "min_width": null,
            "border": null,
            "align_items": null,
            "bottom": null,
            "_model_module": "@jupyter-widgets/base",
            "top": null,
            "grid_column": null,
            "overflow_y": null,
            "overflow_x": null,
            "grid_auto_flow": null,
            "grid_area": null,
            "grid_template_columns": null,
            "flex": null,
            "_model_name": "LayoutModel",
            "justify_items": null,
            "grid_row": null,
            "max_height": null,
            "align_content": null,
            "visibility": null,
            "align_self": null,
            "height": null,
            "min_height": null,
            "padding": null,
            "grid_auto_rows": null,
            "grid_gap": null,
            "max_width": null,
            "order": null,
            "_view_module_version": "1.2.0",
            "grid_template_areas": null,
            "object_position": null,
            "object_fit": null,
            "grid_auto_columns": null,
            "margin": null,
            "display": null,
            "left": null
          }
        },
        "bc84929f91e04889844bb578f9ea0ff7": {
          "model_module": "@jupyter-widgets/controls",
          "model_name": "DescriptionStyleModel",
          "state": {
            "_view_name": "StyleView",
            "_model_name": "DescriptionStyleModel",
            "description_width": "",
            "_view_module": "@jupyter-widgets/base",
            "_model_module_version": "1.5.0",
            "_view_count": null,
            "_view_module_version": "1.2.0",
            "_model_module": "@jupyter-widgets/controls"
          }
        },
        "9f699c99572042bb84f9616d8631134c": {
          "model_module": "@jupyter-widgets/base",
          "model_name": "LayoutModel",
          "state": {
            "_view_name": "LayoutView",
            "grid_template_rows": null,
            "right": null,
            "justify_content": null,
            "_view_module": "@jupyter-widgets/base",
            "overflow": null,
            "_model_module_version": "1.2.0",
            "_view_count": null,
            "flex_flow": null,
            "width": null,
            "min_width": null,
            "border": null,
            "align_items": null,
            "bottom": null,
            "_model_module": "@jupyter-widgets/base",
            "top": null,
            "grid_column": null,
            "overflow_y": null,
            "overflow_x": null,
            "grid_auto_flow": null,
            "grid_area": null,
            "grid_template_columns": null,
            "flex": null,
            "_model_name": "LayoutModel",
            "justify_items": null,
            "grid_row": null,
            "max_height": null,
            "align_content": null,
            "visibility": null,
            "align_self": null,
            "height": null,
            "min_height": null,
            "padding": null,
            "grid_auto_rows": null,
            "grid_gap": null,
            "max_width": null,
            "order": null,
            "_view_module_version": "1.2.0",
            "grid_template_areas": null,
            "object_position": null,
            "object_fit": null,
            "grid_auto_columns": null,
            "margin": null,
            "display": null,
            "left": null
          }
        },
        "d04bf1273e8e4aa7a6985da57a1692e2": {
          "model_module": "@jupyter-widgets/controls",
          "model_name": "HBoxModel",
          "state": {
            "_view_name": "HBoxView",
            "_dom_classes": [],
            "_model_name": "HBoxModel",
            "_view_module": "@jupyter-widgets/controls",
            "_model_module_version": "1.5.0",
            "_view_count": null,
            "_view_module_version": "1.5.0",
            "box_style": "",
            "layout": "IPY_MODEL_0e3ce6508e7d477baac50bba7818ff62",
            "_model_module": "@jupyter-widgets/controls",
            "children": [
              "IPY_MODEL_b7a801f1de22477a83aa369bf665a223",
              "IPY_MODEL_ed6489f03f994b2c8072b913b155622d"
            ]
          }
        },
        "0e3ce6508e7d477baac50bba7818ff62": {
          "model_module": "@jupyter-widgets/base",
          "model_name": "LayoutModel",
          "state": {
            "_view_name": "LayoutView",
            "grid_template_rows": null,
            "right": null,
            "justify_content": null,
            "_view_module": "@jupyter-widgets/base",
            "overflow": null,
            "_model_module_version": "1.2.0",
            "_view_count": null,
            "flex_flow": null,
            "width": null,
            "min_width": null,
            "border": null,
            "align_items": null,
            "bottom": null,
            "_model_module": "@jupyter-widgets/base",
            "top": null,
            "grid_column": null,
            "overflow_y": null,
            "overflow_x": null,
            "grid_auto_flow": null,
            "grid_area": null,
            "grid_template_columns": null,
            "flex": null,
            "_model_name": "LayoutModel",
            "justify_items": null,
            "grid_row": null,
            "max_height": null,
            "align_content": null,
            "visibility": null,
            "align_self": null,
            "height": null,
            "min_height": null,
            "padding": null,
            "grid_auto_rows": null,
            "grid_gap": null,
            "max_width": null,
            "order": null,
            "_view_module_version": "1.2.0",
            "grid_template_areas": null,
            "object_position": null,
            "object_fit": null,
            "grid_auto_columns": null,
            "margin": null,
            "display": null,
            "left": null
          }
        },
        "b7a801f1de22477a83aa369bf665a223": {
          "model_module": "@jupyter-widgets/controls",
          "model_name": "FloatProgressModel",
          "state": {
            "_view_name": "ProgressView",
            "style": "IPY_MODEL_792efafa1ba34fe189380c5b827bfa3e",
            "_dom_classes": [],
            "description": "Downloading: 100%",
            "_model_name": "FloatProgressModel",
            "bar_style": "success",
            "max": 435779157,
            "_view_module": "@jupyter-widgets/controls",
            "_model_module_version": "1.5.0",
            "value": 435779157,
            "_view_count": null,
            "_view_module_version": "1.5.0",
            "orientation": "horizontal",
            "min": 0,
            "description_tooltip": null,
            "_model_module": "@jupyter-widgets/controls",
            "layout": "IPY_MODEL_976cce07f9e94b6aabc901de3b8995ba"
          }
        },
        "ed6489f03f994b2c8072b913b155622d": {
          "model_module": "@jupyter-widgets/controls",
          "model_name": "HTMLModel",
          "state": {
            "_view_name": "HTMLView",
            "style": "IPY_MODEL_eadfa1b5bcdf4828bd130903eeab5e1c",
            "_dom_classes": [],
            "description": "",
            "_model_name": "HTMLModel",
            "placeholder": "​",
            "_view_module": "@jupyter-widgets/controls",
            "_model_module_version": "1.5.0",
            "value": " 436M/436M [00:16&lt;00:00, 26.6MB/s]",
            "_view_count": null,
            "_view_module_version": "1.5.0",
            "description_tooltip": null,
            "_model_module": "@jupyter-widgets/controls",
            "layout": "IPY_MODEL_5760e2d7612f42ec9e99f3bd2605dca9"
          }
        },
        "792efafa1ba34fe189380c5b827bfa3e": {
          "model_module": "@jupyter-widgets/controls",
          "model_name": "ProgressStyleModel",
          "state": {
            "_view_name": "StyleView",
            "_model_name": "ProgressStyleModel",
            "description_width": "initial",
            "_view_module": "@jupyter-widgets/base",
            "_model_module_version": "1.5.0",
            "_view_count": null,
            "_view_module_version": "1.2.0",
            "bar_color": null,
            "_model_module": "@jupyter-widgets/controls"
          }
        },
        "976cce07f9e94b6aabc901de3b8995ba": {
          "model_module": "@jupyter-widgets/base",
          "model_name": "LayoutModel",
          "state": {
            "_view_name": "LayoutView",
            "grid_template_rows": null,
            "right": null,
            "justify_content": null,
            "_view_module": "@jupyter-widgets/base",
            "overflow": null,
            "_model_module_version": "1.2.0",
            "_view_count": null,
            "flex_flow": null,
            "width": null,
            "min_width": null,
            "border": null,
            "align_items": null,
            "bottom": null,
            "_model_module": "@jupyter-widgets/base",
            "top": null,
            "grid_column": null,
            "overflow_y": null,
            "overflow_x": null,
            "grid_auto_flow": null,
            "grid_area": null,
            "grid_template_columns": null,
            "flex": null,
            "_model_name": "LayoutModel",
            "justify_items": null,
            "grid_row": null,
            "max_height": null,
            "align_content": null,
            "visibility": null,
            "align_self": null,
            "height": null,
            "min_height": null,
            "padding": null,
            "grid_auto_rows": null,
            "grid_gap": null,
            "max_width": null,
            "order": null,
            "_view_module_version": "1.2.0",
            "grid_template_areas": null,
            "object_position": null,
            "object_fit": null,
            "grid_auto_columns": null,
            "margin": null,
            "display": null,
            "left": null
          }
        },
        "eadfa1b5bcdf4828bd130903eeab5e1c": {
          "model_module": "@jupyter-widgets/controls",
          "model_name": "DescriptionStyleModel",
          "state": {
            "_view_name": "StyleView",
            "_model_name": "DescriptionStyleModel",
            "description_width": "",
            "_view_module": "@jupyter-widgets/base",
            "_model_module_version": "1.5.0",
            "_view_count": null,
            "_view_module_version": "1.2.0",
            "_model_module": "@jupyter-widgets/controls"
          }
        },
        "5760e2d7612f42ec9e99f3bd2605dca9": {
          "model_module": "@jupyter-widgets/base",
          "model_name": "LayoutModel",
          "state": {
            "_view_name": "LayoutView",
            "grid_template_rows": null,
            "right": null,
            "justify_content": null,
            "_view_module": "@jupyter-widgets/base",
            "overflow": null,
            "_model_module_version": "1.2.0",
            "_view_count": null,
            "flex_flow": null,
            "width": null,
            "min_width": null,
            "border": null,
            "align_items": null,
            "bottom": null,
            "_model_module": "@jupyter-widgets/base",
            "top": null,
            "grid_column": null,
            "overflow_y": null,
            "overflow_x": null,
            "grid_auto_flow": null,
            "grid_area": null,
            "grid_template_columns": null,
            "flex": null,
            "_model_name": "LayoutModel",
            "justify_items": null,
            "grid_row": null,
            "max_height": null,
            "align_content": null,
            "visibility": null,
            "align_self": null,
            "height": null,
            "min_height": null,
            "padding": null,
            "grid_auto_rows": null,
            "grid_gap": null,
            "max_width": null,
            "order": null,
            "_view_module_version": "1.2.0",
            "grid_template_areas": null,
            "object_position": null,
            "object_fit": null,
            "grid_auto_columns": null,
            "margin": null,
            "display": null,
            "left": null
          }
        },
        "45804263b7924f28bfeb559275fdccaf": {
          "model_module": "@jupyter-widgets/controls",
          "model_name": "HBoxModel",
          "state": {
            "_view_name": "HBoxView",
            "_dom_classes": [],
            "_model_name": "HBoxModel",
            "_view_module": "@jupyter-widgets/controls",
            "_model_module_version": "1.5.0",
            "_view_count": null,
            "_view_module_version": "1.5.0",
            "box_style": "",
            "layout": "IPY_MODEL_405e38d11ec84802a57e707fc826eb57",
            "_model_module": "@jupyter-widgets/controls",
            "children": [
              "IPY_MODEL_7b4ec0f6739f40c28051eb5400ded843",
              "IPY_MODEL_d942ad16f2d845bc8e95be7170d11898"
            ]
          }
        },
        "405e38d11ec84802a57e707fc826eb57": {
          "model_module": "@jupyter-widgets/base",
          "model_name": "LayoutModel",
          "state": {
            "_view_name": "LayoutView",
            "grid_template_rows": null,
            "right": null,
            "justify_content": null,
            "_view_module": "@jupyter-widgets/base",
            "overflow": null,
            "_model_module_version": "1.2.0",
            "_view_count": null,
            "flex_flow": null,
            "width": null,
            "min_width": null,
            "border": null,
            "align_items": null,
            "bottom": null,
            "_model_module": "@jupyter-widgets/base",
            "top": null,
            "grid_column": null,
            "overflow_y": null,
            "overflow_x": null,
            "grid_auto_flow": null,
            "grid_area": null,
            "grid_template_columns": null,
            "flex": null,
            "_model_name": "LayoutModel",
            "justify_items": null,
            "grid_row": null,
            "max_height": null,
            "align_content": null,
            "visibility": null,
            "align_self": null,
            "height": null,
            "min_height": null,
            "padding": null,
            "grid_auto_rows": null,
            "grid_gap": null,
            "max_width": null,
            "order": null,
            "_view_module_version": "1.2.0",
            "grid_template_areas": null,
            "object_position": null,
            "object_fit": null,
            "grid_auto_columns": null,
            "margin": null,
            "display": null,
            "left": null
          }
        },
        "7b4ec0f6739f40c28051eb5400ded843": {
          "model_module": "@jupyter-widgets/controls",
          "model_name": "FloatProgressModel",
          "state": {
            "_view_name": "ProgressView",
            "style": "IPY_MODEL_0df349ac0a374f3ca15e19d9b8d67fab",
            "_dom_classes": [],
            "description": "100%",
            "_model_name": "FloatProgressModel",
            "bar_style": "success",
            "max": 5,
            "_view_module": "@jupyter-widgets/controls",
            "_model_module_version": "1.5.0",
            "value": 5,
            "_view_count": null,
            "_view_module_version": "1.5.0",
            "orientation": "horizontal",
            "min": 0,
            "description_tooltip": null,
            "_model_module": "@jupyter-widgets/controls",
            "layout": "IPY_MODEL_482f4a37401044409c3ae027db648d7a"
          }
        },
        "d942ad16f2d845bc8e95be7170d11898": {
          "model_module": "@jupyter-widgets/controls",
          "model_name": "HTMLModel",
          "state": {
            "_view_name": "HTMLView",
            "style": "IPY_MODEL_05bc9b17616b4155aeb45a24b1d3e71a",
            "_dom_classes": [],
            "description": "",
            "_model_name": "HTMLModel",
            "placeholder": "​",
            "_view_module": "@jupyter-widgets/controls",
            "_model_module_version": "1.5.0",
            "value": " 5/5 [1:26:39&lt;00:00, 1039.83s/it]",
            "_view_count": null,
            "_view_module_version": "1.5.0",
            "description_tooltip": null,
            "_model_module": "@jupyter-widgets/controls",
            "layout": "IPY_MODEL_f3c2bdc313844c79accdb463014c1327"
          }
        },
        "0df349ac0a374f3ca15e19d9b8d67fab": {
          "model_module": "@jupyter-widgets/controls",
          "model_name": "ProgressStyleModel",
          "state": {
            "_view_name": "StyleView",
            "_model_name": "ProgressStyleModel",
            "description_width": "initial",
            "_view_module": "@jupyter-widgets/base",
            "_model_module_version": "1.5.0",
            "_view_count": null,
            "_view_module_version": "1.2.0",
            "bar_color": null,
            "_model_module": "@jupyter-widgets/controls"
          }
        },
        "482f4a37401044409c3ae027db648d7a": {
          "model_module": "@jupyter-widgets/base",
          "model_name": "LayoutModel",
          "state": {
            "_view_name": "LayoutView",
            "grid_template_rows": null,
            "right": null,
            "justify_content": null,
            "_view_module": "@jupyter-widgets/base",
            "overflow": null,
            "_model_module_version": "1.2.0",
            "_view_count": null,
            "flex_flow": null,
            "width": null,
            "min_width": null,
            "border": null,
            "align_items": null,
            "bottom": null,
            "_model_module": "@jupyter-widgets/base",
            "top": null,
            "grid_column": null,
            "overflow_y": null,
            "overflow_x": null,
            "grid_auto_flow": null,
            "grid_area": null,
            "grid_template_columns": null,
            "flex": null,
            "_model_name": "LayoutModel",
            "justify_items": null,
            "grid_row": null,
            "max_height": null,
            "align_content": null,
            "visibility": null,
            "align_self": null,
            "height": null,
            "min_height": null,
            "padding": null,
            "grid_auto_rows": null,
            "grid_gap": null,
            "max_width": null,
            "order": null,
            "_view_module_version": "1.2.0",
            "grid_template_areas": null,
            "object_position": null,
            "object_fit": null,
            "grid_auto_columns": null,
            "margin": null,
            "display": null,
            "left": null
          }
        },
        "05bc9b17616b4155aeb45a24b1d3e71a": {
          "model_module": "@jupyter-widgets/controls",
          "model_name": "DescriptionStyleModel",
          "state": {
            "_view_name": "StyleView",
            "_model_name": "DescriptionStyleModel",
            "description_width": "",
            "_view_module": "@jupyter-widgets/base",
            "_model_module_version": "1.5.0",
            "_view_count": null,
            "_view_module_version": "1.2.0",
            "_model_module": "@jupyter-widgets/controls"
          }
        },
        "f3c2bdc313844c79accdb463014c1327": {
          "model_module": "@jupyter-widgets/base",
          "model_name": "LayoutModel",
          "state": {
            "_view_name": "LayoutView",
            "grid_template_rows": null,
            "right": null,
            "justify_content": null,
            "_view_module": "@jupyter-widgets/base",
            "overflow": null,
            "_model_module_version": "1.2.0",
            "_view_count": null,
            "flex_flow": null,
            "width": null,
            "min_width": null,
            "border": null,
            "align_items": null,
            "bottom": null,
            "_model_module": "@jupyter-widgets/base",
            "top": null,
            "grid_column": null,
            "overflow_y": null,
            "overflow_x": null,
            "grid_auto_flow": null,
            "grid_area": null,
            "grid_template_columns": null,
            "flex": null,
            "_model_name": "LayoutModel",
            "justify_items": null,
            "grid_row": null,
            "max_height": null,
            "align_content": null,
            "visibility": null,
            "align_self": null,
            "height": null,
            "min_height": null,
            "padding": null,
            "grid_auto_rows": null,
            "grid_gap": null,
            "max_width": null,
            "order": null,
            "_view_module_version": "1.2.0",
            "grid_template_areas": null,
            "object_position": null,
            "object_fit": null,
            "grid_auto_columns": null,
            "margin": null,
            "display": null,
            "left": null
          }
        },
        "ba2467eba9b34efba78573b64837fbec": {
          "model_module": "@jupyter-widgets/controls",
          "model_name": "HBoxModel",
          "state": {
            "_view_name": "HBoxView",
            "_dom_classes": [],
            "_model_name": "HBoxModel",
            "_view_module": "@jupyter-widgets/controls",
            "_model_module_version": "1.5.0",
            "_view_count": null,
            "_view_module_version": "1.5.0",
            "box_style": "",
            "layout": "IPY_MODEL_d633f37d6ce543b0829a0739cb14239c",
            "_model_module": "@jupyter-widgets/controls",
            "children": [
              "IPY_MODEL_3342207e9dd04052926a8e0c6f36b628",
              "IPY_MODEL_39f4422f172d4682b1525695a68c3864"
            ]
          }
        },
        "d633f37d6ce543b0829a0739cb14239c": {
          "model_module": "@jupyter-widgets/base",
          "model_name": "LayoutModel",
          "state": {
            "_view_name": "LayoutView",
            "grid_template_rows": null,
            "right": null,
            "justify_content": null,
            "_view_module": "@jupyter-widgets/base",
            "overflow": null,
            "_model_module_version": "1.2.0",
            "_view_count": null,
            "flex_flow": null,
            "width": null,
            "min_width": null,
            "border": null,
            "align_items": null,
            "bottom": null,
            "_model_module": "@jupyter-widgets/base",
            "top": null,
            "grid_column": null,
            "overflow_y": null,
            "overflow_x": null,
            "grid_auto_flow": null,
            "grid_area": null,
            "grid_template_columns": null,
            "flex": null,
            "_model_name": "LayoutModel",
            "justify_items": null,
            "grid_row": null,
            "max_height": null,
            "align_content": null,
            "visibility": null,
            "align_self": null,
            "height": null,
            "min_height": null,
            "padding": null,
            "grid_auto_rows": null,
            "grid_gap": null,
            "max_width": null,
            "order": null,
            "_view_module_version": "1.2.0",
            "grid_template_areas": null,
            "object_position": null,
            "object_fit": null,
            "grid_auto_columns": null,
            "margin": null,
            "display": null,
            "left": null
          }
        },
        "3342207e9dd04052926a8e0c6f36b628": {
          "model_module": "@jupyter-widgets/controls",
          "model_name": "FloatProgressModel",
          "state": {
            "_view_name": "ProgressView",
            "style": "IPY_MODEL_2483fc6a50254d94afb118a74bf9fe6b",
            "_dom_classes": [],
            "description": "Epoch 1: 100%",
            "_model_name": "FloatProgressModel",
            "bar_style": "",
            "max": 6277,
            "_view_module": "@jupyter-widgets/controls",
            "_model_module_version": "1.5.0",
            "value": 6277,
            "_view_count": null,
            "_view_module_version": "1.5.0",
            "orientation": "horizontal",
            "min": 0,
            "description_tooltip": null,
            "_model_module": "@jupyter-widgets/controls",
            "layout": "IPY_MODEL_6004b9bc8e91470a9e2d3af78f254f31"
          }
        },
        "39f4422f172d4682b1525695a68c3864": {
          "model_module": "@jupyter-widgets/controls",
          "model_name": "HTMLModel",
          "state": {
            "_view_name": "HTMLView",
            "style": "IPY_MODEL_1c67b6226741487b8bef1a120e019ef5",
            "_dom_classes": [],
            "description": "",
            "_model_name": "HTMLModel",
            "placeholder": "​",
            "_view_module": "@jupyter-widgets/controls",
            "_model_module_version": "1.5.0",
            "value": " 6277/6277 [16:15&lt;00:00,  6.75it/s, training_loss=0.096]",
            "_view_count": null,
            "_view_module_version": "1.5.0",
            "description_tooltip": null,
            "_model_module": "@jupyter-widgets/controls",
            "layout": "IPY_MODEL_5c6abdc7bf724f2c901c8eeb3e3d9304"
          }
        },
        "2483fc6a50254d94afb118a74bf9fe6b": {
          "model_module": "@jupyter-widgets/controls",
          "model_name": "ProgressStyleModel",
          "state": {
            "_view_name": "StyleView",
            "_model_name": "ProgressStyleModel",
            "description_width": "initial",
            "_view_module": "@jupyter-widgets/base",
            "_model_module_version": "1.5.0",
            "_view_count": null,
            "_view_module_version": "1.2.0",
            "bar_color": null,
            "_model_module": "@jupyter-widgets/controls"
          }
        },
        "6004b9bc8e91470a9e2d3af78f254f31": {
          "model_module": "@jupyter-widgets/base",
          "model_name": "LayoutModel",
          "state": {
            "_view_name": "LayoutView",
            "grid_template_rows": null,
            "right": null,
            "justify_content": null,
            "_view_module": "@jupyter-widgets/base",
            "overflow": null,
            "_model_module_version": "1.2.0",
            "_view_count": null,
            "flex_flow": null,
            "width": null,
            "min_width": null,
            "border": null,
            "align_items": null,
            "bottom": null,
            "_model_module": "@jupyter-widgets/base",
            "top": null,
            "grid_column": null,
            "overflow_y": null,
            "overflow_x": null,
            "grid_auto_flow": null,
            "grid_area": null,
            "grid_template_columns": null,
            "flex": null,
            "_model_name": "LayoutModel",
            "justify_items": null,
            "grid_row": null,
            "max_height": null,
            "align_content": null,
            "visibility": null,
            "align_self": null,
            "height": null,
            "min_height": null,
            "padding": null,
            "grid_auto_rows": null,
            "grid_gap": null,
            "max_width": null,
            "order": null,
            "_view_module_version": "1.2.0",
            "grid_template_areas": null,
            "object_position": null,
            "object_fit": null,
            "grid_auto_columns": null,
            "margin": null,
            "display": null,
            "left": null
          }
        },
        "1c67b6226741487b8bef1a120e019ef5": {
          "model_module": "@jupyter-widgets/controls",
          "model_name": "DescriptionStyleModel",
          "state": {
            "_view_name": "StyleView",
            "_model_name": "DescriptionStyleModel",
            "description_width": "",
            "_view_module": "@jupyter-widgets/base",
            "_model_module_version": "1.5.0",
            "_view_count": null,
            "_view_module_version": "1.2.0",
            "_model_module": "@jupyter-widgets/controls"
          }
        },
        "5c6abdc7bf724f2c901c8eeb3e3d9304": {
          "model_module": "@jupyter-widgets/base",
          "model_name": "LayoutModel",
          "state": {
            "_view_name": "LayoutView",
            "grid_template_rows": null,
            "right": null,
            "justify_content": null,
            "_view_module": "@jupyter-widgets/base",
            "overflow": null,
            "_model_module_version": "1.2.0",
            "_view_count": null,
            "flex_flow": null,
            "width": null,
            "min_width": null,
            "border": null,
            "align_items": null,
            "bottom": null,
            "_model_module": "@jupyter-widgets/base",
            "top": null,
            "grid_column": null,
            "overflow_y": null,
            "overflow_x": null,
            "grid_auto_flow": null,
            "grid_area": null,
            "grid_template_columns": null,
            "flex": null,
            "_model_name": "LayoutModel",
            "justify_items": null,
            "grid_row": null,
            "max_height": null,
            "align_content": null,
            "visibility": null,
            "align_self": null,
            "height": null,
            "min_height": null,
            "padding": null,
            "grid_auto_rows": null,
            "grid_gap": null,
            "max_width": null,
            "order": null,
            "_view_module_version": "1.2.0",
            "grid_template_areas": null,
            "object_position": null,
            "object_fit": null,
            "grid_auto_columns": null,
            "margin": null,
            "display": null,
            "left": null
          }
        },
        "d4a500a0c82447688755617590f7b72c": {
          "model_module": "@jupyter-widgets/controls",
          "model_name": "HBoxModel",
          "state": {
            "_view_name": "HBoxView",
            "_dom_classes": [],
            "_model_name": "HBoxModel",
            "_view_module": "@jupyter-widgets/controls",
            "_model_module_version": "1.5.0",
            "_view_count": null,
            "_view_module_version": "1.5.0",
            "box_style": "",
            "layout": "IPY_MODEL_130fddd5a1224097bb1c2397f79a3918",
            "_model_module": "@jupyter-widgets/controls",
            "children": [
              "IPY_MODEL_016883bcc49645148a9886d6e6f1e18a",
              "IPY_MODEL_2da62a8026b048b78da497815e037ef3"
            ]
          }
        },
        "130fddd5a1224097bb1c2397f79a3918": {
          "model_module": "@jupyter-widgets/base",
          "model_name": "LayoutModel",
          "state": {
            "_view_name": "LayoutView",
            "grid_template_rows": null,
            "right": null,
            "justify_content": null,
            "_view_module": "@jupyter-widgets/base",
            "overflow": null,
            "_model_module_version": "1.2.0",
            "_view_count": null,
            "flex_flow": null,
            "width": null,
            "min_width": null,
            "border": null,
            "align_items": null,
            "bottom": null,
            "_model_module": "@jupyter-widgets/base",
            "top": null,
            "grid_column": null,
            "overflow_y": null,
            "overflow_x": null,
            "grid_auto_flow": null,
            "grid_area": null,
            "grid_template_columns": null,
            "flex": null,
            "_model_name": "LayoutModel",
            "justify_items": null,
            "grid_row": null,
            "max_height": null,
            "align_content": null,
            "visibility": null,
            "align_self": null,
            "height": null,
            "min_height": null,
            "padding": null,
            "grid_auto_rows": null,
            "grid_gap": null,
            "max_width": null,
            "order": null,
            "_view_module_version": "1.2.0",
            "grid_template_areas": null,
            "object_position": null,
            "object_fit": null,
            "grid_auto_columns": null,
            "margin": null,
            "display": null,
            "left": null
          }
        },
        "016883bcc49645148a9886d6e6f1e18a": {
          "model_module": "@jupyter-widgets/controls",
          "model_name": "FloatProgressModel",
          "state": {
            "_view_name": "ProgressView",
            "style": "IPY_MODEL_57dac02c2f184e01851a13fe1252313f",
            "_dom_classes": [],
            "description": "Epoch 2: 100%",
            "_model_name": "FloatProgressModel",
            "bar_style": "",
            "max": 6277,
            "_view_module": "@jupyter-widgets/controls",
            "_model_module_version": "1.5.0",
            "value": 6277,
            "_view_count": null,
            "_view_module_version": "1.5.0",
            "orientation": "horizontal",
            "min": 0,
            "description_tooltip": null,
            "_model_module": "@jupyter-widgets/controls",
            "layout": "IPY_MODEL_2c46f92586514abda4dc937b255a18ce"
          }
        },
        "2da62a8026b048b78da497815e037ef3": {
          "model_module": "@jupyter-widgets/controls",
          "model_name": "HTMLModel",
          "state": {
            "_view_name": "HTMLView",
            "style": "IPY_MODEL_a0fda8fd99794e4fa14405148ba43ee8",
            "_dom_classes": [],
            "description": "",
            "_model_name": "HTMLModel",
            "placeholder": "​",
            "_view_module": "@jupyter-widgets/controls",
            "_model_module_version": "1.5.0",
            "value": " 6277/6277 [16:15&lt;00:00,  6.86it/s, training_loss=0.136]",
            "_view_count": null,
            "_view_module_version": "1.5.0",
            "description_tooltip": null,
            "_model_module": "@jupyter-widgets/controls",
            "layout": "IPY_MODEL_91dfc69b7a554a2a892869de52bab42c"
          }
        },
        "57dac02c2f184e01851a13fe1252313f": {
          "model_module": "@jupyter-widgets/controls",
          "model_name": "ProgressStyleModel",
          "state": {
            "_view_name": "StyleView",
            "_model_name": "ProgressStyleModel",
            "description_width": "initial",
            "_view_module": "@jupyter-widgets/base",
            "_model_module_version": "1.5.0",
            "_view_count": null,
            "_view_module_version": "1.2.0",
            "bar_color": null,
            "_model_module": "@jupyter-widgets/controls"
          }
        },
        "2c46f92586514abda4dc937b255a18ce": {
          "model_module": "@jupyter-widgets/base",
          "model_name": "LayoutModel",
          "state": {
            "_view_name": "LayoutView",
            "grid_template_rows": null,
            "right": null,
            "justify_content": null,
            "_view_module": "@jupyter-widgets/base",
            "overflow": null,
            "_model_module_version": "1.2.0",
            "_view_count": null,
            "flex_flow": null,
            "width": null,
            "min_width": null,
            "border": null,
            "align_items": null,
            "bottom": null,
            "_model_module": "@jupyter-widgets/base",
            "top": null,
            "grid_column": null,
            "overflow_y": null,
            "overflow_x": null,
            "grid_auto_flow": null,
            "grid_area": null,
            "grid_template_columns": null,
            "flex": null,
            "_model_name": "LayoutModel",
            "justify_items": null,
            "grid_row": null,
            "max_height": null,
            "align_content": null,
            "visibility": null,
            "align_self": null,
            "height": null,
            "min_height": null,
            "padding": null,
            "grid_auto_rows": null,
            "grid_gap": null,
            "max_width": null,
            "order": null,
            "_view_module_version": "1.2.0",
            "grid_template_areas": null,
            "object_position": null,
            "object_fit": null,
            "grid_auto_columns": null,
            "margin": null,
            "display": null,
            "left": null
          }
        },
        "a0fda8fd99794e4fa14405148ba43ee8": {
          "model_module": "@jupyter-widgets/controls",
          "model_name": "DescriptionStyleModel",
          "state": {
            "_view_name": "StyleView",
            "_model_name": "DescriptionStyleModel",
            "description_width": "",
            "_view_module": "@jupyter-widgets/base",
            "_model_module_version": "1.5.0",
            "_view_count": null,
            "_view_module_version": "1.2.0",
            "_model_module": "@jupyter-widgets/controls"
          }
        },
        "91dfc69b7a554a2a892869de52bab42c": {
          "model_module": "@jupyter-widgets/base",
          "model_name": "LayoutModel",
          "state": {
            "_view_name": "LayoutView",
            "grid_template_rows": null,
            "right": null,
            "justify_content": null,
            "_view_module": "@jupyter-widgets/base",
            "overflow": null,
            "_model_module_version": "1.2.0",
            "_view_count": null,
            "flex_flow": null,
            "width": null,
            "min_width": null,
            "border": null,
            "align_items": null,
            "bottom": null,
            "_model_module": "@jupyter-widgets/base",
            "top": null,
            "grid_column": null,
            "overflow_y": null,
            "overflow_x": null,
            "grid_auto_flow": null,
            "grid_area": null,
            "grid_template_columns": null,
            "flex": null,
            "_model_name": "LayoutModel",
            "justify_items": null,
            "grid_row": null,
            "max_height": null,
            "align_content": null,
            "visibility": null,
            "align_self": null,
            "height": null,
            "min_height": null,
            "padding": null,
            "grid_auto_rows": null,
            "grid_gap": null,
            "max_width": null,
            "order": null,
            "_view_module_version": "1.2.0",
            "grid_template_areas": null,
            "object_position": null,
            "object_fit": null,
            "grid_auto_columns": null,
            "margin": null,
            "display": null,
            "left": null
          }
        },
        "3d22ecc7764e4c6a9c9ceae622746825": {
          "model_module": "@jupyter-widgets/controls",
          "model_name": "HBoxModel",
          "state": {
            "_view_name": "HBoxView",
            "_dom_classes": [],
            "_model_name": "HBoxModel",
            "_view_module": "@jupyter-widgets/controls",
            "_model_module_version": "1.5.0",
            "_view_count": null,
            "_view_module_version": "1.5.0",
            "box_style": "",
            "layout": "IPY_MODEL_965d7b2c7da34e58b9d03317959ceb9a",
            "_model_module": "@jupyter-widgets/controls",
            "children": [
              "IPY_MODEL_3d61931a588441a6a72bc61fb5fe104e",
              "IPY_MODEL_3090ccfa46224d939c9961e7215f4572"
            ]
          }
        },
        "965d7b2c7da34e58b9d03317959ceb9a": {
          "model_module": "@jupyter-widgets/base",
          "model_name": "LayoutModel",
          "state": {
            "_view_name": "LayoutView",
            "grid_template_rows": null,
            "right": null,
            "justify_content": null,
            "_view_module": "@jupyter-widgets/base",
            "overflow": null,
            "_model_module_version": "1.2.0",
            "_view_count": null,
            "flex_flow": null,
            "width": null,
            "min_width": null,
            "border": null,
            "align_items": null,
            "bottom": null,
            "_model_module": "@jupyter-widgets/base",
            "top": null,
            "grid_column": null,
            "overflow_y": null,
            "overflow_x": null,
            "grid_auto_flow": null,
            "grid_area": null,
            "grid_template_columns": null,
            "flex": null,
            "_model_name": "LayoutModel",
            "justify_items": null,
            "grid_row": null,
            "max_height": null,
            "align_content": null,
            "visibility": null,
            "align_self": null,
            "height": null,
            "min_height": null,
            "padding": null,
            "grid_auto_rows": null,
            "grid_gap": null,
            "max_width": null,
            "order": null,
            "_view_module_version": "1.2.0",
            "grid_template_areas": null,
            "object_position": null,
            "object_fit": null,
            "grid_auto_columns": null,
            "margin": null,
            "display": null,
            "left": null
          }
        },
        "3d61931a588441a6a72bc61fb5fe104e": {
          "model_module": "@jupyter-widgets/controls",
          "model_name": "FloatProgressModel",
          "state": {
            "_view_name": "ProgressView",
            "style": "IPY_MODEL_dcf656e1dedc4d238d8ab7da6286e810",
            "_dom_classes": [],
            "description": "Epoch 3: 100%",
            "_model_name": "FloatProgressModel",
            "bar_style": "",
            "max": 6277,
            "_view_module": "@jupyter-widgets/controls",
            "_model_module_version": "1.5.0",
            "value": 6277,
            "_view_count": null,
            "_view_module_version": "1.5.0",
            "orientation": "horizontal",
            "min": 0,
            "description_tooltip": null,
            "_model_module": "@jupyter-widgets/controls",
            "layout": "IPY_MODEL_b37b8190b2b7498b9ed5ebbf926fe6de"
          }
        },
        "3090ccfa46224d939c9961e7215f4572": {
          "model_module": "@jupyter-widgets/controls",
          "model_name": "HTMLModel",
          "state": {
            "_view_name": "HTMLView",
            "style": "IPY_MODEL_dc4ff2b3f0874d2eb6c33f4ad606ed29",
            "_dom_classes": [],
            "description": "",
            "_model_name": "HTMLModel",
            "placeholder": "​",
            "_view_module": "@jupyter-widgets/controls",
            "_model_module_version": "1.5.0",
            "value": " 6277/6277 [16:15&lt;00:00,  6.91it/s, training_loss=0.117]",
            "_view_count": null,
            "_view_module_version": "1.5.0",
            "description_tooltip": null,
            "_model_module": "@jupyter-widgets/controls",
            "layout": "IPY_MODEL_5c9679c6f9654717b274199b0fa88674"
          }
        },
        "dcf656e1dedc4d238d8ab7da6286e810": {
          "model_module": "@jupyter-widgets/controls",
          "model_name": "ProgressStyleModel",
          "state": {
            "_view_name": "StyleView",
            "_model_name": "ProgressStyleModel",
            "description_width": "initial",
            "_view_module": "@jupyter-widgets/base",
            "_model_module_version": "1.5.0",
            "_view_count": null,
            "_view_module_version": "1.2.0",
            "bar_color": null,
            "_model_module": "@jupyter-widgets/controls"
          }
        },
        "b37b8190b2b7498b9ed5ebbf926fe6de": {
          "model_module": "@jupyter-widgets/base",
          "model_name": "LayoutModel",
          "state": {
            "_view_name": "LayoutView",
            "grid_template_rows": null,
            "right": null,
            "justify_content": null,
            "_view_module": "@jupyter-widgets/base",
            "overflow": null,
            "_model_module_version": "1.2.0",
            "_view_count": null,
            "flex_flow": null,
            "width": null,
            "min_width": null,
            "border": null,
            "align_items": null,
            "bottom": null,
            "_model_module": "@jupyter-widgets/base",
            "top": null,
            "grid_column": null,
            "overflow_y": null,
            "overflow_x": null,
            "grid_auto_flow": null,
            "grid_area": null,
            "grid_template_columns": null,
            "flex": null,
            "_model_name": "LayoutModel",
            "justify_items": null,
            "grid_row": null,
            "max_height": null,
            "align_content": null,
            "visibility": null,
            "align_self": null,
            "height": null,
            "min_height": null,
            "padding": null,
            "grid_auto_rows": null,
            "grid_gap": null,
            "max_width": null,
            "order": null,
            "_view_module_version": "1.2.0",
            "grid_template_areas": null,
            "object_position": null,
            "object_fit": null,
            "grid_auto_columns": null,
            "margin": null,
            "display": null,
            "left": null
          }
        },
        "dc4ff2b3f0874d2eb6c33f4ad606ed29": {
          "model_module": "@jupyter-widgets/controls",
          "model_name": "DescriptionStyleModel",
          "state": {
            "_view_name": "StyleView",
            "_model_name": "DescriptionStyleModel",
            "description_width": "",
            "_view_module": "@jupyter-widgets/base",
            "_model_module_version": "1.5.0",
            "_view_count": null,
            "_view_module_version": "1.2.0",
            "_model_module": "@jupyter-widgets/controls"
          }
        },
        "5c9679c6f9654717b274199b0fa88674": {
          "model_module": "@jupyter-widgets/base",
          "model_name": "LayoutModel",
          "state": {
            "_view_name": "LayoutView",
            "grid_template_rows": null,
            "right": null,
            "justify_content": null,
            "_view_module": "@jupyter-widgets/base",
            "overflow": null,
            "_model_module_version": "1.2.0",
            "_view_count": null,
            "flex_flow": null,
            "width": null,
            "min_width": null,
            "border": null,
            "align_items": null,
            "bottom": null,
            "_model_module": "@jupyter-widgets/base",
            "top": null,
            "grid_column": null,
            "overflow_y": null,
            "overflow_x": null,
            "grid_auto_flow": null,
            "grid_area": null,
            "grid_template_columns": null,
            "flex": null,
            "_model_name": "LayoutModel",
            "justify_items": null,
            "grid_row": null,
            "max_height": null,
            "align_content": null,
            "visibility": null,
            "align_self": null,
            "height": null,
            "min_height": null,
            "padding": null,
            "grid_auto_rows": null,
            "grid_gap": null,
            "max_width": null,
            "order": null,
            "_view_module_version": "1.2.0",
            "grid_template_areas": null,
            "object_position": null,
            "object_fit": null,
            "grid_auto_columns": null,
            "margin": null,
            "display": null,
            "left": null
          }
        },
        "5891b33bd680424ba3490cef5850c418": {
          "model_module": "@jupyter-widgets/controls",
          "model_name": "HBoxModel",
          "state": {
            "_view_name": "HBoxView",
            "_dom_classes": [],
            "_model_name": "HBoxModel",
            "_view_module": "@jupyter-widgets/controls",
            "_model_module_version": "1.5.0",
            "_view_count": null,
            "_view_module_version": "1.5.0",
            "box_style": "",
            "layout": "IPY_MODEL_7ca6c4d1c9d949b189825d15764802d4",
            "_model_module": "@jupyter-widgets/controls",
            "children": [
              "IPY_MODEL_fc874bf797b547dab17009fc2f73c015",
              "IPY_MODEL_3ebe6ba3b66843d18b67b77d5bb17fee"
            ]
          }
        },
        "7ca6c4d1c9d949b189825d15764802d4": {
          "model_module": "@jupyter-widgets/base",
          "model_name": "LayoutModel",
          "state": {
            "_view_name": "LayoutView",
            "grid_template_rows": null,
            "right": null,
            "justify_content": null,
            "_view_module": "@jupyter-widgets/base",
            "overflow": null,
            "_model_module_version": "1.2.0",
            "_view_count": null,
            "flex_flow": null,
            "width": null,
            "min_width": null,
            "border": null,
            "align_items": null,
            "bottom": null,
            "_model_module": "@jupyter-widgets/base",
            "top": null,
            "grid_column": null,
            "overflow_y": null,
            "overflow_x": null,
            "grid_auto_flow": null,
            "grid_area": null,
            "grid_template_columns": null,
            "flex": null,
            "_model_name": "LayoutModel",
            "justify_items": null,
            "grid_row": null,
            "max_height": null,
            "align_content": null,
            "visibility": null,
            "align_self": null,
            "height": null,
            "min_height": null,
            "padding": null,
            "grid_auto_rows": null,
            "grid_gap": null,
            "max_width": null,
            "order": null,
            "_view_module_version": "1.2.0",
            "grid_template_areas": null,
            "object_position": null,
            "object_fit": null,
            "grid_auto_columns": null,
            "margin": null,
            "display": null,
            "left": null
          }
        },
        "fc874bf797b547dab17009fc2f73c015": {
          "model_module": "@jupyter-widgets/controls",
          "model_name": "FloatProgressModel",
          "state": {
            "_view_name": "ProgressView",
            "style": "IPY_MODEL_8a74ae0a9f8e4ab8b43c4ad107a5aa77",
            "_dom_classes": [],
            "description": "Epoch 4: 100%",
            "_model_name": "FloatProgressModel",
            "bar_style": "",
            "max": 6277,
            "_view_module": "@jupyter-widgets/controls",
            "_model_module_version": "1.5.0",
            "value": 6277,
            "_view_count": null,
            "_view_module_version": "1.5.0",
            "orientation": "horizontal",
            "min": 0,
            "description_tooltip": null,
            "_model_module": "@jupyter-widgets/controls",
            "layout": "IPY_MODEL_72fa63056ac84ba796cd66921054f486"
          }
        },
        "3ebe6ba3b66843d18b67b77d5bb17fee": {
          "model_module": "@jupyter-widgets/controls",
          "model_name": "HTMLModel",
          "state": {
            "_view_name": "HTMLView",
            "style": "IPY_MODEL_9bc9e92e197f4988a3947fceac5ea8de",
            "_dom_classes": [],
            "description": "",
            "_model_name": "HTMLModel",
            "placeholder": "​",
            "_view_module": "@jupyter-widgets/controls",
            "_model_module_version": "1.5.0",
            "value": " 6277/6277 [16:12&lt;00:00,  6.91it/s, training_loss=0.118]",
            "_view_count": null,
            "_view_module_version": "1.5.0",
            "description_tooltip": null,
            "_model_module": "@jupyter-widgets/controls",
            "layout": "IPY_MODEL_a901104813a04732900fe1bfde44f972"
          }
        },
        "8a74ae0a9f8e4ab8b43c4ad107a5aa77": {
          "model_module": "@jupyter-widgets/controls",
          "model_name": "ProgressStyleModel",
          "state": {
            "_view_name": "StyleView",
            "_model_name": "ProgressStyleModel",
            "description_width": "initial",
            "_view_module": "@jupyter-widgets/base",
            "_model_module_version": "1.5.0",
            "_view_count": null,
            "_view_module_version": "1.2.0",
            "bar_color": null,
            "_model_module": "@jupyter-widgets/controls"
          }
        },
        "72fa63056ac84ba796cd66921054f486": {
          "model_module": "@jupyter-widgets/base",
          "model_name": "LayoutModel",
          "state": {
            "_view_name": "LayoutView",
            "grid_template_rows": null,
            "right": null,
            "justify_content": null,
            "_view_module": "@jupyter-widgets/base",
            "overflow": null,
            "_model_module_version": "1.2.0",
            "_view_count": null,
            "flex_flow": null,
            "width": null,
            "min_width": null,
            "border": null,
            "align_items": null,
            "bottom": null,
            "_model_module": "@jupyter-widgets/base",
            "top": null,
            "grid_column": null,
            "overflow_y": null,
            "overflow_x": null,
            "grid_auto_flow": null,
            "grid_area": null,
            "grid_template_columns": null,
            "flex": null,
            "_model_name": "LayoutModel",
            "justify_items": null,
            "grid_row": null,
            "max_height": null,
            "align_content": null,
            "visibility": null,
            "align_self": null,
            "height": null,
            "min_height": null,
            "padding": null,
            "grid_auto_rows": null,
            "grid_gap": null,
            "max_width": null,
            "order": null,
            "_view_module_version": "1.2.0",
            "grid_template_areas": null,
            "object_position": null,
            "object_fit": null,
            "grid_auto_columns": null,
            "margin": null,
            "display": null,
            "left": null
          }
        },
        "9bc9e92e197f4988a3947fceac5ea8de": {
          "model_module": "@jupyter-widgets/controls",
          "model_name": "DescriptionStyleModel",
          "state": {
            "_view_name": "StyleView",
            "_model_name": "DescriptionStyleModel",
            "description_width": "",
            "_view_module": "@jupyter-widgets/base",
            "_model_module_version": "1.5.0",
            "_view_count": null,
            "_view_module_version": "1.2.0",
            "_model_module": "@jupyter-widgets/controls"
          }
        },
        "a901104813a04732900fe1bfde44f972": {
          "model_module": "@jupyter-widgets/base",
          "model_name": "LayoutModel",
          "state": {
            "_view_name": "LayoutView",
            "grid_template_rows": null,
            "right": null,
            "justify_content": null,
            "_view_module": "@jupyter-widgets/base",
            "overflow": null,
            "_model_module_version": "1.2.0",
            "_view_count": null,
            "flex_flow": null,
            "width": null,
            "min_width": null,
            "border": null,
            "align_items": null,
            "bottom": null,
            "_model_module": "@jupyter-widgets/base",
            "top": null,
            "grid_column": null,
            "overflow_y": null,
            "overflow_x": null,
            "grid_auto_flow": null,
            "grid_area": null,
            "grid_template_columns": null,
            "flex": null,
            "_model_name": "LayoutModel",
            "justify_items": null,
            "grid_row": null,
            "max_height": null,
            "align_content": null,
            "visibility": null,
            "align_self": null,
            "height": null,
            "min_height": null,
            "padding": null,
            "grid_auto_rows": null,
            "grid_gap": null,
            "max_width": null,
            "order": null,
            "_view_module_version": "1.2.0",
            "grid_template_areas": null,
            "object_position": null,
            "object_fit": null,
            "grid_auto_columns": null,
            "margin": null,
            "display": null,
            "left": null
          }
        },
        "cf5e7a05916749ac9b9b224170f21fa3": {
          "model_module": "@jupyter-widgets/controls",
          "model_name": "HBoxModel",
          "state": {
            "_view_name": "HBoxView",
            "_dom_classes": [],
            "_model_name": "HBoxModel",
            "_view_module": "@jupyter-widgets/controls",
            "_model_module_version": "1.5.0",
            "_view_count": null,
            "_view_module_version": "1.5.0",
            "box_style": "",
            "layout": "IPY_MODEL_748957cf8cf34b699bea1d8c86fa2c52",
            "_model_module": "@jupyter-widgets/controls",
            "children": [
              "IPY_MODEL_15ca094488dd4940b1e8c30cae4e0ad1",
              "IPY_MODEL_4bc10550ead54d3facfd21cb5d4eba74"
            ]
          }
        },
        "748957cf8cf34b699bea1d8c86fa2c52": {
          "model_module": "@jupyter-widgets/base",
          "model_name": "LayoutModel",
          "state": {
            "_view_name": "LayoutView",
            "grid_template_rows": null,
            "right": null,
            "justify_content": null,
            "_view_module": "@jupyter-widgets/base",
            "overflow": null,
            "_model_module_version": "1.2.0",
            "_view_count": null,
            "flex_flow": null,
            "width": null,
            "min_width": null,
            "border": null,
            "align_items": null,
            "bottom": null,
            "_model_module": "@jupyter-widgets/base",
            "top": null,
            "grid_column": null,
            "overflow_y": null,
            "overflow_x": null,
            "grid_auto_flow": null,
            "grid_area": null,
            "grid_template_columns": null,
            "flex": null,
            "_model_name": "LayoutModel",
            "justify_items": null,
            "grid_row": null,
            "max_height": null,
            "align_content": null,
            "visibility": null,
            "align_self": null,
            "height": null,
            "min_height": null,
            "padding": null,
            "grid_auto_rows": null,
            "grid_gap": null,
            "max_width": null,
            "order": null,
            "_view_module_version": "1.2.0",
            "grid_template_areas": null,
            "object_position": null,
            "object_fit": null,
            "grid_auto_columns": null,
            "margin": null,
            "display": null,
            "left": null
          }
        },
        "15ca094488dd4940b1e8c30cae4e0ad1": {
          "model_module": "@jupyter-widgets/controls",
          "model_name": "FloatProgressModel",
          "state": {
            "_view_name": "ProgressView",
            "style": "IPY_MODEL_8eb50f879c944ec5bfd0fdbc70dddcdb",
            "_dom_classes": [],
            "description": "Epoch 5: 100%",
            "_model_name": "FloatProgressModel",
            "bar_style": "",
            "max": 6277,
            "_view_module": "@jupyter-widgets/controls",
            "_model_module_version": "1.5.0",
            "value": 6277,
            "_view_count": null,
            "_view_module_version": "1.5.0",
            "orientation": "horizontal",
            "min": 0,
            "description_tooltip": null,
            "_model_module": "@jupyter-widgets/controls",
            "layout": "IPY_MODEL_fc498ff0079d4c47a58489306c4d24cb"
          }
        },
        "4bc10550ead54d3facfd21cb5d4eba74": {
          "model_module": "@jupyter-widgets/controls",
          "model_name": "HTMLModel",
          "state": {
            "_view_name": "HTMLView",
            "style": "IPY_MODEL_f8a31957f2cb487d83768b395593f0ad",
            "_dom_classes": [],
            "description": "",
            "_model_name": "HTMLModel",
            "placeholder": "​",
            "_view_module": "@jupyter-widgets/controls",
            "_model_module_version": "1.5.0",
            "value": " 6277/6277 [16:13&lt;00:00,  6.89it/s, training_loss=0.112]",
            "_view_count": null,
            "_view_module_version": "1.5.0",
            "description_tooltip": null,
            "_model_module": "@jupyter-widgets/controls",
            "layout": "IPY_MODEL_c6dd734e15494ea5b25f346e96b4e154"
          }
        },
        "8eb50f879c944ec5bfd0fdbc70dddcdb": {
          "model_module": "@jupyter-widgets/controls",
          "model_name": "ProgressStyleModel",
          "state": {
            "_view_name": "StyleView",
            "_model_name": "ProgressStyleModel",
            "description_width": "initial",
            "_view_module": "@jupyter-widgets/base",
            "_model_module_version": "1.5.0",
            "_view_count": null,
            "_view_module_version": "1.2.0",
            "bar_color": null,
            "_model_module": "@jupyter-widgets/controls"
          }
        },
        "fc498ff0079d4c47a58489306c4d24cb": {
          "model_module": "@jupyter-widgets/base",
          "model_name": "LayoutModel",
          "state": {
            "_view_name": "LayoutView",
            "grid_template_rows": null,
            "right": null,
            "justify_content": null,
            "_view_module": "@jupyter-widgets/base",
            "overflow": null,
            "_model_module_version": "1.2.0",
            "_view_count": null,
            "flex_flow": null,
            "width": null,
            "min_width": null,
            "border": null,
            "align_items": null,
            "bottom": null,
            "_model_module": "@jupyter-widgets/base",
            "top": null,
            "grid_column": null,
            "overflow_y": null,
            "overflow_x": null,
            "grid_auto_flow": null,
            "grid_area": null,
            "grid_template_columns": null,
            "flex": null,
            "_model_name": "LayoutModel",
            "justify_items": null,
            "grid_row": null,
            "max_height": null,
            "align_content": null,
            "visibility": null,
            "align_self": null,
            "height": null,
            "min_height": null,
            "padding": null,
            "grid_auto_rows": null,
            "grid_gap": null,
            "max_width": null,
            "order": null,
            "_view_module_version": "1.2.0",
            "grid_template_areas": null,
            "object_position": null,
            "object_fit": null,
            "grid_auto_columns": null,
            "margin": null,
            "display": null,
            "left": null
          }
        },
        "f8a31957f2cb487d83768b395593f0ad": {
          "model_module": "@jupyter-widgets/controls",
          "model_name": "DescriptionStyleModel",
          "state": {
            "_view_name": "StyleView",
            "_model_name": "DescriptionStyleModel",
            "description_width": "",
            "_view_module": "@jupyter-widgets/base",
            "_model_module_version": "1.5.0",
            "_view_count": null,
            "_view_module_version": "1.2.0",
            "_model_module": "@jupyter-widgets/controls"
          }
        },
        "c6dd734e15494ea5b25f346e96b4e154": {
          "model_module": "@jupyter-widgets/base",
          "model_name": "LayoutModel",
          "state": {
            "_view_name": "LayoutView",
            "grid_template_rows": null,
            "right": null,
            "justify_content": null,
            "_view_module": "@jupyter-widgets/base",
            "overflow": null,
            "_model_module_version": "1.2.0",
            "_view_count": null,
            "flex_flow": null,
            "width": null,
            "min_width": null,
            "border": null,
            "align_items": null,
            "bottom": null,
            "_model_module": "@jupyter-widgets/base",
            "top": null,
            "grid_column": null,
            "overflow_y": null,
            "overflow_x": null,
            "grid_auto_flow": null,
            "grid_area": null,
            "grid_template_columns": null,
            "flex": null,
            "_model_name": "LayoutModel",
            "justify_items": null,
            "grid_row": null,
            "max_height": null,
            "align_content": null,
            "visibility": null,
            "align_self": null,
            "height": null,
            "min_height": null,
            "padding": null,
            "grid_auto_rows": null,
            "grid_gap": null,
            "max_width": null,
            "order": null,
            "_view_module_version": "1.2.0",
            "grid_template_areas": null,
            "object_position": null,
            "object_fit": null,
            "grid_auto_columns": null,
            "margin": null,
            "display": null,
            "left": null
          }
        }
      }
    },
    "accelerator": "GPU"
  },
  "cells": [
    {
      "cell_type": "markdown",
      "metadata": {
        "id": "XyBH9mYQO_7r"
      },
      "source": [
        "# **NATURAL LANGUAGE PROCESSING:**\n",
        "## **Project Title :** **Title Generation**\n",
        "### -by\n",
        "*   **Arkadipta De (AI20MTECH14002)**\n",
        "*   **Venkatesh E (AI20MTECH14005)**\n",
        "*   **Priya Bhatia (AI20MTECH14015)**\n",
        "\n",
        "#### **Guide : Dr Maunendra Sankar Desarkar, Dr Srijith**"
      ]
    },
    {
      "cell_type": "markdown",
      "metadata": {
        "id": "Dk3f_vQ0QAbu"
      },
      "source": [
        "**Description:** Given the abstract of a technical paper, generate a suitable title for it\n",
        "\n",
        "**Data Source Link :**[Arxiv Dataset](https://www.kaggle.com/neelshah18/arxivdataset)\n",
        "\n",
        "\n",
        "\n",
        "*   Collection of 31000+ paper meta data.\n",
        "*   This data contains all paper related to ML, CL, NER, AI and CV field publish between 1992 to 2018-Feb."
      ]
    },
    {
      "cell_type": "markdown",
      "metadata": {
        "id": "v52KJeTXQv1Q"
      },
      "source": [
        "### **IMPORTING LIBRARIES :**\n"
      ]
    },
    {
      "cell_type": "code",
      "metadata": {
        "colab": {
          "base_uri": "https://localhost:8080/"
        },
        "id": "ubdt9BEbOM-y",
        "outputId": "90b864e9-8b28-45e3-dfe0-78466d80f4dc"
      },
      "source": [
        "# For using in Google Colab\n",
        "from google.colab import drive\n",
        "drive.mount(\"/content/gdrive\")"
      ],
      "execution_count": null,
      "outputs": [
        {
          "output_type": "stream",
          "text": [
            "Mounted at /content/gdrive\n"
          ],
          "name": "stdout"
        }
      ]
    },
    {
      "cell_type": "code",
      "metadata": {
        "colab": {
          "base_uri": "https://localhost:8080/"
        },
        "id": "mb8CmsYcShtG",
        "outputId": "eea044f8-cfff-48c5-8e32-a923ccc79151"
      },
      "source": [
        "!pip install transformers"
      ],
      "execution_count": null,
      "outputs": [
        {
          "output_type": "stream",
          "text": [
            "Collecting transformers\n",
            "\u001b[?25l  Downloading https://files.pythonhosted.org/packages/d8/b2/57495b5309f09fa501866e225c84532d1fd89536ea62406b2181933fb418/transformers-4.5.1-py3-none-any.whl (2.1MB)\n",
            "\u001b[K     |████████████████████████████████| 2.1MB 8.6MB/s \n",
            "\u001b[?25hRequirement already satisfied: packaging in /usr/local/lib/python3.7/dist-packages (from transformers) (20.9)\n",
            "Requirement already satisfied: numpy>=1.17 in /usr/local/lib/python3.7/dist-packages (from transformers) (1.19.5)\n",
            "Requirement already satisfied: importlib-metadata; python_version < \"3.8\" in /usr/local/lib/python3.7/dist-packages (from transformers) (3.10.1)\n",
            "Requirement already satisfied: regex!=2019.12.17 in /usr/local/lib/python3.7/dist-packages (from transformers) (2019.12.20)\n",
            "Collecting tokenizers<0.11,>=0.10.1\n",
            "\u001b[?25l  Downloading https://files.pythonhosted.org/packages/ae/04/5b870f26a858552025a62f1649c20d29d2672c02ff3c3fb4c688ca46467a/tokenizers-0.10.2-cp37-cp37m-manylinux2010_x86_64.whl (3.3MB)\n",
            "\u001b[K     |████████████████████████████████| 3.3MB 33.7MB/s \n",
            "\u001b[?25hRequirement already satisfied: tqdm>=4.27 in /usr/local/lib/python3.7/dist-packages (from transformers) (4.41.1)\n",
            "Requirement already satisfied: filelock in /usr/local/lib/python3.7/dist-packages (from transformers) (3.0.12)\n",
            "Requirement already satisfied: requests in /usr/local/lib/python3.7/dist-packages (from transformers) (2.23.0)\n",
            "Collecting sacremoses\n",
            "\u001b[?25l  Downloading https://files.pythonhosted.org/packages/75/ee/67241dc87f266093c533a2d4d3d69438e57d7a90abb216fa076e7d475d4a/sacremoses-0.0.45-py3-none-any.whl (895kB)\n",
            "\u001b[K     |████████████████████████████████| 901kB 41.7MB/s \n",
            "\u001b[?25hRequirement already satisfied: pyparsing>=2.0.2 in /usr/local/lib/python3.7/dist-packages (from packaging->transformers) (2.4.7)\n",
            "Requirement already satisfied: typing-extensions>=3.6.4; python_version < \"3.8\" in /usr/local/lib/python3.7/dist-packages (from importlib-metadata; python_version < \"3.8\"->transformers) (3.7.4.3)\n",
            "Requirement already satisfied: zipp>=0.5 in /usr/local/lib/python3.7/dist-packages (from importlib-metadata; python_version < \"3.8\"->transformers) (3.4.1)\n",
            "Requirement already satisfied: chardet<4,>=3.0.2 in /usr/local/lib/python3.7/dist-packages (from requests->transformers) (3.0.4)\n",
            "Requirement already satisfied: certifi>=2017.4.17 in /usr/local/lib/python3.7/dist-packages (from requests->transformers) (2020.12.5)\n",
            "Requirement already satisfied: urllib3!=1.25.0,!=1.25.1,<1.26,>=1.21.1 in /usr/local/lib/python3.7/dist-packages (from requests->transformers) (1.24.3)\n",
            "Requirement already satisfied: idna<3,>=2.5 in /usr/local/lib/python3.7/dist-packages (from requests->transformers) (2.10)\n",
            "Requirement already satisfied: six in /usr/local/lib/python3.7/dist-packages (from sacremoses->transformers) (1.15.0)\n",
            "Requirement already satisfied: click in /usr/local/lib/python3.7/dist-packages (from sacremoses->transformers) (7.1.2)\n",
            "Requirement already satisfied: joblib in /usr/local/lib/python3.7/dist-packages (from sacremoses->transformers) (1.0.1)\n",
            "Installing collected packages: tokenizers, sacremoses, transformers\n",
            "Successfully installed sacremoses-0.0.45 tokenizers-0.10.2 transformers-4.5.1\n"
          ],
          "name": "stdout"
        }
      ]
    },
    {
      "cell_type": "code",
      "metadata": {
        "colab": {
          "base_uri": "https://localhost:8080/"
        },
        "id": "0e9amxNrShvt",
        "outputId": "d410b273-b16e-4a1f-fc0a-699026ead45f"
      },
      "source": [
        "!pip install sentencepiece"
      ],
      "execution_count": null,
      "outputs": [
        {
          "output_type": "stream",
          "text": [
            "Collecting sentencepiece\n",
            "\u001b[?25l  Downloading https://files.pythonhosted.org/packages/f5/99/e0808cb947ba10f575839c43e8fafc9cc44e4a7a2c8f79c60db48220a577/sentencepiece-0.1.95-cp37-cp37m-manylinux2014_x86_64.whl (1.2MB)\n",
            "\r\u001b[K     |▎                               | 10kB 17.4MB/s eta 0:00:01\r\u001b[K     |▌                               | 20kB 19.2MB/s eta 0:00:01\r\u001b[K     |▉                               | 30kB 10.9MB/s eta 0:00:01\r\u001b[K     |█                               | 40kB 9.4MB/s eta 0:00:01\r\u001b[K     |█▍                              | 51kB 7.8MB/s eta 0:00:01\r\u001b[K     |█▋                              | 61kB 8.2MB/s eta 0:00:01\r\u001b[K     |██                              | 71kB 8.4MB/s eta 0:00:01\r\u001b[K     |██▏                             | 81kB 8.2MB/s eta 0:00:01\r\u001b[K     |██▌                             | 92kB 8.0MB/s eta 0:00:01\r\u001b[K     |██▊                             | 102kB 7.5MB/s eta 0:00:01\r\u001b[K     |███                             | 112kB 7.5MB/s eta 0:00:01\r\u001b[K     |███▎                            | 122kB 7.5MB/s eta 0:00:01\r\u001b[K     |███▌                            | 133kB 7.5MB/s eta 0:00:01\r\u001b[K     |███▉                            | 143kB 7.5MB/s eta 0:00:01\r\u001b[K     |████                            | 153kB 7.5MB/s eta 0:00:01\r\u001b[K     |████▍                           | 163kB 7.5MB/s eta 0:00:01\r\u001b[K     |████▋                           | 174kB 7.5MB/s eta 0:00:01\r\u001b[K     |█████                           | 184kB 7.5MB/s eta 0:00:01\r\u001b[K     |█████▏                          | 194kB 7.5MB/s eta 0:00:01\r\u001b[K     |█████▌                          | 204kB 7.5MB/s eta 0:00:01\r\u001b[K     |█████▊                          | 215kB 7.5MB/s eta 0:00:01\r\u001b[K     |██████                          | 225kB 7.5MB/s eta 0:00:01\r\u001b[K     |██████▎                         | 235kB 7.5MB/s eta 0:00:01\r\u001b[K     |██████▌                         | 245kB 7.5MB/s eta 0:00:01\r\u001b[K     |██████▉                         | 256kB 7.5MB/s eta 0:00:01\r\u001b[K     |███████                         | 266kB 7.5MB/s eta 0:00:01\r\u001b[K     |███████▍                        | 276kB 7.5MB/s eta 0:00:01\r\u001b[K     |███████▋                        | 286kB 7.5MB/s eta 0:00:01\r\u001b[K     |████████                        | 296kB 7.5MB/s eta 0:00:01\r\u001b[K     |████████▏                       | 307kB 7.5MB/s eta 0:00:01\r\u001b[K     |████████▍                       | 317kB 7.5MB/s eta 0:00:01\r\u001b[K     |████████▊                       | 327kB 7.5MB/s eta 0:00:01\r\u001b[K     |█████████                       | 337kB 7.5MB/s eta 0:00:01\r\u001b[K     |█████████▎                      | 348kB 7.5MB/s eta 0:00:01\r\u001b[K     |█████████▌                      | 358kB 7.5MB/s eta 0:00:01\r\u001b[K     |█████████▉                      | 368kB 7.5MB/s eta 0:00:01\r\u001b[K     |██████████                      | 378kB 7.5MB/s eta 0:00:01\r\u001b[K     |██████████▍                     | 389kB 7.5MB/s eta 0:00:01\r\u001b[K     |██████████▋                     | 399kB 7.5MB/s eta 0:00:01\r\u001b[K     |███████████                     | 409kB 7.5MB/s eta 0:00:01\r\u001b[K     |███████████▏                    | 419kB 7.5MB/s eta 0:00:01\r\u001b[K     |███████████▍                    | 430kB 7.5MB/s eta 0:00:01\r\u001b[K     |███████████▊                    | 440kB 7.5MB/s eta 0:00:01\r\u001b[K     |████████████                    | 450kB 7.5MB/s eta 0:00:01\r\u001b[K     |████████████▎                   | 460kB 7.5MB/s eta 0:00:01\r\u001b[K     |████████████▌                   | 471kB 7.5MB/s eta 0:00:01\r\u001b[K     |████████████▉                   | 481kB 7.5MB/s eta 0:00:01\r\u001b[K     |█████████████                   | 491kB 7.5MB/s eta 0:00:01\r\u001b[K     |█████████████▍                  | 501kB 7.5MB/s eta 0:00:01\r\u001b[K     |█████████████▋                  | 512kB 7.5MB/s eta 0:00:01\r\u001b[K     |█████████████▉                  | 522kB 7.5MB/s eta 0:00:01\r\u001b[K     |██████████████▏                 | 532kB 7.5MB/s eta 0:00:01\r\u001b[K     |██████████████▍                 | 542kB 7.5MB/s eta 0:00:01\r\u001b[K     |██████████████▊                 | 552kB 7.5MB/s eta 0:00:01\r\u001b[K     |███████████████                 | 563kB 7.5MB/s eta 0:00:01\r\u001b[K     |███████████████▎                | 573kB 7.5MB/s eta 0:00:01\r\u001b[K     |███████████████▌                | 583kB 7.5MB/s eta 0:00:01\r\u001b[K     |███████████████▉                | 593kB 7.5MB/s eta 0:00:01\r\u001b[K     |████████████████                | 604kB 7.5MB/s eta 0:00:01\r\u001b[K     |████████████████▍               | 614kB 7.5MB/s eta 0:00:01\r\u001b[K     |████████████████▋               | 624kB 7.5MB/s eta 0:00:01\r\u001b[K     |████████████████▉               | 634kB 7.5MB/s eta 0:00:01\r\u001b[K     |█████████████████▏              | 645kB 7.5MB/s eta 0:00:01\r\u001b[K     |█████████████████▍              | 655kB 7.5MB/s eta 0:00:01\r\u001b[K     |█████████████████▊              | 665kB 7.5MB/s eta 0:00:01\r\u001b[K     |██████████████████              | 675kB 7.5MB/s eta 0:00:01\r\u001b[K     |██████████████████▎             | 686kB 7.5MB/s eta 0:00:01\r\u001b[K     |██████████████████▌             | 696kB 7.5MB/s eta 0:00:01\r\u001b[K     |██████████████████▉             | 706kB 7.5MB/s eta 0:00:01\r\u001b[K     |███████████████████             | 716kB 7.5MB/s eta 0:00:01\r\u001b[K     |███████████████████▎            | 727kB 7.5MB/s eta 0:00:01\r\u001b[K     |███████████████████▋            | 737kB 7.5MB/s eta 0:00:01\r\u001b[K     |███████████████████▉            | 747kB 7.5MB/s eta 0:00:01\r\u001b[K     |████████████████████▏           | 757kB 7.5MB/s eta 0:00:01\r\u001b[K     |████████████████████▍           | 768kB 7.5MB/s eta 0:00:01\r\u001b[K     |████████████████████▊           | 778kB 7.5MB/s eta 0:00:01\r\u001b[K     |█████████████████████           | 788kB 7.5MB/s eta 0:00:01\r\u001b[K     |█████████████████████▎          | 798kB 7.5MB/s eta 0:00:01\r\u001b[K     |█████████████████████▌          | 808kB 7.5MB/s eta 0:00:01\r\u001b[K     |█████████████████████▉          | 819kB 7.5MB/s eta 0:00:01\r\u001b[K     |██████████████████████          | 829kB 7.5MB/s eta 0:00:01\r\u001b[K     |██████████████████████▎         | 839kB 7.5MB/s eta 0:00:01\r\u001b[K     |██████████████████████▋         | 849kB 7.5MB/s eta 0:00:01\r\u001b[K     |██████████████████████▉         | 860kB 7.5MB/s eta 0:00:01\r\u001b[K     |███████████████████████▏        | 870kB 7.5MB/s eta 0:00:01\r\u001b[K     |███████████████████████▍        | 880kB 7.5MB/s eta 0:00:01\r\u001b[K     |███████████████████████▊        | 890kB 7.5MB/s eta 0:00:01\r\u001b[K     |████████████████████████        | 901kB 7.5MB/s eta 0:00:01\r\u001b[K     |████████████████████████▎       | 911kB 7.5MB/s eta 0:00:01\r\u001b[K     |████████████████████████▌       | 921kB 7.5MB/s eta 0:00:01\r\u001b[K     |████████████████████████▊       | 931kB 7.5MB/s eta 0:00:01\r\u001b[K     |█████████████████████████       | 942kB 7.5MB/s eta 0:00:01\r\u001b[K     |█████████████████████████▎      | 952kB 7.5MB/s eta 0:00:01\r\u001b[K     |█████████████████████████▋      | 962kB 7.5MB/s eta 0:00:01\r\u001b[K     |█████████████████████████▉      | 972kB 7.5MB/s eta 0:00:01\r\u001b[K     |██████████████████████████▏     | 983kB 7.5MB/s eta 0:00:01\r\u001b[K     |██████████████████████████▍     | 993kB 7.5MB/s eta 0:00:01\r\u001b[K     |██████████████████████████▊     | 1.0MB 7.5MB/s eta 0:00:01\r\u001b[K     |███████████████████████████     | 1.0MB 7.5MB/s eta 0:00:01\r\u001b[K     |███████████████████████████▎    | 1.0MB 7.5MB/s eta 0:00:01\r\u001b[K     |███████████████████████████▌    | 1.0MB 7.5MB/s eta 0:00:01\r\u001b[K     |███████████████████████████▊    | 1.0MB 7.5MB/s eta 0:00:01\r\u001b[K     |████████████████████████████    | 1.1MB 7.5MB/s eta 0:00:01\r\u001b[K     |████████████████████████████▎   | 1.1MB 7.5MB/s eta 0:00:01\r\u001b[K     |████████████████████████████▋   | 1.1MB 7.5MB/s eta 0:00:01\r\u001b[K     |████████████████████████████▉   | 1.1MB 7.5MB/s eta 0:00:01\r\u001b[K     |█████████████████████████████▏  | 1.1MB 7.5MB/s eta 0:00:01\r\u001b[K     |█████████████████████████████▍  | 1.1MB 7.5MB/s eta 0:00:01\r\u001b[K     |█████████████████████████████▊  | 1.1MB 7.5MB/s eta 0:00:01\r\u001b[K     |██████████████████████████████  | 1.1MB 7.5MB/s eta 0:00:01\r\u001b[K     |██████████████████████████████▏ | 1.1MB 7.5MB/s eta 0:00:01\r\u001b[K     |██████████████████████████████▌ | 1.1MB 7.5MB/s eta 0:00:01\r\u001b[K     |██████████████████████████████▊ | 1.2MB 7.5MB/s eta 0:00:01\r\u001b[K     |███████████████████████████████ | 1.2MB 7.5MB/s eta 0:00:01\r\u001b[K     |███████████████████████████████▎| 1.2MB 7.5MB/s eta 0:00:01\r\u001b[K     |███████████████████████████████▋| 1.2MB 7.5MB/s eta 0:00:01\r\u001b[K     |███████████████████████████████▉| 1.2MB 7.5MB/s eta 0:00:01\r\u001b[K     |████████████████████████████████| 1.2MB 7.5MB/s \n",
            "\u001b[?25hInstalling collected packages: sentencepiece\n",
            "Successfully installed sentencepiece-0.1.95\n"
          ],
          "name": "stdout"
        }
      ]
    },
    {
      "cell_type": "code",
      "metadata": {
        "id": "YtRbHzfXShyL"
      },
      "source": [
        "import numpy as np \n",
        "import pandas as pd \n",
        "import matplotlib.pyplot as plt\n",
        "import seaborn as sns \n",
        "\n",
        "import random\n",
        "\n",
        "import json, re\n",
        "from tqdm import tqdm_notebook\n",
        "from uuid import uuid4\n",
        "\n",
        "import torch\n",
        "import torch.optim as optim\n",
        "import torch.nn as nn\n",
        "import torch.nn.functional as F\n",
        "from torch.autograd import Variable\n",
        "from torch.utils.data import Dataset, DataLoader, TensorDataset, RandomSampler, SequentialSampler\n",
        "\n",
        "from transformers import glue_compute_metrics\n",
        "from transformers import Trainer, TrainingArguments\n",
        "from transformers import AdamW, get_linear_schedule_with_warmup\n",
        "\n",
        "from transformers import BertTokenizer, BertModel, BertConfig, BertForSequenceClassification\n",
        "from transformers import RobertaConfig, RobertaModel, RobertaTokenizer, RobertaForSequenceClassification\n",
        "\n",
        "from sklearn.metrics import f1_score, accuracy_score,confusion_matrix \n",
        "from sklearn.metrics import classification_report as Report\n",
        "\n",
        "from tqdm.notebook import tqdm\n",
        "\n",
        "import itertools    \n",
        "from sklearn.utils import shuffle\n",
        "\n",
        "import warnings\n",
        "warnings.filterwarnings(\"ignore\")"
      ],
      "execution_count": null,
      "outputs": []
    },
    {
      "cell_type": "code",
      "metadata": {
        "id": "rzTMwIQ_Sh1N"
      },
      "source": [
        "device=torch.device(\"cuda\" if torch.cuda.is_available() else \"cpu\")"
      ],
      "execution_count": null,
      "outputs": []
    },
    {
      "cell_type": "code",
      "metadata": {
        "colab": {
          "base_uri": "https://localhost:8080/"
        },
        "id": "xTv4lH4BSh4B",
        "outputId": "11d89ec5-bb46-4be5-ef09-3dc6a031331b"
      },
      "source": [
        "print(\"GPU Torch Available = {}\".format(torch.cuda.is_available()))\n",
        "print(\"Torch Version = {}\".format(torch.__version__))"
      ],
      "execution_count": null,
      "outputs": [
        {
          "output_type": "stream",
          "text": [
            "GPU Torch Available = True\n",
            "Torch Version = 1.8.1+cu101\n"
          ],
          "name": "stdout"
        }
      ]
    },
    {
      "cell_type": "code",
      "metadata": {
        "id": "ov24WRs8Sh6M"
      },
      "source": [
        "# to display the rows and columns of dataset properly \n",
        "pd.set_option('display.max_rows', None)\n",
        "pd.set_option('display.max_columns', None)\n",
        "pd.set_option('display.width', None)\n",
        "pd.set_option('display.max_colwidth', -1)"
      ],
      "execution_count": null,
      "outputs": []
    },
    {
      "cell_type": "markdown",
      "metadata": {
        "id": "P9u3zRkKTN0l"
      },
      "source": [
        "### **DATA LOADING :**"
      ]
    },
    {
      "cell_type": "code",
      "metadata": {
        "id": "ktAOLjTUSh9l"
      },
      "source": [
        "# loading the data \n",
        "def Load_Excel_Data(path1,path2):\n",
        "  \"\"\"\n",
        "  Input : path1 and path2 - file path of excel file of X_train and y_train\n",
        "  Returns : dataframe \n",
        "  \"\"\"\n",
        "  df1=pd.read_excel(path1)\n",
        "  df2=pd.read_excel(path2)\n",
        "  df=pd.concat([df1,df2],axis=1)\n",
        "  df.columns=['Abstract','Domain_Labels']\n",
        "  return df \n",
        "\n",
        "def Get_Sampled_Dataset(df):\n",
        "  vals=list(df['Domain_Labels'].value_counts())\n",
        "  min_val=min(vals)\n",
        "  label_1=df[df['Domain_Labels']==1]\n",
        "  label_0=df[df['Domain_Labels']==0]\n",
        "  df0 = label_0.sample(n=min_val,random_state=42)\n",
        "  new_df=pd.concat([df0,label_1],axis=0)\n",
        "  new_df=shuffle(new_df)\n",
        "  return new_df\n",
        "\n",
        "def Train_Val_Test(label,undersampling=0):\n",
        "  \"\"\"\n",
        "  Input : label - return train, val, test data for given label \n",
        "          undersampling = 0(default - don't perform undersampling on train data), else : perform undersampling on train dataset \n",
        "  Returns : dataframe - train, val and test \n",
        "  \"\"\"\n",
        "  train_data = Load_Excel_Data(\"/content/gdrive/My Drive/Title Generation NLP/Dataset/X_train.xlsx\",\"/content/gdrive/My Drive/Title Generation NLP/Dataset/y_train_\"+label+\".xlsx\")\n",
        "  val_data = Load_Excel_Data(\"/content/gdrive/My Drive/Title Generation NLP/Dataset/X_val.xlsx\",\"/content/gdrive/My Drive/Title Generation NLP/Dataset/y_val_\"+label+\".xlsx\")\n",
        "  test_data = Load_Excel_Data(\"/content/gdrive/My Drive/Title Generation NLP/Dataset/X_test.xlsx\",\"/content/gdrive/My Drive/Title Generation NLP/Dataset/y_test_\"+label+\".xlsx\")\n",
        "  if undersampling!=0:\n",
        "    train_data=Get_Sampled_Dataset(train_data)\n",
        "  return train_data, val_data, test_data \n"
      ],
      "execution_count": null,
      "outputs": []
    },
    {
      "cell_type": "markdown",
      "metadata": {
        "id": "EEvG1GEoTTbP"
      },
      "source": [
        "**Class Label : LG**"
      ]
    },
    {
      "cell_type": "code",
      "metadata": {
        "id": "8L4dFRphTe9k"
      },
      "source": [
        "# No undersampling \n",
        "train_LG, val_LG, test_LG = Train_Val_Test(\"LG\")"
      ],
      "execution_count": null,
      "outputs": []
    },
    {
      "cell_type": "code",
      "metadata": {
        "colab": {
          "base_uri": "https://localhost:8080/"
        },
        "id": "DCf1Rj56WalP",
        "outputId": "3a4dc1fa-df7a-471d-dcac-2b54d92e5037"
      },
      "source": [
        "# shape of data \n",
        "print(\"Train Shape : \",train_LG.shape)\n",
        "print(\"Validation Shape : \",val_LG.shape)\n",
        "print(\"Test Shape : \",test_LG.shape)"
      ],
      "execution_count": null,
      "outputs": [
        {
          "output_type": "stream",
          "text": [
            "Train Shape :  (25107, 2)\n",
            "Validation Shape :  (6277, 2)\n",
            "Test Shape :  (7847, 2)\n"
          ],
          "name": "stdout"
        }
      ]
    },
    {
      "cell_type": "markdown",
      "metadata": {
        "id": "mXvdu-3LWzNS"
      },
      "source": [
        "### **MODEL BUILDING :**"
      ]
    },
    {
      "cell_type": "code",
      "metadata": {
        "id": "GGzpv___akH_"
      },
      "source": [
        "def Result_Evaluator(data_val,model):\n",
        "  \"\"\"\n",
        "  This function evaluates the f1-score and accuracy for given data \n",
        "  Input : model - Bert Base/RoBerta Base \n",
        "  \"\"\"\n",
        "  model.eval()\n",
        "  loss_val_total = 0\n",
        "  predictions, true_vals = [], []\n",
        "    \n",
        "  for batch in data_val:\n",
        "    batch = tuple(b.to(device) for b in batch)\n",
        "    inputs = {'input_ids':batch[0],'attention_mask': batch[1],'labels':batch[2],}\n",
        "\n",
        "    with torch.no_grad():        \n",
        "      outputs = model(**inputs)\n",
        "            \n",
        "    loss = outputs[0]\n",
        "    logits = outputs[1]\n",
        "    loss_val_total += loss.item()\n",
        "\n",
        "    logits = logits.detach().cpu().numpy()\n",
        "    label_ids = inputs['labels'].cpu().numpy()\n",
        "    predictions.append(logits)\n",
        "    true_vals.append(label_ids)\n",
        "    \n",
        "  loss_val_avg = loss_val_total/len(data_val) \n",
        "  predictions = np.concatenate(predictions, axis=0)\n",
        "  true_vals = np.concatenate(true_vals, axis=0)\n",
        "            \n",
        "  return loss_val_avg, predictions, true_vals"
      ],
      "execution_count": null,
      "outputs": []
    },
    {
      "cell_type": "markdown",
      "metadata": {
        "id": "I7j7C3r1ZUl_"
      },
      "source": [
        "#### **Performance Measure :**"
      ]
    },
    {
      "cell_type": "code",
      "metadata": {
        "id": "5Z7-uwYGZTHY"
      },
      "source": [
        "def f1_score_func(preds, labels):\n",
        "  \"\"\"\n",
        "  This function returns the f1-score for given and predicted labels \n",
        "  Input : preds - predicted label \n",
        "          labels - original label \n",
        "  Returns : F1 - Score \n",
        "  \"\"\"\n",
        "  preds_flat = np.argmax(preds, axis=1).flatten()\n",
        "  labels_flat = labels.flatten()\n",
        "  return f1_score(labels_flat, preds_flat, average='weighted')\n",
        "\n",
        "def Accuracy_Score(preds,labels):\n",
        "  \"\"\"\n",
        "  This function returns the Accuracy-score for given and predicted labels \n",
        "  Input : preds - predicted label \n",
        "          labels - original label \n",
        "  Returns : Accuracy - Score \n",
        "  \"\"\"\n",
        "  preds_flat=np.argmax(preds,axis=1).flatten()\n",
        "  labels_flat=labels.flatten()\n",
        "  return accuracy_score(labels_flat,preds_flat)"
      ],
      "execution_count": null,
      "outputs": []
    },
    {
      "cell_type": "code",
      "metadata": {
        "id": "V8SZjfftWdCu"
      },
      "source": [
        "def Tag_Classifier_Modelling(tokenizer,model,folder_path,file_path):\n",
        "  \"\"\"\n",
        "  Perform Modelling using the given tokenizer \n",
        "  Input : tokenizer - Bert Base/Roberta Base tokenizer \n",
        "          model - Bert Base/Roberta Base model \n",
        "          folder_path,file_path - folder and file path to store models \n",
        "  \"\"\"\n",
        "  encoded_data_train = tokenizer.batch_encode_plus(train_LG.Abstract.values, \n",
        "                                                   add_special_tokens=True, \n",
        "                                                   return_attention_mask=True, \n",
        "                                                   pad_to_max_length=True,\n",
        "                                                   max_length=256, \n",
        "                                                   return_tensors='pt')\n",
        "  \n",
        "  encoded_data_val = tokenizer.batch_encode_plus(val_LG.Abstract.values, \n",
        "                                                 add_special_tokens=True, \n",
        "                                                 return_attention_mask=True, \n",
        "                                                 pad_to_max_length=True, \n",
        "                                                 max_length=256, \n",
        "                                                 return_tensors='pt')\n",
        "  \n",
        "  encoded_data_test = tokenizer.batch_encode_plus(test_LG.Abstract.values, \n",
        "                                                  add_special_tokens=True, \n",
        "                                                  return_attention_mask=True, \n",
        "                                                  pad_to_max_length=True, \n",
        "                                                  max_length=256, \n",
        "                                                  return_tensors='pt')\n",
        "  \n",
        "  input_ids_train = encoded_data_train['input_ids']\n",
        "  attention_masks_train = encoded_data_train['attention_mask']\n",
        "  labels_train = torch.tensor(train_LG.Domain_Labels.values)\n",
        "  \n",
        "  input_ids_val = encoded_data_val['input_ids']\n",
        "  attention_masks_val = encoded_data_val['attention_mask']\n",
        "  labels_val = torch.tensor(val_LG.Domain_Labels.values)\n",
        "  \n",
        "  input_ids_test = encoded_data_test['input_ids']\n",
        "  attention_masks_test = encoded_data_test['attention_mask']\n",
        "  labels_test = torch.tensor(test_LG.Domain_Labels.values)\n",
        "  \n",
        "  dataset_train = TensorDataset(input_ids_train, attention_masks_train, labels_train)\n",
        "  dataset_val = TensorDataset(input_ids_val, attention_masks_val, labels_val)\n",
        "  dataset_test = TensorDataset(input_ids_test, attention_masks_test, labels_test)\n",
        "  \n",
        "  batch_size = 4\n",
        "  \n",
        "  dataloader_train = DataLoader(dataset_train, \n",
        "                                sampler=RandomSampler(dataset_train), \n",
        "                                batch_size=batch_size)\n",
        "  \n",
        "  dataloader_validation = DataLoader(dataset_val, \n",
        "                                     sampler=SequentialSampler(dataset_val), \n",
        "                                     batch_size=batch_size)\n",
        "  \n",
        "  dataloader_test = DataLoader(dataset_test, \n",
        "                               sampler=SequentialSampler(dataset_test), \n",
        "                               batch_size=batch_size)\n",
        "  \n",
        "  optimizer = AdamW(model.parameters(),lr=1e-5, eps=1e-8)\n",
        "  \n",
        "  epochs = 5\n",
        "  \n",
        "  scheduler = get_linear_schedule_with_warmup(optimizer, num_warmup_steps=0,num_training_steps=len(dataloader_train)*epochs)\n",
        "  \n",
        "  val_f1_list=[]\n",
        "  \n",
        "  for epoch in tqdm(range(1, epochs+1)):\n",
        "    model.train()\n",
        "    loss_train_total = 0\n",
        "    model = model.to(device)\n",
        "\n",
        "    progress_bar = tqdm(dataloader_train, desc='Epoch {:1d}'.format(epoch), leave=False, disable=False)\n",
        "    for batch in progress_bar:\n",
        "      model.zero_grad()\n",
        "      batch = tuple(b.to(device) for b in batch)\n",
        "      inputs = {'input_ids':batch[0],'attention_mask': batch[1],'labels':batch[2],}       \n",
        "      outputs = model(**inputs)\n",
        "        \n",
        "      loss = outputs[0]\n",
        "      loss_train_total += loss.item()\n",
        "      loss.backward()\n",
        "\n",
        "      torch.nn.utils.clip_grad_norm_(model.parameters(), 1.0)\n",
        "      optimizer.step()\n",
        "      scheduler.step()\n",
        "        \n",
        "      progress_bar.set_postfix({'training_loss': '{:.3f}'.format(loss.item()/len(batch))})\n",
        "         \n",
        "    # Model Save\n",
        "    model_save_path = folder_path\n",
        "    torch.save(model.state_dict(), model_save_path + file_path +str(epoch)+ '.pth') \n",
        "\n",
        "    tqdm.write(f'\\nEpoch {epoch}')\n",
        "    \n",
        "    loss_train_avg = loss_train_total/len(dataloader_train)            \n",
        "    tqdm.write(f'Training loss: {loss_train_avg}')\n",
        "    \n",
        "    val_loss, predictions, true_vals = Result_Evaluator(dataloader_validation,model)\n",
        "    val_f1 = f1_score_func(predictions, true_vals)\n",
        "    val_acc=Accuracy_Score(predictions,true_vals)\n",
        "    tqdm.write(f'Validation loss: {val_loss}')\n",
        "    tqdm.write(f'F1 Score (Weighted): {val_f1}')\n",
        "    tqdm.write(f'Accuracy Score: {val_acc}')\n",
        "    val_f1_list.append(val_f1)\n",
        "\n",
        "  maxi_f1=np.argmax(val_f1_list)+1 \n",
        "  model.load_state_dict(torch.load(model_save_path +file_path+str(maxi_f1)+'.pth', map_location=torch.device('cpu')))\n",
        "\n",
        "  _, predictions, true_vals = Result_Evaluator(dataloader_test,model)\n",
        "\n",
        "  return predictions,true_vals"
      ],
      "execution_count": null,
      "outputs": []
    },
    {
      "cell_type": "code",
      "metadata": {
        "colab": {
          "base_uri": "https://localhost:8080/",
          "height": 365,
          "referenced_widgets": [
            "1d9cc01f410a4f2c817c91ef24ce0b00",
            "3420cec546b445e9aa76a471a9819349",
            "182db81d25bc44dd8b26c415299c0cff",
            "31bf49bab7c44e32b9a819cdd4c3bf79",
            "207bd06d1d5a4ea7b994b4814338bea8",
            "9e0ef757696348979c05eba3b1e127ed",
            "d6bacb1fc4ad4317a17e9e704d686470",
            "b9e3e50e7d3443f3926faa367aef9f31",
            "3f00f14be24141778515925e27529311",
            "a7a81e7b04944bc3a707df7253a90c2a",
            "8c8eae326f61482db89b024d5151062c",
            "45b930496ddd481d9ded5849f4dd93d8",
            "ba2a63232a234762b2736206ffde7e33",
            "b46105b19f2544029f9ca02aaf74bb08",
            "24939376f8a4496888fca1702e391655",
            "66c19f353862497ca459d9cf99ab17be",
            "50e18789fa27453fa343c2ae0ddd5ea4",
            "a8599f3c1867403da68b7726fedb73fd",
            "23996e2322b743f3b1fb8fd803eac5f0",
            "7e0e11d86eb849da911e602c290b8251",
            "4d2e25fb3bea4ccf93d07374cfa84161",
            "a8ccb88b7f8248babb29166436cfeaad",
            "f3c3db8a4c9c457ba783a8e62cb7c83d",
            "47429bce19cf4572a99e8ad7c6b8e057",
            "0bfc737c340547e490f13a1f9db363ed",
            "78e7545847ba40c58fc2886a99b27d95",
            "35a065d10e6d456aacbe3c1614f53d75",
            "07d5f176fa434118a3cb9a1dcc346725",
            "0e1d6bd9af6e43c19da8fddb6667d882",
            "671f73bd729942839ee4e02f32e5f8ad",
            "bc84929f91e04889844bb578f9ea0ff7",
            "9f699c99572042bb84f9616d8631134c",
            "d04bf1273e8e4aa7a6985da57a1692e2",
            "0e3ce6508e7d477baac50bba7818ff62",
            "b7a801f1de22477a83aa369bf665a223",
            "ed6489f03f994b2c8072b913b155622d",
            "792efafa1ba34fe189380c5b827bfa3e",
            "976cce07f9e94b6aabc901de3b8995ba",
            "eadfa1b5bcdf4828bd130903eeab5e1c",
            "5760e2d7612f42ec9e99f3bd2605dca9"
          ]
        },
        "id": "WRl7EJ_QkF7O",
        "outputId": "aa2c054d-8c55-4011-c72b-788845d665f4"
      },
      "source": [
        "tokenizer = BertTokenizer.from_pretrained('bert-base-cased')\n",
        "model = BertForSequenceClassification.from_pretrained(\"bert-base-cased\",\n",
        "                                                      num_labels=2,\n",
        "                                                      output_attentions=False,\n",
        "                                                      output_hidden_states=False)"
      ],
      "execution_count": null,
      "outputs": [
        {
          "output_type": "display_data",
          "data": {
            "application/vnd.jupyter.widget-view+json": {
              "model_id": "1d9cc01f410a4f2c817c91ef24ce0b00",
              "version_minor": 0,
              "version_major": 2
            },
            "text/plain": [
              "HBox(children=(FloatProgress(value=0.0, description='Downloading', max=213450.0, style=ProgressStyle(descripti…"
            ]
          },
          "metadata": {
            "tags": []
          }
        },
        {
          "output_type": "stream",
          "text": [
            "\n"
          ],
          "name": "stdout"
        },
        {
          "output_type": "display_data",
          "data": {
            "application/vnd.jupyter.widget-view+json": {
              "model_id": "3f00f14be24141778515925e27529311",
              "version_minor": 0,
              "version_major": 2
            },
            "text/plain": [
              "HBox(children=(FloatProgress(value=0.0, description='Downloading', max=29.0, style=ProgressStyle(description_w…"
            ]
          },
          "metadata": {
            "tags": []
          }
        },
        {
          "output_type": "stream",
          "text": [
            "\n"
          ],
          "name": "stdout"
        },
        {
          "output_type": "display_data",
          "data": {
            "application/vnd.jupyter.widget-view+json": {
              "model_id": "50e18789fa27453fa343c2ae0ddd5ea4",
              "version_minor": 0,
              "version_major": 2
            },
            "text/plain": [
              "HBox(children=(FloatProgress(value=0.0, description='Downloading', max=435797.0, style=ProgressStyle(descripti…"
            ]
          },
          "metadata": {
            "tags": []
          }
        },
        {
          "output_type": "stream",
          "text": [
            "\n"
          ],
          "name": "stdout"
        },
        {
          "output_type": "display_data",
          "data": {
            "application/vnd.jupyter.widget-view+json": {
              "model_id": "0bfc737c340547e490f13a1f9db363ed",
              "version_minor": 0,
              "version_major": 2
            },
            "text/plain": [
              "HBox(children=(FloatProgress(value=0.0, description='Downloading', max=570.0, style=ProgressStyle(description_…"
            ]
          },
          "metadata": {
            "tags": []
          }
        },
        {
          "output_type": "stream",
          "text": [
            "\n"
          ],
          "name": "stdout"
        },
        {
          "output_type": "display_data",
          "data": {
            "application/vnd.jupyter.widget-view+json": {
              "model_id": "d04bf1273e8e4aa7a6985da57a1692e2",
              "version_minor": 0,
              "version_major": 2
            },
            "text/plain": [
              "HBox(children=(FloatProgress(value=0.0, description='Downloading', max=435779157.0, style=ProgressStyle(descri…"
            ]
          },
          "metadata": {
            "tags": []
          }
        },
        {
          "output_type": "stream",
          "text": [
            "\n"
          ],
          "name": "stdout"
        },
        {
          "output_type": "stream",
          "text": [
            "Some weights of the model checkpoint at bert-base-cased were not used when initializing BertForSequenceClassification: ['cls.predictions.bias', 'cls.predictions.transform.dense.weight', 'cls.predictions.transform.dense.bias', 'cls.predictions.decoder.weight', 'cls.seq_relationship.weight', 'cls.seq_relationship.bias', 'cls.predictions.transform.LayerNorm.weight', 'cls.predictions.transform.LayerNorm.bias']\n",
            "- This IS expected if you are initializing BertForSequenceClassification from the checkpoint of a model trained on another task or with another architecture (e.g. initializing a BertForSequenceClassification model from a BertForPreTraining model).\n",
            "- This IS NOT expected if you are initializing BertForSequenceClassification from the checkpoint of a model that you expect to be exactly identical (initializing a BertForSequenceClassification model from a BertForSequenceClassification model).\n",
            "Some weights of BertForSequenceClassification were not initialized from the model checkpoint at bert-base-cased and are newly initialized: ['classifier.weight', 'classifier.bias']\n",
            "You should probably TRAIN this model on a down-stream task to be able to use it for predictions and inference.\n"
          ],
          "name": "stderr"
        }
      ]
    },
    {
      "cell_type": "code",
      "metadata": {
        "colab": {
          "base_uri": "https://localhost:8080/",
          "height": 606,
          "referenced_widgets": [
            "45804263b7924f28bfeb559275fdccaf",
            "405e38d11ec84802a57e707fc826eb57",
            "7b4ec0f6739f40c28051eb5400ded843",
            "d942ad16f2d845bc8e95be7170d11898",
            "0df349ac0a374f3ca15e19d9b8d67fab",
            "482f4a37401044409c3ae027db648d7a",
            "05bc9b17616b4155aeb45a24b1d3e71a",
            "f3c2bdc313844c79accdb463014c1327",
            "ba2467eba9b34efba78573b64837fbec",
            "d633f37d6ce543b0829a0739cb14239c",
            "3342207e9dd04052926a8e0c6f36b628",
            "39f4422f172d4682b1525695a68c3864",
            "2483fc6a50254d94afb118a74bf9fe6b",
            "6004b9bc8e91470a9e2d3af78f254f31",
            "1c67b6226741487b8bef1a120e019ef5",
            "5c6abdc7bf724f2c901c8eeb3e3d9304",
            "d4a500a0c82447688755617590f7b72c",
            "130fddd5a1224097bb1c2397f79a3918",
            "016883bcc49645148a9886d6e6f1e18a",
            "2da62a8026b048b78da497815e037ef3",
            "57dac02c2f184e01851a13fe1252313f",
            "2c46f92586514abda4dc937b255a18ce",
            "a0fda8fd99794e4fa14405148ba43ee8",
            "91dfc69b7a554a2a892869de52bab42c",
            "3d22ecc7764e4c6a9c9ceae622746825",
            "965d7b2c7da34e58b9d03317959ceb9a",
            "3d61931a588441a6a72bc61fb5fe104e",
            "3090ccfa46224d939c9961e7215f4572",
            "dcf656e1dedc4d238d8ab7da6286e810",
            "b37b8190b2b7498b9ed5ebbf926fe6de",
            "dc4ff2b3f0874d2eb6c33f4ad606ed29",
            "5c9679c6f9654717b274199b0fa88674",
            "5891b33bd680424ba3490cef5850c418",
            "7ca6c4d1c9d949b189825d15764802d4",
            "fc874bf797b547dab17009fc2f73c015",
            "3ebe6ba3b66843d18b67b77d5bb17fee",
            "8a74ae0a9f8e4ab8b43c4ad107a5aa77",
            "72fa63056ac84ba796cd66921054f486",
            "9bc9e92e197f4988a3947fceac5ea8de",
            "a901104813a04732900fe1bfde44f972",
            "cf5e7a05916749ac9b9b224170f21fa3",
            "748957cf8cf34b699bea1d8c86fa2c52",
            "15ca094488dd4940b1e8c30cae4e0ad1",
            "4bc10550ead54d3facfd21cb5d4eba74",
            "8eb50f879c944ec5bfd0fdbc70dddcdb",
            "fc498ff0079d4c47a58489306c4d24cb",
            "f8a31957f2cb487d83768b395593f0ad",
            "c6dd734e15494ea5b25f346e96b4e154"
          ]
        },
        "id": "jYzL-Lbejhmy",
        "outputId": "4553a3f0-c426-4cd4-edde-2ab5125bdc93"
      },
      "source": [
        "seed_val = 17\n",
        "random.seed(seed_val)\n",
        "np.random.seed(seed_val)\n",
        "torch.manual_seed(seed_val)\n",
        "torch.cuda.manual_seed_all(seed_val)\n",
        "\n",
        "test_pred, test_true_vals = Tag_Classifier_Modelling(tokenizer,model,\"/content/gdrive/My Drive/Title Generation NLP/Bert_Models/\",\"Bert_LG_Final_Epoch_\")"
      ],
      "execution_count": null,
      "outputs": [
        {
          "output_type": "stream",
          "text": [
            "Truncation was not explicitly activated but `max_length` is provided a specific value, please use `truncation=True` to explicitly truncate examples to max length. Defaulting to 'longest_first' truncation strategy. If you encode pairs of sequences (GLUE-style) with the tokenizer you can select this strategy more precisely by providing a specific strategy to `truncation`.\n"
          ],
          "name": "stderr"
        },
        {
          "output_type": "display_data",
          "data": {
            "application/vnd.jupyter.widget-view+json": {
              "model_id": "45804263b7924f28bfeb559275fdccaf",
              "version_minor": 0,
              "version_major": 2
            },
            "text/plain": [
              "HBox(children=(FloatProgress(value=0.0, max=5.0), HTML(value='')))"
            ]
          },
          "metadata": {
            "tags": []
          }
        },
        {
          "output_type": "display_data",
          "data": {
            "application/vnd.jupyter.widget-view+json": {
              "model_id": "ba2467eba9b34efba78573b64837fbec",
              "version_minor": 0,
              "version_major": 2
            },
            "text/plain": [
              "HBox(children=(FloatProgress(value=0.0, description='Epoch 1', max=6277.0, style=ProgressStyle(description_wid…"
            ]
          },
          "metadata": {
            "tags": []
          }
        },
        {
          "output_type": "stream",
          "text": [
            "\r\n",
            "Epoch 1\n",
            "Training loss: 0.6581201113218028\n",
            "Validation loss: 0.6580437164207932\n",
            "F1 Score (Weighted): 0.5119095549712688\n",
            "Accuracy Score: 0.6498327226382029\n"
          ],
          "name": "stdout"
        },
        {
          "output_type": "display_data",
          "data": {
            "application/vnd.jupyter.widget-view+json": {
              "model_id": "d4a500a0c82447688755617590f7b72c",
              "version_minor": 0,
              "version_major": 2
            },
            "text/plain": [
              "HBox(children=(FloatProgress(value=0.0, description='Epoch 2', max=6277.0, style=ProgressStyle(description_wid…"
            ]
          },
          "metadata": {
            "tags": []
          }
        },
        {
          "output_type": "stream",
          "text": [
            "\r\n",
            "Epoch 2\n",
            "Training loss: 0.6546113472897782\n",
            "Validation loss: 0.6521160939127016\n",
            "F1 Score (Weighted): 0.5119095549712688\n",
            "Accuracy Score: 0.6498327226382029\n"
          ],
          "name": "stdout"
        },
        {
          "output_type": "display_data",
          "data": {
            "application/vnd.jupyter.widget-view+json": {
              "model_id": "3d22ecc7764e4c6a9c9ceae622746825",
              "version_minor": 0,
              "version_major": 2
            },
            "text/plain": [
              "HBox(children=(FloatProgress(value=0.0, description='Epoch 3', max=6277.0, style=ProgressStyle(description_wid…"
            ]
          },
          "metadata": {
            "tags": []
          }
        },
        {
          "output_type": "stream",
          "text": [
            "\r\n",
            "Epoch 3\n",
            "Training loss: 0.6518715936770689\n",
            "Validation loss: 0.6518829426568026\n",
            "F1 Score (Weighted): 0.5119095549712688\n",
            "Accuracy Score: 0.6498327226382029\n"
          ],
          "name": "stdout"
        },
        {
          "output_type": "display_data",
          "data": {
            "application/vnd.jupyter.widget-view+json": {
              "model_id": "5891b33bd680424ba3490cef5850c418",
              "version_minor": 0,
              "version_major": 2
            },
            "text/plain": [
              "HBox(children=(FloatProgress(value=0.0, description='Epoch 4', max=6277.0, style=ProgressStyle(description_wid…"
            ]
          },
          "metadata": {
            "tags": []
          }
        },
        {
          "output_type": "stream",
          "text": [
            "\r\n",
            "Epoch 4\n",
            "Training loss: 0.6400261802483995\n",
            "Validation loss: 0.6766789195833692\n",
            "F1 Score (Weighted): 0.5418121999889853\n",
            "Accuracy Score: 0.618288991556476\n"
          ],
          "name": "stdout"
        },
        {
          "output_type": "display_data",
          "data": {
            "application/vnd.jupyter.widget-view+json": {
              "model_id": "cf5e7a05916749ac9b9b224170f21fa3",
              "version_minor": 0,
              "version_major": 2
            },
            "text/plain": [
              "HBox(children=(FloatProgress(value=0.0, description='Epoch 5', max=6277.0, style=ProgressStyle(description_wid…"
            ]
          },
          "metadata": {
            "tags": []
          }
        },
        {
          "output_type": "stream",
          "text": [
            "\r\n",
            "Epoch 5\n",
            "Training loss: 0.6042488690822372\n",
            "Validation loss: 0.7543409879088022\n",
            "F1 Score (Weighted): 0.5500893886232586\n",
            "Accuracy Score: 0.595348096224311\n",
            "\n"
          ],
          "name": "stdout"
        }
      ]
    },
    {
      "cell_type": "code",
      "metadata": {
        "id": "QnvVbZpUmK-9",
        "colab": {
          "base_uri": "https://localhost:8080/"
        },
        "outputId": "5719a191-e3db-4fed-9767-d708a89b0b12"
      },
      "source": [
        "# Test data results \n",
        "test_f1 = f1_score_func(test_pred, test_true_vals)\n",
        "test_acc=Accuracy_Score(test_pred,test_true_vals)\n",
        "tqdm.write(f'F1 Score (Weighted): {test_f1}')\n",
        "tqdm.write(f'Accuracy Score: {test_acc}')"
      ],
      "execution_count": null,
      "outputs": [
        {
          "output_type": "stream",
          "text": [
            "F1 Score (Weighted): 0.5557375370821629\n",
            "Accuracy Score: 0.6003568242640499\n"
          ],
          "name": "stdout"
        }
      ]
    },
    {
      "cell_type": "code",
      "metadata": {
        "id": "8VfPigd3mnBY",
        "colab": {
          "base_uri": "https://localhost:8080/"
        },
        "outputId": "44f45648-6abc-415d-d1fd-d5bbbbbf4604"
      },
      "source": [
        "def plot_confusion_matrix(cm,\n",
        "                          target_names,\n",
        "                          title='Confusion matrix',\n",
        "                          cmap=None,\n",
        "                          normalize=False):\n",
        "    \"\"\"\n",
        "    given a sklearn confusion matrix (cm), make a nice plot\n",
        "\n",
        "    Arguments\n",
        "    ---------\n",
        "    cm:           confusion matrix from sklearn.metrics.confusion_matrix\n",
        "    target_names: given classification classes such as [0, 1, 2]\n",
        "                  the class names, for example: ['high', 'medium', 'low']\n",
        "    title:        the text to display at the top of the matrix\n",
        "    cmap:         the gradient of the values displayed from matplotlib.pyplot.cm\n",
        "                  see http://matplotlib.org/examples/color/colormaps_reference.html\n",
        "                  plt.get_cmap('jet') or plt.cm.Blues\n",
        "\n",
        "    normalize:    If False, plot the raw numbers\n",
        "                  If True, plot the proportions\n",
        "\n",
        "    Usage\n",
        "    -----\n",
        "    plot_confusion_matrix(cm           = cm,                  # confusion matrix created by\n",
        "                                                              # sklearn.metrics.confusion_matrix\n",
        "                          normalize    = True,                # show proportions\n",
        "                          target_names = y_labels_vals,       # list of names of the classes\n",
        "                          title        = best_estimator_name) # title of graph\n",
        "\n",
        "    Citiation\n",
        "    ---------\n",
        "    http://scikit-learn.org/stable/auto_examples/model_selection/plot_confusion_matrix.html\n",
        "\n",
        "    \"\"\"\n",
        "    accuracy = np.trace(cm) / np.sum(cm).astype('float')\n",
        "    misclass = 1 - accuracy\n",
        "\n",
        "    if cmap is None:\n",
        "        cmap = plt.get_cmap('Blues')\n",
        "\n",
        "    plt.figure(figsize=(8, 6))\n",
        "    plt.imshow(cm, interpolation='nearest', cmap=cmap)\n",
        "    plt.title(title,fontsize=20)\n",
        "    plt.colorbar()\n",
        "\n",
        "    if target_names is not None:\n",
        "        tick_marks = np.arange(len(target_names))\n",
        "        plt.xticks(tick_marks, target_names, rotation=0,fontsize=20)\n",
        "        plt.yticks(tick_marks, target_names,fontsize=20)\n",
        "\n",
        "    if normalize:\n",
        "        cm = cm.astype('float') / cm.sum(axis=1)[:, np.newaxis]\n",
        "\n",
        "\n",
        "    thresh = cm.max() / 1.5 if normalize else cm.max() / 2\n",
        "    for i, j in itertools.product(range(cm.shape[0]), range(cm.shape[1])):\n",
        "        if normalize:\n",
        "            plt.text(j, i, \"{:0.4f}\".format(cm[i, j]),\n",
        "                     horizontalalignment=\"center\",fontsize=30,\n",
        "                     color=\"white\" if cm[i, j] > thresh else \"black\")\n",
        "        else:\n",
        "            plt.text(j, i, \"{:,}\".format(cm[i, j]),\n",
        "                     horizontalalignment=\"center\",fontsize=30,\n",
        "                     color=\"white\" if cm[i, j] > thresh else \"black\" )\n",
        "\n",
        "\n",
        "    plt.tight_layout()\n",
        "    plt.ylabel('True label',fontsize=16)\n",
        "    plt.xlabel('Predicted label\\naccuracy={:0.4f}; misclass={:0.4f}'.format(accuracy, misclass),fontsize=16)\n",
        "    plt.show()\n",
        "\n",
        "def plot(neglabel,poslabel,preds,labels):\n",
        "  \"\"\"\n",
        "  input : neglabel - false label\n",
        "          poslabel - true label \n",
        "          y_true - true y_labels \n",
        "          y_pred - predicted y_labels\n",
        "  plots : confusion matrix for the y_true and y_pred that is being passed \n",
        "  \"\"\"\n",
        "  y_pred = np.argmax(preds, axis=1).flatten()\n",
        "  y_true = labels.flatten()\n",
        "  # Classification Report\n",
        "  print(Report(y_true,y_pred))\n",
        "  # Label Names\n",
        "  target_names = [neglabel,poslabel]\n",
        "  # Confusion Matrix\n",
        "  cm = confusion_matrix(y_true, y_pred)\n",
        "  # Actual Plot (Downloadble)\n",
        "  plot_confusion_matrix(cm, target_names)\n",
        "\n",
        "plot(\"Non-LG\",\"LG\",test_pred, test_true_vals)"
      ],
      "execution_count": null,
      "outputs": [
        {
          "output_type": "stream",
          "text": [
            "              precision    recall  f1-score   support\n",
            "\n",
            "           0       0.65      0.83      0.73      5100\n",
            "           1       0.35      0.17      0.23      2747\n",
            "\n",
            "    accuracy                           0.60      7847\n",
            "   macro avg       0.50      0.50      0.48      7847\n",
            "weighted avg       0.55      0.60      0.56      7847\n",
            "\n"
          ],
          "name": "stdout"
        },
        {
          "output_type": "display_data",
          "data": {
            "image/png": "[encoded data removed]",
            "text/plain": [
              "<Figure size 576x432 with 2 Axes>"
            ]
          },
          "metadata": {
            "tags": [],
            "needs_background": "light"
          }
        }
      ]
    },
    {
      "cell_type": "code",
      "metadata": {
        "id": "GinkWv3bQqq4"
      },
      "source": [
        "# save the test true labels and test predictions \n",
        "np.save(\"LG_test_pred\",test_pred)\n",
        "np.save(\"LG_test_true_labels\",test_true_vals)"
      ],
      "execution_count": null,
      "outputs": []
    }
  ]
}